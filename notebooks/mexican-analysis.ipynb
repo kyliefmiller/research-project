{
 "cells": [
  {
   "cell_type": "code",
   "execution_count": 151,
   "id": "d631b175-5fa8-4671-b642-9e7f7247790d",
   "metadata": {},
   "outputs": [],
   "source": [
    "import pandas as pd\n",
    "farmworkers_df = pd.read_csv('../data/processed/farmworkers_condensed.csv')"
   ]
  },
  {
   "cell_type": "code",
   "execution_count": 152,
   "id": "c2e2f18b-a89a-4920-9bb7-5f3e74e504b6",
   "metadata": {},
   "outputs": [
    {
     "data": {
      "text/html": [
       "<div>\n",
       "<style scoped>\n",
       "    .dataframe tbody tr th:only-of-type {\n",
       "        vertical-align: middle;\n",
       "    }\n",
       "\n",
       "    .dataframe tbody tr th {\n",
       "        vertical-align: top;\n",
       "    }\n",
       "\n",
       "    .dataframe thead th {\n",
       "        text-align: right;\n",
       "    }\n",
       "</style>\n",
       "<table border=\"1\" class=\"dataframe\">\n",
       "  <thead>\n",
       "    <tr style=\"text-align: right;\">\n",
       "      <th></th>\n",
       "      <th>State</th>\n",
       "      <th>Year</th>\n",
       "      <th>Month</th>\n",
       "      <th>Region</th>\n",
       "      <th>TotalHiredSeasonal</th>\n",
       "      <th>Mexican</th>\n",
       "      <th>HiredWorkers</th>\n",
       "      <th>Local</th>\n",
       "      <th>Intrastate</th>\n",
       "      <th>Interstate</th>\n",
       "      <th>TotalForeign</th>\n",
       "    </tr>\n",
       "  </thead>\n",
       "  <tbody>\n",
       "    <tr>\n",
       "      <th>0</th>\n",
       "      <td>AL</td>\n",
       "      <td>1947</td>\n",
       "      <td>7.0</td>\n",
       "      <td>6.0</td>\n",
       "      <td>NaN</td>\n",
       "      <td>NaN</td>\n",
       "      <td>207000.0</td>\n",
       "      <td>NaN</td>\n",
       "      <td>NaN</td>\n",
       "      <td>NaN</td>\n",
       "      <td>NaN</td>\n",
       "    </tr>\n",
       "    <tr>\n",
       "      <th>1</th>\n",
       "      <td>AL</td>\n",
       "      <td>1963</td>\n",
       "      <td>9.0</td>\n",
       "      <td>6.0</td>\n",
       "      <td>21980.0</td>\n",
       "      <td>0.0</td>\n",
       "      <td>NaN</td>\n",
       "      <td>21830.0</td>\n",
       "      <td>150.0</td>\n",
       "      <td>0.0</td>\n",
       "      <td>0.0</td>\n",
       "    </tr>\n",
       "    <tr>\n",
       "      <th>2</th>\n",
       "      <td>AL</td>\n",
       "      <td>1945</td>\n",
       "      <td>8.0</td>\n",
       "      <td>6.0</td>\n",
       "      <td>NaN</td>\n",
       "      <td>NaN</td>\n",
       "      <td>NaN</td>\n",
       "      <td>NaN</td>\n",
       "      <td>NaN</td>\n",
       "      <td>NaN</td>\n",
       "      <td>370.0</td>\n",
       "    </tr>\n",
       "    <tr>\n",
       "      <th>3</th>\n",
       "      <td>AL</td>\n",
       "      <td>1972</td>\n",
       "      <td>4.0</td>\n",
       "      <td>6.0</td>\n",
       "      <td>NaN</td>\n",
       "      <td>NaN</td>\n",
       "      <td>81000.0</td>\n",
       "      <td>NaN</td>\n",
       "      <td>NaN</td>\n",
       "      <td>NaN</td>\n",
       "      <td>NaN</td>\n",
       "    </tr>\n",
       "    <tr>\n",
       "      <th>4</th>\n",
       "      <td>AL</td>\n",
       "      <td>1964</td>\n",
       "      <td>10.0</td>\n",
       "      <td>6.0</td>\n",
       "      <td>16195.0</td>\n",
       "      <td>0.0</td>\n",
       "      <td>295000.0</td>\n",
       "      <td>16159.0</td>\n",
       "      <td>0.0</td>\n",
       "      <td>36.0</td>\n",
       "      <td>0.0</td>\n",
       "    </tr>\n",
       "    <tr>\n",
       "      <th>...</th>\n",
       "      <td>...</td>\n",
       "      <td>...</td>\n",
       "      <td>...</td>\n",
       "      <td>...</td>\n",
       "      <td>...</td>\n",
       "      <td>...</td>\n",
       "      <td>...</td>\n",
       "      <td>...</td>\n",
       "      <td>...</td>\n",
       "      <td>...</td>\n",
       "      <td>...</td>\n",
       "    </tr>\n",
       "    <tr>\n",
       "      <th>15826</th>\n",
       "      <td>WY</td>\n",
       "      <td>1961</td>\n",
       "      <td>7.0</td>\n",
       "      <td>8.0</td>\n",
       "      <td>3912.0</td>\n",
       "      <td>148.0</td>\n",
       "      <td>177000.0</td>\n",
       "      <td>1720.0</td>\n",
       "      <td>335.0</td>\n",
       "      <td>1709.0</td>\n",
       "      <td>148.0</td>\n",
       "    </tr>\n",
       "    <tr>\n",
       "      <th>15827</th>\n",
       "      <td>WY</td>\n",
       "      <td>1960</td>\n",
       "      <td>10.0</td>\n",
       "      <td>8.0</td>\n",
       "      <td>1625.0</td>\n",
       "      <td>0.0</td>\n",
       "      <td>173000.0</td>\n",
       "      <td>1085.0</td>\n",
       "      <td>230.0</td>\n",
       "      <td>310.0</td>\n",
       "      <td>0.0</td>\n",
       "    </tr>\n",
       "    <tr>\n",
       "      <th>15828</th>\n",
       "      <td>WY</td>\n",
       "      <td>1943</td>\n",
       "      <td>6.0</td>\n",
       "      <td>8.0</td>\n",
       "      <td>NaN</td>\n",
       "      <td>300.0</td>\n",
       "      <td>NaN</td>\n",
       "      <td>NaN</td>\n",
       "      <td>NaN</td>\n",
       "      <td>NaN</td>\n",
       "      <td>NaN</td>\n",
       "    </tr>\n",
       "    <tr>\n",
       "      <th>15829</th>\n",
       "      <td>WY</td>\n",
       "      <td>1960</td>\n",
       "      <td>9.0</td>\n",
       "      <td>8.0</td>\n",
       "      <td>1682.0</td>\n",
       "      <td>0.0</td>\n",
       "      <td>NaN</td>\n",
       "      <td>1183.0</td>\n",
       "      <td>234.0</td>\n",
       "      <td>265.0</td>\n",
       "      <td>0.0</td>\n",
       "    </tr>\n",
       "    <tr>\n",
       "      <th>15830</th>\n",
       "      <td>WY</td>\n",
       "      <td>1975</td>\n",
       "      <td>1.0</td>\n",
       "      <td>8.0</td>\n",
       "      <td>NaN</td>\n",
       "      <td>NaN</td>\n",
       "      <td>NaN</td>\n",
       "      <td>NaN</td>\n",
       "      <td>NaN</td>\n",
       "      <td>NaN</td>\n",
       "      <td>NaN</td>\n",
       "    </tr>\n",
       "  </tbody>\n",
       "</table>\n",
       "<p>15831 rows × 11 columns</p>\n",
       "</div>"
      ],
      "text/plain": [
       "      State  Year  Month  Region  TotalHiredSeasonal  Mexican  HiredWorkers  \\\n",
       "0        AL  1947    7.0     6.0                 NaN      NaN      207000.0   \n",
       "1        AL  1963    9.0     6.0             21980.0      0.0           NaN   \n",
       "2        AL  1945    8.0     6.0                 NaN      NaN           NaN   \n",
       "3        AL  1972    4.0     6.0                 NaN      NaN       81000.0   \n",
       "4        AL  1964   10.0     6.0             16195.0      0.0      295000.0   \n",
       "...     ...   ...    ...     ...                 ...      ...           ...   \n",
       "15826    WY  1961    7.0     8.0              3912.0    148.0      177000.0   \n",
       "15827    WY  1960   10.0     8.0              1625.0      0.0      173000.0   \n",
       "15828    WY  1943    6.0     8.0                 NaN    300.0           NaN   \n",
       "15829    WY  1960    9.0     8.0              1682.0      0.0           NaN   \n",
       "15830    WY  1975    1.0     8.0                 NaN      NaN           NaN   \n",
       "\n",
       "         Local  Intrastate  Interstate  TotalForeign  \n",
       "0          NaN         NaN         NaN           NaN  \n",
       "1      21830.0       150.0         0.0           0.0  \n",
       "2          NaN         NaN         NaN         370.0  \n",
       "3          NaN         NaN         NaN           NaN  \n",
       "4      16159.0         0.0        36.0           0.0  \n",
       "...        ...         ...         ...           ...  \n",
       "15826   1720.0       335.0      1709.0         148.0  \n",
       "15827   1085.0       230.0       310.0           0.0  \n",
       "15828      NaN         NaN         NaN           NaN  \n",
       "15829   1183.0       234.0       265.0           0.0  \n",
       "15830      NaN         NaN         NaN           NaN  \n",
       "\n",
       "[15831 rows x 11 columns]"
      ]
     },
     "execution_count": 152,
     "metadata": {},
     "output_type": "execute_result"
    }
   ],
   "source": [
    "farmworkers_df"
   ]
  },
  {
   "cell_type": "code",
   "execution_count": 153,
   "id": "d8da16ac-3790-4029-bc76-be9d6ec7fa0d",
   "metadata": {},
   "outputs": [],
   "source": [
    "farmworkers_df['MexicanPercent'] = (farmworkers_df['Mexican']/farmworkers_df['HiredWorkers'])*100"
   ]
  },
  {
   "cell_type": "code",
   "execution_count": 154,
   "id": "374508e7-e5f5-4028-9f99-22d17abc2dfa",
   "metadata": {},
   "outputs": [
    {
     "data": {
      "text/html": [
       "<div>\n",
       "<style scoped>\n",
       "    .dataframe tbody tr th:only-of-type {\n",
       "        vertical-align: middle;\n",
       "    }\n",
       "\n",
       "    .dataframe tbody tr th {\n",
       "        vertical-align: top;\n",
       "    }\n",
       "\n",
       "    .dataframe thead th {\n",
       "        text-align: right;\n",
       "    }\n",
       "</style>\n",
       "<table border=\"1\" class=\"dataframe\">\n",
       "  <thead>\n",
       "    <tr style=\"text-align: right;\">\n",
       "      <th></th>\n",
       "      <th>State</th>\n",
       "      <th>Year</th>\n",
       "      <th>Month</th>\n",
       "      <th>Region</th>\n",
       "      <th>TotalHiredSeasonal</th>\n",
       "      <th>Mexican</th>\n",
       "      <th>HiredWorkers</th>\n",
       "      <th>Local</th>\n",
       "      <th>Intrastate</th>\n",
       "      <th>Interstate</th>\n",
       "      <th>TotalForeign</th>\n",
       "      <th>MexicanPercent</th>\n",
       "    </tr>\n",
       "  </thead>\n",
       "  <tbody>\n",
       "    <tr>\n",
       "      <th>12068</th>\n",
       "      <td>RI</td>\n",
       "      <td>1974</td>\n",
       "      <td>4.0</td>\n",
       "      <td>1.0</td>\n",
       "      <td>NaN</td>\n",
       "      <td>NaN</td>\n",
       "      <td>NaN</td>\n",
       "      <td>NaN</td>\n",
       "      <td>NaN</td>\n",
       "      <td>NaN</td>\n",
       "      <td>NaN</td>\n",
       "      <td>NaN</td>\n",
       "    </tr>\n",
       "    <tr>\n",
       "      <th>13149</th>\n",
       "      <td>TN</td>\n",
       "      <td>1970</td>\n",
       "      <td>8.0</td>\n",
       "      <td>6.0</td>\n",
       "      <td>NaN</td>\n",
       "      <td>NaN</td>\n",
       "      <td>NaN</td>\n",
       "      <td>28100.0</td>\n",
       "      <td>20.0</td>\n",
       "      <td>82.0</td>\n",
       "      <td>NaN</td>\n",
       "      <td>NaN</td>\n",
       "    </tr>\n",
       "    <tr>\n",
       "      <th>4150</th>\n",
       "      <td>IA</td>\n",
       "      <td>1968</td>\n",
       "      <td>12.0</td>\n",
       "      <td>4.0</td>\n",
       "      <td>NaN</td>\n",
       "      <td>NaN</td>\n",
       "      <td>NaN</td>\n",
       "      <td>NaN</td>\n",
       "      <td>NaN</td>\n",
       "      <td>NaN</td>\n",
       "      <td>NaN</td>\n",
       "      <td>NaN</td>\n",
       "    </tr>\n",
       "    <tr>\n",
       "      <th>15749</th>\n",
       "      <td>WY</td>\n",
       "      <td>1947</td>\n",
       "      <td>12.0</td>\n",
       "      <td>8.0</td>\n",
       "      <td>NaN</td>\n",
       "      <td>NaN</td>\n",
       "      <td>NaN</td>\n",
       "      <td>NaN</td>\n",
       "      <td>NaN</td>\n",
       "      <td>NaN</td>\n",
       "      <td>NaN</td>\n",
       "      <td>NaN</td>\n",
       "    </tr>\n",
       "    <tr>\n",
       "      <th>5272</th>\n",
       "      <td>LA</td>\n",
       "      <td>1969</td>\n",
       "      <td>3.0</td>\n",
       "      <td>7.0</td>\n",
       "      <td>700.0</td>\n",
       "      <td>NaN</td>\n",
       "      <td>NaN</td>\n",
       "      <td>700.0</td>\n",
       "      <td>NaN</td>\n",
       "      <td>NaN</td>\n",
       "      <td>0.0</td>\n",
       "      <td>NaN</td>\n",
       "    </tr>\n",
       "    <tr>\n",
       "      <th>10278</th>\n",
       "      <td>ND</td>\n",
       "      <td>1956</td>\n",
       "      <td>4.0</td>\n",
       "      <td>4.0</td>\n",
       "      <td>3976.0</td>\n",
       "      <td>0.0</td>\n",
       "      <td>112000.0</td>\n",
       "      <td>2075.0</td>\n",
       "      <td>706.0</td>\n",
       "      <td>1195.0</td>\n",
       "      <td>0.0</td>\n",
       "      <td>0.0</td>\n",
       "    </tr>\n",
       "    <tr>\n",
       "      <th>6630</th>\n",
       "      <td>MI</td>\n",
       "      <td>1942</td>\n",
       "      <td>10.0</td>\n",
       "      <td>3.0</td>\n",
       "      <td>NaN</td>\n",
       "      <td>NaN</td>\n",
       "      <td>305000.0</td>\n",
       "      <td>NaN</td>\n",
       "      <td>NaN</td>\n",
       "      <td>NaN</td>\n",
       "      <td>NaN</td>\n",
       "      <td>NaN</td>\n",
       "    </tr>\n",
       "    <tr>\n",
       "      <th>6973</th>\n",
       "      <td>MN</td>\n",
       "      <td>1963</td>\n",
       "      <td>12.0</td>\n",
       "      <td>4.0</td>\n",
       "      <td>NaN</td>\n",
       "      <td>NaN</td>\n",
       "      <td>NaN</td>\n",
       "      <td>NaN</td>\n",
       "      <td>NaN</td>\n",
       "      <td>NaN</td>\n",
       "      <td>NaN</td>\n",
       "      <td>NaN</td>\n",
       "    </tr>\n",
       "    <tr>\n",
       "      <th>6957</th>\n",
       "      <td>MN</td>\n",
       "      <td>1969</td>\n",
       "      <td>9.0</td>\n",
       "      <td>4.0</td>\n",
       "      <td>3385.0</td>\n",
       "      <td>NaN</td>\n",
       "      <td>NaN</td>\n",
       "      <td>3269.0</td>\n",
       "      <td>25.0</td>\n",
       "      <td>91.0</td>\n",
       "      <td>0.0</td>\n",
       "      <td>NaN</td>\n",
       "    </tr>\n",
       "    <tr>\n",
       "      <th>11167</th>\n",
       "      <td>OK</td>\n",
       "      <td>1962</td>\n",
       "      <td>3.0</td>\n",
       "      <td>NaN</td>\n",
       "      <td>NaN</td>\n",
       "      <td>NaN</td>\n",
       "      <td>NaN</td>\n",
       "      <td>NaN</td>\n",
       "      <td>NaN</td>\n",
       "      <td>NaN</td>\n",
       "      <td>NaN</td>\n",
       "      <td>NaN</td>\n",
       "    </tr>\n",
       "  </tbody>\n",
       "</table>\n",
       "</div>"
      ],
      "text/plain": [
       "      State  Year  Month  Region  TotalHiredSeasonal  Mexican  HiredWorkers  \\\n",
       "12068    RI  1974    4.0     1.0                 NaN      NaN           NaN   \n",
       "13149    TN  1970    8.0     6.0                 NaN      NaN           NaN   \n",
       "4150     IA  1968   12.0     4.0                 NaN      NaN           NaN   \n",
       "15749    WY  1947   12.0     8.0                 NaN      NaN           NaN   \n",
       "5272     LA  1969    3.0     7.0               700.0      NaN           NaN   \n",
       "10278    ND  1956    4.0     4.0              3976.0      0.0      112000.0   \n",
       "6630     MI  1942   10.0     3.0                 NaN      NaN      305000.0   \n",
       "6973     MN  1963   12.0     4.0                 NaN      NaN           NaN   \n",
       "6957     MN  1969    9.0     4.0              3385.0      NaN           NaN   \n",
       "11167    OK  1962    3.0     NaN                 NaN      NaN           NaN   \n",
       "\n",
       "         Local  Intrastate  Interstate  TotalForeign  MexicanPercent  \n",
       "12068      NaN         NaN         NaN           NaN             NaN  \n",
       "13149  28100.0        20.0        82.0           NaN             NaN  \n",
       "4150       NaN         NaN         NaN           NaN             NaN  \n",
       "15749      NaN         NaN         NaN           NaN             NaN  \n",
       "5272     700.0         NaN         NaN           0.0             NaN  \n",
       "10278   2075.0       706.0      1195.0           0.0             0.0  \n",
       "6630       NaN         NaN         NaN           NaN             NaN  \n",
       "6973       NaN         NaN         NaN           NaN             NaN  \n",
       "6957    3269.0        25.0        91.0           0.0             NaN  \n",
       "11167      NaN         NaN         NaN           NaN             NaN  "
      ]
     },
     "execution_count": 154,
     "metadata": {},
     "output_type": "execute_result"
    }
   ],
   "source": [
    "farmworkers_df.sample(10)"
   ]
  },
  {
   "cell_type": "code",
   "execution_count": 155,
   "id": "8dbcf5e3-eba3-4542-8187-0c8e2faab675",
   "metadata": {},
   "outputs": [
    {
     "data": {
      "text/plain": [
       "MexicanPercent\n",
       "True     14086\n",
       "False     1745\n",
       "Name: count, dtype: int64"
      ]
     },
     "execution_count": 155,
     "metadata": {},
     "output_type": "execute_result"
    }
   ],
   "source": [
    "farmworkers_df['MexicanPercent'].isna().value_counts()"
   ]
  },
  {
   "cell_type": "code",
   "execution_count": 156,
   "id": "053c6fcb-61b3-42c9-a417-2738a0f0bef8",
   "metadata": {},
   "outputs": [],
   "source": [
    "mexican_percent_df = farmworkers_df[farmworkers_df['MexicanPercent'].notna()]"
   ]
  },
  {
   "cell_type": "code",
   "execution_count": 157,
   "id": "b3228b58-e2dc-4b02-9bf3-e20c051b3f15",
   "metadata": {},
   "outputs": [
    {
     "data": {
      "text/html": [
       "<div>\n",
       "<style scoped>\n",
       "    .dataframe tbody tr th:only-of-type {\n",
       "        vertical-align: middle;\n",
       "    }\n",
       "\n",
       "    .dataframe tbody tr th {\n",
       "        vertical-align: top;\n",
       "    }\n",
       "\n",
       "    .dataframe thead th {\n",
       "        text-align: right;\n",
       "    }\n",
       "</style>\n",
       "<table border=\"1\" class=\"dataframe\">\n",
       "  <thead>\n",
       "    <tr style=\"text-align: right;\">\n",
       "      <th></th>\n",
       "      <th>State</th>\n",
       "      <th>Year</th>\n",
       "      <th>Month</th>\n",
       "      <th>Region</th>\n",
       "      <th>TotalHiredSeasonal</th>\n",
       "      <th>Mexican</th>\n",
       "      <th>HiredWorkers</th>\n",
       "      <th>Local</th>\n",
       "      <th>Intrastate</th>\n",
       "      <th>Interstate</th>\n",
       "      <th>TotalForeign</th>\n",
       "      <th>MexicanPercent</th>\n",
       "    </tr>\n",
       "  </thead>\n",
       "  <tbody>\n",
       "    <tr>\n",
       "      <th>8006</th>\n",
       "      <td>NE</td>\n",
       "      <td>1955</td>\n",
       "      <td>4.0</td>\n",
       "      <td>4.0</td>\n",
       "      <td>2.0</td>\n",
       "      <td>2.0</td>\n",
       "      <td>108000.0</td>\n",
       "      <td>0.0</td>\n",
       "      <td>0.0</td>\n",
       "      <td>0.0</td>\n",
       "      <td>2.0</td>\n",
       "      <td>0.001852</td>\n",
       "    </tr>\n",
       "    <tr>\n",
       "      <th>13207</th>\n",
       "      <td>TX</td>\n",
       "      <td>1959</td>\n",
       "      <td>10.0</td>\n",
       "      <td>7.0</td>\n",
       "      <td>342975.0</td>\n",
       "      <td>136734.0</td>\n",
       "      <td>659000.0</td>\n",
       "      <td>131961.0</td>\n",
       "      <td>67600.0</td>\n",
       "      <td>6625.0</td>\n",
       "      <td>136789.0</td>\n",
       "      <td>20.748710</td>\n",
       "    </tr>\n",
       "    <tr>\n",
       "      <th>5406</th>\n",
       "      <td>ME</td>\n",
       "      <td>1957</td>\n",
       "      <td>10.0</td>\n",
       "      <td>1.0</td>\n",
       "      <td>2491.0</td>\n",
       "      <td>0.0</td>\n",
       "      <td>83000.0</td>\n",
       "      <td>1734.0</td>\n",
       "      <td>0.0</td>\n",
       "      <td>0.0</td>\n",
       "      <td>235.0</td>\n",
       "      <td>0.000000</td>\n",
       "    </tr>\n",
       "    <tr>\n",
       "      <th>3713</th>\n",
       "      <td>IN</td>\n",
       "      <td>1944</td>\n",
       "      <td>7.0</td>\n",
       "      <td>3.0</td>\n",
       "      <td>NaN</td>\n",
       "      <td>60.0</td>\n",
       "      <td>313000.0</td>\n",
       "      <td>NaN</td>\n",
       "      <td>NaN</td>\n",
       "      <td>NaN</td>\n",
       "      <td>NaN</td>\n",
       "      <td>0.019169</td>\n",
       "    </tr>\n",
       "    <tr>\n",
       "      <th>8659</th>\n",
       "      <td>NH</td>\n",
       "      <td>1964</td>\n",
       "      <td>7.0</td>\n",
       "      <td>1.0</td>\n",
       "      <td>1250.0</td>\n",
       "      <td>0.0</td>\n",
       "      <td>51000.0</td>\n",
       "      <td>1180.0</td>\n",
       "      <td>0.0</td>\n",
       "      <td>70.0</td>\n",
       "      <td>0.0</td>\n",
       "      <td>0.000000</td>\n",
       "    </tr>\n",
       "    <tr>\n",
       "      <th>9816</th>\n",
       "      <td>NY</td>\n",
       "      <td>1947</td>\n",
       "      <td>7.0</td>\n",
       "      <td>2.0</td>\n",
       "      <td>NaN</td>\n",
       "      <td>193.0</td>\n",
       "      <td>287000.0</td>\n",
       "      <td>NaN</td>\n",
       "      <td>NaN</td>\n",
       "      <td>NaN</td>\n",
       "      <td>1388.0</td>\n",
       "      <td>0.067247</td>\n",
       "    </tr>\n",
       "    <tr>\n",
       "      <th>3233</th>\n",
       "      <td>ID</td>\n",
       "      <td>1959</td>\n",
       "      <td>7.0</td>\n",
       "      <td>8.0</td>\n",
       "      <td>9670.0</td>\n",
       "      <td>0.0</td>\n",
       "      <td>187000.0</td>\n",
       "      <td>5805.0</td>\n",
       "      <td>755.0</td>\n",
       "      <td>3110.0</td>\n",
       "      <td>0.0</td>\n",
       "      <td>0.000000</td>\n",
       "    </tr>\n",
       "    <tr>\n",
       "      <th>1462</th>\n",
       "      <td>CO</td>\n",
       "      <td>1964</td>\n",
       "      <td>7.0</td>\n",
       "      <td>8.0</td>\n",
       "      <td>14056.0</td>\n",
       "      <td>2608.0</td>\n",
       "      <td>154000.0</td>\n",
       "      <td>6567.0</td>\n",
       "      <td>805.0</td>\n",
       "      <td>4076.0</td>\n",
       "      <td>2608.0</td>\n",
       "      <td>1.693506</td>\n",
       "    </tr>\n",
       "    <tr>\n",
       "      <th>1322</th>\n",
       "      <td>CA</td>\n",
       "      <td>1953</td>\n",
       "      <td>1.0</td>\n",
       "      <td>9.0</td>\n",
       "      <td>NaN</td>\n",
       "      <td>17300.0</td>\n",
       "      <td>122000.0</td>\n",
       "      <td>85300.0</td>\n",
       "      <td>NaN</td>\n",
       "      <td>NaN</td>\n",
       "      <td>NaN</td>\n",
       "      <td>14.180328</td>\n",
       "    </tr>\n",
       "    <tr>\n",
       "      <th>9126</th>\n",
       "      <td>NJ</td>\n",
       "      <td>1959</td>\n",
       "      <td>10.0</td>\n",
       "      <td>2.0</td>\n",
       "      <td>13685.0</td>\n",
       "      <td>0.0</td>\n",
       "      <td>168000.0</td>\n",
       "      <td>5343.0</td>\n",
       "      <td>40.0</td>\n",
       "      <td>3375.0</td>\n",
       "      <td>787.0</td>\n",
       "      <td>0.000000</td>\n",
       "    </tr>\n",
       "  </tbody>\n",
       "</table>\n",
       "</div>"
      ],
      "text/plain": [
       "      State  Year  Month  Region  TotalHiredSeasonal   Mexican  HiredWorkers  \\\n",
       "8006     NE  1955    4.0     4.0                 2.0       2.0      108000.0   \n",
       "13207    TX  1959   10.0     7.0            342975.0  136734.0      659000.0   \n",
       "5406     ME  1957   10.0     1.0              2491.0       0.0       83000.0   \n",
       "3713     IN  1944    7.0     3.0                 NaN      60.0      313000.0   \n",
       "8659     NH  1964    7.0     1.0              1250.0       0.0       51000.0   \n",
       "9816     NY  1947    7.0     2.0                 NaN     193.0      287000.0   \n",
       "3233     ID  1959    7.0     8.0              9670.0       0.0      187000.0   \n",
       "1462     CO  1964    7.0     8.0             14056.0    2608.0      154000.0   \n",
       "1322     CA  1953    1.0     9.0                 NaN   17300.0      122000.0   \n",
       "9126     NJ  1959   10.0     2.0             13685.0       0.0      168000.0   \n",
       "\n",
       "          Local  Intrastate  Interstate  TotalForeign  MexicanPercent  \n",
       "8006        0.0         0.0         0.0           2.0        0.001852  \n",
       "13207  131961.0     67600.0      6625.0      136789.0       20.748710  \n",
       "5406     1734.0         0.0         0.0         235.0        0.000000  \n",
       "3713        NaN         NaN         NaN           NaN        0.019169  \n",
       "8659     1180.0         0.0        70.0           0.0        0.000000  \n",
       "9816        NaN         NaN         NaN        1388.0        0.067247  \n",
       "3233     5805.0       755.0      3110.0           0.0        0.000000  \n",
       "1462     6567.0       805.0      4076.0        2608.0        1.693506  \n",
       "1322    85300.0         NaN         NaN           NaN       14.180328  \n",
       "9126     5343.0        40.0      3375.0         787.0        0.000000  "
      ]
     },
     "execution_count": 157,
     "metadata": {},
     "output_type": "execute_result"
    }
   ],
   "source": [
    "mexican_percent_df.sample(10)"
   ]
  },
  {
   "cell_type": "code",
   "execution_count": 158,
   "id": "6b5bfdc3-cda9-4430-9e4b-c1c97264da0d",
   "metadata": {},
   "outputs": [
    {
     "data": {
      "text/html": [
       "<div>\n",
       "<style scoped>\n",
       "    .dataframe tbody tr th:only-of-type {\n",
       "        vertical-align: middle;\n",
       "    }\n",
       "\n",
       "    .dataframe tbody tr th {\n",
       "        vertical-align: top;\n",
       "    }\n",
       "\n",
       "    .dataframe thead th {\n",
       "        text-align: right;\n",
       "    }\n",
       "</style>\n",
       "<table border=\"1\" class=\"dataframe\">\n",
       "  <thead>\n",
       "    <tr style=\"text-align: right;\">\n",
       "      <th></th>\n",
       "      <th>State</th>\n",
       "      <th>Year</th>\n",
       "      <th>Month</th>\n",
       "      <th>Region</th>\n",
       "      <th>TotalHiredSeasonal</th>\n",
       "      <th>Mexican</th>\n",
       "      <th>HiredWorkers</th>\n",
       "      <th>Local</th>\n",
       "      <th>Intrastate</th>\n",
       "      <th>Interstate</th>\n",
       "      <th>TotalForeign</th>\n",
       "      <th>MexicanPercent</th>\n",
       "    </tr>\n",
       "  </thead>\n",
       "  <tbody>\n",
       "    <tr>\n",
       "      <th>328</th>\n",
       "      <td>AZ</td>\n",
       "      <td>1946</td>\n",
       "      <td>10.0</td>\n",
       "      <td>8.0</td>\n",
       "      <td>NaN</td>\n",
       "      <td>909.0</td>\n",
       "      <td>159000.0</td>\n",
       "      <td>NaN</td>\n",
       "      <td>NaN</td>\n",
       "      <td>NaN</td>\n",
       "      <td>909.0</td>\n",
       "      <td>0.571698</td>\n",
       "    </tr>\n",
       "    <tr>\n",
       "      <th>329</th>\n",
       "      <td>AZ</td>\n",
       "      <td>1957</td>\n",
       "      <td>7.0</td>\n",
       "      <td>8.0</td>\n",
       "      <td>17457.0</td>\n",
       "      <td>3698.0</td>\n",
       "      <td>186000.0</td>\n",
       "      <td>10603.0</td>\n",
       "      <td>619.0</td>\n",
       "      <td>1445.0</td>\n",
       "      <td>3698.0</td>\n",
       "      <td>1.988172</td>\n",
       "    </tr>\n",
       "    <tr>\n",
       "      <th>330</th>\n",
       "      <td>AZ</td>\n",
       "      <td>1952</td>\n",
       "      <td>1.0</td>\n",
       "      <td>8.0</td>\n",
       "      <td>NaN</td>\n",
       "      <td>4700.0</td>\n",
       "      <td>62000.0</td>\n",
       "      <td>16200.0</td>\n",
       "      <td>NaN</td>\n",
       "      <td>NaN</td>\n",
       "      <td>NaN</td>\n",
       "      <td>7.580645</td>\n",
       "    </tr>\n",
       "    <tr>\n",
       "      <th>338</th>\n",
       "      <td>AZ</td>\n",
       "      <td>1947</td>\n",
       "      <td>7.0</td>\n",
       "      <td>8.0</td>\n",
       "      <td>NaN</td>\n",
       "      <td>727.0</td>\n",
       "      <td>182000.0</td>\n",
       "      <td>NaN</td>\n",
       "      <td>NaN</td>\n",
       "      <td>NaN</td>\n",
       "      <td>727.0</td>\n",
       "      <td>0.399451</td>\n",
       "    </tr>\n",
       "    <tr>\n",
       "      <th>339</th>\n",
       "      <td>AZ</td>\n",
       "      <td>1961</td>\n",
       "      <td>10.0</td>\n",
       "      <td>8.0</td>\n",
       "      <td>26444.0</td>\n",
       "      <td>10859.0</td>\n",
       "      <td>165000.0</td>\n",
       "      <td>12316.0</td>\n",
       "      <td>1280.0</td>\n",
       "      <td>1989.0</td>\n",
       "      <td>10859.0</td>\n",
       "      <td>6.581212</td>\n",
       "    </tr>\n",
       "    <tr>\n",
       "      <th>...</th>\n",
       "      <td>...</td>\n",
       "      <td>...</td>\n",
       "      <td>...</td>\n",
       "      <td>...</td>\n",
       "      <td>...</td>\n",
       "      <td>...</td>\n",
       "      <td>...</td>\n",
       "      <td>...</td>\n",
       "      <td>...</td>\n",
       "      <td>...</td>\n",
       "      <td>...</td>\n",
       "      <td>...</td>\n",
       "    </tr>\n",
       "    <tr>\n",
       "      <th>15772</th>\n",
       "      <td>WY</td>\n",
       "      <td>1964</td>\n",
       "      <td>7.0</td>\n",
       "      <td>8.0</td>\n",
       "      <td>3782.0</td>\n",
       "      <td>390.0</td>\n",
       "      <td>154000.0</td>\n",
       "      <td>2159.0</td>\n",
       "      <td>75.0</td>\n",
       "      <td>1158.0</td>\n",
       "      <td>390.0</td>\n",
       "      <td>0.253247</td>\n",
       "    </tr>\n",
       "    <tr>\n",
       "      <th>15796</th>\n",
       "      <td>WY</td>\n",
       "      <td>1945</td>\n",
       "      <td>1.0</td>\n",
       "      <td>8.0</td>\n",
       "      <td>NaN</td>\n",
       "      <td>7.0</td>\n",
       "      <td>84000.0</td>\n",
       "      <td>NaN</td>\n",
       "      <td>NaN</td>\n",
       "      <td>NaN</td>\n",
       "      <td>NaN</td>\n",
       "      <td>0.008333</td>\n",
       "    </tr>\n",
       "    <tr>\n",
       "      <th>15808</th>\n",
       "      <td>WY</td>\n",
       "      <td>1944</td>\n",
       "      <td>7.0</td>\n",
       "      <td>8.0</td>\n",
       "      <td>NaN</td>\n",
       "      <td>1026.0</td>\n",
       "      <td>175000.0</td>\n",
       "      <td>NaN</td>\n",
       "      <td>NaN</td>\n",
       "      <td>NaN</td>\n",
       "      <td>NaN</td>\n",
       "      <td>0.586286</td>\n",
       "    </tr>\n",
       "    <tr>\n",
       "      <th>15817</th>\n",
       "      <td>WY</td>\n",
       "      <td>1957</td>\n",
       "      <td>7.0</td>\n",
       "      <td>8.0</td>\n",
       "      <td>5555.0</td>\n",
       "      <td>1004.0</td>\n",
       "      <td>186000.0</td>\n",
       "      <td>2269.0</td>\n",
       "      <td>386.0</td>\n",
       "      <td>1871.0</td>\n",
       "      <td>1004.0</td>\n",
       "      <td>0.539785</td>\n",
       "    </tr>\n",
       "    <tr>\n",
       "      <th>15826</th>\n",
       "      <td>WY</td>\n",
       "      <td>1961</td>\n",
       "      <td>7.0</td>\n",
       "      <td>8.0</td>\n",
       "      <td>3912.0</td>\n",
       "      <td>148.0</td>\n",
       "      <td>177000.0</td>\n",
       "      <td>1720.0</td>\n",
       "      <td>335.0</td>\n",
       "      <td>1709.0</td>\n",
       "      <td>148.0</td>\n",
       "      <td>0.083616</td>\n",
       "    </tr>\n",
       "  </tbody>\n",
       "</table>\n",
       "<p>783 rows × 12 columns</p>\n",
       "</div>"
      ],
      "text/plain": [
       "      State  Year  Month  Region  TotalHiredSeasonal  Mexican  HiredWorkers  \\\n",
       "328      AZ  1946   10.0     8.0                 NaN    909.0      159000.0   \n",
       "329      AZ  1957    7.0     8.0             17457.0   3698.0      186000.0   \n",
       "330      AZ  1952    1.0     8.0                 NaN   4700.0       62000.0   \n",
       "338      AZ  1947    7.0     8.0                 NaN    727.0      182000.0   \n",
       "339      AZ  1961   10.0     8.0             26444.0  10859.0      165000.0   \n",
       "...     ...   ...    ...     ...                 ...      ...           ...   \n",
       "15772    WY  1964    7.0     8.0              3782.0    390.0      154000.0   \n",
       "15796    WY  1945    1.0     8.0                 NaN      7.0       84000.0   \n",
       "15808    WY  1944    7.0     8.0                 NaN   1026.0      175000.0   \n",
       "15817    WY  1957    7.0     8.0              5555.0   1004.0      186000.0   \n",
       "15826    WY  1961    7.0     8.0              3912.0    148.0      177000.0   \n",
       "\n",
       "         Local  Intrastate  Interstate  TotalForeign  MexicanPercent  \n",
       "328        NaN         NaN         NaN         909.0        0.571698  \n",
       "329    10603.0       619.0      1445.0        3698.0        1.988172  \n",
       "330    16200.0         NaN         NaN           NaN        7.580645  \n",
       "338        NaN         NaN         NaN         727.0        0.399451  \n",
       "339    12316.0      1280.0      1989.0       10859.0        6.581212  \n",
       "...        ...         ...         ...           ...             ...  \n",
       "15772   2159.0        75.0      1158.0         390.0        0.253247  \n",
       "15796      NaN         NaN         NaN           NaN        0.008333  \n",
       "15808      NaN         NaN         NaN           NaN        0.586286  \n",
       "15817   2269.0       386.0      1871.0        1004.0        0.539785  \n",
       "15826   1720.0       335.0      1709.0         148.0        0.083616  \n",
       "\n",
       "[783 rows x 12 columns]"
      ]
     },
     "execution_count": 158,
     "metadata": {},
     "output_type": "execute_result"
    }
   ],
   "source": [
    "mexican_percent_df = mexican_percent_df[mexican_percent_df['MexicanPercent'] > 0]\n",
    "mexican_percent_df = mexican_percent_df[mexican_percent_df['Year'] >= 1943]\n",
    "mexican_percent_df = mexican_percent_df[mexican_percent_df['Year'] <= 1967]\n",
    "mexican_percent_df"
   ]
  },
  {
   "cell_type": "code",
   "execution_count": 159,
   "id": "da98c188-83c3-4fe3-82d6-f942460a1592",
   "metadata": {},
   "outputs": [
    {
     "data": {
      "text/html": [
       "<div>\n",
       "<style scoped>\n",
       "    .dataframe tbody tr th:only-of-type {\n",
       "        vertical-align: middle;\n",
       "    }\n",
       "\n",
       "    .dataframe tbody tr th {\n",
       "        vertical-align: top;\n",
       "    }\n",
       "\n",
       "    .dataframe thead th {\n",
       "        text-align: right;\n",
       "    }\n",
       "</style>\n",
       "<table border=\"1\" class=\"dataframe\">\n",
       "  <thead>\n",
       "    <tr style=\"text-align: right;\">\n",
       "      <th></th>\n",
       "      <th>State</th>\n",
       "      <th>Year</th>\n",
       "      <th>Month</th>\n",
       "      <th>Region</th>\n",
       "      <th>TotalHiredSeasonal</th>\n",
       "      <th>Mexican</th>\n",
       "      <th>HiredWorkers</th>\n",
       "      <th>Local</th>\n",
       "      <th>Intrastate</th>\n",
       "      <th>Interstate</th>\n",
       "      <th>TotalForeign</th>\n",
       "      <th>MexicanPercent</th>\n",
       "      <th>MexicanPercentSeasonal</th>\n",
       "    </tr>\n",
       "  </thead>\n",
       "  <tbody>\n",
       "    <tr>\n",
       "      <th>12711</th>\n",
       "      <td>SD</td>\n",
       "      <td>1944</td>\n",
       "      <td>3.0</td>\n",
       "      <td>4.0</td>\n",
       "      <td>NaN</td>\n",
       "      <td>NaN</td>\n",
       "      <td>NaN</td>\n",
       "      <td>NaN</td>\n",
       "      <td>NaN</td>\n",
       "      <td>NaN</td>\n",
       "      <td>NaN</td>\n",
       "      <td>NaN</td>\n",
       "      <td>NaN</td>\n",
       "    </tr>\n",
       "    <tr>\n",
       "      <th>8988</th>\n",
       "      <td>NJ</td>\n",
       "      <td>1965</td>\n",
       "      <td>9.0</td>\n",
       "      <td>2.0</td>\n",
       "      <td>16115.0</td>\n",
       "      <td>0.0</td>\n",
       "      <td>NaN</td>\n",
       "      <td>7185.0</td>\n",
       "      <td>95.0</td>\n",
       "      <td>8835.0</td>\n",
       "      <td>0.0</td>\n",
       "      <td>NaN</td>\n",
       "      <td>0.000000</td>\n",
       "    </tr>\n",
       "    <tr>\n",
       "      <th>13495</th>\n",
       "      <td>TX</td>\n",
       "      <td>1969</td>\n",
       "      <td>1.0</td>\n",
       "      <td>7.0</td>\n",
       "      <td>56235.0</td>\n",
       "      <td>NaN</td>\n",
       "      <td>90000.0</td>\n",
       "      <td>56115.0</td>\n",
       "      <td>120.0</td>\n",
       "      <td>NaN</td>\n",
       "      <td>0.0</td>\n",
       "      <td>NaN</td>\n",
       "      <td>NaN</td>\n",
       "    </tr>\n",
       "    <tr>\n",
       "      <th>4224</th>\n",
       "      <td>IA</td>\n",
       "      <td>1960</td>\n",
       "      <td>6.0</td>\n",
       "      <td>4.0</td>\n",
       "      <td>NaN</td>\n",
       "      <td>NaN</td>\n",
       "      <td>NaN</td>\n",
       "      <td>NaN</td>\n",
       "      <td>NaN</td>\n",
       "      <td>NaN</td>\n",
       "      <td>NaN</td>\n",
       "      <td>NaN</td>\n",
       "      <td>NaN</td>\n",
       "    </tr>\n",
       "    <tr>\n",
       "      <th>10440</th>\n",
       "      <td>ND</td>\n",
       "      <td>1961</td>\n",
       "      <td>11.0</td>\n",
       "      <td>4.0</td>\n",
       "      <td>NaN</td>\n",
       "      <td>NaN</td>\n",
       "      <td>NaN</td>\n",
       "      <td>NaN</td>\n",
       "      <td>NaN</td>\n",
       "      <td>NaN</td>\n",
       "      <td>NaN</td>\n",
       "      <td>NaN</td>\n",
       "      <td>NaN</td>\n",
       "    </tr>\n",
       "    <tr>\n",
       "      <th>5992</th>\n",
       "      <td>MD</td>\n",
       "      <td>1964</td>\n",
       "      <td>1.0</td>\n",
       "      <td>5.0</td>\n",
       "      <td>NaN</td>\n",
       "      <td>NaN</td>\n",
       "      <td>185000.0</td>\n",
       "      <td>NaN</td>\n",
       "      <td>NaN</td>\n",
       "      <td>NaN</td>\n",
       "      <td>NaN</td>\n",
       "      <td>NaN</td>\n",
       "      <td>NaN</td>\n",
       "    </tr>\n",
       "    <tr>\n",
       "      <th>9900</th>\n",
       "      <td>NY</td>\n",
       "      <td>1960</td>\n",
       "      <td>2.0</td>\n",
       "      <td>NaN</td>\n",
       "      <td>NaN</td>\n",
       "      <td>NaN</td>\n",
       "      <td>NaN</td>\n",
       "      <td>NaN</td>\n",
       "      <td>NaN</td>\n",
       "      <td>NaN</td>\n",
       "      <td>NaN</td>\n",
       "      <td>NaN</td>\n",
       "      <td>NaN</td>\n",
       "    </tr>\n",
       "    <tr>\n",
       "      <th>5403</th>\n",
       "      <td>ME</td>\n",
       "      <td>1960</td>\n",
       "      <td>6.0</td>\n",
       "      <td>1.0</td>\n",
       "      <td>7847.0</td>\n",
       "      <td>0.0</td>\n",
       "      <td>NaN</td>\n",
       "      <td>7572.0</td>\n",
       "      <td>0.0</td>\n",
       "      <td>0.0</td>\n",
       "      <td>237.0</td>\n",
       "      <td>NaN</td>\n",
       "      <td>0.000000</td>\n",
       "    </tr>\n",
       "    <tr>\n",
       "      <th>2412</th>\n",
       "      <td>FL</td>\n",
       "      <td>1969</td>\n",
       "      <td>7.0</td>\n",
       "      <td>5.0</td>\n",
       "      <td>NaN</td>\n",
       "      <td>NaN</td>\n",
       "      <td>319000.0</td>\n",
       "      <td>28395.0</td>\n",
       "      <td>620.0</td>\n",
       "      <td>1325.0</td>\n",
       "      <td>NaN</td>\n",
       "      <td>NaN</td>\n",
       "      <td>NaN</td>\n",
       "    </tr>\n",
       "    <tr>\n",
       "      <th>2884</th>\n",
       "      <td>GA</td>\n",
       "      <td>1961</td>\n",
       "      <td>10.0</td>\n",
       "      <td>5.0</td>\n",
       "      <td>40645.0</td>\n",
       "      <td>775.0</td>\n",
       "      <td>430000.0</td>\n",
       "      <td>39784.0</td>\n",
       "      <td>86.0</td>\n",
       "      <td>0.0</td>\n",
       "      <td>775.0</td>\n",
       "      <td>0.180233</td>\n",
       "      <td>1.906754</td>\n",
       "    </tr>\n",
       "  </tbody>\n",
       "</table>\n",
       "</div>"
      ],
      "text/plain": [
       "      State  Year  Month  Region  TotalHiredSeasonal  Mexican  HiredWorkers  \\\n",
       "12711    SD  1944    3.0     4.0                 NaN      NaN           NaN   \n",
       "8988     NJ  1965    9.0     2.0             16115.0      0.0           NaN   \n",
       "13495    TX  1969    1.0     7.0             56235.0      NaN       90000.0   \n",
       "4224     IA  1960    6.0     4.0                 NaN      NaN           NaN   \n",
       "10440    ND  1961   11.0     4.0                 NaN      NaN           NaN   \n",
       "5992     MD  1964    1.0     5.0                 NaN      NaN      185000.0   \n",
       "9900     NY  1960    2.0     NaN                 NaN      NaN           NaN   \n",
       "5403     ME  1960    6.0     1.0              7847.0      0.0           NaN   \n",
       "2412     FL  1969    7.0     5.0                 NaN      NaN      319000.0   \n",
       "2884     GA  1961   10.0     5.0             40645.0    775.0      430000.0   \n",
       "\n",
       "         Local  Intrastate  Interstate  TotalForeign  MexicanPercent  \\\n",
       "12711      NaN         NaN         NaN           NaN             NaN   \n",
       "8988    7185.0        95.0      8835.0           0.0             NaN   \n",
       "13495  56115.0       120.0         NaN           0.0             NaN   \n",
       "4224       NaN         NaN         NaN           NaN             NaN   \n",
       "10440      NaN         NaN         NaN           NaN             NaN   \n",
       "5992       NaN         NaN         NaN           NaN             NaN   \n",
       "9900       NaN         NaN         NaN           NaN             NaN   \n",
       "5403    7572.0         0.0         0.0         237.0             NaN   \n",
       "2412   28395.0       620.0      1325.0           NaN             NaN   \n",
       "2884   39784.0        86.0         0.0         775.0        0.180233   \n",
       "\n",
       "       MexicanPercentSeasonal  \n",
       "12711                     NaN  \n",
       "8988                 0.000000  \n",
       "13495                     NaN  \n",
       "4224                      NaN  \n",
       "10440                     NaN  \n",
       "5992                      NaN  \n",
       "9900                      NaN  \n",
       "5403                 0.000000  \n",
       "2412                      NaN  \n",
       "2884                 1.906754  "
      ]
     },
     "execution_count": 159,
     "metadata": {},
     "output_type": "execute_result"
    }
   ],
   "source": [
    "farmworkers_df['MexicanPercentSeasonal'] = (farmworkers_df['Mexican']/farmworkers_df['TotalHiredSeasonal'])*100\n",
    "farmworkers_df.sample(10)"
   ]
  },
  {
   "cell_type": "code",
   "execution_count": 160,
   "id": "b33c06ed-a83f-4876-a333-39375cfafaf6",
   "metadata": {},
   "outputs": [],
   "source": [
    "mexican_seasonal = farmworkers_df[farmworkers_df['MexicanPercentSeasonal'].notna()]"
   ]
  },
  {
   "cell_type": "code",
   "execution_count": 161,
   "id": "1d8cca79-d6f3-45d5-96f7-6eb4a89d1491",
   "metadata": {},
   "outputs": [
    {
     "data": {
      "text/html": [
       "<div>\n",
       "<style scoped>\n",
       "    .dataframe tbody tr th:only-of-type {\n",
       "        vertical-align: middle;\n",
       "    }\n",
       "\n",
       "    .dataframe tbody tr th {\n",
       "        vertical-align: top;\n",
       "    }\n",
       "\n",
       "    .dataframe thead th {\n",
       "        text-align: right;\n",
       "    }\n",
       "</style>\n",
       "<table border=\"1\" class=\"dataframe\">\n",
       "  <thead>\n",
       "    <tr style=\"text-align: right;\">\n",
       "      <th></th>\n",
       "      <th>State</th>\n",
       "      <th>Year</th>\n",
       "      <th>Month</th>\n",
       "      <th>Region</th>\n",
       "      <th>TotalHiredSeasonal</th>\n",
       "      <th>Mexican</th>\n",
       "      <th>HiredWorkers</th>\n",
       "      <th>Local</th>\n",
       "      <th>Intrastate</th>\n",
       "      <th>Interstate</th>\n",
       "      <th>TotalForeign</th>\n",
       "      <th>MexicanPercent</th>\n",
       "      <th>MexicanPercentSeasonal</th>\n",
       "    </tr>\n",
       "  </thead>\n",
       "  <tbody>\n",
       "    <tr>\n",
       "      <th>6876</th>\n",
       "      <td>MN</td>\n",
       "      <td>1953</td>\n",
       "      <td>9.0</td>\n",
       "      <td>4.0</td>\n",
       "      <td>15906.0</td>\n",
       "      <td>165.0</td>\n",
       "      <td>NaN</td>\n",
       "      <td>10503.0</td>\n",
       "      <td>628.0</td>\n",
       "      <td>600.0</td>\n",
       "      <td>213.0</td>\n",
       "      <td>NaN</td>\n",
       "      <td>1.037344</td>\n",
       "    </tr>\n",
       "    <tr>\n",
       "      <th>14584</th>\n",
       "      <td>WA</td>\n",
       "      <td>1953</td>\n",
       "      <td>8.0</td>\n",
       "      <td>9.0</td>\n",
       "      <td>41950.0</td>\n",
       "      <td>388.0</td>\n",
       "      <td>NaN</td>\n",
       "      <td>27027.0</td>\n",
       "      <td>3350.0</td>\n",
       "      <td>4414.0</td>\n",
       "      <td>388.0</td>\n",
       "      <td>NaN</td>\n",
       "      <td>0.924911</td>\n",
       "    </tr>\n",
       "    <tr>\n",
       "      <th>1140</th>\n",
       "      <td>CA</td>\n",
       "      <td>1953</td>\n",
       "      <td>4.0</td>\n",
       "      <td>9.0</td>\n",
       "      <td>119000.0</td>\n",
       "      <td>21100.0</td>\n",
       "      <td>157000.0</td>\n",
       "      <td>73500.0</td>\n",
       "      <td>19000.0</td>\n",
       "      <td>5400.0</td>\n",
       "      <td>NaN</td>\n",
       "      <td>13.439490</td>\n",
       "      <td>17.731092</td>\n",
       "    </tr>\n",
       "    <tr>\n",
       "      <th>14588</th>\n",
       "      <td>WA</td>\n",
       "      <td>1953</td>\n",
       "      <td>4.0</td>\n",
       "      <td>9.0</td>\n",
       "      <td>10859.0</td>\n",
       "      <td>17.0</td>\n",
       "      <td>157000.0</td>\n",
       "      <td>7629.0</td>\n",
       "      <td>1140.0</td>\n",
       "      <td>2073.0</td>\n",
       "      <td>NaN</td>\n",
       "      <td>0.010828</td>\n",
       "      <td>0.156552</td>\n",
       "    </tr>\n",
       "    <tr>\n",
       "      <th>14600</th>\n",
       "      <td>WA</td>\n",
       "      <td>1953</td>\n",
       "      <td>7.0</td>\n",
       "      <td>9.0</td>\n",
       "      <td>53919.0</td>\n",
       "      <td>1700.0</td>\n",
       "      <td>320000.0</td>\n",
       "      <td>NaN</td>\n",
       "      <td>NaN</td>\n",
       "      <td>NaN</td>\n",
       "      <td>NaN</td>\n",
       "      <td>0.531250</td>\n",
       "      <td>3.152877</td>\n",
       "    </tr>\n",
       "    <tr>\n",
       "      <th>...</th>\n",
       "      <td>...</td>\n",
       "      <td>...</td>\n",
       "      <td>...</td>\n",
       "      <td>...</td>\n",
       "      <td>...</td>\n",
       "      <td>...</td>\n",
       "      <td>...</td>\n",
       "      <td>...</td>\n",
       "      <td>...</td>\n",
       "      <td>...</td>\n",
       "      <td>...</td>\n",
       "      <td>...</td>\n",
       "      <td>...</td>\n",
       "    </tr>\n",
       "    <tr>\n",
       "      <th>1312</th>\n",
       "      <td>CA</td>\n",
       "      <td>1966</td>\n",
       "      <td>11.0</td>\n",
       "      <td>9.0</td>\n",
       "      <td>90650.0</td>\n",
       "      <td>660.0</td>\n",
       "      <td>NaN</td>\n",
       "      <td>72700.0</td>\n",
       "      <td>11470.0</td>\n",
       "      <td>5820.0</td>\n",
       "      <td>660.0</td>\n",
       "      <td>NaN</td>\n",
       "      <td>0.728075</td>\n",
       "    </tr>\n",
       "    <tr>\n",
       "      <th>1371</th>\n",
       "      <td>CA</td>\n",
       "      <td>1966</td>\n",
       "      <td>10.0</td>\n",
       "      <td>9.0</td>\n",
       "      <td>149300.0</td>\n",
       "      <td>4430.0</td>\n",
       "      <td>318000.0</td>\n",
       "      <td>109520.0</td>\n",
       "      <td>24250.0</td>\n",
       "      <td>11100.0</td>\n",
       "      <td>4430.0</td>\n",
       "      <td>1.393082</td>\n",
       "      <td>2.967180</td>\n",
       "    </tr>\n",
       "    <tr>\n",
       "      <th>1302</th>\n",
       "      <td>CA</td>\n",
       "      <td>1966</td>\n",
       "      <td>6.0</td>\n",
       "      <td>9.0</td>\n",
       "      <td>151350.0</td>\n",
       "      <td>660.0</td>\n",
       "      <td>NaN</td>\n",
       "      <td>109250.0</td>\n",
       "      <td>25200.0</td>\n",
       "      <td>16100.0</td>\n",
       "      <td>800.0</td>\n",
       "      <td>NaN</td>\n",
       "      <td>0.436075</td>\n",
       "    </tr>\n",
       "    <tr>\n",
       "      <th>1389</th>\n",
       "      <td>CA</td>\n",
       "      <td>1966</td>\n",
       "      <td>9.0</td>\n",
       "      <td>9.0</td>\n",
       "      <td>179850.0</td>\n",
       "      <td>7760.0</td>\n",
       "      <td>NaN</td>\n",
       "      <td>114200.0</td>\n",
       "      <td>35600.0</td>\n",
       "      <td>22200.0</td>\n",
       "      <td>7850.0</td>\n",
       "      <td>NaN</td>\n",
       "      <td>4.314707</td>\n",
       "    </tr>\n",
       "    <tr>\n",
       "      <th>1388</th>\n",
       "      <td>CA</td>\n",
       "      <td>1967</td>\n",
       "      <td>10.0</td>\n",
       "      <td>9.0</td>\n",
       "      <td>154500.0</td>\n",
       "      <td>5850.0</td>\n",
       "      <td>294000.0</td>\n",
       "      <td>113350.0</td>\n",
       "      <td>22150.0</td>\n",
       "      <td>13150.0</td>\n",
       "      <td>5850.0</td>\n",
       "      <td>1.989796</td>\n",
       "      <td>3.786408</td>\n",
       "    </tr>\n",
       "  </tbody>\n",
       "</table>\n",
       "<p>1329 rows × 13 columns</p>\n",
       "</div>"
      ],
      "text/plain": [
       "      State  Year  Month  Region  TotalHiredSeasonal  Mexican  HiredWorkers  \\\n",
       "6876     MN  1953    9.0     4.0             15906.0    165.0           NaN   \n",
       "14584    WA  1953    8.0     9.0             41950.0    388.0           NaN   \n",
       "1140     CA  1953    4.0     9.0            119000.0  21100.0      157000.0   \n",
       "14588    WA  1953    4.0     9.0             10859.0     17.0      157000.0   \n",
       "14600    WA  1953    7.0     9.0             53919.0   1700.0      320000.0   \n",
       "...     ...   ...    ...     ...                 ...      ...           ...   \n",
       "1312     CA  1966   11.0     9.0             90650.0    660.0           NaN   \n",
       "1371     CA  1966   10.0     9.0            149300.0   4430.0      318000.0   \n",
       "1302     CA  1966    6.0     9.0            151350.0    660.0           NaN   \n",
       "1389     CA  1966    9.0     9.0            179850.0   7760.0           NaN   \n",
       "1388     CA  1967   10.0     9.0            154500.0   5850.0      294000.0   \n",
       "\n",
       "          Local  Intrastate  Interstate  TotalForeign  MexicanPercent  \\\n",
       "6876    10503.0       628.0       600.0         213.0             NaN   \n",
       "14584   27027.0      3350.0      4414.0         388.0             NaN   \n",
       "1140    73500.0     19000.0      5400.0           NaN       13.439490   \n",
       "14588    7629.0      1140.0      2073.0           NaN        0.010828   \n",
       "14600       NaN         NaN         NaN           NaN        0.531250   \n",
       "...         ...         ...         ...           ...             ...   \n",
       "1312    72700.0     11470.0      5820.0         660.0             NaN   \n",
       "1371   109520.0     24250.0     11100.0        4430.0        1.393082   \n",
       "1302   109250.0     25200.0     16100.0         800.0             NaN   \n",
       "1389   114200.0     35600.0     22200.0        7850.0             NaN   \n",
       "1388   113350.0     22150.0     13150.0        5850.0        1.989796   \n",
       "\n",
       "       MexicanPercentSeasonal  \n",
       "6876                 1.037344  \n",
       "14584                0.924911  \n",
       "1140                17.731092  \n",
       "14588                0.156552  \n",
       "14600                3.152877  \n",
       "...                       ...  \n",
       "1312                 0.728075  \n",
       "1371                 2.967180  \n",
       "1302                 0.436075  \n",
       "1389                 4.314707  \n",
       "1388                 3.786408  \n",
       "\n",
       "[1329 rows x 13 columns]"
      ]
     },
     "execution_count": 161,
     "metadata": {},
     "output_type": "execute_result"
    }
   ],
   "source": [
    "mexican_seasonal = mexican_seasonal[mexican_seasonal['MexicanPercentSeasonal'] > 0]\n",
    "mexican_seasonal = mexican_seasonal[mexican_seasonal['Year'] >= 1953]\n",
    "mexican_seasonal = mexican_seasonal[mexican_seasonal['Year'] <= 1967]\n",
    "mexican_seasonal.sort_values(by='Year')"
   ]
  },
  {
   "cell_type": "code",
   "execution_count": 194,
   "id": "2b8d8dd0-ad2c-4b02-af32-ba660813d016",
   "metadata": {
    "scrolled": true
   },
   "outputs": [
    {
     "data": {
      "text/html": [
       "<div>\n",
       "<style scoped>\n",
       "    .dataframe tbody tr th:only-of-type {\n",
       "        vertical-align: middle;\n",
       "    }\n",
       "\n",
       "    .dataframe tbody tr th {\n",
       "        vertical-align: top;\n",
       "    }\n",
       "\n",
       "    .dataframe thead th {\n",
       "        text-align: right;\n",
       "    }\n",
       "</style>\n",
       "<table border=\"1\" class=\"dataframe\">\n",
       "  <thead>\n",
       "    <tr style=\"text-align: right;\">\n",
       "      <th></th>\n",
       "      <th>State</th>\n",
       "      <th>Year</th>\n",
       "      <th>MexicanPercent</th>\n",
       "    </tr>\n",
       "  </thead>\n",
       "  <tbody>\n",
       "    <tr>\n",
       "      <th>0</th>\n",
       "      <td>AR</td>\n",
       "      <td>1951</td>\n",
       "      <td>3.276267</td>\n",
       "    </tr>\n",
       "    <tr>\n",
       "      <th>1</th>\n",
       "      <td>AR</td>\n",
       "      <td>1952</td>\n",
       "      <td>2.062253</td>\n",
       "    </tr>\n",
       "    <tr>\n",
       "      <th>2</th>\n",
       "      <td>AR</td>\n",
       "      <td>1953</td>\n",
       "      <td>2.511572</td>\n",
       "    </tr>\n",
       "    <tr>\n",
       "      <th>3</th>\n",
       "      <td>AR</td>\n",
       "      <td>1954</td>\n",
       "      <td>2.092358</td>\n",
       "    </tr>\n",
       "    <tr>\n",
       "      <th>4</th>\n",
       "      <td>AR</td>\n",
       "      <td>1955</td>\n",
       "      <td>2.828946</td>\n",
       "    </tr>\n",
       "    <tr>\n",
       "      <th>...</th>\n",
       "      <td>...</td>\n",
       "      <td>...</td>\n",
       "      <td>...</td>\n",
       "    </tr>\n",
       "    <tr>\n",
       "      <th>360</th>\n",
       "      <td>WY</td>\n",
       "      <td>1960</td>\n",
       "      <td>0.048066</td>\n",
       "    </tr>\n",
       "    <tr>\n",
       "      <th>361</th>\n",
       "      <td>WY</td>\n",
       "      <td>1961</td>\n",
       "      <td>0.083616</td>\n",
       "    </tr>\n",
       "    <tr>\n",
       "      <th>362</th>\n",
       "      <td>WY</td>\n",
       "      <td>1962</td>\n",
       "      <td>0.070520</td>\n",
       "    </tr>\n",
       "    <tr>\n",
       "      <th>363</th>\n",
       "      <td>WY</td>\n",
       "      <td>1963</td>\n",
       "      <td>0.068263</td>\n",
       "    </tr>\n",
       "    <tr>\n",
       "      <th>364</th>\n",
       "      <td>WY</td>\n",
       "      <td>1964</td>\n",
       "      <td>0.253247</td>\n",
       "    </tr>\n",
       "  </tbody>\n",
       "</table>\n",
       "<p>365 rows × 3 columns</p>\n",
       "</div>"
      ],
      "text/plain": [
       "    State  Year  MexicanPercent\n",
       "0      AR  1951        3.276267\n",
       "1      AR  1952        2.062253\n",
       "2      AR  1953        2.511572\n",
       "3      AR  1954        2.092358\n",
       "4      AR  1955        2.828946\n",
       "..    ...   ...             ...\n",
       "360    WY  1960        0.048066\n",
       "361    WY  1961        0.083616\n",
       "362    WY  1962        0.070520\n",
       "363    WY  1963        0.068263\n",
       "364    WY  1964        0.253247\n",
       "\n",
       "[365 rows x 3 columns]"
      ]
     },
     "execution_count": 194,
     "metadata": {},
     "output_type": "execute_result"
    }
   ],
   "source": [
    "mexican_year = mexican_percent_df.groupby(['State', 'Year'])['MexicanPercent'].mean().reset_index()\n",
    "mexican_year"
   ]
  },
  {
   "cell_type": "code",
   "execution_count": 206,
   "id": "d35312c7-7dfb-48a8-8c70-bb0a90f97548",
   "metadata": {},
   "outputs": [
    {
     "data": {
      "text/html": [
       "<div>\n",
       "<style scoped>\n",
       "    .dataframe tbody tr th:only-of-type {\n",
       "        vertical-align: middle;\n",
       "    }\n",
       "\n",
       "    .dataframe tbody tr th {\n",
       "        vertical-align: top;\n",
       "    }\n",
       "\n",
       "    .dataframe thead th {\n",
       "        text-align: right;\n",
       "    }\n",
       "</style>\n",
       "<table border=\"1\" class=\"dataframe\">\n",
       "  <thead>\n",
       "    <tr style=\"text-align: right;\">\n",
       "      <th></th>\n",
       "      <th>State</th>\n",
       "      <th>Year</th>\n",
       "      <th>MexicanPercentSeasonal</th>\n",
       "    </tr>\n",
       "  </thead>\n",
       "  <tbody>\n",
       "    <tr>\n",
       "      <th>0</th>\n",
       "      <td>AR</td>\n",
       "      <td>1953</td>\n",
       "      <td>12.214397</td>\n",
       "    </tr>\n",
       "    <tr>\n",
       "      <th>1</th>\n",
       "      <td>AR</td>\n",
       "      <td>1954</td>\n",
       "      <td>8.628393</td>\n",
       "    </tr>\n",
       "    <tr>\n",
       "      <th>2</th>\n",
       "      <td>AR</td>\n",
       "      <td>1955</td>\n",
       "      <td>9.153815</td>\n",
       "    </tr>\n",
       "    <tr>\n",
       "      <th>3</th>\n",
       "      <td>AR</td>\n",
       "      <td>1956</td>\n",
       "      <td>15.315258</td>\n",
       "    </tr>\n",
       "    <tr>\n",
       "      <th>4</th>\n",
       "      <td>AR</td>\n",
       "      <td>1957</td>\n",
       "      <td>12.613804</td>\n",
       "    </tr>\n",
       "    <tr>\n",
       "      <th>...</th>\n",
       "      <td>...</td>\n",
       "      <td>...</td>\n",
       "      <td>...</td>\n",
       "    </tr>\n",
       "    <tr>\n",
       "      <th>284</th>\n",
       "      <td>WY</td>\n",
       "      <td>1960</td>\n",
       "      <td>7.269720</td>\n",
       "    </tr>\n",
       "    <tr>\n",
       "      <th>285</th>\n",
       "      <td>WY</td>\n",
       "      <td>1961</td>\n",
       "      <td>9.245460</td>\n",
       "    </tr>\n",
       "    <tr>\n",
       "      <th>286</th>\n",
       "      <td>WY</td>\n",
       "      <td>1962</td>\n",
       "      <td>7.972492</td>\n",
       "    </tr>\n",
       "    <tr>\n",
       "      <th>287</th>\n",
       "      <td>WY</td>\n",
       "      <td>1963</td>\n",
       "      <td>11.630655</td>\n",
       "    </tr>\n",
       "    <tr>\n",
       "      <th>288</th>\n",
       "      <td>WY</td>\n",
       "      <td>1964</td>\n",
       "      <td>12.474553</td>\n",
       "    </tr>\n",
       "  </tbody>\n",
       "</table>\n",
       "<p>289 rows × 3 columns</p>\n",
       "</div>"
      ],
      "text/plain": [
       "    State  Year  MexicanPercentSeasonal\n",
       "0      AR  1953               12.214397\n",
       "1      AR  1954                8.628393\n",
       "2      AR  1955                9.153815\n",
       "3      AR  1956               15.315258\n",
       "4      AR  1957               12.613804\n",
       "..    ...   ...                     ...\n",
       "284    WY  1960                7.269720\n",
       "285    WY  1961                9.245460\n",
       "286    WY  1962                7.972492\n",
       "287    WY  1963               11.630655\n",
       "288    WY  1964               12.474553\n",
       "\n",
       "[289 rows x 3 columns]"
      ]
     },
     "execution_count": 206,
     "metadata": {},
     "output_type": "execute_result"
    }
   ],
   "source": [
    "seasonal_year = mexican_seasonal.groupby(['State', 'Year'])['MexicanPercentSeasonal'].mean().reset_index()\n",
    "seasonal_year"
   ]
  },
  {
   "cell_type": "code",
   "execution_count": 190,
   "id": "64a2342f-b55c-41a6-bf72-ef789c0274d2",
   "metadata": {},
   "outputs": [
    {
     "data": {
      "text/plain": [
       "State\n",
       "CA    76\n",
       "AZ    65\n",
       "MI    40\n",
       "CO    39\n",
       "WI    35\n",
       "UT    35\n",
       "NM    33\n",
       "NE    33\n",
       "IN    32\n",
       "WY    31\n",
       "TX    30\n",
       "MT    30\n",
       "NV    30\n",
       "MN    28\n",
       "AR    28\n",
       "WA    27\n",
       "KS    27\n",
       "OR    26\n",
       "ID    23\n",
       "SD    23\n",
       "IL    18\n",
       "IA    16\n",
       "TN    15\n",
       "ND    11\n",
       "MO     9\n",
       "KY     9\n",
       "GA     7\n",
       "OH     2\n",
       "LA     2\n",
       "NC     1\n",
       "NH     1\n",
       "NY     1\n",
       "Name: count, dtype: int64"
      ]
     },
     "execution_count": 190,
     "metadata": {},
     "output_type": "execute_result"
    }
   ],
   "source": [
    "mexican_percent_df['State'].value_counts()"
   ]
  },
  {
   "cell_type": "code",
   "execution_count": 186,
   "id": "4a22fd8a-2dc2-48b9-8161-792c7de62eaa",
   "metadata": {},
   "outputs": [
    {
     "data": {
      "text/plain": [
       "<Axes: xlabel='State,Year'>"
      ]
     },
     "execution_count": 186,
     "metadata": {},
     "output_type": "execute_result"
    },
    {
     "data": {
      "image/png": "[encoded data removed]",
      "text/plain": [
       "<Figure size 640x480 with 1 Axes>"
      ]
     },
     "metadata": {},
     "output_type": "display_data"
    }
   ],
   "source": [
    "mexican_year.plot()"
   ]
  },
  {
   "cell_type": "code",
   "execution_count": 180,
   "id": "48b7587b-896a-499c-8b62-c64f56576413",
   "metadata": {},
   "outputs": [],
   "source": [
    "import plotly.express as px"
   ]
  },
  {
   "cell_type": "code",
   "execution_count": 202,
   "id": "8b386e68-80ac-4bee-9375-ea85ba5666cd",
   "metadata": {},
   "outputs": [
    {
     "data": {
      "application/vnd.plotly.v1+json": {
       "config": {
        "plotlyServerURL": "https://plot.ly"
       },
       "data": [
        {
         "hovertemplate": "State=AR<br>Year=%{x}<br>MexicanPercent=%{y}<extra></extra>",
         "legendgroup": "AR",
         "line": {
          "color": "#636efa",
          "dash": "solid"
         },
         "marker": {
          "symbol": "circle"
         },
         "mode": "lines",
         "name": "AR",
         "orientation": "v",
         "showlegend": true,
         "type": "scatter",
         "visible": "legendonly",
         "x": [
          1951,
          1952,
          1953,
          1954,
          1955,
          1956,
          1957,
          1958,
          1959,
          1960,
          1961,
          1962,
          1963,
          1964
         ],
         "xaxis": "x",
         "y": [
          3.276267148607574,
          2.062252889294404,
          2.5115722965120555,
          2.0923580321894932,
          2.8289463155105947,
          3.3783437717466946,
          3.072424850281993,
          1.9552818232919413,
          3.251617394452447,
          3.3426275021037672,
          2.693822886297376,
          0.9253192872935363,
          0.8002503581611087,
          0.6469194342640521
         ],
         "yaxis": "y"
        },
        {
         "hovertemplate": "State=AZ<br>Year=%{x}<br>MexicanPercent=%{y}<extra></extra>",
         "legendgroup": "AZ",
         "line": {
          "color": "#EF553B",
          "dash": "solid"
         },
         "marker": {
          "symbol": "circle"
         },
         "mode": "lines",
         "name": "AZ",
         "orientation": "v",
         "showlegend": true,
         "type": "scatter",
         "visible": "legendonly",
         "x": [
          1943,
          1944,
          1945,
          1946,
          1947,
          1948,
          1950,
          1951,
          1952,
          1953,
          1954,
          1955,
          1956,
          1957,
          1958,
          1959,
          1960,
          1961,
          1962,
          1963,
          1964
         ],
         "xaxis": "x",
         "y": [
          0.7230888030888032,
          1.0376174702925673,
          1.4928930871865653,
          1.1787147739931225,
          0.9230585318820613,
          0.21204188481675396,
          1.220520203237778,
          3.305721585524319,
          5.234547125947762,
          5.633027386414399,
          4.828628568717502,
          5.018572203224865,
          5.770367430498762,
          6.0829274572164165,
          6.5180628272251315,
          5.033076016330286,
          4.912256890109539,
          4.172526964560863,
          2.242258064516129,
          4.411062141139412,
          4.5326012460615175
         ],
         "yaxis": "y"
        },
        {
         "hovertemplate": "State=CA<br>Year=%{x}<br>MexicanPercent=%{y}<extra></extra>",
         "legendgroup": "CA",
         "line": {
          "color": "#00cc96",
          "dash": "solid"
         },
         "marker": {
          "symbol": "circle"
         },
         "mode": "lines",
         "name": "CA",
         "orientation": "v",
         "showlegend": true,
         "type": "scatter",
         "visible": "legendonly",
         "x": [
          1943,
          1944,
          1945,
          1946,
          1947,
          1948,
          1949,
          1950,
          1951,
          1952,
          1953,
          1954,
          1955,
          1956,
          1957,
          1958,
          1959,
          1960,
          1961,
          1962,
          1963,
          1964,
          1965,
          1966,
          1967
         ],
         "xaxis": "x",
         "y": [
          6.498564205457464,
          8.914585413805309,
          9.900590238305755,
          7.0644077348555925,
          4.797680889831411,
          2.925857628659305,
          2.782779502148701,
          3.4964785132765095,
          8.227209424872026,
          10.521262336411617,
          11.100969701804422,
          9.146242767488882,
          14.128347521503946,
          17.418703730507175,
          18.46804355638341,
          15.85833322782406,
          13.482039207096705,
          14.01186737844769,
          11.91477121150612,
          12.723524844720497,
          9.280126523432074,
          9.481736821708306,
          1.8692408141210375,
          1.3930817610062893,
          1.9897959183673468
         ],
         "yaxis": "y"
        },
        {
         "hovertemplate": "State=CO<br>Year=%{x}<br>MexicanPercent=%{y}<extra></extra>",
         "legendgroup": "CO",
         "line": {
          "color": "#ab63fa",
          "dash": "solid"
         },
         "marker": {
          "symbol": "circle"
         },
         "mode": "lines",
         "name": "CO",
         "orientation": "v",
         "showlegend": true,
         "type": "scatter",
         "visible": "legendonly",
         "x": [
          1943,
          1944,
          1945,
          1946,
          1947,
          1949,
          1950,
          1953,
          1954,
          1955,
          1956,
          1957,
          1958,
          1959,
          1960,
          1961,
          1962,
          1963,
          1964
         ],
         "xaxis": "x",
         "y": [
          0.39436293436293435,
          1.0882742756213466,
          0.7999482401656315,
          0.5712186499969052,
          0.18349575261339968,
          0.4105263157894737,
          1.288888888888889,
          0.18756756756756757,
          0.17915714938328003,
          0.5796511627906977,
          0.2726002629848784,
          0.60310086324398,
          0.4227705540532765,
          0.6349836122132138,
          0.838436112796602,
          1.1044735490498203,
          1.1474603766548575,
          1.0353680394313414,
          1.1603896103896103
         ],
         "yaxis": "y"
        },
        {
         "hovertemplate": "State=GA<br>Year=%{x}<br>MexicanPercent=%{y}<extra></extra>",
         "legendgroup": "GA",
         "line": {
          "color": "#FFA15A",
          "dash": "solid"
         },
         "marker": {
          "symbol": "circle"
         },
         "mode": "lines",
         "name": "GA",
         "orientation": "v",
         "showlegend": true,
         "type": "scatter",
         "visible": "legendonly",
         "x": [
          1954,
          1955,
          1956,
          1957,
          1959,
          1960,
          1961
         ],
         "xaxis": "x",
         "y": [
          0.0014028056112224449,
          0.04285714285714286,
          0.04039735099337748,
          0.1505567928730512,
          0.12321041214750543,
          0.006024096385542168,
          0.18023255813953487
         ],
         "yaxis": "y"
        },
        {
         "hovertemplate": "State=IA<br>Year=%{x}<br>MexicanPercent=%{y}<extra></extra>",
         "legendgroup": "IA",
         "line": {
          "color": "#19d3f3",
          "dash": "solid"
         },
         "marker": {
          "symbol": "circle"
         },
         "mode": "lines",
         "name": "IA",
         "orientation": "v",
         "showlegend": true,
         "type": "scatter",
         "visible": "legendonly",
         "x": [
          1944,
          1945,
          1946,
          1947,
          1953,
          1956,
          1957,
          1959,
          1960,
          1961,
          1962
         ],
         "xaxis": "x",
         "y": [
          0.18050196330136678,
          0.2693808357569264,
          0.21315391072167847,
          0.056942675159235664,
          0.027480916030534354,
          0.01413793103448276,
          0.01152542372881356,
          0.011267605633802818,
          0.01349862258953168,
          0.04668435013262599,
          0.031034482758620693
         ],
         "yaxis": "y"
        },
        {
         "hovertemplate": "State=ID<br>Year=%{x}<br>MexicanPercent=%{y}<extra></extra>",
         "legendgroup": "ID",
         "line": {
          "color": "#FF6692",
          "dash": "solid"
         },
         "marker": {
          "symbol": "circle"
         },
         "mode": "lines",
         "name": "ID",
         "orientation": "v",
         "showlegend": true,
         "type": "scatter",
         "visible": "legendonly",
         "x": [
          1943,
          1944,
          1945,
          1946,
          1947,
          1954,
          1955,
          1956,
          1957
         ],
         "xaxis": "x",
         "y": [
          0.6593667953667953,
          0.8947761433636182,
          1.612275707384403,
          1.0347318058764912,
          1.480175235077196,
          0.1155964481498401,
          0.09712808227182423,
          0.19644970414201182,
          0.03644555505073451
         ],
         "yaxis": "y"
        },
        {
         "hovertemplate": "State=IL<br>Year=%{x}<br>MexicanPercent=%{y}<extra></extra>",
         "legendgroup": "IL",
         "line": {
          "color": "#B6E880",
          "dash": "solid"
         },
         "marker": {
          "symbol": "circle"
         },
         "mode": "lines",
         "name": "IL",
         "orientation": "v",
         "showlegend": true,
         "type": "scatter",
         "visible": "legendonly",
         "x": [
          1944,
          1945,
          1946,
          1947,
          1953,
          1954,
          1959,
          1960,
          1963
         ],
         "xaxis": "x",
         "y": [
          0.7288321167883212,
          0.0710453216374269,
          0.12159371036067301,
          0.12508567747526944,
          0.017341040462427744,
          0.014476190476190476,
          0.012671232876712329,
          0.008344058344058344,
          0.00819672131147541
         ],
         "yaxis": "y"
        },
        {
         "hovertemplate": "State=IN<br>Year=%{x}<br>MexicanPercent=%{y}<extra></extra>",
         "legendgroup": "IN",
         "line": {
          "color": "#FF97FF",
          "dash": "solid"
         },
         "marker": {
          "symbol": "circle"
         },
         "mode": "lines",
         "name": "IN",
         "orientation": "v",
         "showlegend": true,
         "type": "scatter",
         "visible": "legendonly",
         "x": [
          1944,
          1945,
          1946,
          1947,
          1952,
          1953,
          1954,
          1955,
          1956,
          1957,
          1958,
          1959,
          1960,
          1961,
          1962,
          1964
         ],
         "xaxis": "x",
         "y": [
          0.019169329073482427,
          0.03027845714037262,
          0.01750421822272216,
          0.024021572163227145,
          0.09968847352024922,
          0.1188953488372093,
          0.014357142857142857,
          0.02247262286324786,
          0.03678634167764602,
          0.03740629921259842,
          0.02407294832826748,
          0.029491155215187144,
          0.06340090090090089,
          0.046839799749687105,
          0.05260615559988601,
          0.021060910889777535
         ],
         "yaxis": "y"
        },
        {
         "hovertemplate": "State=KS<br>Year=%{x}<br>MexicanPercent=%{y}<extra></extra>",
         "legendgroup": "KS",
         "line": {
          "color": "#FECB52",
          "dash": "solid"
         },
         "marker": {
          "symbol": "circle"
         },
         "mode": "lines",
         "name": "KS",
         "orientation": "v",
         "showlegend": true,
         "type": "scatter",
         "visible": true,
         "x": [
          1943,
          1944,
          1945,
          1946,
          1947,
          1956,
          1958,
          1959,
          1960,
          1961,
          1962,
          1963,
          1964
         ],
         "xaxis": "x",
         "y": [
          0.01707359128215739,
          0.09233321377331422,
          0.05650009520147245,
          0.06792826667325767,
          0.03311646094977629,
          0.0028268551236749115,
          0.004666666666666666,
          0.006985373781148429,
          0.009172252228801978,
          0.024051696848631714,
          0.03154216936196914,
          0.017588732394366195,
          0.020253164556962026
         ],
         "yaxis": "y"
        },
        {
         "hovertemplate": "State=KY<br>Year=%{x}<br>MexicanPercent=%{y}<extra></extra>",
         "legendgroup": "KY",
         "line": {
          "color": "#636efa",
          "dash": "solid"
         },
         "marker": {
          "symbol": "circle"
         },
         "mode": "lines",
         "name": "KY",
         "orientation": "v",
         "showlegend": true,
         "type": "scatter",
         "visible": "legendonly",
         "x": [
          1956,
          1957,
          1958,
          1959,
          1960,
          1961
         ],
         "xaxis": "x",
         "y": [
          0.060348583877995646,
          0.04799329169558177,
          0.02587601078167116,
          0.05236700186521774,
          0.040046165301563665,
          0.02384937238493724
         ],
         "yaxis": "y"
        },
        {
         "hovertemplate": "State=LA<br>Year=%{x}<br>MexicanPercent=%{y}<extra></extra>",
         "legendgroup": "LA",
         "line": {
          "color": "#EF553B",
          "dash": "solid"
         },
         "marker": {
          "symbol": "circle"
         },
         "mode": "lines",
         "name": "LA",
         "orientation": "v",
         "showlegend": true,
         "type": "scatter",
         "visible": "legendonly",
         "x": [
          1953
         ],
         "xaxis": "x",
         "y": [
          0.04651646880562543
         ],
         "yaxis": "y"
        },
        {
         "hovertemplate": "State=MI<br>Year=%{x}<br>MexicanPercent=%{y}<extra></extra>",
         "legendgroup": "MI",
         "line": {
          "color": "#00cc96",
          "dash": "solid"
         },
         "marker": {
          "symbol": "circle"
         },
         "mode": "lines",
         "name": "MI",
         "orientation": "v",
         "showlegend": true,
         "type": "scatter",
         "visible": "legendonly",
         "x": [
          1944,
          1945,
          1946,
          1947,
          1948,
          1951,
          1952,
          1953,
          1954,
          1955,
          1956,
          1957,
          1958,
          1959,
          1960,
          1961,
          1962,
          1963,
          1964
         ],
         "xaxis": "x",
         "y": [
          0.7006389776357828,
          1.1219493902041349,
          0.4245695954395328,
          0.026163424914199568,
          0.3270609318996416,
          0.3948565981432361,
          0.46319555251627287,
          0.017341040462427744,
          0.7532142857142857,
          0.5538227831196582,
          1.2846561264822134,
          0.8989275590551182,
          0.5773837942026836,
          0.8362676626038184,
          0.643983268983269,
          0.31925192949520237,
          0.1173867198632089,
          0.10617523260965883,
          0.03404659596135218
         ],
         "yaxis": "y"
        },
        {
         "hovertemplate": "State=MN<br>Year=%{x}<br>MexicanPercent=%{y}<extra></extra>",
         "legendgroup": "MN",
         "line": {
          "color": "#ab63fa",
          "dash": "solid"
         },
         "marker": {
          "symbol": "circle"
         },
         "mode": "lines",
         "name": "MN",
         "orientation": "v",
         "showlegend": true,
         "type": "scatter",
         "visible": "legendonly",
         "x": [
          1943,
          1944,
          1945,
          1946,
          1947,
          1954,
          1955,
          1956,
          1957,
          1958,
          1959,
          1960,
          1961,
          1962,
          1963,
          1964
         ],
         "xaxis": "x",
         "y": [
          0.027777777777777776,
          0.18943640036245563,
          0.26685278243414606,
          0.4763253307202352,
          0.37733293749325275,
          0.05111853667187979,
          0.040877006443678664,
          0.06508163762641647,
          0.09280462666055887,
          0.04265548455804047,
          0.017172264355362947,
          0.027124140474176266,
          0.013991769547325101,
          0.013978494623655913,
          0.015200000000000002,
          0.007106598984771574
         ],
         "yaxis": "y"
        },
        {
         "hovertemplate": "State=MO<br>Year=%{x}<br>MexicanPercent=%{y}<extra></extra>",
         "legendgroup": "MO",
         "line": {
          "color": "#FFA15A",
          "dash": "solid"
         },
         "marker": {
          "symbol": "circle"
         },
         "mode": "lines",
         "name": "MO",
         "orientation": "v",
         "showlegend": true,
         "type": "scatter",
         "visible": "legendonly",
         "x": [
          1954,
          1955,
          1956,
          1957,
          1958,
          1959,
          1960
         ],
         "xaxis": "x",
         "y": [
          0.6023668639053255,
          0.8565737051792829,
          0.48833922261484103,
          0.13175675675675674,
          0.21884984025559107,
          0.22231581798483208,
          0.19100127979870282
         ],
         "yaxis": "y"
        },
        {
         "hovertemplate": "State=MT<br>Year=%{x}<br>MexicanPercent=%{y}<extra></extra>",
         "legendgroup": "MT",
         "line": {
          "color": "#19d3f3",
          "dash": "solid"
         },
         "marker": {
          "symbol": "circle"
         },
         "mode": "lines",
         "name": "MT",
         "orientation": "v",
         "showlegend": true,
         "type": "scatter",
         "visible": "legendonly",
         "x": [
          1943,
          1944,
          1945,
          1946,
          1947,
          1954,
          1955,
          1956,
          1957,
          1958,
          1959,
          1960,
          1961,
          1962,
          1963,
          1964
         ],
         "xaxis": "x",
         "y": [
          0.8843011583011583,
          1.2724800129635758,
          1.3337934207499422,
          0.6566134974877736,
          0.3194921636098107,
          0.369529465509365,
          0.03165536987261891,
          0.31301775147928995,
          0.6543010752688172,
          0.28186813186813187,
          0.09893048128342245,
          0.23535911602209944,
          0.014124293785310734,
          0.545664739884393,
          0.20299401197604788,
          0.1616883116883117
         ],
         "yaxis": "y"
        },
        {
         "hovertemplate": "State=NC<br>Year=%{x}<br>MexicanPercent=%{y}<extra></extra>",
         "legendgroup": "NC",
         "line": {
          "color": "#FF6692",
          "dash": "solid"
         },
         "marker": {
          "symbol": "circle"
         },
         "mode": "lines",
         "name": "NC",
         "orientation": "v",
         "showlegend": true,
         "type": "scatter",
         "visible": "legendonly",
         "x": [
          1947
         ],
         "xaxis": "x",
         "y": [
          0.0658008658008658
         ],
         "yaxis": "y"
        },
        {
         "hovertemplate": "State=ND<br>Year=%{x}<br>MexicanPercent=%{y}<extra></extra>",
         "legendgroup": "ND",
         "line": {
          "color": "#B6E880",
          "dash": "solid"
         },
         "marker": {
          "symbol": "circle"
         },
         "mode": "lines",
         "name": "ND",
         "orientation": "v",
         "showlegend": true,
         "type": "scatter",
         "visible": "legendonly",
         "x": [
          1943,
          1944,
          1945,
          1946,
          1947,
          1957,
          1959
         ],
         "xaxis": "x",
         "y": [
          0.05864197530864197,
          0.37796807747489247,
          0.44854737486606455,
          0.14846153846153845,
          0.0004885841850229587,
          0.0576271186440678,
          0.01267605633802817
         ],
         "yaxis": "y"
        },
        {
         "hovertemplate": "State=NE<br>Year=%{x}<br>MexicanPercent=%{y}<extra></extra>",
         "legendgroup": "NE",
         "line": {
          "color": "#FF97FF",
          "dash": "solid"
         },
         "marker": {
          "symbol": "circle"
         },
         "mode": "lines",
         "name": "NE",
         "orientation": "v",
         "showlegend": true,
         "type": "scatter",
         "visible": "legendonly",
         "x": [
          1943,
          1944,
          1945,
          1946,
          1947,
          1954,
          1955,
          1956,
          1957,
          1958,
          1959,
          1960,
          1961,
          1962,
          1963,
          1964
         ],
         "xaxis": "x",
         "y": [
          0.06744258224705152,
          0.1517027571313437,
          0.3786161688189666,
          0.27504313886536014,
          0.16498150589858326,
          0.016855440723602535,
          0.029178708135976592,
          0.024584359605911328,
          0.11254237288135593,
          0.04166666666666667,
          0.022535211267605635,
          0.029476584022038566,
          0.014058355437665782,
          0.14084880636604777,
          0.014394366197183098,
          0.06265822784810127
         ],
         "yaxis": "y"
        },
        {
         "hovertemplate": "State=NH<br>Year=%{x}<br>MexicanPercent=%{y}<extra></extra>",
         "legendgroup": "NH",
         "line": {
          "color": "#FECB52",
          "dash": "solid"
         },
         "marker": {
          "symbol": "circle"
         },
         "mode": "lines",
         "name": "NH",
         "orientation": "v",
         "showlegend": true,
         "type": "scatter",
         "visible": "legendonly",
         "x": [
          1956
         ],
         "xaxis": "x",
         "y": [
          0.09518072289156626
         ],
         "yaxis": "y"
        },
        {
         "hovertemplate": "State=NM<br>Year=%{x}<br>MexicanPercent=%{y}<extra></extra>",
         "legendgroup": "NM",
         "line": {
          "color": "#636efa",
          "dash": "solid"
         },
         "marker": {
          "symbol": "circle"
         },
         "mode": "lines",
         "name": "NM",
         "orientation": "v",
         "showlegend": true,
         "type": "scatter",
         "visible": "legendonly",
         "x": [
          1946,
          1948,
          1953,
          1954,
          1955,
          1956,
          1957,
          1958,
          1959,
          1960,
          1961,
          1962,
          1963,
          1964
         ],
         "xaxis": "x",
         "y": [
          0.008985557884928955,
          3.8513089005235606,
          4.961194029850747,
          4.648641805070712,
          5.198394088180482,
          4.756732840503948,
          5.135288694532789,
          6.817015706806283,
          6.6069475590822835,
          4.501258263341104,
          3.47783769902414,
          1.1153943688234196,
          0.43237770081802707,
          0.2192799847211612
         ],
         "yaxis": "y"
        },
        {
         "hovertemplate": "State=NV<br>Year=%{x}<br>MexicanPercent=%{y}<extra></extra>",
         "legendgroup": "NV",
         "line": {
          "color": "#EF553B",
          "dash": "solid"
         },
         "marker": {
          "symbol": "circle"
         },
         "mode": "lines",
         "name": "NV",
         "orientation": "v",
         "showlegend": true,
         "type": "scatter",
         "visible": "legendonly",
         "x": [
          1943,
          1944,
          1945,
          1946,
          1947,
          1956,
          1957,
          1958,
          1959,
          1960,
          1961,
          1962,
          1963
         ],
         "xaxis": "x",
         "y": [
          0.20352123552123552,
          0.22212034412899945,
          0.3493184955141477,
          0.1940950314222311,
          0.09858390520155226,
          0.005917159763313609,
          0.007318643041041951,
          0.01021949254933548,
          0.017667184175723077,
          0.032274135343148214,
          0.013682588597842835,
          0.017341040462427744,
          0.023952095808383235
         ],
         "yaxis": "y"
        },
        {
         "hovertemplate": "State=NY<br>Year=%{x}<br>MexicanPercent=%{y}<extra></extra>",
         "legendgroup": "NY",
         "line": {
          "color": "#00cc96",
          "dash": "solid"
         },
         "marker": {
          "symbol": "circle"
         },
         "mode": "lines",
         "name": "NY",
         "orientation": "v",
         "showlegend": true,
         "type": "scatter",
         "visible": "legendonly",
         "x": [
          1947
         ],
         "xaxis": "x",
         "y": [
          0.06724738675958188
         ],
         "yaxis": "y"
        },
        {
         "hovertemplate": "State=OH<br>Year=%{x}<br>MexicanPercent=%{y}<extra></extra>",
         "legendgroup": "OH",
         "line": {
          "color": "#ab63fa",
          "dash": "solid"
         },
         "marker": {
          "symbol": "circle"
         },
         "mode": "lines",
         "name": "OH",
         "orientation": "v",
         "showlegend": true,
         "type": "scatter",
         "visible": "legendonly",
         "x": [
          1945,
          1956
         ],
         "xaxis": "x",
         "y": [
          0.000625,
          0.016956521739130436
         ],
         "yaxis": "y"
        },
        {
         "hovertemplate": "State=OR<br>Year=%{x}<br>MexicanPercent=%{y}<extra></extra>",
         "legendgroup": "OR",
         "line": {
          "color": "#FFA15A",
          "dash": "solid"
         },
         "marker": {
          "symbol": "circle"
         },
         "mode": "lines",
         "name": "OR",
         "orientation": "v",
         "showlegend": true,
         "type": "scatter",
         "visible": "legendonly",
         "x": [
          1943,
          1944,
          1945,
          1946,
          1947,
          1953,
          1955,
          1956,
          1957,
          1962
         ],
         "xaxis": "x",
         "y": [
          0.5396243980738362,
          0.5906817620471434,
          0.6164177297797988,
          0.22204276223590397,
          0.15003037158874877,
          0.06476266810103794,
          0.14979166666666668,
          0.056254724111866966,
          0.02774278215223097,
          0.06
         ],
         "yaxis": "y"
        },
        {
         "hovertemplate": "State=SD<br>Year=%{x}<br>MexicanPercent=%{y}<extra></extra>",
         "legendgroup": "SD",
         "line": {
          "color": "#19d3f3",
          "dash": "solid"
         },
         "marker": {
          "symbol": "circle"
         },
         "mode": "lines",
         "name": "SD",
         "orientation": "v",
         "showlegend": true,
         "type": "scatter",
         "visible": "legendonly",
         "x": [
          1943,
          1944,
          1945,
          1946,
          1947,
          1954,
          1955,
          1956,
          1957,
          1958,
          1961,
          1962,
          1963,
          1964
         ],
         "xaxis": "x",
         "y": [
          0.03585764535485206,
          0.12623414256588386,
          0.19327031991428134,
          0.0752109008934606,
          0.04293260893385589,
          0.06049046321525886,
          0.03569131832797428,
          0.0696551724137931,
          0.10033898305084746,
          0.019666666666666666,
          0.012466843501326258,
          0.01856763925729443,
          0.013802816901408449,
          0.015822784810126583
         ],
         "yaxis": "y"
        },
        {
         "hovertemplate": "State=TN<br>Year=%{x}<br>MexicanPercent=%{y}<extra></extra>",
         "legendgroup": "TN",
         "line": {
          "color": "#FF6692",
          "dash": "solid"
         },
         "marker": {
          "symbol": "circle"
         },
         "mode": "lines",
         "name": "TN",
         "orientation": "v",
         "showlegend": true,
         "type": "scatter",
         "visible": "legendonly",
         "x": [
          1954,
          1955,
          1956,
          1957,
          1958,
          1959,
          1960,
          1961,
          1962
         ],
         "xaxis": "x",
         "y": [
          0.16268980477223427,
          0.17575757575757575,
          0.11993214588634435,
          0.18557767122999602,
          0.11522546805565675,
          0.15522767820939098,
          0.18238222884090344,
          0.11670954078206519,
          0.07432432432432433
         ],
         "yaxis": "y"
        },
        {
         "hovertemplate": "State=TX<br>Year=%{x}<br>MexicanPercent=%{y}<extra></extra>",
         "legendgroup": "TX",
         "line": {
          "color": "#B6E880",
          "dash": "solid"
         },
         "marker": {
          "symbol": "circle"
         },
         "mode": "lines",
         "name": "TX",
         "orientation": "v",
         "showlegend": true,
         "type": "scatter",
         "visible": "legendonly",
         "x": [
          1953,
          1954,
          1955,
          1956,
          1957,
          1958,
          1959,
          1960,
          1961,
          1962,
          1963,
          1964
         ],
         "xaxis": "x",
         "y": [
          8.80635593220339,
          9.696260249013058,
          15.977711556891988,
          19.31194031878583,
          18.026897962232365,
          18.301619142521332,
          18.079811936251666,
          13.500844955786395,
          11.836119955500997,
          3.56412049681363,
          2.6846016805995228,
          2.414496739226646
         ],
         "yaxis": "y"
        },
        {
         "hovertemplate": "State=UT<br>Year=%{x}<br>MexicanPercent=%{y}<extra></extra>",
         "legendgroup": "UT",
         "line": {
          "color": "#FF97FF",
          "dash": "solid"
         },
         "marker": {
          "symbol": "circle"
         },
         "mode": "lines",
         "name": "UT",
         "orientation": "v",
         "showlegend": true,
         "type": "scatter",
         "visible": "legendonly",
         "x": [
          1944,
          1945,
          1946,
          1947,
          1954,
          1955,
          1956,
          1957,
          1958,
          1959,
          1960,
          1961,
          1962,
          1963,
          1964
         ],
         "xaxis": "x",
         "y": [
          0.3654846292947559,
          0.39295203588681854,
          0.3276836468138853,
          0.32211258240670004,
          0.13573977843764276,
          0.17042187682599041,
          0.1752301117685733,
          0.2553839164016356,
          0.15553046430009781,
          0.17129693519636593,
          0.15791045252770414,
          0.10747303543913714,
          0.2361253030020511,
          0.24183673469387754,
          0.24036796536796534
         ],
         "yaxis": "y"
        },
        {
         "hovertemplate": "State=WA<br>Year=%{x}<br>MexicanPercent=%{y}<extra></extra>",
         "legendgroup": "WA",
         "line": {
          "color": "#FECB52",
          "dash": "solid"
         },
         "marker": {
          "symbol": "circle"
         },
         "mode": "lines",
         "name": "WA",
         "orientation": "v",
         "showlegend": true,
         "type": "scatter",
         "visible": "legendonly",
         "x": [
          1943,
          1944,
          1945,
          1946,
          1947,
          1953,
          1954,
          1955,
          1956,
          1957
         ],
         "xaxis": "x",
         "y": [
          0.5817544141252007,
          0.7669179943685694,
          0.8038945728600901,
          0.4687756482705348,
          0.1429644960416074,
          0.216381468878008,
          0.08160634464513776,
          0.1328782588454376,
          0.1265117157974301,
          0.15002537182852144
         ],
         "yaxis": "y"
        },
        {
         "hovertemplate": "State=WI<br>Year=%{x}<br>MexicanPercent=%{y}<extra></extra>",
         "legendgroup": "WI",
         "line": {
          "color": "#636efa",
          "dash": "solid"
         },
         "marker": {
          "symbol": "circle"
         },
         "mode": "lines",
         "name": "WI",
         "orientation": "v",
         "showlegend": true,
         "type": "scatter",
         "visible": "legendonly",
         "x": [
          1944,
          1945,
          1946,
          1947,
          1954,
          1955,
          1956,
          1957,
          1958,
          1959,
          1960,
          1961,
          1962,
          1963,
          1964
         ],
         "xaxis": "x",
         "y": [
          0.12885193908724143,
          0.18036677427770167,
          0.21761043666084295,
          0.27893295464135187,
          0.078,
          0.050587606837606845,
          0.1695098814229249,
          0.17136062992125986,
          0.05470976351100897,
          0.06167754287563369,
          0.05327649077649078,
          0.045530871923237376,
          0.05290681105728127,
          0.016767279574656624,
          0.019580984078885276
         ],
         "yaxis": "y"
        },
        {
         "hovertemplate": "State=WY<br>Year=%{x}<br>MexicanPercent=%{y}<extra></extra>",
         "legendgroup": "WY",
         "line": {
          "color": "#EF553B",
          "dash": "solid"
         },
         "marker": {
          "symbol": "circle"
         },
         "mode": "lines",
         "name": "WY",
         "orientation": "v",
         "showlegend": true,
         "type": "scatter",
         "visible": "legendonly",
         "x": [
          1943,
          1944,
          1945,
          1946,
          1947,
          1954,
          1955,
          1956,
          1957,
          1958,
          1959,
          1960,
          1961,
          1962,
          1963,
          1964
         ],
         "xaxis": "x",
         "y": [
          0.21474131274131272,
          0.2781776412142976,
          0.2155638946399816,
          0.28217748930822595,
          0.09841360981066863,
          0.24545454545454545,
          0.2552325581395349,
          0.2046844181459566,
          0.2736483416628805,
          0.047960416546803976,
          0.2374331550802139,
          0.04806629834254144,
          0.08361581920903954,
          0.07052023121387282,
          0.06826347305389222,
          0.2532467532467532
         ],
         "yaxis": "y"
        }
       ],
       "layout": {
        "autosize": true,
        "legend": {
         "title": {
          "text": "State"
         },
         "tracegroupgap": 0
        },
        "margin": {
         "t": 60
        },
        "template": {
         "data": {
          "bar": [
           {
            "error_x": {
             "color": "#2a3f5f"
            },
            "error_y": {
             "color": "#2a3f5f"
            },
            "marker": {
             "line": {
              "color": "#E5ECF6",
              "width": 0.5
             },
             "pattern": {
              "fillmode": "overlay",
              "size": 10,
              "solidity": 0.2
             }
            },
            "type": "bar"
           }
          ],
          "barpolar": [
           {
            "marker": {
             "line": {
              "color": "#E5ECF6",
              "width": 0.5
             },
             "pattern": {
              "fillmode": "overlay",
              "size": 10,
              "solidity": 0.2
             }
            },
            "type": "barpolar"
           }
          ],
          "carpet": [
           {
            "aaxis": {
             "endlinecolor": "#2a3f5f",
             "gridcolor": "white",
             "linecolor": "white",
             "minorgridcolor": "white",
             "startlinecolor": "#2a3f5f"
            },
            "baxis": {
             "endlinecolor": "#2a3f5f",
             "gridcolor": "white",
             "linecolor": "white",
             "minorgridcolor": "white",
             "startlinecolor": "#2a3f5f"
            },
            "type": "carpet"
           }
          ],
          "choropleth": [
           {
            "colorbar": {
             "outlinewidth": 0,
             "ticks": ""
            },
            "type": "choropleth"
           }
          ],
          "contour": [
           {
            "colorbar": {
             "outlinewidth": 0,
             "ticks": ""
            },
            "colorscale": [
             [
              0,
              "#0d0887"
             ],
             [
              0.1111111111111111,
              "#46039f"
             ],
             [
              0.2222222222222222,
              "#7201a8"
             ],
             [
              0.3333333333333333,
              "#9c179e"
             ],
             [
              0.4444444444444444,
              "#bd3786"
             ],
             [
              0.5555555555555556,
              "#d8576b"
             ],
             [
              0.6666666666666666,
              "#ed7953"
             ],
             [
              0.7777777777777778,
              "#fb9f3a"
             ],
             [
              0.8888888888888888,
              "#fdca26"
             ],
             [
              1,
              "#f0f921"
             ]
            ],
            "type": "contour"
           }
          ],
          "contourcarpet": [
           {
            "colorbar": {
             "outlinewidth": 0,
             "ticks": ""
            },
            "type": "contourcarpet"
           }
          ],
          "heatmap": [
           {
            "colorbar": {
             "outlinewidth": 0,
             "ticks": ""
            },
            "colorscale": [
             [
              0,
              "#0d0887"
             ],
             [
              0.1111111111111111,
              "#46039f"
             ],
             [
              0.2222222222222222,
              "#7201a8"
             ],
             [
              0.3333333333333333,
              "#9c179e"
             ],
             [
              0.4444444444444444,
              "#bd3786"
             ],
             [
              0.5555555555555556,
              "#d8576b"
             ],
             [
              0.6666666666666666,
              "#ed7953"
             ],
             [
              0.7777777777777778,
              "#fb9f3a"
             ],
             [
              0.8888888888888888,
              "#fdca26"
             ],
             [
              1,
              "#f0f921"
             ]
            ],
            "type": "heatmap"
           }
          ],
          "heatmapgl": [
           {
            "colorbar": {
             "outlinewidth": 0,
             "ticks": ""
            },
            "colorscale": [
             [
              0,
              "#0d0887"
             ],
             [
              0.1111111111111111,
              "#46039f"
             ],
             [
              0.2222222222222222,
              "#7201a8"
             ],
             [
              0.3333333333333333,
              "#9c179e"
             ],
             [
              0.4444444444444444,
              "#bd3786"
             ],
             [
              0.5555555555555556,
              "#d8576b"
             ],
             [
              0.6666666666666666,
              "#ed7953"
             ],
             [
              0.7777777777777778,
              "#fb9f3a"
             ],
             [
              0.8888888888888888,
              "#fdca26"
             ],
             [
              1,
              "#f0f921"
             ]
            ],
            "type": "heatmapgl"
           }
          ],
          "histogram": [
           {
            "marker": {
             "pattern": {
              "fillmode": "overlay",
              "size": 10,
              "solidity": 0.2
             }
            },
            "type": "histogram"
           }
          ],
          "histogram2d": [
           {
            "colorbar": {
             "outlinewidth": 0,
             "ticks": ""
            },
            "colorscale": [
             [
              0,
              "#0d0887"
             ],
             [
              0.1111111111111111,
              "#46039f"
             ],
             [
              0.2222222222222222,
              "#7201a8"
             ],
             [
              0.3333333333333333,
              "#9c179e"
             ],
             [
              0.4444444444444444,
              "#bd3786"
             ],
             [
              0.5555555555555556,
              "#d8576b"
             ],
             [
              0.6666666666666666,
              "#ed7953"
             ],
             [
              0.7777777777777778,
              "#fb9f3a"
             ],
             [
              0.8888888888888888,
              "#fdca26"
             ],
             [
              1,
              "#f0f921"
             ]
            ],
            "type": "histogram2d"
           }
          ],
          "histogram2dcontour": [
           {
            "colorbar": {
             "outlinewidth": 0,
             "ticks": ""
            },
            "colorscale": [
             [
              0,
              "#0d0887"
             ],
             [
              0.1111111111111111,
              "#46039f"
             ],
             [
              0.2222222222222222,
              "#7201a8"
             ],
             [
              0.3333333333333333,
              "#9c179e"
             ],
             [
              0.4444444444444444,
              "#bd3786"
             ],
             [
              0.5555555555555556,
              "#d8576b"
             ],
             [
              0.6666666666666666,
              "#ed7953"
             ],
             [
              0.7777777777777778,
              "#fb9f3a"
             ],
             [
              0.8888888888888888,
              "#fdca26"
             ],
             [
              1,
              "#f0f921"
             ]
            ],
            "type": "histogram2dcontour"
           }
          ],
          "mesh3d": [
           {
            "colorbar": {
             "outlinewidth": 0,
             "ticks": ""
            },
            "type": "mesh3d"
           }
          ],
          "parcoords": [
           {
            "line": {
             "colorbar": {
              "outlinewidth": 0,
              "ticks": ""
             }
            },
            "type": "parcoords"
           }
          ],
          "pie": [
           {
            "automargin": true,
            "type": "pie"
           }
          ],
          "scatter": [
           {
            "fillpattern": {
             "fillmode": "overlay",
             "size": 10,
             "solidity": 0.2
            },
            "type": "scatter"
           }
          ],
          "scatter3d": [
           {
            "line": {
             "colorbar": {
              "outlinewidth": 0,
              "ticks": ""
             }
            },
            "marker": {
             "colorbar": {
              "outlinewidth": 0,
              "ticks": ""
             }
            },
            "type": "scatter3d"
           }
          ],
          "scattercarpet": [
           {
            "marker": {
             "colorbar": {
              "outlinewidth": 0,
              "ticks": ""
             }
            },
            "type": "scattercarpet"
           }
          ],
          "scattergeo": [
           {
            "marker": {
             "colorbar": {
              "outlinewidth": 0,
              "ticks": ""
             }
            },
            "type": "scattergeo"
           }
          ],
          "scattergl": [
           {
            "marker": {
             "colorbar": {
              "outlinewidth": 0,
              "ticks": ""
             }
            },
            "type": "scattergl"
           }
          ],
          "scattermapbox": [
           {
            "marker": {
             "colorbar": {
              "outlinewidth": 0,
              "ticks": ""
             }
            },
            "type": "scattermapbox"
           }
          ],
          "scatterpolar": [
           {
            "marker": {
             "colorbar": {
              "outlinewidth": 0,
              "ticks": ""
             }
            },
            "type": "scatterpolar"
           }
          ],
          "scatterpolargl": [
           {
            "marker": {
             "colorbar": {
              "outlinewidth": 0,
              "ticks": ""
             }
            },
            "type": "scatterpolargl"
           }
          ],
          "scatterternary": [
           {
            "marker": {
             "colorbar": {
              "outlinewidth": 0,
              "ticks": ""
             }
            },
            "type": "scatterternary"
           }
          ],
          "surface": [
           {
            "colorbar": {
             "outlinewidth": 0,
             "ticks": ""
            },
            "colorscale": [
             [
              0,
              "#0d0887"
             ],
             [
              0.1111111111111111,
              "#46039f"
             ],
             [
              0.2222222222222222,
              "#7201a8"
             ],
             [
              0.3333333333333333,
              "#9c179e"
             ],
             [
              0.4444444444444444,
              "#bd3786"
             ],
             [
              0.5555555555555556,
              "#d8576b"
             ],
             [
              0.6666666666666666,
              "#ed7953"
             ],
             [
              0.7777777777777778,
              "#fb9f3a"
             ],
             [
              0.8888888888888888,
              "#fdca26"
             ],
             [
              1,
              "#f0f921"
             ]
            ],
            "type": "surface"
           }
          ],
          "table": [
           {
            "cells": {
             "fill": {
              "color": "#EBF0F8"
             },
             "line": {
              "color": "white"
             }
            },
            "header": {
             "fill": {
              "color": "#C8D4E3"
             },
             "line": {
              "color": "white"
             }
            },
            "type": "table"
           }
          ]
         },
         "layout": {
          "annotationdefaults": {
           "arrowcolor": "#2a3f5f",
           "arrowhead": 0,
           "arrowwidth": 1
          },
          "autotypenumbers": "strict",
          "coloraxis": {
           "colorbar": {
            "outlinewidth": 0,
            "ticks": ""
           }
          },
          "colorscale": {
           "diverging": [
            [
             0,
             "#8e0152"
            ],
            [
             0.1,
             "#c51b7d"
            ],
            [
             0.2,
             "#de77ae"
            ],
            [
             0.3,
             "#f1b6da"
            ],
            [
             0.4,
             "#fde0ef"
            ],
            [
             0.5,
             "#f7f7f7"
            ],
            [
             0.6,
             "#e6f5d0"
            ],
            [
             0.7,
             "#b8e186"
            ],
            [
             0.8,
             "#7fbc41"
            ],
            [
             0.9,
             "#4d9221"
            ],
            [
             1,
             "#276419"
            ]
           ],
           "sequential": [
            [
             0,
             "#0d0887"
            ],
            [
             0.1111111111111111,
             "#46039f"
            ],
            [
             0.2222222222222222,
             "#7201a8"
            ],
            [
             0.3333333333333333,
             "#9c179e"
            ],
            [
             0.4444444444444444,
             "#bd3786"
            ],
            [
             0.5555555555555556,
             "#d8576b"
            ],
            [
             0.6666666666666666,
             "#ed7953"
            ],
            [
             0.7777777777777778,
             "#fb9f3a"
            ],
            [
             0.8888888888888888,
             "#fdca26"
            ],
            [
             1,
             "#f0f921"
            ]
           ],
           "sequentialminus": [
            [
             0,
             "#0d0887"
            ],
            [
             0.1111111111111111,
             "#46039f"
            ],
            [
             0.2222222222222222,
             "#7201a8"
            ],
            [
             0.3333333333333333,
             "#9c179e"
            ],
            [
             0.4444444444444444,
             "#bd3786"
            ],
            [
             0.5555555555555556,
             "#d8576b"
            ],
            [
             0.6666666666666666,
             "#ed7953"
            ],
            [
             0.7777777777777778,
             "#fb9f3a"
            ],
            [
             0.8888888888888888,
             "#fdca26"
            ],
            [
             1,
             "#f0f921"
            ]
           ]
          },
          "colorway": [
           "#636efa",
           "#EF553B",
           "#00cc96",
           "#ab63fa",
           "#FFA15A",
           "#19d3f3",
           "#FF6692",
           "#B6E880",
           "#FF97FF",
           "#FECB52"
          ],
          "font": {
           "color": "#2a3f5f"
          },
          "geo": {
           "bgcolor": "white",
           "lakecolor": "white",
           "landcolor": "#E5ECF6",
           "showlakes": true,
           "showland": true,
           "subunitcolor": "white"
          },
          "hoverlabel": {
           "align": "left"
          },
          "hovermode": "closest",
          "mapbox": {
           "style": "light"
          },
          "paper_bgcolor": "white",
          "plot_bgcolor": "#E5ECF6",
          "polar": {
           "angularaxis": {
            "gridcolor": "white",
            "linecolor": "white",
            "ticks": ""
           },
           "bgcolor": "#E5ECF6",
           "radialaxis": {
            "gridcolor": "white",
            "linecolor": "white",
            "ticks": ""
           }
          },
          "scene": {
           "xaxis": {
            "backgroundcolor": "#E5ECF6",
            "gridcolor": "white",
            "gridwidth": 2,
            "linecolor": "white",
            "showbackground": true,
            "ticks": "",
            "zerolinecolor": "white"
           },
           "yaxis": {
            "backgroundcolor": "#E5ECF6",
            "gridcolor": "white",
            "gridwidth": 2,
            "linecolor": "white",
            "showbackground": true,
            "ticks": "",
            "zerolinecolor": "white"
           },
           "zaxis": {
            "backgroundcolor": "#E5ECF6",
            "gridcolor": "white",
            "gridwidth": 2,
            "linecolor": "white",
            "showbackground": true,
            "ticks": "",
            "zerolinecolor": "white"
           }
          },
          "shapedefaults": {
           "line": {
            "color": "#2a3f5f"
           }
          },
          "ternary": {
           "aaxis": {
            "gridcolor": "white",
            "linecolor": "white",
            "ticks": ""
           },
           "baxis": {
            "gridcolor": "white",
            "linecolor": "white",
            "ticks": ""
           },
           "bgcolor": "#E5ECF6",
           "caxis": {
            "gridcolor": "white",
            "linecolor": "white",
            "ticks": ""
           }
          },
          "title": {
           "x": 0.05
          },
          "xaxis": {
           "automargin": true,
           "gridcolor": "white",
           "linecolor": "white",
           "ticks": "",
           "title": {
            "standoff": 15
           },
           "zerolinecolor": "white",
           "zerolinewidth": 2
          },
          "yaxis": {
           "automargin": true,
           "gridcolor": "white",
           "linecolor": "white",
           "ticks": "",
           "title": {
            "standoff": 15
           },
           "zerolinecolor": "white",
           "zerolinewidth": 2
          }
         }
        },
        "xaxis": {
         "anchor": "y",
         "autorange": true,
         "domain": [
          0,
          1
         ],
         "range": [
          1943,
          1964
         ],
         "title": {
          "text": "Year"
         },
         "type": "linear"
        },
        "yaxis": {
         "anchor": "x",
         "autorange": true,
         "domain": [
          0,
          1
         ],
         "range": [
          -0.002145720356860605,
          0.09730578925384974
         ],
         "title": {
          "text": "MexicanPercent"
         },
         "type": "linear"
        }
       }
      },
      "image/png": "[encoded data removed]",
      "text/html": [
       "<div>                            <div id=\"78001154-690e-4f54-ba0d-fb0e868ad732\" class=\"plotly-graph-div\" style=\"height:525px; width:100%;\"></div>            <script type=\"text/javascript\">                require([\"plotly\"], function(Plotly) {                    window.PLOTLYENV=window.PLOTLYENV || {};                                    if (document.getElementById(\"78001154-690e-4f54-ba0d-fb0e868ad732\")) {                    Plotly.newPlot(                        \"78001154-690e-4f54-ba0d-fb0e868ad732\",                        [{\"hovertemplate\":\"State=AR\\u003cbr\\u003eYear=%{x}\\u003cbr\\u003eMexicanPercent=%{y}\\u003cextra\\u003e\\u003c\\u002fextra\\u003e\",\"legendgroup\":\"AR\",\"line\":{\"color\":\"#636efa\",\"dash\":\"solid\"},\"marker\":{\"symbol\":\"circle\"},\"mode\":\"lines\",\"name\":\"AR\",\"orientation\":\"v\",\"showlegend\":true,\"x\":[1951,1952,1953,1954,1955,1956,1957,1958,1959,1960,1961,1962,1963,1964],\"xaxis\":\"x\",\"y\":[3.276267148607574,2.062252889294404,2.5115722965120555,2.0923580321894932,2.8289463155105947,3.3783437717466946,3.072424850281993,1.9552818232919413,3.251617394452447,3.3426275021037672,2.693822886297376,0.9253192872935363,0.8002503581611087,0.6469194342640521],\"yaxis\":\"y\",\"type\":\"scatter\"},{\"hovertemplate\":\"State=AZ\\u003cbr\\u003eYear=%{x}\\u003cbr\\u003eMexicanPercent=%{y}\\u003cextra\\u003e\\u003c\\u002fextra\\u003e\",\"legendgroup\":\"AZ\",\"line\":{\"color\":\"#EF553B\",\"dash\":\"solid\"},\"marker\":{\"symbol\":\"circle\"},\"mode\":\"lines\",\"name\":\"AZ\",\"orientation\":\"v\",\"showlegend\":true,\"x\":[1943,1944,1945,1946,1947,1948,1950,1951,1952,1953,1954,1955,1956,1957,1958,1959,1960,1961,1962,1963,1964],\"xaxis\":\"x\",\"y\":[0.7230888030888032,1.0376174702925673,1.4928930871865653,1.1787147739931225,0.9230585318820613,0.21204188481675396,1.220520203237778,3.305721585524319,5.234547125947762,5.633027386414399,4.828628568717502,5.018572203224865,5.770367430498762,6.0829274572164165,6.5180628272251315,5.033076016330286,4.912256890109539,4.172526964560863,2.242258064516129,4.411062141139412,4.5326012460615175],\"yaxis\":\"y\",\"type\":\"scatter\"},{\"hovertemplate\":\"State=CA\\u003cbr\\u003eYear=%{x}\\u003cbr\\u003eMexicanPercent=%{y}\\u003cextra\\u003e\\u003c\\u002fextra\\u003e\",\"legendgroup\":\"CA\",\"line\":{\"color\":\"#00cc96\",\"dash\":\"solid\"},\"marker\":{\"symbol\":\"circle\"},\"mode\":\"lines\",\"name\":\"CA\",\"orientation\":\"v\",\"showlegend\":true,\"x\":[1943,1944,1945,1946,1947,1948,1949,1950,1951,1952,1953,1954,1955,1956,1957,1958,1959,1960,1961,1962,1963,1964,1965,1966,1967],\"xaxis\":\"x\",\"y\":[6.498564205457464,8.914585413805309,9.900590238305755,7.0644077348555925,4.797680889831411,2.925857628659305,2.782779502148701,3.4964785132765095,8.227209424872026,10.521262336411617,11.100969701804422,9.146242767488882,14.128347521503946,17.418703730507175,18.46804355638341,15.85833322782406,13.482039207096705,14.01186737844769,11.91477121150612,12.723524844720497,9.280126523432074,9.481736821708306,1.8692408141210375,1.3930817610062893,1.9897959183673468],\"yaxis\":\"y\",\"type\":\"scatter\"},{\"hovertemplate\":\"State=CO\\u003cbr\\u003eYear=%{x}\\u003cbr\\u003eMexicanPercent=%{y}\\u003cextra\\u003e\\u003c\\u002fextra\\u003e\",\"legendgroup\":\"CO\",\"line\":{\"color\":\"#ab63fa\",\"dash\":\"solid\"},\"marker\":{\"symbol\":\"circle\"},\"mode\":\"lines\",\"name\":\"CO\",\"orientation\":\"v\",\"showlegend\":true,\"x\":[1943,1944,1945,1946,1947,1949,1950,1953,1954,1955,1956,1957,1958,1959,1960,1961,1962,1963,1964],\"xaxis\":\"x\",\"y\":[0.39436293436293435,1.0882742756213466,0.7999482401656315,0.5712186499969052,0.18349575261339968,0.4105263157894737,1.288888888888889,0.18756756756756757,0.17915714938328003,0.5796511627906977,0.2726002629848784,0.60310086324398,0.4227705540532765,0.6349836122132138,0.838436112796602,1.1044735490498203,1.1474603766548575,1.0353680394313414,1.1603896103896103],\"yaxis\":\"y\",\"type\":\"scatter\"},{\"hovertemplate\":\"State=GA\\u003cbr\\u003eYear=%{x}\\u003cbr\\u003eMexicanPercent=%{y}\\u003cextra\\u003e\\u003c\\u002fextra\\u003e\",\"legendgroup\":\"GA\",\"line\":{\"color\":\"#FFA15A\",\"dash\":\"solid\"},\"marker\":{\"symbol\":\"circle\"},\"mode\":\"lines\",\"name\":\"GA\",\"orientation\":\"v\",\"showlegend\":true,\"x\":[1954,1955,1956,1957,1959,1960,1961],\"xaxis\":\"x\",\"y\":[0.0014028056112224449,0.04285714285714286,0.04039735099337748,0.1505567928730512,0.12321041214750543,0.006024096385542168,0.18023255813953487],\"yaxis\":\"y\",\"type\":\"scatter\"},{\"hovertemplate\":\"State=IA\\u003cbr\\u003eYear=%{x}\\u003cbr\\u003eMexicanPercent=%{y}\\u003cextra\\u003e\\u003c\\u002fextra\\u003e\",\"legendgroup\":\"IA\",\"line\":{\"color\":\"#19d3f3\",\"dash\":\"solid\"},\"marker\":{\"symbol\":\"circle\"},\"mode\":\"lines\",\"name\":\"IA\",\"orientation\":\"v\",\"showlegend\":true,\"x\":[1944,1945,1946,1947,1953,1956,1957,1959,1960,1961,1962],\"xaxis\":\"x\",\"y\":[0.18050196330136678,0.2693808357569264,0.21315391072167847,0.056942675159235664,0.027480916030534354,0.01413793103448276,0.01152542372881356,0.011267605633802818,0.01349862258953168,0.04668435013262599,0.031034482758620693],\"yaxis\":\"y\",\"type\":\"scatter\"},{\"hovertemplate\":\"State=ID\\u003cbr\\u003eYear=%{x}\\u003cbr\\u003eMexicanPercent=%{y}\\u003cextra\\u003e\\u003c\\u002fextra\\u003e\",\"legendgroup\":\"ID\",\"line\":{\"color\":\"#FF6692\",\"dash\":\"solid\"},\"marker\":{\"symbol\":\"circle\"},\"mode\":\"lines\",\"name\":\"ID\",\"orientation\":\"v\",\"showlegend\":true,\"x\":[1943,1944,1945,1946,1947,1954,1955,1956,1957],\"xaxis\":\"x\",\"y\":[0.6593667953667953,0.8947761433636182,1.612275707384403,1.0347318058764912,1.480175235077196,0.1155964481498401,0.09712808227182423,0.19644970414201182,0.03644555505073451],\"yaxis\":\"y\",\"type\":\"scatter\"},{\"hovertemplate\":\"State=IL\\u003cbr\\u003eYear=%{x}\\u003cbr\\u003eMexicanPercent=%{y}\\u003cextra\\u003e\\u003c\\u002fextra\\u003e\",\"legendgroup\":\"IL\",\"line\":{\"color\":\"#B6E880\",\"dash\":\"solid\"},\"marker\":{\"symbol\":\"circle\"},\"mode\":\"lines\",\"name\":\"IL\",\"orientation\":\"v\",\"showlegend\":true,\"x\":[1944,1945,1946,1947,1953,1954,1959,1960,1963],\"xaxis\":\"x\",\"y\":[0.7288321167883212,0.0710453216374269,0.12159371036067301,0.12508567747526944,0.017341040462427744,0.014476190476190476,0.012671232876712329,0.008344058344058344,0.00819672131147541],\"yaxis\":\"y\",\"type\":\"scatter\"},{\"hovertemplate\":\"State=IN\\u003cbr\\u003eYear=%{x}\\u003cbr\\u003eMexicanPercent=%{y}\\u003cextra\\u003e\\u003c\\u002fextra\\u003e\",\"legendgroup\":\"IN\",\"line\":{\"color\":\"#FF97FF\",\"dash\":\"solid\"},\"marker\":{\"symbol\":\"circle\"},\"mode\":\"lines\",\"name\":\"IN\",\"orientation\":\"v\",\"showlegend\":true,\"x\":[1944,1945,1946,1947,1952,1953,1954,1955,1956,1957,1958,1959,1960,1961,1962,1964],\"xaxis\":\"x\",\"y\":[0.019169329073482427,0.03027845714037262,0.01750421822272216,0.024021572163227145,0.09968847352024922,0.1188953488372093,0.014357142857142857,0.02247262286324786,0.03678634167764602,0.03740629921259842,0.02407294832826748,0.029491155215187144,0.06340090090090089,0.046839799749687105,0.05260615559988601,0.021060910889777535],\"yaxis\":\"y\",\"type\":\"scatter\"},{\"hovertemplate\":\"State=KS\\u003cbr\\u003eYear=%{x}\\u003cbr\\u003eMexicanPercent=%{y}\\u003cextra\\u003e\\u003c\\u002fextra\\u003e\",\"legendgroup\":\"KS\",\"line\":{\"color\":\"#FECB52\",\"dash\":\"solid\"},\"marker\":{\"symbol\":\"circle\"},\"mode\":\"lines\",\"name\":\"KS\",\"orientation\":\"v\",\"showlegend\":true,\"x\":[1943,1944,1945,1946,1947,1956,1958,1959,1960,1961,1962,1963,1964],\"xaxis\":\"x\",\"y\":[0.01707359128215739,0.09233321377331422,0.05650009520147245,0.06792826667325767,0.03311646094977629,0.0028268551236749115,0.004666666666666666,0.006985373781148429,0.009172252228801978,0.024051696848631714,0.03154216936196914,0.017588732394366195,0.020253164556962026],\"yaxis\":\"y\",\"type\":\"scatter\"},{\"hovertemplate\":\"State=KY\\u003cbr\\u003eYear=%{x}\\u003cbr\\u003eMexicanPercent=%{y}\\u003cextra\\u003e\\u003c\\u002fextra\\u003e\",\"legendgroup\":\"KY\",\"line\":{\"color\":\"#636efa\",\"dash\":\"solid\"},\"marker\":{\"symbol\":\"circle\"},\"mode\":\"lines\",\"name\":\"KY\",\"orientation\":\"v\",\"showlegend\":true,\"x\":[1956,1957,1958,1959,1960,1961],\"xaxis\":\"x\",\"y\":[0.060348583877995646,0.04799329169558177,0.02587601078167116,0.05236700186521774,0.040046165301563665,0.02384937238493724],\"yaxis\":\"y\",\"type\":\"scatter\"},{\"hovertemplate\":\"State=LA\\u003cbr\\u003eYear=%{x}\\u003cbr\\u003eMexicanPercent=%{y}\\u003cextra\\u003e\\u003c\\u002fextra\\u003e\",\"legendgroup\":\"LA\",\"line\":{\"color\":\"#EF553B\",\"dash\":\"solid\"},\"marker\":{\"symbol\":\"circle\"},\"mode\":\"lines\",\"name\":\"LA\",\"orientation\":\"v\",\"showlegend\":true,\"x\":[1953],\"xaxis\":\"x\",\"y\":[0.04651646880562543],\"yaxis\":\"y\",\"type\":\"scatter\"},{\"hovertemplate\":\"State=MI\\u003cbr\\u003eYear=%{x}\\u003cbr\\u003eMexicanPercent=%{y}\\u003cextra\\u003e\\u003c\\u002fextra\\u003e\",\"legendgroup\":\"MI\",\"line\":{\"color\":\"#00cc96\",\"dash\":\"solid\"},\"marker\":{\"symbol\":\"circle\"},\"mode\":\"lines\",\"name\":\"MI\",\"orientation\":\"v\",\"showlegend\":true,\"x\":[1944,1945,1946,1947,1948,1951,1952,1953,1954,1955,1956,1957,1958,1959,1960,1961,1962,1963,1964],\"xaxis\":\"x\",\"y\":[0.7006389776357828,1.1219493902041349,0.4245695954395328,0.026163424914199568,0.3270609318996416,0.3948565981432361,0.46319555251627287,0.017341040462427744,0.7532142857142857,0.5538227831196582,1.2846561264822134,0.8989275590551182,0.5773837942026836,0.8362676626038184,0.643983268983269,0.31925192949520237,0.1173867198632089,0.10617523260965883,0.03404659596135218],\"yaxis\":\"y\",\"type\":\"scatter\"},{\"hovertemplate\":\"State=MN\\u003cbr\\u003eYear=%{x}\\u003cbr\\u003eMexicanPercent=%{y}\\u003cextra\\u003e\\u003c\\u002fextra\\u003e\",\"legendgroup\":\"MN\",\"line\":{\"color\":\"#ab63fa\",\"dash\":\"solid\"},\"marker\":{\"symbol\":\"circle\"},\"mode\":\"lines\",\"name\":\"MN\",\"orientation\":\"v\",\"showlegend\":true,\"x\":[1943,1944,1945,1946,1947,1954,1955,1956,1957,1958,1959,1960,1961,1962,1963,1964],\"xaxis\":\"x\",\"y\":[0.027777777777777776,0.18943640036245563,0.26685278243414606,0.4763253307202352,0.37733293749325275,0.05111853667187979,0.040877006443678664,0.06508163762641647,0.09280462666055887,0.04265548455804047,0.017172264355362947,0.027124140474176266,0.013991769547325101,0.013978494623655913,0.015200000000000002,0.007106598984771574],\"yaxis\":\"y\",\"type\":\"scatter\"},{\"hovertemplate\":\"State=MO\\u003cbr\\u003eYear=%{x}\\u003cbr\\u003eMexicanPercent=%{y}\\u003cextra\\u003e\\u003c\\u002fextra\\u003e\",\"legendgroup\":\"MO\",\"line\":{\"color\":\"#FFA15A\",\"dash\":\"solid\"},\"marker\":{\"symbol\":\"circle\"},\"mode\":\"lines\",\"name\":\"MO\",\"orientation\":\"v\",\"showlegend\":true,\"x\":[1954,1955,1956,1957,1958,1959,1960],\"xaxis\":\"x\",\"y\":[0.6023668639053255,0.8565737051792829,0.48833922261484103,0.13175675675675674,0.21884984025559107,0.22231581798483208,0.19100127979870282],\"yaxis\":\"y\",\"type\":\"scatter\"},{\"hovertemplate\":\"State=MT\\u003cbr\\u003eYear=%{x}\\u003cbr\\u003eMexicanPercent=%{y}\\u003cextra\\u003e\\u003c\\u002fextra\\u003e\",\"legendgroup\":\"MT\",\"line\":{\"color\":\"#19d3f3\",\"dash\":\"solid\"},\"marker\":{\"symbol\":\"circle\"},\"mode\":\"lines\",\"name\":\"MT\",\"orientation\":\"v\",\"showlegend\":true,\"x\":[1943,1944,1945,1946,1947,1954,1955,1956,1957,1958,1959,1960,1961,1962,1963,1964],\"xaxis\":\"x\",\"y\":[0.8843011583011583,1.2724800129635758,1.3337934207499422,0.6566134974877736,0.3194921636098107,0.369529465509365,0.03165536987261891,0.31301775147928995,0.6543010752688172,0.28186813186813187,0.09893048128342245,0.23535911602209944,0.014124293785310734,0.545664739884393,0.20299401197604788,0.1616883116883117],\"yaxis\":\"y\",\"type\":\"scatter\"},{\"hovertemplate\":\"State=NC\\u003cbr\\u003eYear=%{x}\\u003cbr\\u003eMexicanPercent=%{y}\\u003cextra\\u003e\\u003c\\u002fextra\\u003e\",\"legendgroup\":\"NC\",\"line\":{\"color\":\"#FF6692\",\"dash\":\"solid\"},\"marker\":{\"symbol\":\"circle\"},\"mode\":\"lines\",\"name\":\"NC\",\"orientation\":\"v\",\"showlegend\":true,\"x\":[1947],\"xaxis\":\"x\",\"y\":[0.0658008658008658],\"yaxis\":\"y\",\"type\":\"scatter\"},{\"hovertemplate\":\"State=ND\\u003cbr\\u003eYear=%{x}\\u003cbr\\u003eMexicanPercent=%{y}\\u003cextra\\u003e\\u003c\\u002fextra\\u003e\",\"legendgroup\":\"ND\",\"line\":{\"color\":\"#B6E880\",\"dash\":\"solid\"},\"marker\":{\"symbol\":\"circle\"},\"mode\":\"lines\",\"name\":\"ND\",\"orientation\":\"v\",\"showlegend\":true,\"x\":[1943,1944,1945,1946,1947,1957,1959],\"xaxis\":\"x\",\"y\":[0.05864197530864197,0.37796807747489247,0.44854737486606455,0.14846153846153845,0.0004885841850229587,0.0576271186440678,0.01267605633802817],\"yaxis\":\"y\",\"type\":\"scatter\"},{\"hovertemplate\":\"State=NE\\u003cbr\\u003eYear=%{x}\\u003cbr\\u003eMexicanPercent=%{y}\\u003cextra\\u003e\\u003c\\u002fextra\\u003e\",\"legendgroup\":\"NE\",\"line\":{\"color\":\"#FF97FF\",\"dash\":\"solid\"},\"marker\":{\"symbol\":\"circle\"},\"mode\":\"lines\",\"name\":\"NE\",\"orientation\":\"v\",\"showlegend\":true,\"x\":[1943,1944,1945,1946,1947,1954,1955,1956,1957,1958,1959,1960,1961,1962,1963,1964],\"xaxis\":\"x\",\"y\":[0.06744258224705152,0.1517027571313437,0.3786161688189666,0.27504313886536014,0.16498150589858326,0.016855440723602535,0.029178708135976592,0.024584359605911328,0.11254237288135593,0.04166666666666667,0.022535211267605635,0.029476584022038566,0.014058355437665782,0.14084880636604777,0.014394366197183098,0.06265822784810127],\"yaxis\":\"y\",\"type\":\"scatter\"},{\"hovertemplate\":\"State=NH\\u003cbr\\u003eYear=%{x}\\u003cbr\\u003eMexicanPercent=%{y}\\u003cextra\\u003e\\u003c\\u002fextra\\u003e\",\"legendgroup\":\"NH\",\"line\":{\"color\":\"#FECB52\",\"dash\":\"solid\"},\"marker\":{\"symbol\":\"circle\"},\"mode\":\"lines\",\"name\":\"NH\",\"orientation\":\"v\",\"showlegend\":true,\"x\":[1956],\"xaxis\":\"x\",\"y\":[0.09518072289156626],\"yaxis\":\"y\",\"type\":\"scatter\"},{\"hovertemplate\":\"State=NM\\u003cbr\\u003eYear=%{x}\\u003cbr\\u003eMexicanPercent=%{y}\\u003cextra\\u003e\\u003c\\u002fextra\\u003e\",\"legendgroup\":\"NM\",\"line\":{\"color\":\"#636efa\",\"dash\":\"solid\"},\"marker\":{\"symbol\":\"circle\"},\"mode\":\"lines\",\"name\":\"NM\",\"orientation\":\"v\",\"showlegend\":true,\"x\":[1946,1948,1953,1954,1955,1956,1957,1958,1959,1960,1961,1962,1963,1964],\"xaxis\":\"x\",\"y\":[0.008985557884928955,3.8513089005235606,4.961194029850747,4.648641805070712,5.198394088180482,4.756732840503948,5.135288694532789,6.817015706806283,6.6069475590822835,4.501258263341104,3.47783769902414,1.1153943688234196,0.43237770081802707,0.2192799847211612],\"yaxis\":\"y\",\"type\":\"scatter\"},{\"hovertemplate\":\"State=NV\\u003cbr\\u003eYear=%{x}\\u003cbr\\u003eMexicanPercent=%{y}\\u003cextra\\u003e\\u003c\\u002fextra\\u003e\",\"legendgroup\":\"NV\",\"line\":{\"color\":\"#EF553B\",\"dash\":\"solid\"},\"marker\":{\"symbol\":\"circle\"},\"mode\":\"lines\",\"name\":\"NV\",\"orientation\":\"v\",\"showlegend\":true,\"x\":[1943,1944,1945,1946,1947,1956,1957,1958,1959,1960,1961,1962,1963],\"xaxis\":\"x\",\"y\":[0.20352123552123552,0.22212034412899945,0.3493184955141477,0.1940950314222311,0.09858390520155226,0.005917159763313609,0.007318643041041951,0.01021949254933548,0.017667184175723077,0.032274135343148214,0.013682588597842835,0.017341040462427744,0.023952095808383235],\"yaxis\":\"y\",\"type\":\"scatter\"},{\"hovertemplate\":\"State=NY\\u003cbr\\u003eYear=%{x}\\u003cbr\\u003eMexicanPercent=%{y}\\u003cextra\\u003e\\u003c\\u002fextra\\u003e\",\"legendgroup\":\"NY\",\"line\":{\"color\":\"#00cc96\",\"dash\":\"solid\"},\"marker\":{\"symbol\":\"circle\"},\"mode\":\"lines\",\"name\":\"NY\",\"orientation\":\"v\",\"showlegend\":true,\"x\":[1947],\"xaxis\":\"x\",\"y\":[0.06724738675958188],\"yaxis\":\"y\",\"type\":\"scatter\"},{\"hovertemplate\":\"State=OH\\u003cbr\\u003eYear=%{x}\\u003cbr\\u003eMexicanPercent=%{y}\\u003cextra\\u003e\\u003c\\u002fextra\\u003e\",\"legendgroup\":\"OH\",\"line\":{\"color\":\"#ab63fa\",\"dash\":\"solid\"},\"marker\":{\"symbol\":\"circle\"},\"mode\":\"lines\",\"name\":\"OH\",\"orientation\":\"v\",\"showlegend\":true,\"x\":[1945,1956],\"xaxis\":\"x\",\"y\":[0.000625,0.016956521739130436],\"yaxis\":\"y\",\"type\":\"scatter\"},{\"hovertemplate\":\"State=OR\\u003cbr\\u003eYear=%{x}\\u003cbr\\u003eMexicanPercent=%{y}\\u003cextra\\u003e\\u003c\\u002fextra\\u003e\",\"legendgroup\":\"OR\",\"line\":{\"color\":\"#FFA15A\",\"dash\":\"solid\"},\"marker\":{\"symbol\":\"circle\"},\"mode\":\"lines\",\"name\":\"OR\",\"orientation\":\"v\",\"showlegend\":true,\"x\":[1943,1944,1945,1946,1947,1953,1955,1956,1957,1962],\"xaxis\":\"x\",\"y\":[0.5396243980738362,0.5906817620471434,0.6164177297797988,0.22204276223590397,0.15003037158874877,0.06476266810103794,0.14979166666666668,0.056254724111866966,0.02774278215223097,0.06],\"yaxis\":\"y\",\"type\":\"scatter\"},{\"hovertemplate\":\"State=SD\\u003cbr\\u003eYear=%{x}\\u003cbr\\u003eMexicanPercent=%{y}\\u003cextra\\u003e\\u003c\\u002fextra\\u003e\",\"legendgroup\":\"SD\",\"line\":{\"color\":\"#19d3f3\",\"dash\":\"solid\"},\"marker\":{\"symbol\":\"circle\"},\"mode\":\"lines\",\"name\":\"SD\",\"orientation\":\"v\",\"showlegend\":true,\"x\":[1943,1944,1945,1946,1947,1954,1955,1956,1957,1958,1961,1962,1963,1964],\"xaxis\":\"x\",\"y\":[0.03585764535485206,0.12623414256588386,0.19327031991428134,0.0752109008934606,0.04293260893385589,0.06049046321525886,0.03569131832797428,0.0696551724137931,0.10033898305084746,0.019666666666666666,0.012466843501326258,0.01856763925729443,0.013802816901408449,0.015822784810126583],\"yaxis\":\"y\",\"type\":\"scatter\"},{\"hovertemplate\":\"State=TN\\u003cbr\\u003eYear=%{x}\\u003cbr\\u003eMexicanPercent=%{y}\\u003cextra\\u003e\\u003c\\u002fextra\\u003e\",\"legendgroup\":\"TN\",\"line\":{\"color\":\"#FF6692\",\"dash\":\"solid\"},\"marker\":{\"symbol\":\"circle\"},\"mode\":\"lines\",\"name\":\"TN\",\"orientation\":\"v\",\"showlegend\":true,\"x\":[1954,1955,1956,1957,1958,1959,1960,1961,1962],\"xaxis\":\"x\",\"y\":[0.16268980477223427,0.17575757575757575,0.11993214588634435,0.18557767122999602,0.11522546805565675,0.15522767820939098,0.18238222884090344,0.11670954078206519,0.07432432432432433],\"yaxis\":\"y\",\"type\":\"scatter\"},{\"hovertemplate\":\"State=TX\\u003cbr\\u003eYear=%{x}\\u003cbr\\u003eMexicanPercent=%{y}\\u003cextra\\u003e\\u003c\\u002fextra\\u003e\",\"legendgroup\":\"TX\",\"line\":{\"color\":\"#B6E880\",\"dash\":\"solid\"},\"marker\":{\"symbol\":\"circle\"},\"mode\":\"lines\",\"name\":\"TX\",\"orientation\":\"v\",\"showlegend\":true,\"x\":[1953,1954,1955,1956,1957,1958,1959,1960,1961,1962,1963,1964],\"xaxis\":\"x\",\"y\":[8.80635593220339,9.696260249013058,15.977711556891988,19.31194031878583,18.026897962232365,18.301619142521332,18.079811936251666,13.500844955786395,11.836119955500997,3.56412049681363,2.6846016805995228,2.414496739226646],\"yaxis\":\"y\",\"type\":\"scatter\"},{\"hovertemplate\":\"State=UT\\u003cbr\\u003eYear=%{x}\\u003cbr\\u003eMexicanPercent=%{y}\\u003cextra\\u003e\\u003c\\u002fextra\\u003e\",\"legendgroup\":\"UT\",\"line\":{\"color\":\"#FF97FF\",\"dash\":\"solid\"},\"marker\":{\"symbol\":\"circle\"},\"mode\":\"lines\",\"name\":\"UT\",\"orientation\":\"v\",\"showlegend\":true,\"x\":[1944,1945,1946,1947,1954,1955,1956,1957,1958,1959,1960,1961,1962,1963,1964],\"xaxis\":\"x\",\"y\":[0.3654846292947559,0.39295203588681854,0.3276836468138853,0.32211258240670004,0.13573977843764276,0.17042187682599041,0.1752301117685733,0.2553839164016356,0.15553046430009781,0.17129693519636593,0.15791045252770414,0.10747303543913714,0.2361253030020511,0.24183673469387754,0.24036796536796534],\"yaxis\":\"y\",\"type\":\"scatter\"},{\"hovertemplate\":\"State=WA\\u003cbr\\u003eYear=%{x}\\u003cbr\\u003eMexicanPercent=%{y}\\u003cextra\\u003e\\u003c\\u002fextra\\u003e\",\"legendgroup\":\"WA\",\"line\":{\"color\":\"#FECB52\",\"dash\":\"solid\"},\"marker\":{\"symbol\":\"circle\"},\"mode\":\"lines\",\"name\":\"WA\",\"orientation\":\"v\",\"showlegend\":true,\"x\":[1943,1944,1945,1946,1947,1953,1954,1955,1956,1957],\"xaxis\":\"x\",\"y\":[0.5817544141252007,0.7669179943685694,0.8038945728600901,0.4687756482705348,0.1429644960416074,0.216381468878008,0.08160634464513776,0.1328782588454376,0.1265117157974301,0.15002537182852144],\"yaxis\":\"y\",\"type\":\"scatter\"},{\"hovertemplate\":\"State=WI\\u003cbr\\u003eYear=%{x}\\u003cbr\\u003eMexicanPercent=%{y}\\u003cextra\\u003e\\u003c\\u002fextra\\u003e\",\"legendgroup\":\"WI\",\"line\":{\"color\":\"#636efa\",\"dash\":\"solid\"},\"marker\":{\"symbol\":\"circle\"},\"mode\":\"lines\",\"name\":\"WI\",\"orientation\":\"v\",\"showlegend\":true,\"x\":[1944,1945,1946,1947,1954,1955,1956,1957,1958,1959,1960,1961,1962,1963,1964],\"xaxis\":\"x\",\"y\":[0.12885193908724143,0.18036677427770167,0.21761043666084295,0.27893295464135187,0.078,0.050587606837606845,0.1695098814229249,0.17136062992125986,0.05470976351100897,0.06167754287563369,0.05327649077649078,0.045530871923237376,0.05290681105728127,0.016767279574656624,0.019580984078885276],\"yaxis\":\"y\",\"type\":\"scatter\"},{\"hovertemplate\":\"State=WY\\u003cbr\\u003eYear=%{x}\\u003cbr\\u003eMexicanPercent=%{y}\\u003cextra\\u003e\\u003c\\u002fextra\\u003e\",\"legendgroup\":\"WY\",\"line\":{\"color\":\"#EF553B\",\"dash\":\"solid\"},\"marker\":{\"symbol\":\"circle\"},\"mode\":\"lines\",\"name\":\"WY\",\"orientation\":\"v\",\"showlegend\":true,\"x\":[1943,1944,1945,1946,1947,1954,1955,1956,1957,1958,1959,1960,1961,1962,1963,1964],\"xaxis\":\"x\",\"y\":[0.21474131274131272,0.2781776412142976,0.2155638946399816,0.28217748930822595,0.09841360981066863,0.24545454545454545,0.2552325581395349,0.2046844181459566,0.2736483416628805,0.047960416546803976,0.2374331550802139,0.04806629834254144,0.08361581920903954,0.07052023121387282,0.06826347305389222,0.2532467532467532],\"yaxis\":\"y\",\"type\":\"scatter\"}],                        {\"template\":{\"data\":{\"histogram2dcontour\":[{\"type\":\"histogram2dcontour\",\"colorbar\":{\"outlinewidth\":0,\"ticks\":\"\"},\"colorscale\":[[0.0,\"#0d0887\"],[0.1111111111111111,\"#46039f\"],[0.2222222222222222,\"#7201a8\"],[0.3333333333333333,\"#9c179e\"],[0.4444444444444444,\"#bd3786\"],[0.5555555555555556,\"#d8576b\"],[0.6666666666666666,\"#ed7953\"],[0.7777777777777778,\"#fb9f3a\"],[0.8888888888888888,\"#fdca26\"],[1.0,\"#f0f921\"]]}],\"choropleth\":[{\"type\":\"choropleth\",\"colorbar\":{\"outlinewidth\":0,\"ticks\":\"\"}}],\"histogram2d\":[{\"type\":\"histogram2d\",\"colorbar\":{\"outlinewidth\":0,\"ticks\":\"\"},\"colorscale\":[[0.0,\"#0d0887\"],[0.1111111111111111,\"#46039f\"],[0.2222222222222222,\"#7201a8\"],[0.3333333333333333,\"#9c179e\"],[0.4444444444444444,\"#bd3786\"],[0.5555555555555556,\"#d8576b\"],[0.6666666666666666,\"#ed7953\"],[0.7777777777777778,\"#fb9f3a\"],[0.8888888888888888,\"#fdca26\"],[1.0,\"#f0f921\"]]}],\"heatmap\":[{\"type\":\"heatmap\",\"colorbar\":{\"outlinewidth\":0,\"ticks\":\"\"},\"colorscale\":[[0.0,\"#0d0887\"],[0.1111111111111111,\"#46039f\"],[0.2222222222222222,\"#7201a8\"],[0.3333333333333333,\"#9c179e\"],[0.4444444444444444,\"#bd3786\"],[0.5555555555555556,\"#d8576b\"],[0.6666666666666666,\"#ed7953\"],[0.7777777777777778,\"#fb9f3a\"],[0.8888888888888888,\"#fdca26\"],[1.0,\"#f0f921\"]]}],\"heatmapgl\":[{\"type\":\"heatmapgl\",\"colorbar\":{\"outlinewidth\":0,\"ticks\":\"\"},\"colorscale\":[[0.0,\"#0d0887\"],[0.1111111111111111,\"#46039f\"],[0.2222222222222222,\"#7201a8\"],[0.3333333333333333,\"#9c179e\"],[0.4444444444444444,\"#bd3786\"],[0.5555555555555556,\"#d8576b\"],[0.6666666666666666,\"#ed7953\"],[0.7777777777777778,\"#fb9f3a\"],[0.8888888888888888,\"#fdca26\"],[1.0,\"#f0f921\"]]}],\"contourcarpet\":[{\"type\":\"contourcarpet\",\"colorbar\":{\"outlinewidth\":0,\"ticks\":\"\"}}],\"contour\":[{\"type\":\"contour\",\"colorbar\":{\"outlinewidth\":0,\"ticks\":\"\"},\"colorscale\":[[0.0,\"#0d0887\"],[0.1111111111111111,\"#46039f\"],[0.2222222222222222,\"#7201a8\"],[0.3333333333333333,\"#9c179e\"],[0.4444444444444444,\"#bd3786\"],[0.5555555555555556,\"#d8576b\"],[0.6666666666666666,\"#ed7953\"],[0.7777777777777778,\"#fb9f3a\"],[0.8888888888888888,\"#fdca26\"],[1.0,\"#f0f921\"]]}],\"surface\":[{\"type\":\"surface\",\"colorbar\":{\"outlinewidth\":0,\"ticks\":\"\"},\"colorscale\":[[0.0,\"#0d0887\"],[0.1111111111111111,\"#46039f\"],[0.2222222222222222,\"#7201a8\"],[0.3333333333333333,\"#9c179e\"],[0.4444444444444444,\"#bd3786\"],[0.5555555555555556,\"#d8576b\"],[0.6666666666666666,\"#ed7953\"],[0.7777777777777778,\"#fb9f3a\"],[0.8888888888888888,\"#fdca26\"],[1.0,\"#f0f921\"]]}],\"mesh3d\":[{\"type\":\"mesh3d\",\"colorbar\":{\"outlinewidth\":0,\"ticks\":\"\"}}],\"scatter\":[{\"fillpattern\":{\"fillmode\":\"overlay\",\"size\":10,\"solidity\":0.2},\"type\":\"scatter\"}],\"parcoords\":[{\"type\":\"parcoords\",\"line\":{\"colorbar\":{\"outlinewidth\":0,\"ticks\":\"\"}}}],\"scatterpolargl\":[{\"type\":\"scatterpolargl\",\"marker\":{\"colorbar\":{\"outlinewidth\":0,\"ticks\":\"\"}}}],\"bar\":[{\"error_x\":{\"color\":\"#2a3f5f\"},\"error_y\":{\"color\":\"#2a3f5f\"},\"marker\":{\"line\":{\"color\":\"#E5ECF6\",\"width\":0.5},\"pattern\":{\"fillmode\":\"overlay\",\"size\":10,\"solidity\":0.2}},\"type\":\"bar\"}],\"scattergeo\":[{\"type\":\"scattergeo\",\"marker\":{\"colorbar\":{\"outlinewidth\":0,\"ticks\":\"\"}}}],\"scatterpolar\":[{\"type\":\"scatterpolar\",\"marker\":{\"colorbar\":{\"outlinewidth\":0,\"ticks\":\"\"}}}],\"histogram\":[{\"marker\":{\"pattern\":{\"fillmode\":\"overlay\",\"size\":10,\"solidity\":0.2}},\"type\":\"histogram\"}],\"scattergl\":[{\"type\":\"scattergl\",\"marker\":{\"colorbar\":{\"outlinewidth\":0,\"ticks\":\"\"}}}],\"scatter3d\":[{\"type\":\"scatter3d\",\"line\":{\"colorbar\":{\"outlinewidth\":0,\"ticks\":\"\"}},\"marker\":{\"colorbar\":{\"outlinewidth\":0,\"ticks\":\"\"}}}],\"scattermapbox\":[{\"type\":\"scattermapbox\",\"marker\":{\"colorbar\":{\"outlinewidth\":0,\"ticks\":\"\"}}}],\"scatterternary\":[{\"type\":\"scatterternary\",\"marker\":{\"colorbar\":{\"outlinewidth\":0,\"ticks\":\"\"}}}],\"scattercarpet\":[{\"type\":\"scattercarpet\",\"marker\":{\"colorbar\":{\"outlinewidth\":0,\"ticks\":\"\"}}}],\"carpet\":[{\"aaxis\":{\"endlinecolor\":\"#2a3f5f\",\"gridcolor\":\"white\",\"linecolor\":\"white\",\"minorgridcolor\":\"white\",\"startlinecolor\":\"#2a3f5f\"},\"baxis\":{\"endlinecolor\":\"#2a3f5f\",\"gridcolor\":\"white\",\"linecolor\":\"white\",\"minorgridcolor\":\"white\",\"startlinecolor\":\"#2a3f5f\"},\"type\":\"carpet\"}],\"table\":[{\"cells\":{\"fill\":{\"color\":\"#EBF0F8\"},\"line\":{\"color\":\"white\"}},\"header\":{\"fill\":{\"color\":\"#C8D4E3\"},\"line\":{\"color\":\"white\"}},\"type\":\"table\"}],\"barpolar\":[{\"marker\":{\"line\":{\"color\":\"#E5ECF6\",\"width\":0.5},\"pattern\":{\"fillmode\":\"overlay\",\"size\":10,\"solidity\":0.2}},\"type\":\"barpolar\"}],\"pie\":[{\"automargin\":true,\"type\":\"pie\"}]},\"layout\":{\"autotypenumbers\":\"strict\",\"colorway\":[\"#636efa\",\"#EF553B\",\"#00cc96\",\"#ab63fa\",\"#FFA15A\",\"#19d3f3\",\"#FF6692\",\"#B6E880\",\"#FF97FF\",\"#FECB52\"],\"font\":{\"color\":\"#2a3f5f\"},\"hovermode\":\"closest\",\"hoverlabel\":{\"align\":\"left\"},\"paper_bgcolor\":\"white\",\"plot_bgcolor\":\"#E5ECF6\",\"polar\":{\"bgcolor\":\"#E5ECF6\",\"angularaxis\":{\"gridcolor\":\"white\",\"linecolor\":\"white\",\"ticks\":\"\"},\"radialaxis\":{\"gridcolor\":\"white\",\"linecolor\":\"white\",\"ticks\":\"\"}},\"ternary\":{\"bgcolor\":\"#E5ECF6\",\"aaxis\":{\"gridcolor\":\"white\",\"linecolor\":\"white\",\"ticks\":\"\"},\"baxis\":{\"gridcolor\":\"white\",\"linecolor\":\"white\",\"ticks\":\"\"},\"caxis\":{\"gridcolor\":\"white\",\"linecolor\":\"white\",\"ticks\":\"\"}},\"coloraxis\":{\"colorbar\":{\"outlinewidth\":0,\"ticks\":\"\"}},\"colorscale\":{\"sequential\":[[0.0,\"#0d0887\"],[0.1111111111111111,\"#46039f\"],[0.2222222222222222,\"#7201a8\"],[0.3333333333333333,\"#9c179e\"],[0.4444444444444444,\"#bd3786\"],[0.5555555555555556,\"#d8576b\"],[0.6666666666666666,\"#ed7953\"],[0.7777777777777778,\"#fb9f3a\"],[0.8888888888888888,\"#fdca26\"],[1.0,\"#f0f921\"]],\"sequentialminus\":[[0.0,\"#0d0887\"],[0.1111111111111111,\"#46039f\"],[0.2222222222222222,\"#7201a8\"],[0.3333333333333333,\"#9c179e\"],[0.4444444444444444,\"#bd3786\"],[0.5555555555555556,\"#d8576b\"],[0.6666666666666666,\"#ed7953\"],[0.7777777777777778,\"#fb9f3a\"],[0.8888888888888888,\"#fdca26\"],[1.0,\"#f0f921\"]],\"diverging\":[[0,\"#8e0152\"],[0.1,\"#c51b7d\"],[0.2,\"#de77ae\"],[0.3,\"#f1b6da\"],[0.4,\"#fde0ef\"],[0.5,\"#f7f7f7\"],[0.6,\"#e6f5d0\"],[0.7,\"#b8e186\"],[0.8,\"#7fbc41\"],[0.9,\"#4d9221\"],[1,\"#276419\"]]},\"xaxis\":{\"gridcolor\":\"white\",\"linecolor\":\"white\",\"ticks\":\"\",\"title\":{\"standoff\":15},\"zerolinecolor\":\"white\",\"automargin\":true,\"zerolinewidth\":2},\"yaxis\":{\"gridcolor\":\"white\",\"linecolor\":\"white\",\"ticks\":\"\",\"title\":{\"standoff\":15},\"zerolinecolor\":\"white\",\"automargin\":true,\"zerolinewidth\":2},\"scene\":{\"xaxis\":{\"backgroundcolor\":\"#E5ECF6\",\"gridcolor\":\"white\",\"linecolor\":\"white\",\"showbackground\":true,\"ticks\":\"\",\"zerolinecolor\":\"white\",\"gridwidth\":2},\"yaxis\":{\"backgroundcolor\":\"#E5ECF6\",\"gridcolor\":\"white\",\"linecolor\":\"white\",\"showbackground\":true,\"ticks\":\"\",\"zerolinecolor\":\"white\",\"gridwidth\":2},\"zaxis\":{\"backgroundcolor\":\"#E5ECF6\",\"gridcolor\":\"white\",\"linecolor\":\"white\",\"showbackground\":true,\"ticks\":\"\",\"zerolinecolor\":\"white\",\"gridwidth\":2}},\"shapedefaults\":{\"line\":{\"color\":\"#2a3f5f\"}},\"annotationdefaults\":{\"arrowcolor\":\"#2a3f5f\",\"arrowhead\":0,\"arrowwidth\":1},\"geo\":{\"bgcolor\":\"white\",\"landcolor\":\"#E5ECF6\",\"subunitcolor\":\"white\",\"showland\":true,\"showlakes\":true,\"lakecolor\":\"white\"},\"title\":{\"x\":0.05},\"mapbox\":{\"style\":\"light\"}}},\"xaxis\":{\"anchor\":\"y\",\"domain\":[0.0,1.0],\"title\":{\"text\":\"Year\"}},\"yaxis\":{\"anchor\":\"x\",\"domain\":[0.0,1.0],\"title\":{\"text\":\"MexicanPercent\"}},\"legend\":{\"title\":{\"text\":\"State\"},\"tracegroupgap\":0},\"margin\":{\"t\":60}},                        {\"responsive\": true}                    ).then(function(){\n",
       "                            \n",
       "var gd = document.getElementById('78001154-690e-4f54-ba0d-fb0e868ad732');\n",
       "var x = new MutationObserver(function (mutations, observer) {{\n",
       "        var display = window.getComputedStyle(gd).display;\n",
       "        if (!display || display === 'none') {{\n",
       "            console.log([gd, 'removed!']);\n",
       "            Plotly.purge(gd);\n",
       "            observer.disconnect();\n",
       "        }}\n",
       "}});\n",
       "\n",
       "// Listen for the removal of the full notebook cells\n",
       "var notebookContainer = gd.closest('#notebook-container');\n",
       "if (notebookContainer) {{\n",
       "    x.observe(notebookContainer, {childList: true});\n",
       "}}\n",
       "\n",
       "// Listen for the clearing of the current output cell\n",
       "var outputEl = gd.closest('.output');\n",
       "if (outputEl) {{\n",
       "    x.observe(outputEl, {childList: true});\n",
       "}}\n",
       "\n",
       "                        })                };                });            </script>        </div>"
      ]
     },
     "metadata": {},
     "output_type": "display_data"
    }
   ],
   "source": [
    "fig = px.line(mexican_year, x='Year', y='MexicanPercent', color='State')\n",
    "fig.show()"
   ]
  },
  {
   "cell_type": "code",
   "execution_count": 208,
   "id": "905b1055-eaaa-47e8-bce9-7d644223f2b1",
   "metadata": {},
   "outputs": [
    {
     "data": {
      "application/vnd.plotly.v1+json": {
       "config": {
        "plotlyServerURL": "https://plot.ly"
       },
       "data": [
        {
         "hovertemplate": "State=AR<br>Year=%{x}<br>MexicanPercentSeasonal=%{y}<extra></extra>",
         "legendgroup": "AR",
         "line": {
          "color": "#636efa",
          "dash": "solid"
         },
         "marker": {
          "symbol": "circle"
         },
         "mode": "lines",
         "name": "AR",
         "orientation": "v",
         "showlegend": true,
         "type": "scatter",
         "visible": true,
         "x": [
          1953,
          1954,
          1955,
          1956,
          1957,
          1958,
          1959,
          1960,
          1961,
          1962,
          1963,
          1964
         ],
         "xaxis": "x",
         "y": [
          12.214397146737275,
          8.628392995327356,
          9.153815137852174,
          15.315258238452396,
          12.613804076292004,
          6.320880339334072,
          17.877977034789712,
          17.609414183487054,
          13.22844365948487,
          7.20858316909338,
          6.544815074124932,
          4.539440114568023
         ],
         "yaxis": "y"
        },
        {
         "hovertemplate": "State=AZ<br>Year=%{x}<br>MexicanPercentSeasonal=%{y}<extra></extra>",
         "legendgroup": "AZ",
         "line": {
          "color": "#EF553B",
          "dash": "solid"
         },
         "marker": {
          "symbol": "circle"
         },
         "mode": "lines",
         "name": "AZ",
         "orientation": "v",
         "showlegend": true,
         "type": "scatter",
         "visible": true,
         "x": [
          1953,
          1954,
          1955,
          1956,
          1957,
          1958,
          1959,
          1960,
          1961,
          1962,
          1963,
          1964
         ],
         "xaxis": "x",
         "y": [
          22.949761249658877,
          24.635808673608388,
          26.902090294901644,
          30.65730996388448,
          30.624091183836587,
          34.72367869218823,
          36.58964400097904,
          35.34958385660787,
          34.19217546904704,
          25.880263350323904,
          22.741554539693187,
          19.562301455613017
         ],
         "yaxis": "y"
        },
        {
         "hovertemplate": "State=CA<br>Year=%{x}<br>MexicanPercentSeasonal=%{y}<extra></extra>",
         "legendgroup": "CA",
         "line": {
          "color": "#00cc96",
          "dash": "solid"
         },
         "marker": {
          "symbol": "circle"
         },
         "mode": "lines",
         "name": "CA",
         "orientation": "v",
         "showlegend": true,
         "type": "scatter",
         "visible": true,
         "x": [
          1953,
          1954,
          1955,
          1956,
          1957,
          1958,
          1959,
          1960,
          1961,
          1962,
          1963,
          1964,
          1965,
          1966,
          1967
         ],
         "xaxis": "x",
         "y": [
          15.726281895775182,
          17.78845182012701,
          23.091286882742487,
          27.96349031576456,
          28.82218138259966,
          26.159425651410483,
          25.426569679894833,
          25.29235487699046,
          22.198113367233947,
          22.990273278486924,
          19.34223650206519,
          18.656491722475725,
          3.434582629403861,
          1.7704610694069214,
          3.7864077669902914
         ],
         "yaxis": "y"
        },
        {
         "hovertemplate": "State=CO<br>Year=%{x}<br>MexicanPercentSeasonal=%{y}<extra></extra>",
         "legendgroup": "CO",
         "line": {
          "color": "#ab63fa",
          "dash": "solid"
         },
         "marker": {
          "symbol": "circle"
         },
         "mode": "lines",
         "name": "CO",
         "orientation": "v",
         "showlegend": true,
         "type": "scatter",
         "visible": true,
         "x": [
          1953,
          1954,
          1955,
          1956,
          1957,
          1958,
          1959,
          1960,
          1961,
          1962,
          1963,
          1964
         ],
         "xaxis": "x",
         "y": [
          3.9549564651609366,
          3.923852922697647,
          6.70506137603882,
          9.510719416306891,
          11.675578313851627,
          8.509029210005291,
          11.315507379072038,
          12.724121304989078,
          17.76121440616247,
          21.01083397511393,
          20.62885497950712,
          20.20518769169999
         ],
         "yaxis": "y"
        },
        {
         "hovertemplate": "State=DE<br>Year=%{x}<br>MexicanPercentSeasonal=%{y}<extra></extra>",
         "legendgroup": "DE",
         "line": {
          "color": "#FFA15A",
          "dash": "solid"
         },
         "marker": {
          "symbol": "circle"
         },
         "mode": "lines",
         "name": "DE",
         "orientation": "v",
         "showlegend": true,
         "type": "scatter",
         "visible": true,
         "x": [
          1957
         ],
         "xaxis": "x",
         "y": [
          4.417462147666166
         ],
         "yaxis": "y"
        },
        {
         "hovertemplate": "State=GA<br>Year=%{x}<br>MexicanPercentSeasonal=%{y}<extra></extra>",
         "legendgroup": "GA",
         "line": {
          "color": "#19d3f3",
          "dash": "solid"
         },
         "marker": {
          "symbol": "circle"
         },
         "mode": "lines",
         "name": "GA",
         "orientation": "v",
         "showlegend": true,
         "type": "scatter",
         "visible": true,
         "x": [
          1953,
          1954,
          1955,
          1956,
          1957,
          1958,
          1959,
          1960,
          1961
         ],
         "xaxis": "x",
         "y": [
          4.722813508023916,
          0.9110491200639418,
          0.8815396526620297,
          2.4241968431854763,
          2.8716505711155564,
          0.8085459066212358,
          1.599406027240856,
          1.1005496995308783,
          1.7521022372449249
         ],
         "yaxis": "y"
        },
        {
         "hovertemplate": "State=IA<br>Year=%{x}<br>MexicanPercentSeasonal=%{y}<extra></extra>",
         "legendgroup": "IA",
         "line": {
          "color": "#FF6692",
          "dash": "solid"
         },
         "marker": {
          "symbol": "circle"
         },
         "mode": "lines",
         "name": "IA",
         "orientation": "v",
         "showlegend": true,
         "type": "scatter",
         "visible": true,
         "x": [
          1953,
          1956,
          1957,
          1958,
          1959,
          1960,
          1961,
          1962
         ],
         "xaxis": "x",
         "y": [
          9.8334672021419,
          3.0536456773191287,
          7.2032490865718515,
          3.440187646598905,
          2.8378047489213016,
          1.565258201312389,
          2.3192224938549573,
          0.8287932009604144
         ],
         "yaxis": "y"
        },
        {
         "hovertemplate": "State=ID<br>Year=%{x}<br>MexicanPercentSeasonal=%{y}<extra></extra>",
         "legendgroup": "ID",
         "line": {
          "color": "#B6E880",
          "dash": "solid"
         },
         "marker": {
          "symbol": "circle"
         },
         "mode": "lines",
         "name": "ID",
         "orientation": "v",
         "showlegend": true,
         "type": "scatter",
         "visible": true,
         "x": [
          1953,
          1954,
          1955,
          1956,
          1957
         ],
         "xaxis": "x",
         "y": [
          2.079865986981751,
          1.239694006758231,
          1.4161426290292427,
          1.6293587982384063,
          0.9561571138755773
         ],
         "yaxis": "y"
        },
        {
         "hovertemplate": "State=IL<br>Year=%{x}<br>MexicanPercentSeasonal=%{y}<extra></extra>",
         "legendgroup": "IL",
         "line": {
          "color": "#FF97FF",
          "dash": "solid"
         },
         "marker": {
          "symbol": "circle"
         },
         "mode": "lines",
         "name": "IL",
         "orientation": "v",
         "showlegend": true,
         "type": "scatter",
         "visible": true,
         "x": [
          1953,
          1954,
          1955,
          1956,
          1957,
          1958,
          1959,
          1960,
          1961,
          1962,
          1963
         ],
         "xaxis": "x",
         "y": [
          40.122354551720754,
          9.81359211913094,
          2.017750373503087,
          1.927155925960782,
          2.3522866962520874,
          1.697308190284961,
          0.9584458408925376,
          1.9806698969291088,
          0.5950536314474903,
          1.3715256705910912,
          0.6380847639454432
         ],
         "yaxis": "y"
        },
        {
         "hovertemplate": "State=IN<br>Year=%{x}<br>MexicanPercentSeasonal=%{y}<extra></extra>",
         "legendgroup": "IN",
         "line": {
          "color": "#FECB52",
          "dash": "solid"
         },
         "marker": {
          "symbol": "circle"
         },
         "mode": "lines",
         "name": "IN",
         "orientation": "v",
         "showlegend": true,
         "type": "scatter",
         "visible": true,
         "x": [
          1953,
          1954,
          1955,
          1956,
          1957,
          1958,
          1959,
          1960,
          1961,
          1962,
          1963,
          1964
         ],
         "xaxis": "x",
         "y": [
          0.8959618349885493,
          1.3858836820700247,
          2.6003408319733676,
          2.069301303301226,
          2.5298674600772832,
          3.141289674958341,
          3.1487478259968813,
          6.401468610038805,
          4.9004589772662275,
          3.449055164023625,
          2.6196521878861425,
          2.1610479547025303
         ],
         "yaxis": "y"
        },
        {
         "hovertemplate": "State=KS<br>Year=%{x}<br>MexicanPercentSeasonal=%{y}<extra></extra>",
         "legendgroup": "KS",
         "line": {
          "color": "#636efa",
          "dash": "solid"
         },
         "marker": {
          "symbol": "circle"
         },
         "mode": "lines",
         "name": "KS",
         "orientation": "v",
         "showlegend": true,
         "type": "scatter",
         "visible": true,
         "x": [
          1956,
          1957,
          1958,
          1959,
          1960,
          1961,
          1962,
          1963,
          1964
         ],
         "xaxis": "x",
         "y": [
          0.2986730617308638,
          1.1585365853658536,
          0.13678832116788323,
          0.0570559246510015,
          0.07623580359289703,
          0.2418700914775956,
          0.4320642088385587,
          0.5153802588812262,
          1.1325233466742899
         ],
         "yaxis": "y"
        },
        {
         "hovertemplate": "State=KY<br>Year=%{x}<br>MexicanPercentSeasonal=%{y}<extra></extra>",
         "legendgroup": "KY",
         "line": {
          "color": "#EF553B",
          "dash": "solid"
         },
         "marker": {
          "symbol": "circle"
         },
         "mode": "lines",
         "name": "KY",
         "orientation": "v",
         "showlegend": true,
         "type": "scatter",
         "visible": true,
         "x": [
          1953,
          1956,
          1957,
          1958,
          1959,
          1960,
          1961
         ],
         "xaxis": "x",
         "y": [
          12.487012987012989,
          9.266809172172561,
          7.242160295928848,
          5.34984520123839,
          4.207834144846901,
          2.992712117645855,
          0.3374852887810893
         ],
         "yaxis": "y"
        },
        {
         "hovertemplate": "State=LA<br>Year=%{x}<br>MexicanPercentSeasonal=%{y}<extra></extra>",
         "legendgroup": "LA",
         "line": {
          "color": "#00cc96",
          "dash": "solid"
         },
         "marker": {
          "symbol": "circle"
         },
         "mode": "lines",
         "name": "LA",
         "orientation": "v",
         "showlegend": true,
         "type": "scatter",
         "visible": true,
         "x": [
          1953
         ],
         "xaxis": "x",
         "y": [
          1.4513873441239091
         ],
         "yaxis": "y"
        },
        {
         "hovertemplate": "State=MI<br>Year=%{x}<br>MexicanPercentSeasonal=%{y}<extra></extra>",
         "legendgroup": "MI",
         "line": {
          "color": "#ab63fa",
          "dash": "solid"
         },
         "marker": {
          "symbol": "circle"
         },
         "mode": "lines",
         "name": "MI",
         "orientation": "v",
         "showlegend": true,
         "type": "scatter",
         "visible": true,
         "x": [
          1953,
          1954,
          1955,
          1956,
          1957,
          1958,
          1959,
          1960,
          1961,
          1962,
          1963,
          1964
         ],
         "xaxis": "x",
         "y": [
          2.6730761652588666,
          4.4360676348006995,
          4.556482685614376,
          6.908910261699404,
          7.86337636209326,
          5.861328415733837,
          6.59350366075391,
          6.918680058791127,
          7.969326809922679,
          5.596922504803017,
          9.603450605200363,
          6.799544075212314
         ],
         "yaxis": "y"
        },
        {
         "hovertemplate": "State=MN<br>Year=%{x}<br>MexicanPercentSeasonal=%{y}<extra></extra>",
         "legendgroup": "MN",
         "line": {
          "color": "#FFA15A",
          "dash": "solid"
         },
         "marker": {
          "symbol": "circle"
         },
         "mode": "lines",
         "name": "MN",
         "orientation": "v",
         "showlegend": true,
         "type": "scatter",
         "visible": true,
         "x": [
          1953,
          1954,
          1955,
          1956,
          1957,
          1958,
          1959,
          1960,
          1961,
          1962,
          1963,
          1964
         ],
         "xaxis": "x",
         "y": [
          5.604010735107372,
          1.4928907817522923,
          1.1742934041914708,
          2.1200745581597467,
          2.212328319042579,
          1.2323490461445992,
          1.233928783856055,
          1.029319636009463,
          0.7754827838244593,
          0.6520062675221939,
          0.6583953495518277,
          0.2006593091586642
         ],
         "yaxis": "y"
        },
        {
         "hovertemplate": "State=MO<br>Year=%{x}<br>MexicanPercentSeasonal=%{y}<extra></extra>",
         "legendgroup": "MO",
         "line": {
          "color": "#19d3f3",
          "dash": "solid"
         },
         "marker": {
          "symbol": "circle"
         },
         "mode": "lines",
         "name": "MO",
         "orientation": "v",
         "showlegend": true,
         "type": "scatter",
         "visible": true,
         "x": [
          1953,
          1954,
          1955,
          1956,
          1957,
          1958,
          1959,
          1960
         ],
         "xaxis": "x",
         "y": [
          5.338827838827839,
          2.448942099682336,
          2.520730137917638,
          2.3530246865550715,
          0.5944639066479134,
          1.5846577370624841,
          1.7314198230413087,
          1.3258945560966584
         ],
         "yaxis": "y"
        },
        {
         "hovertemplate": "State=MT<br>Year=%{x}<br>MexicanPercentSeasonal=%{y}<extra></extra>",
         "legendgroup": "MT",
         "line": {
          "color": "#FF6692",
          "dash": "solid"
         },
         "marker": {
          "symbol": "circle"
         },
         "mode": "lines",
         "name": "MT",
         "orientation": "v",
         "showlegend": true,
         "type": "scatter",
         "visible": true,
         "x": [
          1953,
          1954,
          1955,
          1956,
          1957,
          1958,
          1959,
          1960,
          1961,
          1962,
          1963,
          1964
         ],
         "xaxis": "x",
         "y": [
          9.266244732669401,
          9.013936557446927,
          5.766403327960628,
          13.759148916813974,
          20.83705291900891,
          7.3891344779926085,
          10.568668573513012,
          9.214816783069471,
          7.985189158203767,
          9.851696522167762,
          11.14442148186341,
          9.851708966414128
         ],
         "yaxis": "y"
        },
        {
         "hovertemplate": "State=ND<br>Year=%{x}<br>MexicanPercentSeasonal=%{y}<extra></extra>",
         "legendgroup": "ND",
         "line": {
          "color": "#B6E880",
          "dash": "solid"
         },
         "marker": {
          "symbol": "circle"
         },
         "mode": "lines",
         "name": "ND",
         "orientation": "v",
         "showlegend": true,
         "type": "scatter",
         "visible": true,
         "x": [
          1953,
          1957,
          1958,
          1959,
          1960,
          1961
         ],
         "xaxis": "x",
         "y": [
          1.7497812773403325,
          1.7736045905059992,
          2.86569225457475,
          0.3602281316331566,
          0.6566946369937978,
          1.3027744270205066
         ],
         "yaxis": "y"
        },
        {
         "hovertemplate": "State=NE<br>Year=%{x}<br>MexicanPercentSeasonal=%{y}<extra></extra>",
         "legendgroup": "NE",
         "line": {
          "color": "#FF97FF",
          "dash": "solid"
         },
         "marker": {
          "symbol": "circle"
         },
         "mode": "lines",
         "name": "NE",
         "orientation": "v",
         "showlegend": true,
         "type": "scatter",
         "visible": true,
         "x": [
          1953,
          1954,
          1955,
          1956,
          1957,
          1958,
          1959,
          1960,
          1961,
          1962,
          1963,
          1964
         ],
         "xaxis": "x",
         "y": [
          13.066267315612128,
          21.313510995318804,
          32.28119754389272,
          48.22525327798307,
          18.622535783671392,
          19.171138450799468,
          13.68536751571736,
          19.264257408752588,
          23.193242025635616,
          13.014399204177801,
          14.033305376866851,
          12.001984679347766
         ],
         "yaxis": "y"
        },
        {
         "hovertemplate": "State=NH<br>Year=%{x}<br>MexicanPercentSeasonal=%{y}<extra></extra>",
         "legendgroup": "NH",
         "line": {
          "color": "#FECB52",
          "dash": "solid"
         },
         "marker": {
          "symbol": "circle"
         },
         "mode": "lines",
         "name": "NH",
         "orientation": "v",
         "showlegend": true,
         "type": "scatter",
         "visible": true,
         "x": [
          1956
         ],
         "xaxis": "x",
         "y": [
          5.180327868852459
         ],
         "yaxis": "y"
        },
        {
         "hovertemplate": "State=NM<br>Year=%{x}<br>MexicanPercentSeasonal=%{y}<extra></extra>",
         "legendgroup": "NM",
         "line": {
          "color": "#636efa",
          "dash": "solid"
         },
         "marker": {
          "symbol": "circle"
         },
         "mode": "lines",
         "name": "NM",
         "orientation": "v",
         "showlegend": true,
         "type": "scatter",
         "visible": true,
         "x": [
          1953,
          1954,
          1955,
          1956,
          1957,
          1958,
          1959,
          1960,
          1961,
          1962,
          1963,
          1964
         ],
         "xaxis": "x",
         "y": [
          43.38857607488183,
          52.50447500446921,
          60.92961438799021,
          72.09390743660671,
          69.26094961509055,
          72.79428039632222,
          75.71554645144116,
          70.45101274823989,
          66.26260351614062,
          38.189292564165974,
          20.29317069743136,
          16.969385029430466
         ],
         "yaxis": "y"
        },
        {
         "hovertemplate": "State=NV<br>Year=%{x}<br>MexicanPercentSeasonal=%{y}<extra></extra>",
         "legendgroup": "NV",
         "line": {
          "color": "#EF553B",
          "dash": "solid"
         },
         "marker": {
          "symbol": "circle"
         },
         "mode": "lines",
         "name": "NV",
         "orientation": "v",
         "showlegend": true,
         "type": "scatter",
         "visible": true,
         "x": [
          1953,
          1954,
          1955,
          1956,
          1957,
          1958,
          1959,
          1960,
          1961,
          1962,
          1963
         ],
         "xaxis": "x",
         "y": [
          41,
          30,
          53.75,
          8.356534768120566,
          13.069459065626889,
          8.500247353553004,
          11.1238505941239,
          10.133637039693893,
          4.203358615170406,
          15.142734756976951,
          25.008916718178234
         ],
         "yaxis": "y"
        },
        {
         "hovertemplate": "State=OH<br>Year=%{x}<br>MexicanPercentSeasonal=%{y}<extra></extra>",
         "legendgroup": "OH",
         "line": {
          "color": "#00cc96",
          "dash": "solid"
         },
         "marker": {
          "symbol": "circle"
         },
         "mode": "lines",
         "name": "OH",
         "orientation": "v",
         "showlegend": true,
         "type": "scatter",
         "visible": true,
         "x": [
          1956,
          1957
         ],
         "xaxis": "x",
         "y": [
          0.3500478662896802,
          0.36458926740344083
         ],
         "yaxis": "y"
        },
        {
         "hovertemplate": "State=OR<br>Year=%{x}<br>MexicanPercentSeasonal=%{y}<extra></extra>",
         "legendgroup": "OR",
         "line": {
          "color": "#ab63fa",
          "dash": "solid"
         },
         "marker": {
          "symbol": "circle"
         },
         "mode": "lines",
         "name": "OR",
         "orientation": "v",
         "showlegend": true,
         "type": "scatter",
         "visible": true,
         "x": [
          1953,
          1955,
          1956,
          1957,
          1958,
          1959,
          1960,
          1961,
          1962,
          1963,
          1964
         ],
         "xaxis": "x",
         "y": [
          0.5495010559985605,
          1.9514404929850502,
          0.8835968412239253,
          0.45840208626314605,
          0.7358651037236993,
          2.069164265129683,
          1.6811985163061804,
          2.4033514625900336,
          1.9056435352667687,
          0.39488418695114047,
          0.8952937233686025
         ],
         "yaxis": "y"
        },
        {
         "hovertemplate": "State=SD<br>Year=%{x}<br>MexicanPercentSeasonal=%{y}<extra></extra>",
         "legendgroup": "SD",
         "line": {
          "color": "#FFA15A",
          "dash": "solid"
         },
         "marker": {
          "symbol": "circle"
         },
         "mode": "lines",
         "name": "SD",
         "orientation": "v",
         "showlegend": true,
         "type": "scatter",
         "visible": true,
         "x": [
          1953,
          1954,
          1955,
          1956,
          1957,
          1958,
          1959,
          1960,
          1961,
          1962,
          1963,
          1964
         ],
         "xaxis": "x",
         "y": [
          39.361702127659576,
          22.52225196647189,
          21.197253274871812,
          33.432638199271764,
          51.1907110784261,
          55.02649899359223,
          23.52941176470588,
          31.071913161465396,
          26.424254645670253,
          37.984025004341035,
          11.929229822630838,
          16.19047619047619
         ],
         "yaxis": "y"
        },
        {
         "hovertemplate": "State=TN<br>Year=%{x}<br>MexicanPercentSeasonal=%{y}<extra></extra>",
         "legendgroup": "TN",
         "line": {
          "color": "#19d3f3",
          "dash": "solid"
         },
         "marker": {
          "symbol": "circle"
         },
         "mode": "lines",
         "name": "TN",
         "orientation": "v",
         "showlegend": true,
         "type": "scatter",
         "visible": true,
         "x": [
          1953,
          1954,
          1955,
          1956,
          1957,
          1958,
          1959,
          1960,
          1961,
          1962
         ],
         "xaxis": "x",
         "y": [
          4.3035138453078385,
          2.2954764088167274,
          1.374297109048099,
          1.253313367936185,
          1.790295656252494,
          0.9346977512382266,
          1.6350874154434922,
          1.587069904121151,
          1.211603150496764,
          0.6796499667763424
         ],
         "yaxis": "y"
        },
        {
         "hovertemplate": "State=TX<br>Year=%{x}<br>MexicanPercentSeasonal=%{y}<extra></extra>",
         "legendgroup": "TX",
         "line": {
          "color": "#FF6692",
          "dash": "solid"
         },
         "marker": {
          "symbol": "circle"
         },
         "mode": "lines",
         "name": "TX",
         "orientation": "v",
         "showlegend": true,
         "type": "scatter",
         "visible": true,
         "x": [
          1953,
          1954,
          1955,
          1956,
          1957,
          1958,
          1959,
          1960,
          1961,
          1962,
          1963,
          1964
         ],
         "xaxis": "x",
         "y": [
          20.37077237408594,
          18.918966012337137,
          24.115515386094234,
          24.425982238998056,
          24.90598651779333,
          30.785757846596255,
          31.372066803616868,
          25.32382793916375,
          24.421794190615902,
          10.30917965587495,
          6.781989807725908,
          5.657178262644553
         ],
         "yaxis": "y"
        },
        {
         "hovertemplate": "State=UT<br>Year=%{x}<br>MexicanPercentSeasonal=%{y}<extra></extra>",
         "legendgroup": "UT",
         "line": {
          "color": "#B6E880",
          "dash": "solid"
         },
         "marker": {
          "symbol": "circle"
         },
         "mode": "lines",
         "name": "UT",
         "orientation": "v",
         "showlegend": true,
         "type": "scatter",
         "visible": true,
         "x": [
          1953,
          1954,
          1955,
          1956,
          1957,
          1958,
          1959,
          1960,
          1961,
          1962,
          1963,
          1964
         ],
         "xaxis": "x",
         "y": [
          6.062151831522351,
          3.158313281043902,
          2.6016832599227713,
          4.211310599260009,
          5.9270337607460455,
          3.9112457050921225,
          4.124871674478874,
          4.08928413064664,
          3.6114705516696937,
          4.049338812079685,
          4.568432621093854,
          3.8290089310739344
         ],
         "yaxis": "y"
        },
        {
         "hovertemplate": "State=WA<br>Year=%{x}<br>MexicanPercentSeasonal=%{y}<extra></extra>",
         "legendgroup": "WA",
         "line": {
          "color": "#FF97FF",
          "dash": "solid"
         },
         "marker": {
          "symbol": "circle"
         },
         "mode": "lines",
         "name": "WA",
         "orientation": "v",
         "showlegend": true,
         "type": "scatter",
         "visible": true,
         "x": [
          1953,
          1954,
          1955,
          1956,
          1957,
          1960
         ],
         "xaxis": "x",
         "y": [
          1.5329453257467338,
          0.36098835008055297,
          0.7142178479544842,
          0.6844287245265016,
          0.9311089407888641,
          0.24449913125129108
         ],
         "yaxis": "y"
        },
        {
         "hovertemplate": "State=WI<br>Year=%{x}<br>MexicanPercentSeasonal=%{y}<extra></extra>",
         "legendgroup": "WI",
         "line": {
          "color": "#FECB52",
          "dash": "solid"
         },
         "marker": {
          "symbol": "circle"
         },
         "mode": "lines",
         "name": "WI",
         "orientation": "v",
         "showlegend": true,
         "type": "scatter",
         "visible": true,
         "x": [
          1953,
          1954,
          1955,
          1956,
          1957,
          1958,
          1959,
          1960,
          1961,
          1962,
          1963,
          1964
         ],
         "xaxis": "x",
         "y": [
          1.547498869923359,
          0.8635974237009609,
          1.0510312401101882,
          2.05859405862294,
          2.505479351472254,
          2.009862200967045,
          2.8825480724111863,
          4.2466610149695345,
          5.598647798522457,
          3.4629815156738224,
          3.2580833988357476,
          4.33166692079531
         ],
         "yaxis": "y"
        },
        {
         "hovertemplate": "State=WY<br>Year=%{x}<br>MexicanPercentSeasonal=%{y}<extra></extra>",
         "legendgroup": "WY",
         "line": {
          "color": "#636efa",
          "dash": "solid"
         },
         "marker": {
          "symbol": "circle"
         },
         "mode": "lines",
         "name": "WY",
         "orientation": "v",
         "showlegend": true,
         "type": "scatter",
         "visible": true,
         "x": [
          1953,
          1954,
          1955,
          1956,
          1957,
          1958,
          1959,
          1960,
          1961,
          1962,
          1963,
          1964
         ],
         "xaxis": "x",
         "y": [
          7.356844744916913,
          4.232871776910636,
          8.8018927520271,
          10.201513118122154,
          9.441025180048205,
          7.826873320493635,
          9.477809512207747,
          7.2697198717392695,
          9.245460461772316,
          7.9724920404395725,
          11.630655161197831,
          12.474552897887806
         ],
         "yaxis": "y"
        }
       ],
       "layout": {
        "autosize": true,
        "legend": {
         "title": {
          "text": "State"
         },
         "tracegroupgap": 0
        },
        "margin": {
         "t": 60
        },
        "template": {
         "data": {
          "bar": [
           {
            "error_x": {
             "color": "#2a3f5f"
            },
            "error_y": {
             "color": "#2a3f5f"
            },
            "marker": {
             "line": {
              "color": "#E5ECF6",
              "width": 0.5
             },
             "pattern": {
              "fillmode": "overlay",
              "size": 10,
              "solidity": 0.2
             }
            },
            "type": "bar"
           }
          ],
          "barpolar": [
           {
            "marker": {
             "line": {
              "color": "#E5ECF6",
              "width": 0.5
             },
             "pattern": {
              "fillmode": "overlay",
              "size": 10,
              "solidity": 0.2
             }
            },
            "type": "barpolar"
           }
          ],
          "carpet": [
           {
            "aaxis": {
             "endlinecolor": "#2a3f5f",
             "gridcolor": "white",
             "linecolor": "white",
             "minorgridcolor": "white",
             "startlinecolor": "#2a3f5f"
            },
            "baxis": {
             "endlinecolor": "#2a3f5f",
             "gridcolor": "white",
             "linecolor": "white",
             "minorgridcolor": "white",
             "startlinecolor": "#2a3f5f"
            },
            "type": "carpet"
           }
          ],
          "choropleth": [
           {
            "colorbar": {
             "outlinewidth": 0,
             "ticks": ""
            },
            "type": "choropleth"
           }
          ],
          "contour": [
           {
            "colorbar": {
             "outlinewidth": 0,
             "ticks": ""
            },
            "colorscale": [
             [
              0,
              "#0d0887"
             ],
             [
              0.1111111111111111,
              "#46039f"
             ],
             [
              0.2222222222222222,
              "#7201a8"
             ],
             [
              0.3333333333333333,
              "#9c179e"
             ],
             [
              0.4444444444444444,
              "#bd3786"
             ],
             [
              0.5555555555555556,
              "#d8576b"
             ],
             [
              0.6666666666666666,
              "#ed7953"
             ],
             [
              0.7777777777777778,
              "#fb9f3a"
             ],
             [
              0.8888888888888888,
              "#fdca26"
             ],
             [
              1,
              "#f0f921"
             ]
            ],
            "type": "contour"
           }
          ],
          "contourcarpet": [
           {
            "colorbar": {
             "outlinewidth": 0,
             "ticks": ""
            },
            "type": "contourcarpet"
           }
          ],
          "heatmap": [
           {
            "colorbar": {
             "outlinewidth": 0,
             "ticks": ""
            },
            "colorscale": [
             [
              0,
              "#0d0887"
             ],
             [
              0.1111111111111111,
              "#46039f"
             ],
             [
              0.2222222222222222,
              "#7201a8"
             ],
             [
              0.3333333333333333,
              "#9c179e"
             ],
             [
              0.4444444444444444,
              "#bd3786"
             ],
             [
              0.5555555555555556,
              "#d8576b"
             ],
             [
              0.6666666666666666,
              "#ed7953"
             ],
             [
              0.7777777777777778,
              "#fb9f3a"
             ],
             [
              0.8888888888888888,
              "#fdca26"
             ],
             [
              1,
              "#f0f921"
             ]
            ],
            "type": "heatmap"
           }
          ],
          "heatmapgl": [
           {
            "colorbar": {
             "outlinewidth": 0,
             "ticks": ""
            },
            "colorscale": [
             [
              0,
              "#0d0887"
             ],
             [
              0.1111111111111111,
              "#46039f"
             ],
             [
              0.2222222222222222,
              "#7201a8"
             ],
             [
              0.3333333333333333,
              "#9c179e"
             ],
             [
              0.4444444444444444,
              "#bd3786"
             ],
             [
              0.5555555555555556,
              "#d8576b"
             ],
             [
              0.6666666666666666,
              "#ed7953"
             ],
             [
              0.7777777777777778,
              "#fb9f3a"
             ],
             [
              0.8888888888888888,
              "#fdca26"
             ],
             [
              1,
              "#f0f921"
             ]
            ],
            "type": "heatmapgl"
           }
          ],
          "histogram": [
           {
            "marker": {
             "pattern": {
              "fillmode": "overlay",
              "size": 10,
              "solidity": 0.2
             }
            },
            "type": "histogram"
           }
          ],
          "histogram2d": [
           {
            "colorbar": {
             "outlinewidth": 0,
             "ticks": ""
            },
            "colorscale": [
             [
              0,
              "#0d0887"
             ],
             [
              0.1111111111111111,
              "#46039f"
             ],
             [
              0.2222222222222222,
              "#7201a8"
             ],
             [
              0.3333333333333333,
              "#9c179e"
             ],
             [
              0.4444444444444444,
              "#bd3786"
             ],
             [
              0.5555555555555556,
              "#d8576b"
             ],
             [
              0.6666666666666666,
              "#ed7953"
             ],
             [
              0.7777777777777778,
              "#fb9f3a"
             ],
             [
              0.8888888888888888,
              "#fdca26"
             ],
             [
              1,
              "#f0f921"
             ]
            ],
            "type": "histogram2d"
           }
          ],
          "histogram2dcontour": [
           {
            "colorbar": {
             "outlinewidth": 0,
             "ticks": ""
            },
            "colorscale": [
             [
              0,
              "#0d0887"
             ],
             [
              0.1111111111111111,
              "#46039f"
             ],
             [
              0.2222222222222222,
              "#7201a8"
             ],
             [
              0.3333333333333333,
              "#9c179e"
             ],
             [
              0.4444444444444444,
              "#bd3786"
             ],
             [
              0.5555555555555556,
              "#d8576b"
             ],
             [
              0.6666666666666666,
              "#ed7953"
             ],
             [
              0.7777777777777778,
              "#fb9f3a"
             ],
             [
              0.8888888888888888,
              "#fdca26"
             ],
             [
              1,
              "#f0f921"
             ]
            ],
            "type": "histogram2dcontour"
           }
          ],
          "mesh3d": [
           {
            "colorbar": {
             "outlinewidth": 0,
             "ticks": ""
            },
            "type": "mesh3d"
           }
          ],
          "parcoords": [
           {
            "line": {
             "colorbar": {
              "outlinewidth": 0,
              "ticks": ""
             }
            },
            "type": "parcoords"
           }
          ],
          "pie": [
           {
            "automargin": true,
            "type": "pie"
           }
          ],
          "scatter": [
           {
            "fillpattern": {
             "fillmode": "overlay",
             "size": 10,
             "solidity": 0.2
            },
            "type": "scatter"
           }
          ],
          "scatter3d": [
           {
            "line": {
             "colorbar": {
              "outlinewidth": 0,
              "ticks": ""
             }
            },
            "marker": {
             "colorbar": {
              "outlinewidth": 0,
              "ticks": ""
             }
            },
            "type": "scatter3d"
           }
          ],
          "scattercarpet": [
           {
            "marker": {
             "colorbar": {
              "outlinewidth": 0,
              "ticks": ""
             }
            },
            "type": "scattercarpet"
           }
          ],
          "scattergeo": [
           {
            "marker": {
             "colorbar": {
              "outlinewidth": 0,
              "ticks": ""
             }
            },
            "type": "scattergeo"
           }
          ],
          "scattergl": [
           {
            "marker": {
             "colorbar": {
              "outlinewidth": 0,
              "ticks": ""
             }
            },
            "type": "scattergl"
           }
          ],
          "scattermapbox": [
           {
            "marker": {
             "colorbar": {
              "outlinewidth": 0,
              "ticks": ""
             }
            },
            "type": "scattermapbox"
           }
          ],
          "scatterpolar": [
           {
            "marker": {
             "colorbar": {
              "outlinewidth": 0,
              "ticks": ""
             }
            },
            "type": "scatterpolar"
           }
          ],
          "scatterpolargl": [
           {
            "marker": {
             "colorbar": {
              "outlinewidth": 0,
              "ticks": ""
             }
            },
            "type": "scatterpolargl"
           }
          ],
          "scatterternary": [
           {
            "marker": {
             "colorbar": {
              "outlinewidth": 0,
              "ticks": ""
             }
            },
            "type": "scatterternary"
           }
          ],
          "surface": [
           {
            "colorbar": {
             "outlinewidth": 0,
             "ticks": ""
            },
            "colorscale": [
             [
              0,
              "#0d0887"
             ],
             [
              0.1111111111111111,
              "#46039f"
             ],
             [
              0.2222222222222222,
              "#7201a8"
             ],
             [
              0.3333333333333333,
              "#9c179e"
             ],
             [
              0.4444444444444444,
              "#bd3786"
             ],
             [
              0.5555555555555556,
              "#d8576b"
             ],
             [
              0.6666666666666666,
              "#ed7953"
             ],
             [
              0.7777777777777778,
              "#fb9f3a"
             ],
             [
              0.8888888888888888,
              "#fdca26"
             ],
             [
              1,
              "#f0f921"
             ]
            ],
            "type": "surface"
           }
          ],
          "table": [
           {
            "cells": {
             "fill": {
              "color": "#EBF0F8"
             },
             "line": {
              "color": "white"
             }
            },
            "header": {
             "fill": {
              "color": "#C8D4E3"
             },
             "line": {
              "color": "white"
             }
            },
            "type": "table"
           }
          ]
         },
         "layout": {
          "annotationdefaults": {
           "arrowcolor": "#2a3f5f",
           "arrowhead": 0,
           "arrowwidth": 1
          },
          "autotypenumbers": "strict",
          "coloraxis": {
           "colorbar": {
            "outlinewidth": 0,
            "ticks": ""
           }
          },
          "colorscale": {
           "diverging": [
            [
             0,
             "#8e0152"
            ],
            [
             0.1,
             "#c51b7d"
            ],
            [
             0.2,
             "#de77ae"
            ],
            [
             0.3,
             "#f1b6da"
            ],
            [
             0.4,
             "#fde0ef"
            ],
            [
             0.5,
             "#f7f7f7"
            ],
            [
             0.6,
             "#e6f5d0"
            ],
            [
             0.7,
             "#b8e186"
            ],
            [
             0.8,
             "#7fbc41"
            ],
            [
             0.9,
             "#4d9221"
            ],
            [
             1,
             "#276419"
            ]
           ],
           "sequential": [
            [
             0,
             "#0d0887"
            ],
            [
             0.1111111111111111,
             "#46039f"
            ],
            [
             0.2222222222222222,
             "#7201a8"
            ],
            [
             0.3333333333333333,
             "#9c179e"
            ],
            [
             0.4444444444444444,
             "#bd3786"
            ],
            [
             0.5555555555555556,
             "#d8576b"
            ],
            [
             0.6666666666666666,
             "#ed7953"
            ],
            [
             0.7777777777777778,
             "#fb9f3a"
            ],
            [
             0.8888888888888888,
             "#fdca26"
            ],
            [
             1,
             "#f0f921"
            ]
           ],
           "sequentialminus": [
            [
             0,
             "#0d0887"
            ],
            [
             0.1111111111111111,
             "#46039f"
            ],
            [
             0.2222222222222222,
             "#7201a8"
            ],
            [
             0.3333333333333333,
             "#9c179e"
            ],
            [
             0.4444444444444444,
             "#bd3786"
            ],
            [
             0.5555555555555556,
             "#d8576b"
            ],
            [
             0.6666666666666666,
             "#ed7953"
            ],
            [
             0.7777777777777778,
             "#fb9f3a"
            ],
            [
             0.8888888888888888,
             "#fdca26"
            ],
            [
             1,
             "#f0f921"
            ]
           ]
          },
          "colorway": [
           "#636efa",
           "#EF553B",
           "#00cc96",
           "#ab63fa",
           "#FFA15A",
           "#19d3f3",
           "#FF6692",
           "#B6E880",
           "#FF97FF",
           "#FECB52"
          ],
          "font": {
           "color": "#2a3f5f"
          },
          "geo": {
           "bgcolor": "white",
           "lakecolor": "white",
           "landcolor": "#E5ECF6",
           "showlakes": true,
           "showland": true,
           "subunitcolor": "white"
          },
          "hoverlabel": {
           "align": "left"
          },
          "hovermode": "closest",
          "mapbox": {
           "style": "light"
          },
          "paper_bgcolor": "white",
          "plot_bgcolor": "#E5ECF6",
          "polar": {
           "angularaxis": {
            "gridcolor": "white",
            "linecolor": "white",
            "ticks": ""
           },
           "bgcolor": "#E5ECF6",
           "radialaxis": {
            "gridcolor": "white",
            "linecolor": "white",
            "ticks": ""
           }
          },
          "scene": {
           "xaxis": {
            "backgroundcolor": "#E5ECF6",
            "gridcolor": "white",
            "gridwidth": 2,
            "linecolor": "white",
            "showbackground": true,
            "ticks": "",
            "zerolinecolor": "white"
           },
           "yaxis": {
            "backgroundcolor": "#E5ECF6",
            "gridcolor": "white",
            "gridwidth": 2,
            "linecolor": "white",
            "showbackground": true,
            "ticks": "",
            "zerolinecolor": "white"
           },
           "zaxis": {
            "backgroundcolor": "#E5ECF6",
            "gridcolor": "white",
            "gridwidth": 2,
            "linecolor": "white",
            "showbackground": true,
            "ticks": "",
            "zerolinecolor": "white"
           }
          },
          "shapedefaults": {
           "line": {
            "color": "#2a3f5f"
           }
          },
          "ternary": {
           "aaxis": {
            "gridcolor": "white",
            "linecolor": "white",
            "ticks": ""
           },
           "baxis": {
            "gridcolor": "white",
            "linecolor": "white",
            "ticks": ""
           },
           "bgcolor": "#E5ECF6",
           "caxis": {
            "gridcolor": "white",
            "linecolor": "white",
            "ticks": ""
           }
          },
          "title": {
           "x": 0.05
          },
          "xaxis": {
           "automargin": true,
           "gridcolor": "white",
           "linecolor": "white",
           "ticks": "",
           "title": {
            "standoff": 15
           },
           "zerolinecolor": "white",
           "zerolinewidth": 2
          },
          "yaxis": {
           "automargin": true,
           "gridcolor": "white",
           "linecolor": "white",
           "ticks": "",
           "title": {
            "standoff": 15
           },
           "zerolinecolor": "white",
           "zerolinewidth": 2
          }
         }
        },
        "xaxis": {
         "anchor": "y",
         "autorange": true,
         "domain": [
          0,
          1
         ],
         "range": [
          1953,
          1967
         ],
         "title": {
          "text": "Year"
         },
         "type": "linear"
        },
        "yaxis": {
         "anchor": "x",
         "autorange": true,
         "domain": [
          0,
          1
         ],
         "range": [
          -4.146193549059563,
          79.91879592515173
         ],
         "title": {
          "text": "MexicanPercentSeasonal"
         },
         "type": "linear"
        }
       }
      },
      "image/png": "[encoded data removed]",
      "text/html": [
       "<div>                            <div id=\"ae5cd4a8-b2f0-488f-8bd4-83e99e5aaf80\" class=\"plotly-graph-div\" style=\"height:525px; width:100%;\"></div>            <script type=\"text/javascript\">                require([\"plotly\"], function(Plotly) {                    window.PLOTLYENV=window.PLOTLYENV || {};                                    if (document.getElementById(\"ae5cd4a8-b2f0-488f-8bd4-83e99e5aaf80\")) {                    Plotly.newPlot(                        \"ae5cd4a8-b2f0-488f-8bd4-83e99e5aaf80\",                        [{\"hovertemplate\":\"State=AR\\u003cbr\\u003eYear=%{x}\\u003cbr\\u003eMexicanPercentSeasonal=%{y}\\u003cextra\\u003e\\u003c\\u002fextra\\u003e\",\"legendgroup\":\"AR\",\"line\":{\"color\":\"#636efa\",\"dash\":\"solid\"},\"marker\":{\"symbol\":\"circle\"},\"mode\":\"lines\",\"name\":\"AR\",\"orientation\":\"v\",\"showlegend\":true,\"x\":[1953,1954,1955,1956,1957,1958,1959,1960,1961,1962,1963,1964],\"xaxis\":\"x\",\"y\":[12.214397146737275,8.628392995327356,9.153815137852174,15.315258238452396,12.613804076292004,6.320880339334072,17.877977034789712,17.609414183487054,13.22844365948487,7.20858316909338,6.544815074124932,4.539440114568023],\"yaxis\":\"y\",\"type\":\"scatter\"},{\"hovertemplate\":\"State=AZ\\u003cbr\\u003eYear=%{x}\\u003cbr\\u003eMexicanPercentSeasonal=%{y}\\u003cextra\\u003e\\u003c\\u002fextra\\u003e\",\"legendgroup\":\"AZ\",\"line\":{\"color\":\"#EF553B\",\"dash\":\"solid\"},\"marker\":{\"symbol\":\"circle\"},\"mode\":\"lines\",\"name\":\"AZ\",\"orientation\":\"v\",\"showlegend\":true,\"x\":[1953,1954,1955,1956,1957,1958,1959,1960,1961,1962,1963,1964],\"xaxis\":\"x\",\"y\":[22.949761249658877,24.635808673608388,26.902090294901644,30.65730996388448,30.624091183836587,34.72367869218823,36.58964400097904,35.34958385660787,34.19217546904704,25.880263350323904,22.741554539693187,19.562301455613017],\"yaxis\":\"y\",\"type\":\"scatter\"},{\"hovertemplate\":\"State=CA\\u003cbr\\u003eYear=%{x}\\u003cbr\\u003eMexicanPercentSeasonal=%{y}\\u003cextra\\u003e\\u003c\\u002fextra\\u003e\",\"legendgroup\":\"CA\",\"line\":{\"color\":\"#00cc96\",\"dash\":\"solid\"},\"marker\":{\"symbol\":\"circle\"},\"mode\":\"lines\",\"name\":\"CA\",\"orientation\":\"v\",\"showlegend\":true,\"x\":[1953,1954,1955,1956,1957,1958,1959,1960,1961,1962,1963,1964,1965,1966,1967],\"xaxis\":\"x\",\"y\":[15.726281895775182,17.78845182012701,23.091286882742487,27.96349031576456,28.82218138259966,26.159425651410483,25.426569679894833,25.29235487699046,22.198113367233947,22.990273278486924,19.34223650206519,18.656491722475725,3.434582629403861,1.7704610694069214,3.7864077669902914],\"yaxis\":\"y\",\"type\":\"scatter\"},{\"hovertemplate\":\"State=CO\\u003cbr\\u003eYear=%{x}\\u003cbr\\u003eMexicanPercentSeasonal=%{y}\\u003cextra\\u003e\\u003c\\u002fextra\\u003e\",\"legendgroup\":\"CO\",\"line\":{\"color\":\"#ab63fa\",\"dash\":\"solid\"},\"marker\":{\"symbol\":\"circle\"},\"mode\":\"lines\",\"name\":\"CO\",\"orientation\":\"v\",\"showlegend\":true,\"x\":[1953,1954,1955,1956,1957,1958,1959,1960,1961,1962,1963,1964],\"xaxis\":\"x\",\"y\":[3.9549564651609366,3.923852922697647,6.70506137603882,9.510719416306891,11.675578313851627,8.509029210005291,11.315507379072038,12.724121304989078,17.76121440616247,21.01083397511393,20.62885497950712,20.20518769169999],\"yaxis\":\"y\",\"type\":\"scatter\"},{\"hovertemplate\":\"State=DE\\u003cbr\\u003eYear=%{x}\\u003cbr\\u003eMexicanPercentSeasonal=%{y}\\u003cextra\\u003e\\u003c\\u002fextra\\u003e\",\"legendgroup\":\"DE\",\"line\":{\"color\":\"#FFA15A\",\"dash\":\"solid\"},\"marker\":{\"symbol\":\"circle\"},\"mode\":\"lines\",\"name\":\"DE\",\"orientation\":\"v\",\"showlegend\":true,\"x\":[1957],\"xaxis\":\"x\",\"y\":[4.417462147666166],\"yaxis\":\"y\",\"type\":\"scatter\"},{\"hovertemplate\":\"State=GA\\u003cbr\\u003eYear=%{x}\\u003cbr\\u003eMexicanPercentSeasonal=%{y}\\u003cextra\\u003e\\u003c\\u002fextra\\u003e\",\"legendgroup\":\"GA\",\"line\":{\"color\":\"#19d3f3\",\"dash\":\"solid\"},\"marker\":{\"symbol\":\"circle\"},\"mode\":\"lines\",\"name\":\"GA\",\"orientation\":\"v\",\"showlegend\":true,\"x\":[1953,1954,1955,1956,1957,1958,1959,1960,1961],\"xaxis\":\"x\",\"y\":[4.722813508023916,0.9110491200639418,0.8815396526620297,2.4241968431854763,2.8716505711155564,0.8085459066212358,1.599406027240856,1.1005496995308783,1.7521022372449249],\"yaxis\":\"y\",\"type\":\"scatter\"},{\"hovertemplate\":\"State=IA\\u003cbr\\u003eYear=%{x}\\u003cbr\\u003eMexicanPercentSeasonal=%{y}\\u003cextra\\u003e\\u003c\\u002fextra\\u003e\",\"legendgroup\":\"IA\",\"line\":{\"color\":\"#FF6692\",\"dash\":\"solid\"},\"marker\":{\"symbol\":\"circle\"},\"mode\":\"lines\",\"name\":\"IA\",\"orientation\":\"v\",\"showlegend\":true,\"x\":[1953,1956,1957,1958,1959,1960,1961,1962],\"xaxis\":\"x\",\"y\":[9.8334672021419,3.0536456773191287,7.2032490865718515,3.440187646598905,2.8378047489213016,1.565258201312389,2.3192224938549573,0.8287932009604144],\"yaxis\":\"y\",\"type\":\"scatter\"},{\"hovertemplate\":\"State=ID\\u003cbr\\u003eYear=%{x}\\u003cbr\\u003eMexicanPercentSeasonal=%{y}\\u003cextra\\u003e\\u003c\\u002fextra\\u003e\",\"legendgroup\":\"ID\",\"line\":{\"color\":\"#B6E880\",\"dash\":\"solid\"},\"marker\":{\"symbol\":\"circle\"},\"mode\":\"lines\",\"name\":\"ID\",\"orientation\":\"v\",\"showlegend\":true,\"x\":[1953,1954,1955,1956,1957],\"xaxis\":\"x\",\"y\":[2.079865986981751,1.239694006758231,1.4161426290292427,1.6293587982384063,0.9561571138755773],\"yaxis\":\"y\",\"type\":\"scatter\"},{\"hovertemplate\":\"State=IL\\u003cbr\\u003eYear=%{x}\\u003cbr\\u003eMexicanPercentSeasonal=%{y}\\u003cextra\\u003e\\u003c\\u002fextra\\u003e\",\"legendgroup\":\"IL\",\"line\":{\"color\":\"#FF97FF\",\"dash\":\"solid\"},\"marker\":{\"symbol\":\"circle\"},\"mode\":\"lines\",\"name\":\"IL\",\"orientation\":\"v\",\"showlegend\":true,\"x\":[1953,1954,1955,1956,1957,1958,1959,1960,1961,1962,1963],\"xaxis\":\"x\",\"y\":[40.122354551720754,9.81359211913094,2.017750373503087,1.927155925960782,2.3522866962520874,1.697308190284961,0.9584458408925376,1.9806698969291088,0.5950536314474903,1.3715256705910912,0.6380847639454432],\"yaxis\":\"y\",\"type\":\"scatter\"},{\"hovertemplate\":\"State=IN\\u003cbr\\u003eYear=%{x}\\u003cbr\\u003eMexicanPercentSeasonal=%{y}\\u003cextra\\u003e\\u003c\\u002fextra\\u003e\",\"legendgroup\":\"IN\",\"line\":{\"color\":\"#FECB52\",\"dash\":\"solid\"},\"marker\":{\"symbol\":\"circle\"},\"mode\":\"lines\",\"name\":\"IN\",\"orientation\":\"v\",\"showlegend\":true,\"x\":[1953,1954,1955,1956,1957,1958,1959,1960,1961,1962,1963,1964],\"xaxis\":\"x\",\"y\":[0.8959618349885493,1.3858836820700247,2.6003408319733676,2.069301303301226,2.5298674600772832,3.141289674958341,3.1487478259968813,6.401468610038805,4.9004589772662275,3.449055164023625,2.6196521878861425,2.1610479547025303],\"yaxis\":\"y\",\"type\":\"scatter\"},{\"hovertemplate\":\"State=KS\\u003cbr\\u003eYear=%{x}\\u003cbr\\u003eMexicanPercentSeasonal=%{y}\\u003cextra\\u003e\\u003c\\u002fextra\\u003e\",\"legendgroup\":\"KS\",\"line\":{\"color\":\"#636efa\",\"dash\":\"solid\"},\"marker\":{\"symbol\":\"circle\"},\"mode\":\"lines\",\"name\":\"KS\",\"orientation\":\"v\",\"showlegend\":true,\"x\":[1956,1957,1958,1959,1960,1961,1962,1963,1964],\"xaxis\":\"x\",\"y\":[0.2986730617308638,1.1585365853658536,0.13678832116788323,0.0570559246510015,0.07623580359289703,0.2418700914775956,0.4320642088385587,0.5153802588812262,1.1325233466742899],\"yaxis\":\"y\",\"type\":\"scatter\"},{\"hovertemplate\":\"State=KY\\u003cbr\\u003eYear=%{x}\\u003cbr\\u003eMexicanPercentSeasonal=%{y}\\u003cextra\\u003e\\u003c\\u002fextra\\u003e\",\"legendgroup\":\"KY\",\"line\":{\"color\":\"#EF553B\",\"dash\":\"solid\"},\"marker\":{\"symbol\":\"circle\"},\"mode\":\"lines\",\"name\":\"KY\",\"orientation\":\"v\",\"showlegend\":true,\"x\":[1953,1956,1957,1958,1959,1960,1961],\"xaxis\":\"x\",\"y\":[12.487012987012989,9.266809172172561,7.242160295928848,5.34984520123839,4.207834144846901,2.992712117645855,0.3374852887810893],\"yaxis\":\"y\",\"type\":\"scatter\"},{\"hovertemplate\":\"State=LA\\u003cbr\\u003eYear=%{x}\\u003cbr\\u003eMexicanPercentSeasonal=%{y}\\u003cextra\\u003e\\u003c\\u002fextra\\u003e\",\"legendgroup\":\"LA\",\"line\":{\"color\":\"#00cc96\",\"dash\":\"solid\"},\"marker\":{\"symbol\":\"circle\"},\"mode\":\"lines\",\"name\":\"LA\",\"orientation\":\"v\",\"showlegend\":true,\"x\":[1953],\"xaxis\":\"x\",\"y\":[1.4513873441239091],\"yaxis\":\"y\",\"type\":\"scatter\"},{\"hovertemplate\":\"State=MI\\u003cbr\\u003eYear=%{x}\\u003cbr\\u003eMexicanPercentSeasonal=%{y}\\u003cextra\\u003e\\u003c\\u002fextra\\u003e\",\"legendgroup\":\"MI\",\"line\":{\"color\":\"#ab63fa\",\"dash\":\"solid\"},\"marker\":{\"symbol\":\"circle\"},\"mode\":\"lines\",\"name\":\"MI\",\"orientation\":\"v\",\"showlegend\":true,\"x\":[1953,1954,1955,1956,1957,1958,1959,1960,1961,1962,1963,1964],\"xaxis\":\"x\",\"y\":[2.6730761652588666,4.4360676348006995,4.556482685614376,6.908910261699404,7.86337636209326,5.861328415733837,6.59350366075391,6.918680058791127,7.969326809922679,5.596922504803017,9.603450605200363,6.799544075212314],\"yaxis\":\"y\",\"type\":\"scatter\"},{\"hovertemplate\":\"State=MN\\u003cbr\\u003eYear=%{x}\\u003cbr\\u003eMexicanPercentSeasonal=%{y}\\u003cextra\\u003e\\u003c\\u002fextra\\u003e\",\"legendgroup\":\"MN\",\"line\":{\"color\":\"#FFA15A\",\"dash\":\"solid\"},\"marker\":{\"symbol\":\"circle\"},\"mode\":\"lines\",\"name\":\"MN\",\"orientation\":\"v\",\"showlegend\":true,\"x\":[1953,1954,1955,1956,1957,1958,1959,1960,1961,1962,1963,1964],\"xaxis\":\"x\",\"y\":[5.604010735107372,1.4928907817522923,1.1742934041914708,2.1200745581597467,2.212328319042579,1.2323490461445992,1.233928783856055,1.029319636009463,0.7754827838244593,0.6520062675221939,0.6583953495518277,0.2006593091586642],\"yaxis\":\"y\",\"type\":\"scatter\"},{\"hovertemplate\":\"State=MO\\u003cbr\\u003eYear=%{x}\\u003cbr\\u003eMexicanPercentSeasonal=%{y}\\u003cextra\\u003e\\u003c\\u002fextra\\u003e\",\"legendgroup\":\"MO\",\"line\":{\"color\":\"#19d3f3\",\"dash\":\"solid\"},\"marker\":{\"symbol\":\"circle\"},\"mode\":\"lines\",\"name\":\"MO\",\"orientation\":\"v\",\"showlegend\":true,\"x\":[1953,1954,1955,1956,1957,1958,1959,1960],\"xaxis\":\"x\",\"y\":[5.338827838827839,2.448942099682336,2.520730137917638,2.3530246865550715,0.5944639066479134,1.5846577370624841,1.7314198230413087,1.3258945560966584],\"yaxis\":\"y\",\"type\":\"scatter\"},{\"hovertemplate\":\"State=MT\\u003cbr\\u003eYear=%{x}\\u003cbr\\u003eMexicanPercentSeasonal=%{y}\\u003cextra\\u003e\\u003c\\u002fextra\\u003e\",\"legendgroup\":\"MT\",\"line\":{\"color\":\"#FF6692\",\"dash\":\"solid\"},\"marker\":{\"symbol\":\"circle\"},\"mode\":\"lines\",\"name\":\"MT\",\"orientation\":\"v\",\"showlegend\":true,\"x\":[1953,1954,1955,1956,1957,1958,1959,1960,1961,1962,1963,1964],\"xaxis\":\"x\",\"y\":[9.266244732669401,9.013936557446927,5.766403327960628,13.759148916813974,20.83705291900891,7.3891344779926085,10.568668573513012,9.214816783069471,7.985189158203767,9.851696522167762,11.14442148186341,9.851708966414128],\"yaxis\":\"y\",\"type\":\"scatter\"},{\"hovertemplate\":\"State=ND\\u003cbr\\u003eYear=%{x}\\u003cbr\\u003eMexicanPercentSeasonal=%{y}\\u003cextra\\u003e\\u003c\\u002fextra\\u003e\",\"legendgroup\":\"ND\",\"line\":{\"color\":\"#B6E880\",\"dash\":\"solid\"},\"marker\":{\"symbol\":\"circle\"},\"mode\":\"lines\",\"name\":\"ND\",\"orientation\":\"v\",\"showlegend\":true,\"x\":[1953,1957,1958,1959,1960,1961],\"xaxis\":\"x\",\"y\":[1.7497812773403325,1.7736045905059992,2.86569225457475,0.3602281316331566,0.6566946369937978,1.3027744270205066],\"yaxis\":\"y\",\"type\":\"scatter\"},{\"hovertemplate\":\"State=NE\\u003cbr\\u003eYear=%{x}\\u003cbr\\u003eMexicanPercentSeasonal=%{y}\\u003cextra\\u003e\\u003c\\u002fextra\\u003e\",\"legendgroup\":\"NE\",\"line\":{\"color\":\"#FF97FF\",\"dash\":\"solid\"},\"marker\":{\"symbol\":\"circle\"},\"mode\":\"lines\",\"name\":\"NE\",\"orientation\":\"v\",\"showlegend\":true,\"x\":[1953,1954,1955,1956,1957,1958,1959,1960,1961,1962,1963,1964],\"xaxis\":\"x\",\"y\":[13.066267315612128,21.313510995318804,32.28119754389272,48.22525327798307,18.622535783671392,19.171138450799468,13.68536751571736,19.264257408752588,23.193242025635616,13.014399204177801,14.033305376866851,12.001984679347766],\"yaxis\":\"y\",\"type\":\"scatter\"},{\"hovertemplate\":\"State=NH\\u003cbr\\u003eYear=%{x}\\u003cbr\\u003eMexicanPercentSeasonal=%{y}\\u003cextra\\u003e\\u003c\\u002fextra\\u003e\",\"legendgroup\":\"NH\",\"line\":{\"color\":\"#FECB52\",\"dash\":\"solid\"},\"marker\":{\"symbol\":\"circle\"},\"mode\":\"lines\",\"name\":\"NH\",\"orientation\":\"v\",\"showlegend\":true,\"x\":[1956],\"xaxis\":\"x\",\"y\":[5.180327868852459],\"yaxis\":\"y\",\"type\":\"scatter\"},{\"hovertemplate\":\"State=NM\\u003cbr\\u003eYear=%{x}\\u003cbr\\u003eMexicanPercentSeasonal=%{y}\\u003cextra\\u003e\\u003c\\u002fextra\\u003e\",\"legendgroup\":\"NM\",\"line\":{\"color\":\"#636efa\",\"dash\":\"solid\"},\"marker\":{\"symbol\":\"circle\"},\"mode\":\"lines\",\"name\":\"NM\",\"orientation\":\"v\",\"showlegend\":true,\"x\":[1953,1954,1955,1956,1957,1958,1959,1960,1961,1962,1963,1964],\"xaxis\":\"x\",\"y\":[43.38857607488183,52.50447500446921,60.92961438799021,72.09390743660671,69.26094961509055,72.79428039632222,75.71554645144116,70.45101274823989,66.26260351614062,38.189292564165974,20.29317069743136,16.969385029430466],\"yaxis\":\"y\",\"type\":\"scatter\"},{\"hovertemplate\":\"State=NV\\u003cbr\\u003eYear=%{x}\\u003cbr\\u003eMexicanPercentSeasonal=%{y}\\u003cextra\\u003e\\u003c\\u002fextra\\u003e\",\"legendgroup\":\"NV\",\"line\":{\"color\":\"#EF553B\",\"dash\":\"solid\"},\"marker\":{\"symbol\":\"circle\"},\"mode\":\"lines\",\"name\":\"NV\",\"orientation\":\"v\",\"showlegend\":true,\"x\":[1953,1954,1955,1956,1957,1958,1959,1960,1961,1962,1963],\"xaxis\":\"x\",\"y\":[41.0,30.0,53.75,8.356534768120566,13.069459065626889,8.500247353553004,11.1238505941239,10.133637039693893,4.203358615170406,15.142734756976951,25.008916718178234],\"yaxis\":\"y\",\"type\":\"scatter\"},{\"hovertemplate\":\"State=OH\\u003cbr\\u003eYear=%{x}\\u003cbr\\u003eMexicanPercentSeasonal=%{y}\\u003cextra\\u003e\\u003c\\u002fextra\\u003e\",\"legendgroup\":\"OH\",\"line\":{\"color\":\"#00cc96\",\"dash\":\"solid\"},\"marker\":{\"symbol\":\"circle\"},\"mode\":\"lines\",\"name\":\"OH\",\"orientation\":\"v\",\"showlegend\":true,\"x\":[1956,1957],\"xaxis\":\"x\",\"y\":[0.3500478662896802,0.36458926740344083],\"yaxis\":\"y\",\"type\":\"scatter\"},{\"hovertemplate\":\"State=OR\\u003cbr\\u003eYear=%{x}\\u003cbr\\u003eMexicanPercentSeasonal=%{y}\\u003cextra\\u003e\\u003c\\u002fextra\\u003e\",\"legendgroup\":\"OR\",\"line\":{\"color\":\"#ab63fa\",\"dash\":\"solid\"},\"marker\":{\"symbol\":\"circle\"},\"mode\":\"lines\",\"name\":\"OR\",\"orientation\":\"v\",\"showlegend\":true,\"x\":[1953,1955,1956,1957,1958,1959,1960,1961,1962,1963,1964],\"xaxis\":\"x\",\"y\":[0.5495010559985605,1.9514404929850502,0.8835968412239253,0.45840208626314605,0.7358651037236993,2.069164265129683,1.6811985163061804,2.4033514625900336,1.9056435352667687,0.39488418695114047,0.8952937233686025],\"yaxis\":\"y\",\"type\":\"scatter\"},{\"hovertemplate\":\"State=SD\\u003cbr\\u003eYear=%{x}\\u003cbr\\u003eMexicanPercentSeasonal=%{y}\\u003cextra\\u003e\\u003c\\u002fextra\\u003e\",\"legendgroup\":\"SD\",\"line\":{\"color\":\"#FFA15A\",\"dash\":\"solid\"},\"marker\":{\"symbol\":\"circle\"},\"mode\":\"lines\",\"name\":\"SD\",\"orientation\":\"v\",\"showlegend\":true,\"x\":[1953,1954,1955,1956,1957,1958,1959,1960,1961,1962,1963,1964],\"xaxis\":\"x\",\"y\":[39.361702127659576,22.52225196647189,21.197253274871812,33.432638199271764,51.1907110784261,55.02649899359223,23.52941176470588,31.071913161465396,26.424254645670253,37.984025004341035,11.929229822630838,16.19047619047619],\"yaxis\":\"y\",\"type\":\"scatter\"},{\"hovertemplate\":\"State=TN\\u003cbr\\u003eYear=%{x}\\u003cbr\\u003eMexicanPercentSeasonal=%{y}\\u003cextra\\u003e\\u003c\\u002fextra\\u003e\",\"legendgroup\":\"TN\",\"line\":{\"color\":\"#19d3f3\",\"dash\":\"solid\"},\"marker\":{\"symbol\":\"circle\"},\"mode\":\"lines\",\"name\":\"TN\",\"orientation\":\"v\",\"showlegend\":true,\"x\":[1953,1954,1955,1956,1957,1958,1959,1960,1961,1962],\"xaxis\":\"x\",\"y\":[4.3035138453078385,2.2954764088167274,1.374297109048099,1.253313367936185,1.790295656252494,0.9346977512382266,1.6350874154434922,1.587069904121151,1.211603150496764,0.6796499667763424],\"yaxis\":\"y\",\"type\":\"scatter\"},{\"hovertemplate\":\"State=TX\\u003cbr\\u003eYear=%{x}\\u003cbr\\u003eMexicanPercentSeasonal=%{y}\\u003cextra\\u003e\\u003c\\u002fextra\\u003e\",\"legendgroup\":\"TX\",\"line\":{\"color\":\"#FF6692\",\"dash\":\"solid\"},\"marker\":{\"symbol\":\"circle\"},\"mode\":\"lines\",\"name\":\"TX\",\"orientation\":\"v\",\"showlegend\":true,\"x\":[1953,1954,1955,1956,1957,1958,1959,1960,1961,1962,1963,1964],\"xaxis\":\"x\",\"y\":[20.37077237408594,18.918966012337137,24.115515386094234,24.425982238998056,24.90598651779333,30.785757846596255,31.372066803616868,25.32382793916375,24.421794190615902,10.30917965587495,6.781989807725908,5.657178262644553],\"yaxis\":\"y\",\"type\":\"scatter\"},{\"hovertemplate\":\"State=UT\\u003cbr\\u003eYear=%{x}\\u003cbr\\u003eMexicanPercentSeasonal=%{y}\\u003cextra\\u003e\\u003c\\u002fextra\\u003e\",\"legendgroup\":\"UT\",\"line\":{\"color\":\"#B6E880\",\"dash\":\"solid\"},\"marker\":{\"symbol\":\"circle\"},\"mode\":\"lines\",\"name\":\"UT\",\"orientation\":\"v\",\"showlegend\":true,\"x\":[1953,1954,1955,1956,1957,1958,1959,1960,1961,1962,1963,1964],\"xaxis\":\"x\",\"y\":[6.062151831522351,3.158313281043902,2.6016832599227713,4.211310599260009,5.9270337607460455,3.9112457050921225,4.124871674478874,4.08928413064664,3.6114705516696937,4.049338812079685,4.568432621093854,3.8290089310739344],\"yaxis\":\"y\",\"type\":\"scatter\"},{\"hovertemplate\":\"State=WA\\u003cbr\\u003eYear=%{x}\\u003cbr\\u003eMexicanPercentSeasonal=%{y}\\u003cextra\\u003e\\u003c\\u002fextra\\u003e\",\"legendgroup\":\"WA\",\"line\":{\"color\":\"#FF97FF\",\"dash\":\"solid\"},\"marker\":{\"symbol\":\"circle\"},\"mode\":\"lines\",\"name\":\"WA\",\"orientation\":\"v\",\"showlegend\":true,\"x\":[1953,1954,1955,1956,1957,1960],\"xaxis\":\"x\",\"y\":[1.5329453257467338,0.36098835008055297,0.7142178479544842,0.6844287245265016,0.9311089407888641,0.24449913125129108],\"yaxis\":\"y\",\"type\":\"scatter\"},{\"hovertemplate\":\"State=WI\\u003cbr\\u003eYear=%{x}\\u003cbr\\u003eMexicanPercentSeasonal=%{y}\\u003cextra\\u003e\\u003c\\u002fextra\\u003e\",\"legendgroup\":\"WI\",\"line\":{\"color\":\"#FECB52\",\"dash\":\"solid\"},\"marker\":{\"symbol\":\"circle\"},\"mode\":\"lines\",\"name\":\"WI\",\"orientation\":\"v\",\"showlegend\":true,\"x\":[1953,1954,1955,1956,1957,1958,1959,1960,1961,1962,1963,1964],\"xaxis\":\"x\",\"y\":[1.547498869923359,0.8635974237009609,1.0510312401101882,2.05859405862294,2.505479351472254,2.009862200967045,2.8825480724111863,4.2466610149695345,5.598647798522457,3.4629815156738224,3.2580833988357476,4.33166692079531],\"yaxis\":\"y\",\"type\":\"scatter\"},{\"hovertemplate\":\"State=WY\\u003cbr\\u003eYear=%{x}\\u003cbr\\u003eMexicanPercentSeasonal=%{y}\\u003cextra\\u003e\\u003c\\u002fextra\\u003e\",\"legendgroup\":\"WY\",\"line\":{\"color\":\"#636efa\",\"dash\":\"solid\"},\"marker\":{\"symbol\":\"circle\"},\"mode\":\"lines\",\"name\":\"WY\",\"orientation\":\"v\",\"showlegend\":true,\"x\":[1953,1954,1955,1956,1957,1958,1959,1960,1961,1962,1963,1964],\"xaxis\":\"x\",\"y\":[7.356844744916913,4.232871776910636,8.8018927520271,10.201513118122154,9.441025180048205,7.826873320493635,9.477809512207747,7.2697198717392695,9.245460461772316,7.9724920404395725,11.630655161197831,12.474552897887806],\"yaxis\":\"y\",\"type\":\"scatter\"}],                        {\"template\":{\"data\":{\"histogram2dcontour\":[{\"type\":\"histogram2dcontour\",\"colorbar\":{\"outlinewidth\":0,\"ticks\":\"\"},\"colorscale\":[[0.0,\"#0d0887\"],[0.1111111111111111,\"#46039f\"],[0.2222222222222222,\"#7201a8\"],[0.3333333333333333,\"#9c179e\"],[0.4444444444444444,\"#bd3786\"],[0.5555555555555556,\"#d8576b\"],[0.6666666666666666,\"#ed7953\"],[0.7777777777777778,\"#fb9f3a\"],[0.8888888888888888,\"#fdca26\"],[1.0,\"#f0f921\"]]}],\"choropleth\":[{\"type\":\"choropleth\",\"colorbar\":{\"outlinewidth\":0,\"ticks\":\"\"}}],\"histogram2d\":[{\"type\":\"histogram2d\",\"colorbar\":{\"outlinewidth\":0,\"ticks\":\"\"},\"colorscale\":[[0.0,\"#0d0887\"],[0.1111111111111111,\"#46039f\"],[0.2222222222222222,\"#7201a8\"],[0.3333333333333333,\"#9c179e\"],[0.4444444444444444,\"#bd3786\"],[0.5555555555555556,\"#d8576b\"],[0.6666666666666666,\"#ed7953\"],[0.7777777777777778,\"#fb9f3a\"],[0.8888888888888888,\"#fdca26\"],[1.0,\"#f0f921\"]]}],\"heatmap\":[{\"type\":\"heatmap\",\"colorbar\":{\"outlinewidth\":0,\"ticks\":\"\"},\"colorscale\":[[0.0,\"#0d0887\"],[0.1111111111111111,\"#46039f\"],[0.2222222222222222,\"#7201a8\"],[0.3333333333333333,\"#9c179e\"],[0.4444444444444444,\"#bd3786\"],[0.5555555555555556,\"#d8576b\"],[0.6666666666666666,\"#ed7953\"],[0.7777777777777778,\"#fb9f3a\"],[0.8888888888888888,\"#fdca26\"],[1.0,\"#f0f921\"]]}],\"heatmapgl\":[{\"type\":\"heatmapgl\",\"colorbar\":{\"outlinewidth\":0,\"ticks\":\"\"},\"colorscale\":[[0.0,\"#0d0887\"],[0.1111111111111111,\"#46039f\"],[0.2222222222222222,\"#7201a8\"],[0.3333333333333333,\"#9c179e\"],[0.4444444444444444,\"#bd3786\"],[0.5555555555555556,\"#d8576b\"],[0.6666666666666666,\"#ed7953\"],[0.7777777777777778,\"#fb9f3a\"],[0.8888888888888888,\"#fdca26\"],[1.0,\"#f0f921\"]]}],\"contourcarpet\":[{\"type\":\"contourcarpet\",\"colorbar\":{\"outlinewidth\":0,\"ticks\":\"\"}}],\"contour\":[{\"type\":\"contour\",\"colorbar\":{\"outlinewidth\":0,\"ticks\":\"\"},\"colorscale\":[[0.0,\"#0d0887\"],[0.1111111111111111,\"#46039f\"],[0.2222222222222222,\"#7201a8\"],[0.3333333333333333,\"#9c179e\"],[0.4444444444444444,\"#bd3786\"],[0.5555555555555556,\"#d8576b\"],[0.6666666666666666,\"#ed7953\"],[0.7777777777777778,\"#fb9f3a\"],[0.8888888888888888,\"#fdca26\"],[1.0,\"#f0f921\"]]}],\"surface\":[{\"type\":\"surface\",\"colorbar\":{\"outlinewidth\":0,\"ticks\":\"\"},\"colorscale\":[[0.0,\"#0d0887\"],[0.1111111111111111,\"#46039f\"],[0.2222222222222222,\"#7201a8\"],[0.3333333333333333,\"#9c179e\"],[0.4444444444444444,\"#bd3786\"],[0.5555555555555556,\"#d8576b\"],[0.6666666666666666,\"#ed7953\"],[0.7777777777777778,\"#fb9f3a\"],[0.8888888888888888,\"#fdca26\"],[1.0,\"#f0f921\"]]}],\"mesh3d\":[{\"type\":\"mesh3d\",\"colorbar\":{\"outlinewidth\":0,\"ticks\":\"\"}}],\"scatter\":[{\"fillpattern\":{\"fillmode\":\"overlay\",\"size\":10,\"solidity\":0.2},\"type\":\"scatter\"}],\"parcoords\":[{\"type\":\"parcoords\",\"line\":{\"colorbar\":{\"outlinewidth\":0,\"ticks\":\"\"}}}],\"scatterpolargl\":[{\"type\":\"scatterpolargl\",\"marker\":{\"colorbar\":{\"outlinewidth\":0,\"ticks\":\"\"}}}],\"bar\":[{\"error_x\":{\"color\":\"#2a3f5f\"},\"error_y\":{\"color\":\"#2a3f5f\"},\"marker\":{\"line\":{\"color\":\"#E5ECF6\",\"width\":0.5},\"pattern\":{\"fillmode\":\"overlay\",\"size\":10,\"solidity\":0.2}},\"type\":\"bar\"}],\"scattergeo\":[{\"type\":\"scattergeo\",\"marker\":{\"colorbar\":{\"outlinewidth\":0,\"ticks\":\"\"}}}],\"scatterpolar\":[{\"type\":\"scatterpolar\",\"marker\":{\"colorbar\":{\"outlinewidth\":0,\"ticks\":\"\"}}}],\"histogram\":[{\"marker\":{\"pattern\":{\"fillmode\":\"overlay\",\"size\":10,\"solidity\":0.2}},\"type\":\"histogram\"}],\"scattergl\":[{\"type\":\"scattergl\",\"marker\":{\"colorbar\":{\"outlinewidth\":0,\"ticks\":\"\"}}}],\"scatter3d\":[{\"type\":\"scatter3d\",\"line\":{\"colorbar\":{\"outlinewidth\":0,\"ticks\":\"\"}},\"marker\":{\"colorbar\":{\"outlinewidth\":0,\"ticks\":\"\"}}}],\"scattermapbox\":[{\"type\":\"scattermapbox\",\"marker\":{\"colorbar\":{\"outlinewidth\":0,\"ticks\":\"\"}}}],\"scatterternary\":[{\"type\":\"scatterternary\",\"marker\":{\"colorbar\":{\"outlinewidth\":0,\"ticks\":\"\"}}}],\"scattercarpet\":[{\"type\":\"scattercarpet\",\"marker\":{\"colorbar\":{\"outlinewidth\":0,\"ticks\":\"\"}}}],\"carpet\":[{\"aaxis\":{\"endlinecolor\":\"#2a3f5f\",\"gridcolor\":\"white\",\"linecolor\":\"white\",\"minorgridcolor\":\"white\",\"startlinecolor\":\"#2a3f5f\"},\"baxis\":{\"endlinecolor\":\"#2a3f5f\",\"gridcolor\":\"white\",\"linecolor\":\"white\",\"minorgridcolor\":\"white\",\"startlinecolor\":\"#2a3f5f\"},\"type\":\"carpet\"}],\"table\":[{\"cells\":{\"fill\":{\"color\":\"#EBF0F8\"},\"line\":{\"color\":\"white\"}},\"header\":{\"fill\":{\"color\":\"#C8D4E3\"},\"line\":{\"color\":\"white\"}},\"type\":\"table\"}],\"barpolar\":[{\"marker\":{\"line\":{\"color\":\"#E5ECF6\",\"width\":0.5},\"pattern\":{\"fillmode\":\"overlay\",\"size\":10,\"solidity\":0.2}},\"type\":\"barpolar\"}],\"pie\":[{\"automargin\":true,\"type\":\"pie\"}]},\"layout\":{\"autotypenumbers\":\"strict\",\"colorway\":[\"#636efa\",\"#EF553B\",\"#00cc96\",\"#ab63fa\",\"#FFA15A\",\"#19d3f3\",\"#FF6692\",\"#B6E880\",\"#FF97FF\",\"#FECB52\"],\"font\":{\"color\":\"#2a3f5f\"},\"hovermode\":\"closest\",\"hoverlabel\":{\"align\":\"left\"},\"paper_bgcolor\":\"white\",\"plot_bgcolor\":\"#E5ECF6\",\"polar\":{\"bgcolor\":\"#E5ECF6\",\"angularaxis\":{\"gridcolor\":\"white\",\"linecolor\":\"white\",\"ticks\":\"\"},\"radialaxis\":{\"gridcolor\":\"white\",\"linecolor\":\"white\",\"ticks\":\"\"}},\"ternary\":{\"bgcolor\":\"#E5ECF6\",\"aaxis\":{\"gridcolor\":\"white\",\"linecolor\":\"white\",\"ticks\":\"\"},\"baxis\":{\"gridcolor\":\"white\",\"linecolor\":\"white\",\"ticks\":\"\"},\"caxis\":{\"gridcolor\":\"white\",\"linecolor\":\"white\",\"ticks\":\"\"}},\"coloraxis\":{\"colorbar\":{\"outlinewidth\":0,\"ticks\":\"\"}},\"colorscale\":{\"sequential\":[[0.0,\"#0d0887\"],[0.1111111111111111,\"#46039f\"],[0.2222222222222222,\"#7201a8\"],[0.3333333333333333,\"#9c179e\"],[0.4444444444444444,\"#bd3786\"],[0.5555555555555556,\"#d8576b\"],[0.6666666666666666,\"#ed7953\"],[0.7777777777777778,\"#fb9f3a\"],[0.8888888888888888,\"#fdca26\"],[1.0,\"#f0f921\"]],\"sequentialminus\":[[0.0,\"#0d0887\"],[0.1111111111111111,\"#46039f\"],[0.2222222222222222,\"#7201a8\"],[0.3333333333333333,\"#9c179e\"],[0.4444444444444444,\"#bd3786\"],[0.5555555555555556,\"#d8576b\"],[0.6666666666666666,\"#ed7953\"],[0.7777777777777778,\"#fb9f3a\"],[0.8888888888888888,\"#fdca26\"],[1.0,\"#f0f921\"]],\"diverging\":[[0,\"#8e0152\"],[0.1,\"#c51b7d\"],[0.2,\"#de77ae\"],[0.3,\"#f1b6da\"],[0.4,\"#fde0ef\"],[0.5,\"#f7f7f7\"],[0.6,\"#e6f5d0\"],[0.7,\"#b8e186\"],[0.8,\"#7fbc41\"],[0.9,\"#4d9221\"],[1,\"#276419\"]]},\"xaxis\":{\"gridcolor\":\"white\",\"linecolor\":\"white\",\"ticks\":\"\",\"title\":{\"standoff\":15},\"zerolinecolor\":\"white\",\"automargin\":true,\"zerolinewidth\":2},\"yaxis\":{\"gridcolor\":\"white\",\"linecolor\":\"white\",\"ticks\":\"\",\"title\":{\"standoff\":15},\"zerolinecolor\":\"white\",\"automargin\":true,\"zerolinewidth\":2},\"scene\":{\"xaxis\":{\"backgroundcolor\":\"#E5ECF6\",\"gridcolor\":\"white\",\"linecolor\":\"white\",\"showbackground\":true,\"ticks\":\"\",\"zerolinecolor\":\"white\",\"gridwidth\":2},\"yaxis\":{\"backgroundcolor\":\"#E5ECF6\",\"gridcolor\":\"white\",\"linecolor\":\"white\",\"showbackground\":true,\"ticks\":\"\",\"zerolinecolor\":\"white\",\"gridwidth\":2},\"zaxis\":{\"backgroundcolor\":\"#E5ECF6\",\"gridcolor\":\"white\",\"linecolor\":\"white\",\"showbackground\":true,\"ticks\":\"\",\"zerolinecolor\":\"white\",\"gridwidth\":2}},\"shapedefaults\":{\"line\":{\"color\":\"#2a3f5f\"}},\"annotationdefaults\":{\"arrowcolor\":\"#2a3f5f\",\"arrowhead\":0,\"arrowwidth\":1},\"geo\":{\"bgcolor\":\"white\",\"landcolor\":\"#E5ECF6\",\"subunitcolor\":\"white\",\"showland\":true,\"showlakes\":true,\"lakecolor\":\"white\"},\"title\":{\"x\":0.05},\"mapbox\":{\"style\":\"light\"}}},\"xaxis\":{\"anchor\":\"y\",\"domain\":[0.0,1.0],\"title\":{\"text\":\"Year\"}},\"yaxis\":{\"anchor\":\"x\",\"domain\":[0.0,1.0],\"title\":{\"text\":\"MexicanPercentSeasonal\"}},\"legend\":{\"title\":{\"text\":\"State\"},\"tracegroupgap\":0},\"margin\":{\"t\":60}},                        {\"responsive\": true}                    ).then(function(){\n",
       "                            \n",
       "var gd = document.getElementById('ae5cd4a8-b2f0-488f-8bd4-83e99e5aaf80');\n",
       "var x = new MutationObserver(function (mutations, observer) {{\n",
       "        var display = window.getComputedStyle(gd).display;\n",
       "        if (!display || display === 'none') {{\n",
       "            console.log([gd, 'removed!']);\n",
       "            Plotly.purge(gd);\n",
       "            observer.disconnect();\n",
       "        }}\n",
       "}});\n",
       "\n",
       "// Listen for the removal of the full notebook cells\n",
       "var notebookContainer = gd.closest('#notebook-container');\n",
       "if (notebookContainer) {{\n",
       "    x.observe(notebookContainer, {childList: true});\n",
       "}}\n",
       "\n",
       "// Listen for the clearing of the current output cell\n",
       "var outputEl = gd.closest('.output');\n",
       "if (outputEl) {{\n",
       "    x.observe(outputEl, {childList: true});\n",
       "}}\n",
       "\n",
       "                        })                };                });            </script>        </div>"
      ]
     },
     "metadata": {},
     "output_type": "display_data"
    }
   ],
   "source": [
    "fig2 = px.line(seasonal_year, x='Year', y='MexicanPercentSeasonal', color='State')\n",
    "fig2.show()"
   ]
  },
  {
   "cell_type": "code",
   "execution_count": 252,
   "id": "12014eff-a24e-43ff-98bc-cf06549d1f02",
   "metadata": {},
   "outputs": [
    {
     "data": {
      "text/html": [
       "<div>\n",
       "<style scoped>\n",
       "    .dataframe tbody tr th:only-of-type {\n",
       "        vertical-align: middle;\n",
       "    }\n",
       "\n",
       "    .dataframe tbody tr th {\n",
       "        vertical-align: top;\n",
       "    }\n",
       "\n",
       "    .dataframe thead th {\n",
       "        text-align: right;\n",
       "    }\n",
       "</style>\n",
       "<table border=\"1\" class=\"dataframe\">\n",
       "  <thead>\n",
       "    <tr style=\"text-align: right;\">\n",
       "      <th></th>\n",
       "      <th>State</th>\n",
       "      <th>Year</th>\n",
       "      <th>Month</th>\n",
       "      <th>Region</th>\n",
       "      <th>TotalHiredSeasonal</th>\n",
       "      <th>Mexican</th>\n",
       "      <th>HiredWorkers</th>\n",
       "      <th>Local</th>\n",
       "      <th>Intrastate</th>\n",
       "      <th>Interstate</th>\n",
       "      <th>TotalForeign</th>\n",
       "      <th>MexicanPercent</th>\n",
       "      <th>MexicanPercentSeasonal</th>\n",
       "    </tr>\n",
       "  </thead>\n",
       "  <tbody>\n",
       "    <tr>\n",
       "      <th>325</th>\n",
       "      <td>AZ</td>\n",
       "      <td>1943</td>\n",
       "      <td>6.0</td>\n",
       "      <td>8.0</td>\n",
       "      <td>NaN</td>\n",
       "      <td>1371.0</td>\n",
       "      <td>NaN</td>\n",
       "      <td>NaN</td>\n",
       "      <td>NaN</td>\n",
       "      <td>NaN</td>\n",
       "      <td>NaN</td>\n",
       "      <td>NaN</td>\n",
       "      <td>NaN</td>\n",
       "    </tr>\n",
       "    <tr>\n",
       "      <th>327</th>\n",
       "      <td>AZ</td>\n",
       "      <td>1944</td>\n",
       "      <td>5.0</td>\n",
       "      <td>8.0</td>\n",
       "      <td>NaN</td>\n",
       "      <td>1302.0</td>\n",
       "      <td>NaN</td>\n",
       "      <td>NaN</td>\n",
       "      <td>NaN</td>\n",
       "      <td>NaN</td>\n",
       "      <td>NaN</td>\n",
       "      <td>NaN</td>\n",
       "      <td>NaN</td>\n",
       "    </tr>\n",
       "    <tr>\n",
       "      <th>328</th>\n",
       "      <td>AZ</td>\n",
       "      <td>1946</td>\n",
       "      <td>10.0</td>\n",
       "      <td>8.0</td>\n",
       "      <td>NaN</td>\n",
       "      <td>909.0</td>\n",
       "      <td>159000.0</td>\n",
       "      <td>NaN</td>\n",
       "      <td>NaN</td>\n",
       "      <td>NaN</td>\n",
       "      <td>909.0</td>\n",
       "      <td>0.571698</td>\n",
       "      <td>NaN</td>\n",
       "    </tr>\n",
       "    <tr>\n",
       "      <th>329</th>\n",
       "      <td>AZ</td>\n",
       "      <td>1957</td>\n",
       "      <td>7.0</td>\n",
       "      <td>8.0</td>\n",
       "      <td>17457.0</td>\n",
       "      <td>3698.0</td>\n",
       "      <td>186000.0</td>\n",
       "      <td>10603.0</td>\n",
       "      <td>619.0</td>\n",
       "      <td>1445.0</td>\n",
       "      <td>3698.0</td>\n",
       "      <td>1.988172</td>\n",
       "      <td>21.183479</td>\n",
       "    </tr>\n",
       "    <tr>\n",
       "      <th>330</th>\n",
       "      <td>AZ</td>\n",
       "      <td>1952</td>\n",
       "      <td>1.0</td>\n",
       "      <td>8.0</td>\n",
       "      <td>NaN</td>\n",
       "      <td>4700.0</td>\n",
       "      <td>62000.0</td>\n",
       "      <td>16200.0</td>\n",
       "      <td>NaN</td>\n",
       "      <td>NaN</td>\n",
       "      <td>NaN</td>\n",
       "      <td>7.580645</td>\n",
       "      <td>NaN</td>\n",
       "    </tr>\n",
       "    <tr>\n",
       "      <th>...</th>\n",
       "      <td>...</td>\n",
       "      <td>...</td>\n",
       "      <td>...</td>\n",
       "      <td>...</td>\n",
       "      <td>...</td>\n",
       "      <td>...</td>\n",
       "      <td>...</td>\n",
       "      <td>...</td>\n",
       "      <td>...</td>\n",
       "      <td>...</td>\n",
       "      <td>...</td>\n",
       "      <td>...</td>\n",
       "      <td>...</td>\n",
       "    </tr>\n",
       "    <tr>\n",
       "      <th>15815</th>\n",
       "      <td>WY</td>\n",
       "      <td>1957</td>\n",
       "      <td>8.0</td>\n",
       "      <td>8.0</td>\n",
       "      <td>3090.0</td>\n",
       "      <td>45.0</td>\n",
       "      <td>NaN</td>\n",
       "      <td>1878.0</td>\n",
       "      <td>402.0</td>\n",
       "      <td>700.0</td>\n",
       "      <td>45.0</td>\n",
       "      <td>NaN</td>\n",
       "      <td>1.456311</td>\n",
       "    </tr>\n",
       "    <tr>\n",
       "      <th>15817</th>\n",
       "      <td>WY</td>\n",
       "      <td>1957</td>\n",
       "      <td>7.0</td>\n",
       "      <td>8.0</td>\n",
       "      <td>5555.0</td>\n",
       "      <td>1004.0</td>\n",
       "      <td>186000.0</td>\n",
       "      <td>2269.0</td>\n",
       "      <td>386.0</td>\n",
       "      <td>1871.0</td>\n",
       "      <td>1004.0</td>\n",
       "      <td>0.539785</td>\n",
       "      <td>18.073807</td>\n",
       "    </tr>\n",
       "    <tr>\n",
       "      <th>15823</th>\n",
       "      <td>WY</td>\n",
       "      <td>1959</td>\n",
       "      <td>6.0</td>\n",
       "      <td>8.0</td>\n",
       "      <td>5348.0</td>\n",
       "      <td>1226.0</td>\n",
       "      <td>NaN</td>\n",
       "      <td>1881.0</td>\n",
       "      <td>200.0</td>\n",
       "      <td>2041.0</td>\n",
       "      <td>1226.0</td>\n",
       "      <td>NaN</td>\n",
       "      <td>22.924458</td>\n",
       "    </tr>\n",
       "    <tr>\n",
       "      <th>15826</th>\n",
       "      <td>WY</td>\n",
       "      <td>1961</td>\n",
       "      <td>7.0</td>\n",
       "      <td>8.0</td>\n",
       "      <td>3912.0</td>\n",
       "      <td>148.0</td>\n",
       "      <td>177000.0</td>\n",
       "      <td>1720.0</td>\n",
       "      <td>335.0</td>\n",
       "      <td>1709.0</td>\n",
       "      <td>148.0</td>\n",
       "      <td>0.083616</td>\n",
       "      <td>3.783231</td>\n",
       "    </tr>\n",
       "    <tr>\n",
       "      <th>15828</th>\n",
       "      <td>WY</td>\n",
       "      <td>1943</td>\n",
       "      <td>6.0</td>\n",
       "      <td>8.0</td>\n",
       "      <td>NaN</td>\n",
       "      <td>300.0</td>\n",
       "      <td>NaN</td>\n",
       "      <td>NaN</td>\n",
       "      <td>NaN</td>\n",
       "      <td>NaN</td>\n",
       "      <td>NaN</td>\n",
       "      <td>NaN</td>\n",
       "      <td>NaN</td>\n",
       "    </tr>\n",
       "  </tbody>\n",
       "</table>\n",
       "<p>2417 rows × 13 columns</p>\n",
       "</div>"
      ],
      "text/plain": [
       "      State  Year  Month  Region  TotalHiredSeasonal  Mexican  HiredWorkers  \\\n",
       "325      AZ  1943    6.0     8.0                 NaN   1371.0           NaN   \n",
       "327      AZ  1944    5.0     8.0                 NaN   1302.0           NaN   \n",
       "328      AZ  1946   10.0     8.0                 NaN    909.0      159000.0   \n",
       "329      AZ  1957    7.0     8.0             17457.0   3698.0      186000.0   \n",
       "330      AZ  1952    1.0     8.0                 NaN   4700.0       62000.0   \n",
       "...     ...   ...    ...     ...                 ...      ...           ...   \n",
       "15815    WY  1957    8.0     8.0              3090.0     45.0           NaN   \n",
       "15817    WY  1957    7.0     8.0              5555.0   1004.0      186000.0   \n",
       "15823    WY  1959    6.0     8.0              5348.0   1226.0           NaN   \n",
       "15826    WY  1961    7.0     8.0              3912.0    148.0      177000.0   \n",
       "15828    WY  1943    6.0     8.0                 NaN    300.0           NaN   \n",
       "\n",
       "         Local  Intrastate  Interstate  TotalForeign  MexicanPercent  \\\n",
       "325        NaN         NaN         NaN           NaN             NaN   \n",
       "327        NaN         NaN         NaN           NaN             NaN   \n",
       "328        NaN         NaN         NaN         909.0        0.571698   \n",
       "329    10603.0       619.0      1445.0        3698.0        1.988172   \n",
       "330    16200.0         NaN         NaN           NaN        7.580645   \n",
       "...        ...         ...         ...           ...             ...   \n",
       "15815   1878.0       402.0       700.0          45.0             NaN   \n",
       "15817   2269.0       386.0      1871.0        1004.0        0.539785   \n",
       "15823   1881.0       200.0      2041.0        1226.0             NaN   \n",
       "15826   1720.0       335.0      1709.0         148.0        0.083616   \n",
       "15828      NaN         NaN         NaN           NaN             NaN   \n",
       "\n",
       "       MexicanPercentSeasonal  \n",
       "325                       NaN  \n",
       "327                       NaN  \n",
       "328                       NaN  \n",
       "329                 21.183479  \n",
       "330                       NaN  \n",
       "...                       ...  \n",
       "15815                1.456311  \n",
       "15817               18.073807  \n",
       "15823               22.924458  \n",
       "15826                3.783231  \n",
       "15828                     NaN  \n",
       "\n",
       "[2417 rows x 13 columns]"
      ]
     },
     "execution_count": 252,
     "metadata": {},
     "output_type": "execute_result"
    }
   ],
   "source": [
    "mexican_df = farmworkers_df[farmworkers_df['Mexican'].notna()]\n",
    "mexican_df = farmworkers_df[farmworkers_df['Mexican'] > 0.0]\n",
    "mexican_df"
   ]
  },
  {
   "cell_type": "code",
   "execution_count": 254,
   "id": "03687953-6155-444a-b281-90c2216c0c78",
   "metadata": {},
   "outputs": [
    {
     "data": {
      "text/html": [
       "<div>\n",
       "<style scoped>\n",
       "    .dataframe tbody tr th:only-of-type {\n",
       "        vertical-align: middle;\n",
       "    }\n",
       "\n",
       "    .dataframe tbody tr th {\n",
       "        vertical-align: top;\n",
       "    }\n",
       "\n",
       "    .dataframe thead th {\n",
       "        text-align: right;\n",
       "    }\n",
       "</style>\n",
       "<table border=\"1\" class=\"dataframe\">\n",
       "  <thead>\n",
       "    <tr style=\"text-align: right;\">\n",
       "      <th></th>\n",
       "      <th>State</th>\n",
       "      <th>Year</th>\n",
       "      <th>Mexican</th>\n",
       "    </tr>\n",
       "  </thead>\n",
       "  <tbody>\n",
       "    <tr>\n",
       "      <th>0</th>\n",
       "      <td>AR</td>\n",
       "      <td>1951</td>\n",
       "      <td>10950.000000</td>\n",
       "    </tr>\n",
       "    <tr>\n",
       "      <th>1</th>\n",
       "      <td>AR</td>\n",
       "      <td>1952</td>\n",
       "      <td>7823.125000</td>\n",
       "    </tr>\n",
       "    <tr>\n",
       "      <th>2</th>\n",
       "      <td>AR</td>\n",
       "      <td>1953</td>\n",
       "      <td>7084.285714</td>\n",
       "    </tr>\n",
       "    <tr>\n",
       "      <th>3</th>\n",
       "      <td>AR</td>\n",
       "      <td>1954</td>\n",
       "      <td>6071.428571</td>\n",
       "    </tr>\n",
       "    <tr>\n",
       "      <th>4</th>\n",
       "      <td>AR</td>\n",
       "      <td>1955</td>\n",
       "      <td>7803.571429</td>\n",
       "    </tr>\n",
       "    <tr>\n",
       "      <th>...</th>\n",
       "      <td>...</td>\n",
       "      <td>...</td>\n",
       "      <td>...</td>\n",
       "    </tr>\n",
       "    <tr>\n",
       "      <th>403</th>\n",
       "      <td>WY</td>\n",
       "      <td>1960</td>\n",
       "      <td>351.250000</td>\n",
       "    </tr>\n",
       "    <tr>\n",
       "      <th>404</th>\n",
       "      <td>WY</td>\n",
       "      <td>1961</td>\n",
       "      <td>476.000000</td>\n",
       "    </tr>\n",
       "    <tr>\n",
       "      <th>405</th>\n",
       "      <td>WY</td>\n",
       "      <td>1962</td>\n",
       "      <td>396.000000</td>\n",
       "    </tr>\n",
       "    <tr>\n",
       "      <th>406</th>\n",
       "      <td>WY</td>\n",
       "      <td>1963</td>\n",
       "      <td>621.666667</td>\n",
       "    </tr>\n",
       "    <tr>\n",
       "      <th>407</th>\n",
       "      <td>WY</td>\n",
       "      <td>1964</td>\n",
       "      <td>592.333333</td>\n",
       "    </tr>\n",
       "  </tbody>\n",
       "</table>\n",
       "<p>408 rows × 3 columns</p>\n",
       "</div>"
      ],
      "text/plain": [
       "    State  Year       Mexican\n",
       "0      AR  1951  10950.000000\n",
       "1      AR  1952   7823.125000\n",
       "2      AR  1953   7084.285714\n",
       "3      AR  1954   6071.428571\n",
       "4      AR  1955   7803.571429\n",
       "..    ...   ...           ...\n",
       "403    WY  1960    351.250000\n",
       "404    WY  1961    476.000000\n",
       "405    WY  1962    396.000000\n",
       "406    WY  1963    621.666667\n",
       "407    WY  1964    592.333333\n",
       "\n",
       "[408 rows x 3 columns]"
      ]
     },
     "execution_count": 254,
     "metadata": {},
     "output_type": "execute_result"
    }
   ],
   "source": [
    "mexican_total = mexican_df.groupby(['State', 'Year'])['Mexican'].mean().reset_index()\n",
    "mexican_total"
   ]
  },
  {
   "cell_type": "code",
   "execution_count": 256,
   "id": "19a766d8-b0db-42b7-b205-8e268f98bad3",
   "metadata": {},
   "outputs": [
    {
     "data": {
      "application/vnd.plotly.v1+json": {
       "config": {
        "plotlyServerURL": "https://plot.ly"
       },
       "data": [
        {
         "hovertemplate": "State=AR<br>Year=%{x}<br>Mexican=%{y}<extra></extra>",
         "legendgroup": "AR",
         "line": {
          "color": "#636efa",
          "dash": "solid"
         },
         "marker": {
          "symbol": "circle"
         },
         "mode": "lines",
         "name": "AR",
         "orientation": "v",
         "showlegend": true,
         "type": "scatter",
         "x": [
          1951,
          1952,
          1953,
          1954,
          1955,
          1956,
          1957,
          1958,
          1959,
          1960,
          1961,
          1962,
          1963,
          1964
         ],
         "xaxis": "x",
         "y": [
          10950,
          7823.125,
          7084.285714285715,
          6071.428571428572,
          7803.571428571428,
          10728.166666666666,
          8229,
          4834.142857142857,
          13682.333333333334,
          11003.57142857143,
          7742.428571428572,
          3330,
          2755.6,
          1508.7142857142858
         ],
         "yaxis": "y"
        },
        {
         "hovertemplate": "State=AZ<br>Year=%{x}<br>Mexican=%{y}<extra></extra>",
         "legendgroup": "AZ",
         "line": {
          "color": "#EF553B",
          "dash": "solid"
         },
         "marker": {
          "symbol": "circle"
         },
         "mode": "lines",
         "name": "AZ",
         "orientation": "v",
         "showlegend": true,
         "type": "scatter",
         "x": [
          1943,
          1944,
          1945,
          1946,
          1947,
          1948,
          1949,
          1950,
          1951,
          1952,
          1953,
          1954,
          1955,
          1956,
          1957,
          1958,
          1959,
          1960,
          1961,
          1962,
          1963,
          1964
         ],
         "xaxis": "x",
         "y": [
          1292.75,
          1207.5833333333333,
          1672.1818181818182,
          1281.4166666666667,
          900.5,
          187.25,
          6200,
          1225,
          4208.333333333333,
          6658.333333333333,
          6081.916666666667,
          6575.666666666667,
          7055.125,
          9256.375,
          8849.75,
          11655.375,
          10465.142857142857,
          9118.285714285714,
          7294.857142857143,
          4938.5,
          4296,
          3729.6666666666665
         ],
         "yaxis": "y"
        },
        {
         "hovertemplate": "State=CA<br>Year=%{x}<br>Mexican=%{y}<extra></extra>",
         "legendgroup": "CA",
         "line": {
          "color": "#00cc96",
          "dash": "solid"
         },
         "marker": {
          "symbol": "circle"
         },
         "mode": "lines",
         "name": "CA",
         "orientation": "v",
         "showlegend": true,
         "type": "scatter",
         "x": [
          1943,
          1944,
          1945,
          1946,
          1947,
          1948,
          1949,
          1950,
          1951,
          1952,
          1953,
          1954,
          1955,
          1956,
          1957,
          1958,
          1959,
          1960,
          1961,
          1962,
          1963,
          1964,
          1965,
          1966,
          1967
         ],
         "xaxis": "x",
         "y": [
          20181.5,
          24252.583333333332,
          25927.363636363636,
          16745.333333333332,
          11412.833333333334,
          7783.333333333333,
          4858.333333333333,
          7475,
          18600,
          23008.333333333332,
          25262.5,
          28827.5,
          48325,
          59838.125,
          62054.125,
          55781.125,
          52834.28571428572,
          50784.28571428572,
          43270,
          39878.75,
          26690.833333333332,
          26770.833333333332,
          5592.6,
          2772,
          5850
         ],
         "yaxis": "y"
        },
        {
         "hovertemplate": "State=CO<br>Year=%{x}<br>Mexican=%{y}<extra></extra>",
         "legendgroup": "CO",
         "line": {
          "color": "#ab63fa",
          "dash": "solid"
         },
         "marker": {
          "symbol": "circle"
         },
         "mode": "lines",
         "name": "CO",
         "orientation": "v",
         "showlegend": true,
         "type": "scatter",
         "x": [
          1943,
          1944,
          1945,
          1946,
          1947,
          1949,
          1950,
          1953,
          1954,
          1955,
          1956,
          1957,
          1958,
          1959,
          1960,
          1961,
          1962,
          1963,
          1964
         ],
         "xaxis": "x",
         "y": [
          578.875,
          1449.090909090909,
          1113.7272727272727,
          793.1666666666666,
          518,
          234,
          812,
          710.4,
          659.2,
          1200,
          1783.8333333333333,
          1924.2857142857142,
          1761.857142857143,
          2166.6666666666665,
          2231.8571428571427,
          3032.6666666666665,
          3191.6666666666665,
          2811.4285714285716,
          2624.5714285714284
         ],
         "yaxis": "y"
        },
        {
         "hovertemplate": "State=DE<br>Year=%{x}<br>Mexican=%{y}<extra></extra>",
         "legendgroup": "DE",
         "line": {
          "color": "#FFA15A",
          "dash": "solid"
         },
         "marker": {
          "symbol": "circle"
         },
         "mode": "lines",
         "name": "DE",
         "orientation": "v",
         "showlegend": true,
         "type": "scatter",
         "x": [
          1957
         ],
         "xaxis": "x",
         "y": [
          115
         ],
         "yaxis": "y"
        },
        {
         "hovertemplate": "State=GA<br>Year=%{x}<br>Mexican=%{y}<extra></extra>",
         "legendgroup": "GA",
         "line": {
          "color": "#19d3f3",
          "dash": "solid"
         },
         "marker": {
          "symbol": "circle"
         },
         "mode": "lines",
         "name": "GA",
         "orientation": "v",
         "showlegend": true,
         "type": "scatter",
         "x": [
          1953,
          1954,
          1955,
          1956,
          1957,
          1958,
          1959,
          1960,
          1961
         ],
         "xaxis": "x",
         "y": [
          1152,
          212.5,
          242.33333333333334,
          646.6666666666666,
          888,
          439,
          821,
          644.5,
          763.5
         ],
         "yaxis": "y"
        },
        {
         "hovertemplate": "State=IA<br>Year=%{x}<br>Mexican=%{y}<extra></extra>",
         "legendgroup": "IA",
         "line": {
          "color": "#FF6692",
          "dash": "solid"
         },
         "marker": {
          "symbol": "circle"
         },
         "mode": "lines",
         "name": "IA",
         "orientation": "v",
         "showlegend": true,
         "type": "scatter",
         "x": [
          1944,
          1945,
          1946,
          1947,
          1953,
          1956,
          1957,
          1958,
          1959,
          1960,
          1961,
          1962
         ],
         "xaxis": "x",
         "y": [
          329.25,
          292.7142857142857,
          423.375,
          172.57142857142858,
          40,
          30.666666666666668,
          32,
          44,
          48.333333333333336,
          70.66666666666667,
          193,
          98.5
         ],
         "yaxis": "y"
        },
        {
         "hovertemplate": "State=ID<br>Year=%{x}<br>Mexican=%{y}<extra></extra>",
         "legendgroup": "ID",
         "line": {
          "color": "#B6E880",
          "dash": "solid"
         },
         "marker": {
          "symbol": "circle"
         },
         "mode": "lines",
         "name": "ID",
         "orientation": "v",
         "showlegend": true,
         "type": "scatter",
         "x": [
          1943,
          1944,
          1945,
          1946,
          1947,
          1953,
          1954,
          1955,
          1956,
          1957
         ],
         "xaxis": "x",
         "y": [
          622.5,
          1463.0833333333333,
          2012.8181818181818,
          1519,
          1957.111111111111,
          223.75,
          159.4,
          179.2,
          177.2,
          127.2
         ],
         "yaxis": "y"
        },
        {
         "hovertemplate": "State=IL<br>Year=%{x}<br>Mexican=%{y}<extra></extra>",
         "legendgroup": "IL",
         "line": {
          "color": "#FF97FF",
          "dash": "solid"
         },
         "marker": {
          "symbol": "circle"
         },
         "mode": "lines",
         "name": "IL",
         "orientation": "v",
         "showlegend": true,
         "type": "scatter",
         "x": [
          1944,
          1945,
          1946,
          1947,
          1953,
          1954,
          1955,
          1956,
          1957,
          1958,
          1959,
          1960,
          1961,
          1962,
          1963
         ],
         "xaxis": "x",
         "y": [
          576.75,
          312.6666666666667,
          379.1111111111111,
          269.1666666666667,
          24.6,
          74.57142857142857,
          159,
          140.66666666666666,
          150,
          112.33333333333333,
          82.5,
          123,
          47.5,
          113,
          35
         ],
         "yaxis": "y"
        },
        {
         "hovertemplate": "State=IN<br>Year=%{x}<br>Mexican=%{y}<extra></extra>",
         "legendgroup": "IN",
         "line": {
          "color": "#FECB52",
          "dash": "solid"
         },
         "marker": {
          "symbol": "circle"
         },
         "mode": "lines",
         "name": "IN",
         "orientation": "v",
         "showlegend": true,
         "type": "scatter",
         "x": [
          1944,
          1945,
          1946,
          1947,
          1952,
          1953,
          1954,
          1955,
          1956,
          1957,
          1958,
          1959,
          1960,
          1961,
          1962,
          1963,
          1964
         ],
         "xaxis": "x",
         "y": [
          74.5,
          191.11111111111111,
          107.16666666666667,
          86.875,
          310,
          210.25,
          116.25,
          166.5,
          158,
          255.2,
          222,
          187.4,
          218.5,
          293,
          202.5,
          185.5,
          101
         ],
         "yaxis": "y"
        },
        {
         "hovertemplate": "State=KS<br>Year=%{x}<br>Mexican=%{y}<extra></extra>",
         "legendgroup": "KS",
         "line": {
          "color": "#636efa",
          "dash": "solid"
         },
         "marker": {
          "symbol": "circle"
         },
         "mode": "lines",
         "name": "KS",
         "orientation": "v",
         "showlegend": true,
         "type": "scatter",
         "x": [
          1943,
          1944,
          1945,
          1946,
          1947,
          1956,
          1957,
          1958,
          1959,
          1960,
          1961,
          1962,
          1963,
          1964
         ],
         "xaxis": "x",
         "y": [
          62.25,
          218.85714285714286,
          104.7,
          180.58333333333334,
          188.55555555555554,
          28.666666666666668,
          95,
          39,
          12.6,
          14.166666666666666,
          34,
          78.5,
          80.5,
          143.33333333333334
         ],
         "yaxis": "y"
        },
        {
         "hovertemplate": "State=KY<br>Year=%{x}<br>Mexican=%{y}<extra></extra>",
         "legendgroup": "KY",
         "line": {
          "color": "#EF553B",
          "dash": "solid"
         },
         "marker": {
          "symbol": "circle"
         },
         "mode": "lines",
         "name": "KY",
         "orientation": "v",
         "showlegend": true,
         "type": "scatter",
         "x": [
          1953,
          1956,
          1957,
          1958,
          1959,
          1960,
          1961
         ],
         "xaxis": "x",
         "y": [
          73.5,
          193.5,
          142.4,
          96,
          162.6,
          94.25,
          57
         ],
         "yaxis": "y"
        },
        {
         "hovertemplate": "State=LA<br>Year=%{x}<br>Mexican=%{y}<extra></extra>",
         "legendgroup": "LA",
         "line": {
          "color": "#00cc96",
          "dash": "solid"
         },
         "marker": {
          "symbol": "circle"
         },
         "mode": "lines",
         "name": "LA",
         "orientation": "v",
         "showlegend": true,
         "type": "scatter",
         "x": [
          1953
         ],
         "xaxis": "x",
         "y": [
          245.71428571428572
         ],
         "yaxis": "y"
        },
        {
         "hovertemplate": "State=MI<br>Year=%{x}<br>Mexican=%{y}<extra></extra>",
         "legendgroup": "MI",
         "line": {
          "color": "#ab63fa",
          "dash": "solid"
         },
         "marker": {
          "symbol": "circle"
         },
         "mode": "lines",
         "name": "MI",
         "orientation": "v",
         "showlegend": true,
         "type": "scatter",
         "x": [
          1944,
          1945,
          1946,
          1947,
          1948,
          1951,
          1952,
          1953,
          1954,
          1955,
          1956,
          1957,
          1958,
          1959,
          1960,
          1961,
          1962,
          1963,
          1964
         ],
         "xaxis": "x",
         "y": [
          1735,
          2040,
          1036.25,
          54.54545454545455,
          745.3333333333334,
          1286.4,
          1475.1666666666667,
          1587.1666666666667,
          2707.3333333333335,
          2816.5,
          4121.833333333333,
          5506.4,
          3715,
          4062.2,
          4258.4,
          4544.8,
          3176.6,
          4735.5,
          3814.25
         ],
         "yaxis": "y"
        },
        {
         "hovertemplate": "State=MN<br>Year=%{x}<br>Mexican=%{y}<extra></extra>",
         "legendgroup": "MN",
         "line": {
          "color": "#FFA15A",
          "dash": "solid"
         },
         "marker": {
          "symbol": "circle"
         },
         "mode": "lines",
         "name": "MN",
         "orientation": "v",
         "showlegend": true,
         "type": "scatter",
         "x": [
          1943,
          1944,
          1945,
          1946,
          1947,
          1953,
          1954,
          1955,
          1956,
          1957,
          1958,
          1959,
          1960,
          1961,
          1962,
          1963,
          1964
         ],
         "xaxis": "x",
         "y": [
          235.5,
          612,
          669.6,
          1029.5,
          990.8571428571429,
          615.3333333333334,
          138,
          104,
          155,
          259.8333333333333,
          100,
          58,
          49,
          37.5,
          29.333333333333332,
          26.333333333333332,
          14
         ],
         "yaxis": "y"
        },
        {
         "hovertemplate": "State=MO<br>Year=%{x}<br>Mexican=%{y}<extra></extra>",
         "legendgroup": "MO",
         "line": {
          "color": "#19d3f3",
          "dash": "solid"
         },
         "marker": {
          "symbol": "circle"
         },
         "mode": "lines",
         "name": "MO",
         "orientation": "v",
         "showlegend": true,
         "type": "scatter",
         "x": [
          1953,
          1954,
          1955,
          1956,
          1957,
          1958,
          1959,
          1960
         ],
         "xaxis": "x",
         "y": [
          1650,
          1162.6666666666667,
          906,
          938.3333333333334,
          227.5,
          685,
          497,
          194.75
         ],
         "yaxis": "y"
        },
        {
         "hovertemplate": "State=MT<br>Year=%{x}<br>Mexican=%{y}<extra></extra>",
         "legendgroup": "MT",
         "line": {
          "color": "#FF6692",
          "dash": "solid"
         },
         "marker": {
          "symbol": "circle"
         },
         "mode": "lines",
         "name": "MT",
         "orientation": "v",
         "showlegend": true,
         "type": "scatter",
         "x": [
          1943,
          1944,
          1945,
          1946,
          1947,
          1953,
          1954,
          1955,
          1956,
          1957,
          1958,
          1959,
          1960,
          1961,
          1962,
          1963,
          1964
         ],
         "xaxis": "x",
         "y": [
          1029.125,
          1985.5454545454545,
          1669.3636363636363,
          1081.0833333333333,
          986.7,
          847,
          877.6666666666666,
          627.6666666666666,
          1507,
          2082.5,
          831,
          1217,
          1002,
          798.6666666666666,
          1010.6666666666666,
          981.6666666666666,
          983.5
         ],
         "yaxis": "y"
        },
        {
         "hovertemplate": "State=NC<br>Year=%{x}<br>Mexican=%{y}<extra></extra>",
         "legendgroup": "NC",
         "line": {
          "color": "#B6E880",
          "dash": "solid"
         },
         "marker": {
          "symbol": "circle"
         },
         "mode": "lines",
         "name": "NC",
         "orientation": "v",
         "showlegend": true,
         "type": "scatter",
         "x": [
          1947
         ],
         "xaxis": "x",
         "y": [
          330.3333333333333
         ],
         "yaxis": "y"
        },
        {
         "hovertemplate": "State=ND<br>Year=%{x}<br>Mexican=%{y}<extra></extra>",
         "legendgroup": "ND",
         "line": {
          "color": "#FF97FF",
          "dash": "solid"
         },
         "marker": {
          "symbol": "circle"
         },
         "mode": "lines",
         "name": "ND",
         "orientation": "v",
         "showlegend": true,
         "type": "scatter",
         "x": [
          1943,
          1944,
          1945,
          1946,
          1947,
          1953,
          1957,
          1958,
          1959,
          1960,
          1961
         ],
         "xaxis": "x",
         "y": [
          199.5,
          1502.8,
          1035.75,
          242.25,
          58.22222222222222,
          80,
          170,
          249,
          36,
          54,
          108
         ],
         "yaxis": "y"
        },
        {
         "hovertemplate": "State=NE<br>Year=%{x}<br>Mexican=%{y}<extra></extra>",
         "legendgroup": "NE",
         "line": {
          "color": "#FECB52",
          "dash": "solid"
         },
         "marker": {
          "symbol": "circle"
         },
         "mode": "lines",
         "name": "NE",
         "orientation": "v",
         "showlegend": true,
         "type": "scatter",
         "x": [
          1943,
          1944,
          1945,
          1946,
          1947,
          1953,
          1954,
          1955,
          1956,
          1957,
          1958,
          1959,
          1960,
          1961,
          1962,
          1963,
          1964
         ],
         "xaxis": "x",
         "y": [
          182.5,
          425.6666666666667,
          684.2727272727273,
          663.8333333333334,
          505.90909090909093,
          698,
          209.5,
          123.85714285714286,
          450.8,
          896.6666666666666,
          1201.5,
          1072,
          811.3333333333334,
          765.3333333333334,
          702,
          681.75,
          546.3333333333334
         ],
         "yaxis": "y"
        },
        {
         "hovertemplate": "State=NH<br>Year=%{x}<br>Mexican=%{y}<extra></extra>",
         "legendgroup": "NH",
         "line": {
          "color": "#636efa",
          "dash": "solid"
         },
         "marker": {
          "symbol": "circle"
         },
         "mode": "lines",
         "name": "NH",
         "orientation": "v",
         "showlegend": true,
         "type": "scatter",
         "x": [
          1956
         ],
         "xaxis": "x",
         "y": [
          79
         ],
         "yaxis": "y"
        },
        {
         "hovertemplate": "State=NM<br>Year=%{x}<br>Mexican=%{y}<extra></extra>",
         "legendgroup": "NM",
         "line": {
          "color": "#EF553B",
          "dash": "solid"
         },
         "marker": {
          "symbol": "circle"
         },
         "mode": "lines",
         "name": "NM",
         "orientation": "v",
         "showlegend": true,
         "type": "scatter",
         "x": [
          1946,
          1948,
          1953,
          1954,
          1955,
          1956,
          1957,
          1958,
          1959,
          1960,
          1961,
          1962,
          1963,
          1964
         ],
         "xaxis": "x",
         "y": [
          22.375,
          7356,
          10231.857142857143,
          6132.166666666667,
          7462.875,
          7570.75,
          7945,
          9124.625,
          9087.285714285714,
          6082.142857142857,
          4514.142857142857,
          1443.25,
          543.75,
          393.6
         ],
         "yaxis": "y"
        },
        {
         "hovertemplate": "State=NV<br>Year=%{x}<br>Mexican=%{y}<extra></extra>",
         "legendgroup": "NV",
         "line": {
          "color": "#00cc96",
          "dash": "solid"
         },
         "marker": {
          "symbol": "circle"
         },
         "mode": "lines",
         "name": "NV",
         "orientation": "v",
         "showlegend": true,
         "type": "scatter",
         "x": [
          1943,
          1944,
          1945,
          1946,
          1947,
          1953,
          1954,
          1955,
          1956,
          1957,
          1958,
          1959,
          1960,
          1961,
          1962,
          1963
         ],
         "xaxis": "x",
         "y": [
          281.14285714285717,
          304.5,
          443.3636363636364,
          220,
          119.08333333333333,
          82,
          60,
          43,
          22.333333333333332,
          31,
          39.57142857142857,
          37.714285714285715,
          60.857142857142854,
          25.142857142857142,
          29,
          29
         ],
         "yaxis": "y"
        },
        {
         "hovertemplate": "State=NY<br>Year=%{x}<br>Mexican=%{y}<extra></extra>",
         "legendgroup": "NY",
         "line": {
          "color": "#ab63fa",
          "dash": "solid"
         },
         "marker": {
          "symbol": "circle"
         },
         "mode": "lines",
         "name": "NY",
         "orientation": "v",
         "showlegend": true,
         "type": "scatter",
         "x": [
          1947
         ],
         "xaxis": "x",
         "y": [
          173.66666666666666
         ],
         "yaxis": "y"
        },
        {
         "hovertemplate": "State=OH<br>Year=%{x}<br>Mexican=%{y}<extra></extra>",
         "legendgroup": "OH",
         "line": {
          "color": "#FFA15A",
          "dash": "solid"
         },
         "marker": {
          "symbol": "circle"
         },
         "mode": "lines",
         "name": "OH",
         "orientation": "v",
         "showlegend": true,
         "type": "scatter",
         "x": [
          1944,
          1945,
          1956,
          1957
         ],
         "xaxis": "x",
         "y": [
          129,
          80.75,
          50,
          64
         ],
         "yaxis": "y"
        },
        {
         "hovertemplate": "State=OR<br>Year=%{x}<br>Mexican=%{y}<extra></extra>",
         "legendgroup": "OR",
         "line": {
          "color": "#19d3f3",
          "dash": "solid"
         },
         "marker": {
          "symbol": "circle"
         },
         "mode": "lines",
         "name": "OR",
         "orientation": "v",
         "showlegend": true,
         "type": "scatter",
         "x": [
          1943,
          1944,
          1945,
          1946,
          1947,
          1952,
          1953,
          1955,
          1956,
          1957,
          1958,
          1959,
          1960,
          1961,
          1962,
          1963,
          1964
         ],
         "xaxis": "x",
         "y": [
          1537.375,
          1893.5,
          1786.1818181818182,
          901.8333333333334,
          486,
          425.25,
          159,
          590.5,
          349.6,
          205,
          199,
          359,
          349,
          327,
          234,
          67,
          187
         ],
         "yaxis": "y"
        },
        {
         "hovertemplate": "State=SD<br>Year=%{x}<br>Mexican=%{y}<extra></extra>",
         "legendgroup": "SD",
         "line": {
          "color": "#FF6692",
          "dash": "solid"
         },
         "marker": {
          "symbol": "circle"
         },
         "mode": "lines",
         "name": "SD",
         "orientation": "v",
         "showlegend": true,
         "type": "scatter",
         "x": [
          1943,
          1944,
          1945,
          1946,
          1947,
          1953,
          1954,
          1955,
          1956,
          1957,
          1958,
          1959,
          1960,
          1961,
          1962,
          1963,
          1964
         ],
         "xaxis": "x",
         "y": [
          73.625,
          308.1666666666667,
          340.5,
          204.75,
          144.8181818181818,
          185,
          209.5,
          111,
          202,
          296,
          167.5,
          216,
          229,
          125.5,
          84,
          49,
          51
         ],
         "yaxis": "y"
        },
        {
         "hovertemplate": "State=TN<br>Year=%{x}<br>Mexican=%{y}<extra></extra>",
         "legendgroup": "TN",
         "line": {
          "color": "#B6E880",
          "dash": "solid"
         },
         "marker": {
          "symbol": "circle"
         },
         "mode": "lines",
         "name": "TN",
         "orientation": "v",
         "showlegend": true,
         "type": "scatter",
         "x": [
          1953,
          1954,
          1955,
          1956,
          1957,
          1958,
          1959,
          1960,
          1961,
          1962
         ],
         "xaxis": "x",
         "y": [
          749.5,
          315,
          548.6666666666666,
          376.2,
          453.2,
          269.75,
          503.2,
          478.75,
          331,
          165
         ],
         "yaxis": "y"
        },
        {
         "hovertemplate": "State=TX<br>Year=%{x}<br>Mexican=%{y}<extra></extra>",
         "legendgroup": "TX",
         "line": {
          "color": "#FF97FF",
          "dash": "solid"
         },
         "marker": {
          "symbol": "circle"
         },
         "mode": "lines",
         "name": "TX",
         "orientation": "v",
         "showlegend": true,
         "type": "scatter",
         "x": [
          1953,
          1954,
          1955,
          1956,
          1957,
          1958,
          1959,
          1960,
          1961,
          1962,
          1963,
          1964
         ],
         "xaxis": "x",
         "y": [
          23678.833333333332,
          42494.71428571428,
          59150,
          62053.875,
          58357.375,
          75889,
          81808,
          60503.42857142857,
          55131.57142857143,
          17185,
          8906.75,
          6895
         ],
         "yaxis": "y"
        },
        {
         "hovertemplate": "State=UT<br>Year=%{x}<br>Mexican=%{y}<extra></extra>",
         "legendgroup": "UT",
         "line": {
          "color": "#FECB52",
          "dash": "solid"
         },
         "marker": {
          "symbol": "circle"
         },
         "mode": "lines",
         "name": "UT",
         "orientation": "v",
         "showlegend": true,
         "type": "scatter",
         "x": [
          1944,
          1945,
          1946,
          1947,
          1953,
          1954,
          1955,
          1956,
          1957,
          1958,
          1959,
          1960,
          1961,
          1962,
          1963,
          1964
         ],
         "xaxis": "x",
         "y": [
          516.25,
          492.6363636363636,
          410.3333333333333,
          586.8181818181819,
          234.25,
          182,
          217.66666666666666,
          305.1666666666667,
          461.3333333333333,
          291.6666666666667,
          335.6,
          259.2857142857143,
          208.33333333333334,
          312,
          291.3333333333333,
          275.5
         ],
         "yaxis": "y"
        },
        {
         "hovertemplate": "State=WA<br>Year=%{x}<br>Mexican=%{y}<extra></extra>",
         "legendgroup": "WA",
         "line": {
          "color": "#636efa",
          "dash": "solid"
         },
         "marker": {
          "symbol": "circle"
         },
         "mode": "lines",
         "name": "WA",
         "orientation": "v",
         "showlegend": true,
         "type": "scatter",
         "x": [
          1943,
          1944,
          1945,
          1946,
          1947,
          1953,
          1954,
          1955,
          1956,
          1957,
          1960
         ],
         "xaxis": "x",
         "y": [
          1114.875,
          1822.9166666666667,
          2342.3636363636365,
          1174.8333333333333,
          457.22222222222223,
          605.1428571428571,
          176.2,
          271.5,
          242.71428571428572,
          451.2,
          60
         ],
         "yaxis": "y"
        },
        {
         "hovertemplate": "State=WI<br>Year=%{x}<br>Mexican=%{y}<extra></extra>",
         "legendgroup": "WI",
         "line": {
          "color": "#EF553B",
          "dash": "solid"
         },
         "marker": {
          "symbol": "circle"
         },
         "mode": "lines",
         "name": "WI",
         "orientation": "v",
         "showlegend": true,
         "type": "scatter",
         "x": [
          1944,
          1945,
          1946,
          1947,
          1953,
          1954,
          1955,
          1956,
          1957,
          1958,
          1959,
          1960,
          1961,
          1962,
          1963,
          1964
         ],
         "xaxis": "x",
         "y": [
          344.5,
          401,
          448.8333333333333,
          686.9166666666666,
          351,
          251.25,
          251.4,
          490.3333333333333,
          424.85714285714283,
          258.8,
          275.8,
          307.6,
          197.83333333333334,
          213,
          279.75,
          314.75
         ],
         "yaxis": "y"
        },
        {
         "hovertemplate": "State=WY<br>Year=%{x}<br>Mexican=%{y}<extra></extra>",
         "legendgroup": "WY",
         "line": {
          "color": "#00cc96",
          "dash": "solid"
         },
         "marker": {
          "symbol": "circle"
         },
         "mode": "lines",
         "name": "WY",
         "orientation": "v",
         "showlegend": true,
         "type": "scatter",
         "x": [
          1943,
          1944,
          1945,
          1946,
          1947,
          1953,
          1954,
          1955,
          1956,
          1957,
          1958,
          1959,
          1960,
          1961,
          1962,
          1963,
          1964
         ],
         "xaxis": "x",
         "y": [
          273.875,
          437.90909090909093,
          247.1818181818182,
          453,
          258.6363636363636,
          473,
          281.25,
          282,
          523.8,
          518.2,
          394.8,
          434.5,
          351.25,
          476,
          396,
          621.6666666666666,
          592.3333333333334
         ],
         "yaxis": "y"
        }
       ],
       "layout": {
        "autosize": true,
        "legend": {
         "title": {
          "text": "State"
         },
         "tracegroupgap": 0
        },
        "margin": {
         "t": 60
        },
        "template": {
         "data": {
          "bar": [
           {
            "error_x": {
             "color": "#2a3f5f"
            },
            "error_y": {
             "color": "#2a3f5f"
            },
            "marker": {
             "line": {
              "color": "#E5ECF6",
              "width": 0.5
             },
             "pattern": {
              "fillmode": "overlay",
              "size": 10,
              "solidity": 0.2
             }
            },
            "type": "bar"
           }
          ],
          "barpolar": [
           {
            "marker": {
             "line": {
              "color": "#E5ECF6",
              "width": 0.5
             },
             "pattern": {
              "fillmode": "overlay",
              "size": 10,
              "solidity": 0.2
             }
            },
            "type": "barpolar"
           }
          ],
          "carpet": [
           {
            "aaxis": {
             "endlinecolor": "#2a3f5f",
             "gridcolor": "white",
             "linecolor": "white",
             "minorgridcolor": "white",
             "startlinecolor": "#2a3f5f"
            },
            "baxis": {
             "endlinecolor": "#2a3f5f",
             "gridcolor": "white",
             "linecolor": "white",
             "minorgridcolor": "white",
             "startlinecolor": "#2a3f5f"
            },
            "type": "carpet"
           }
          ],
          "choropleth": [
           {
            "colorbar": {
             "outlinewidth": 0,
             "ticks": ""
            },
            "type": "choropleth"
           }
          ],
          "contour": [
           {
            "colorbar": {
             "outlinewidth": 0,
             "ticks": ""
            },
            "colorscale": [
             [
              0,
              "#0d0887"
             ],
             [
              0.1111111111111111,
              "#46039f"
             ],
             [
              0.2222222222222222,
              "#7201a8"
             ],
             [
              0.3333333333333333,
              "#9c179e"
             ],
             [
              0.4444444444444444,
              "#bd3786"
             ],
             [
              0.5555555555555556,
              "#d8576b"
             ],
             [
              0.6666666666666666,
              "#ed7953"
             ],
             [
              0.7777777777777778,
              "#fb9f3a"
             ],
             [
              0.8888888888888888,
              "#fdca26"
             ],
             [
              1,
              "#f0f921"
             ]
            ],
            "type": "contour"
           }
          ],
          "contourcarpet": [
           {
            "colorbar": {
             "outlinewidth": 0,
             "ticks": ""
            },
            "type": "contourcarpet"
           }
          ],
          "heatmap": [
           {
            "colorbar": {
             "outlinewidth": 0,
             "ticks": ""
            },
            "colorscale": [
             [
              0,
              "#0d0887"
             ],
             [
              0.1111111111111111,
              "#46039f"
             ],
             [
              0.2222222222222222,
              "#7201a8"
             ],
             [
              0.3333333333333333,
              "#9c179e"
             ],
             [
              0.4444444444444444,
              "#bd3786"
             ],
             [
              0.5555555555555556,
              "#d8576b"
             ],
             [
              0.6666666666666666,
              "#ed7953"
             ],
             [
              0.7777777777777778,
              "#fb9f3a"
             ],
             [
              0.8888888888888888,
              "#fdca26"
             ],
             [
              1,
              "#f0f921"
             ]
            ],
            "type": "heatmap"
           }
          ],
          "heatmapgl": [
           {
            "colorbar": {
             "outlinewidth": 0,
             "ticks": ""
            },
            "colorscale": [
             [
              0,
              "#0d0887"
             ],
             [
              0.1111111111111111,
              "#46039f"
             ],
             [
              0.2222222222222222,
              "#7201a8"
             ],
             [
              0.3333333333333333,
              "#9c179e"
             ],
             [
              0.4444444444444444,
              "#bd3786"
             ],
             [
              0.5555555555555556,
              "#d8576b"
             ],
             [
              0.6666666666666666,
              "#ed7953"
             ],
             [
              0.7777777777777778,
              "#fb9f3a"
             ],
             [
              0.8888888888888888,
              "#fdca26"
             ],
             [
              1,
              "#f0f921"
             ]
            ],
            "type": "heatmapgl"
           }
          ],
          "histogram": [
           {
            "marker": {
             "pattern": {
              "fillmode": "overlay",
              "size": 10,
              "solidity": 0.2
             }
            },
            "type": "histogram"
           }
          ],
          "histogram2d": [
           {
            "colorbar": {
             "outlinewidth": 0,
             "ticks": ""
            },
            "colorscale": [
             [
              0,
              "#0d0887"
             ],
             [
              0.1111111111111111,
              "#46039f"
             ],
             [
              0.2222222222222222,
              "#7201a8"
             ],
             [
              0.3333333333333333,
              "#9c179e"
             ],
             [
              0.4444444444444444,
              "#bd3786"
             ],
             [
              0.5555555555555556,
              "#d8576b"
             ],
             [
              0.6666666666666666,
              "#ed7953"
             ],
             [
              0.7777777777777778,
              "#fb9f3a"
             ],
             [
              0.8888888888888888,
              "#fdca26"
             ],
             [
              1,
              "#f0f921"
             ]
            ],
            "type": "histogram2d"
           }
          ],
          "histogram2dcontour": [
           {
            "colorbar": {
             "outlinewidth": 0,
             "ticks": ""
            },
            "colorscale": [
             [
              0,
              "#0d0887"
             ],
             [
              0.1111111111111111,
              "#46039f"
             ],
             [
              0.2222222222222222,
              "#7201a8"
             ],
             [
              0.3333333333333333,
              "#9c179e"
             ],
             [
              0.4444444444444444,
              "#bd3786"
             ],
             [
              0.5555555555555556,
              "#d8576b"
             ],
             [
              0.6666666666666666,
              "#ed7953"
             ],
             [
              0.7777777777777778,
              "#fb9f3a"
             ],
             [
              0.8888888888888888,
              "#fdca26"
             ],
             [
              1,
              "#f0f921"
             ]
            ],
            "type": "histogram2dcontour"
           }
          ],
          "mesh3d": [
           {
            "colorbar": {
             "outlinewidth": 0,
             "ticks": ""
            },
            "type": "mesh3d"
           }
          ],
          "parcoords": [
           {
            "line": {
             "colorbar": {
              "outlinewidth": 0,
              "ticks": ""
             }
            },
            "type": "parcoords"
           }
          ],
          "pie": [
           {
            "automargin": true,
            "type": "pie"
           }
          ],
          "scatter": [
           {
            "fillpattern": {
             "fillmode": "overlay",
             "size": 10,
             "solidity": 0.2
            },
            "type": "scatter"
           }
          ],
          "scatter3d": [
           {
            "line": {
             "colorbar": {
              "outlinewidth": 0,
              "ticks": ""
             }
            },
            "marker": {
             "colorbar": {
              "outlinewidth": 0,
              "ticks": ""
             }
            },
            "type": "scatter3d"
           }
          ],
          "scattercarpet": [
           {
            "marker": {
             "colorbar": {
              "outlinewidth": 0,
              "ticks": ""
             }
            },
            "type": "scattercarpet"
           }
          ],
          "scattergeo": [
           {
            "marker": {
             "colorbar": {
              "outlinewidth": 0,
              "ticks": ""
             }
            },
            "type": "scattergeo"
           }
          ],
          "scattergl": [
           {
            "marker": {
             "colorbar": {
              "outlinewidth": 0,
              "ticks": ""
             }
            },
            "type": "scattergl"
           }
          ],
          "scattermapbox": [
           {
            "marker": {
             "colorbar": {
              "outlinewidth": 0,
              "ticks": ""
             }
            },
            "type": "scattermapbox"
           }
          ],
          "scatterpolar": [
           {
            "marker": {
             "colorbar": {
              "outlinewidth": 0,
              "ticks": ""
             }
            },
            "type": "scatterpolar"
           }
          ],
          "scatterpolargl": [
           {
            "marker": {
             "colorbar": {
              "outlinewidth": 0,
              "ticks": ""
             }
            },
            "type": "scatterpolargl"
           }
          ],
          "scatterternary": [
           {
            "marker": {
             "colorbar": {
              "outlinewidth": 0,
              "ticks": ""
             }
            },
            "type": "scatterternary"
           }
          ],
          "surface": [
           {
            "colorbar": {
             "outlinewidth": 0,
             "ticks": ""
            },
            "colorscale": [
             [
              0,
              "#0d0887"
             ],
             [
              0.1111111111111111,
              "#46039f"
             ],
             [
              0.2222222222222222,
              "#7201a8"
             ],
             [
              0.3333333333333333,
              "#9c179e"
             ],
             [
              0.4444444444444444,
              "#bd3786"
             ],
             [
              0.5555555555555556,
              "#d8576b"
             ],
             [
              0.6666666666666666,
              "#ed7953"
             ],
             [
              0.7777777777777778,
              "#fb9f3a"
             ],
             [
              0.8888888888888888,
              "#fdca26"
             ],
             [
              1,
              "#f0f921"
             ]
            ],
            "type": "surface"
           }
          ],
          "table": [
           {
            "cells": {
             "fill": {
              "color": "#EBF0F8"
             },
             "line": {
              "color": "white"
             }
            },
            "header": {
             "fill": {
              "color": "#C8D4E3"
             },
             "line": {
              "color": "white"
             }
            },
            "type": "table"
           }
          ]
         },
         "layout": {
          "annotationdefaults": {
           "arrowcolor": "#2a3f5f",
           "arrowhead": 0,
           "arrowwidth": 1
          },
          "autotypenumbers": "strict",
          "coloraxis": {
           "colorbar": {
            "outlinewidth": 0,
            "ticks": ""
           }
          },
          "colorscale": {
           "diverging": [
            [
             0,
             "#8e0152"
            ],
            [
             0.1,
             "#c51b7d"
            ],
            [
             0.2,
             "#de77ae"
            ],
            [
             0.3,
             "#f1b6da"
            ],
            [
             0.4,
             "#fde0ef"
            ],
            [
             0.5,
             "#f7f7f7"
            ],
            [
             0.6,
             "#e6f5d0"
            ],
            [
             0.7,
             "#b8e186"
            ],
            [
             0.8,
             "#7fbc41"
            ],
            [
             0.9,
             "#4d9221"
            ],
            [
             1,
             "#276419"
            ]
           ],
           "sequential": [
            [
             0,
             "#0d0887"
            ],
            [
             0.1111111111111111,
             "#46039f"
            ],
            [
             0.2222222222222222,
             "#7201a8"
            ],
            [
             0.3333333333333333,
             "#9c179e"
            ],
            [
             0.4444444444444444,
             "#bd3786"
            ],
            [
             0.5555555555555556,
             "#d8576b"
            ],
            [
             0.6666666666666666,
             "#ed7953"
            ],
            [
             0.7777777777777778,
             "#fb9f3a"
            ],
            [
             0.8888888888888888,
             "#fdca26"
            ],
            [
             1,
             "#f0f921"
            ]
           ],
           "sequentialminus": [
            [
             0,
             "#0d0887"
            ],
            [
             0.1111111111111111,
             "#46039f"
            ],
            [
             0.2222222222222222,
             "#7201a8"
            ],
            [
             0.3333333333333333,
             "#9c179e"
            ],
            [
             0.4444444444444444,
             "#bd3786"
            ],
            [
             0.5555555555555556,
             "#d8576b"
            ],
            [
             0.6666666666666666,
             "#ed7953"
            ],
            [
             0.7777777777777778,
             "#fb9f3a"
            ],
            [
             0.8888888888888888,
             "#fdca26"
            ],
            [
             1,
             "#f0f921"
            ]
           ]
          },
          "colorway": [
           "#636efa",
           "#EF553B",
           "#00cc96",
           "#ab63fa",
           "#FFA15A",
           "#19d3f3",
           "#FF6692",
           "#B6E880",
           "#FF97FF",
           "#FECB52"
          ],
          "font": {
           "color": "#2a3f5f"
          },
          "geo": {
           "bgcolor": "white",
           "lakecolor": "white",
           "landcolor": "#E5ECF6",
           "showlakes": true,
           "showland": true,
           "subunitcolor": "white"
          },
          "hoverlabel": {
           "align": "left"
          },
          "hovermode": "closest",
          "mapbox": {
           "style": "light"
          },
          "paper_bgcolor": "white",
          "plot_bgcolor": "#E5ECF6",
          "polar": {
           "angularaxis": {
            "gridcolor": "white",
            "linecolor": "white",
            "ticks": ""
           },
           "bgcolor": "#E5ECF6",
           "radialaxis": {
            "gridcolor": "white",
            "linecolor": "white",
            "ticks": ""
           }
          },
          "scene": {
           "xaxis": {
            "backgroundcolor": "#E5ECF6",
            "gridcolor": "white",
            "gridwidth": 2,
            "linecolor": "white",
            "showbackground": true,
            "ticks": "",
            "zerolinecolor": "white"
           },
           "yaxis": {
            "backgroundcolor": "#E5ECF6",
            "gridcolor": "white",
            "gridwidth": 2,
            "linecolor": "white",
            "showbackground": true,
            "ticks": "",
            "zerolinecolor": "white"
           },
           "zaxis": {
            "backgroundcolor": "#E5ECF6",
            "gridcolor": "white",
            "gridwidth": 2,
            "linecolor": "white",
            "showbackground": true,
            "ticks": "",
            "zerolinecolor": "white"
           }
          },
          "shapedefaults": {
           "line": {
            "color": "#2a3f5f"
           }
          },
          "ternary": {
           "aaxis": {
            "gridcolor": "white",
            "linecolor": "white",
            "ticks": ""
           },
           "baxis": {
            "gridcolor": "white",
            "linecolor": "white",
            "ticks": ""
           },
           "bgcolor": "#E5ECF6",
           "caxis": {
            "gridcolor": "white",
            "linecolor": "white",
            "ticks": ""
           }
          },
          "title": {
           "x": 0.05
          },
          "xaxis": {
           "automargin": true,
           "gridcolor": "white",
           "linecolor": "white",
           "ticks": "",
           "title": {
            "standoff": 15
           },
           "zerolinecolor": "white",
           "zerolinewidth": 2
          },
          "yaxis": {
           "automargin": true,
           "gridcolor": "white",
           "linecolor": "white",
           "ticks": "",
           "title": {
            "standoff": 15
           },
           "zerolinecolor": "white",
           "zerolinewidth": 2
          }
         }
        },
        "xaxis": {
         "anchor": "y",
         "autorange": true,
         "domain": [
          0,
          1
         ],
         "range": [
          1943,
          1967
         ],
         "title": {
          "text": "Year"
         },
         "type": "linear"
        },
        "yaxis": {
         "anchor": "x",
         "autorange": true,
         "domain": [
          0,
          1
         ],
         "range": [
          -4531.5888888888885,
          86352.1888888889
         ],
         "title": {
          "text": "Mexican"
         },
         "type": "linear"
        }
       }
      },
      "image/png": "[encoded data removed]",
      "text/html": [
       "<div>                            <div id=\"a036e30d-41c5-47bf-b969-84be9ee35542\" class=\"plotly-graph-div\" style=\"height:525px; width:100%;\"></div>            <script type=\"text/javascript\">                require([\"plotly\"], function(Plotly) {                    window.PLOTLYENV=window.PLOTLYENV || {};                                    if (document.getElementById(\"a036e30d-41c5-47bf-b969-84be9ee35542\")) {                    Plotly.newPlot(                        \"a036e30d-41c5-47bf-b969-84be9ee35542\",                        [{\"hovertemplate\":\"State=AR\\u003cbr\\u003eYear=%{x}\\u003cbr\\u003eMexican=%{y}\\u003cextra\\u003e\\u003c\\u002fextra\\u003e\",\"legendgroup\":\"AR\",\"line\":{\"color\":\"#636efa\",\"dash\":\"solid\"},\"marker\":{\"symbol\":\"circle\"},\"mode\":\"lines\",\"name\":\"AR\",\"orientation\":\"v\",\"showlegend\":true,\"x\":[1951,1952,1953,1954,1955,1956,1957,1958,1959,1960,1961,1962,1963,1964],\"xaxis\":\"x\",\"y\":[10950.0,7823.125,7084.285714285715,6071.428571428572,7803.571428571428,10728.166666666666,8229.0,4834.142857142857,13682.333333333334,11003.57142857143,7742.428571428572,3330.0,2755.6,1508.7142857142858],\"yaxis\":\"y\",\"type\":\"scatter\"},{\"hovertemplate\":\"State=AZ\\u003cbr\\u003eYear=%{x}\\u003cbr\\u003eMexican=%{y}\\u003cextra\\u003e\\u003c\\u002fextra\\u003e\",\"legendgroup\":\"AZ\",\"line\":{\"color\":\"#EF553B\",\"dash\":\"solid\"},\"marker\":{\"symbol\":\"circle\"},\"mode\":\"lines\",\"name\":\"AZ\",\"orientation\":\"v\",\"showlegend\":true,\"x\":[1943,1944,1945,1946,1947,1948,1949,1950,1951,1952,1953,1954,1955,1956,1957,1958,1959,1960,1961,1962,1963,1964],\"xaxis\":\"x\",\"y\":[1292.75,1207.5833333333333,1672.1818181818182,1281.4166666666667,900.5,187.25,6200.0,1225.0,4208.333333333333,6658.333333333333,6081.916666666667,6575.666666666667,7055.125,9256.375,8849.75,11655.375,10465.142857142857,9118.285714285714,7294.857142857143,4938.5,4296.0,3729.6666666666665],\"yaxis\":\"y\",\"type\":\"scatter\"},{\"hovertemplate\":\"State=CA\\u003cbr\\u003eYear=%{x}\\u003cbr\\u003eMexican=%{y}\\u003cextra\\u003e\\u003c\\u002fextra\\u003e\",\"legendgroup\":\"CA\",\"line\":{\"color\":\"#00cc96\",\"dash\":\"solid\"},\"marker\":{\"symbol\":\"circle\"},\"mode\":\"lines\",\"name\":\"CA\",\"orientation\":\"v\",\"showlegend\":true,\"x\":[1943,1944,1945,1946,1947,1948,1949,1950,1951,1952,1953,1954,1955,1956,1957,1958,1959,1960,1961,1962,1963,1964,1965,1966,1967],\"xaxis\":\"x\",\"y\":[20181.5,24252.583333333332,25927.363636363636,16745.333333333332,11412.833333333334,7783.333333333333,4858.333333333333,7475.0,18600.0,23008.333333333332,25262.5,28827.5,48325.0,59838.125,62054.125,55781.125,52834.28571428572,50784.28571428572,43270.0,39878.75,26690.833333333332,26770.833333333332,5592.6,2772.0,5850.0],\"yaxis\":\"y\",\"type\":\"scatter\"},{\"hovertemplate\":\"State=CO\\u003cbr\\u003eYear=%{x}\\u003cbr\\u003eMexican=%{y}\\u003cextra\\u003e\\u003c\\u002fextra\\u003e\",\"legendgroup\":\"CO\",\"line\":{\"color\":\"#ab63fa\",\"dash\":\"solid\"},\"marker\":{\"symbol\":\"circle\"},\"mode\":\"lines\",\"name\":\"CO\",\"orientation\":\"v\",\"showlegend\":true,\"x\":[1943,1944,1945,1946,1947,1949,1950,1953,1954,1955,1956,1957,1958,1959,1960,1961,1962,1963,1964],\"xaxis\":\"x\",\"y\":[578.875,1449.090909090909,1113.7272727272727,793.1666666666666,518.0,234.0,812.0,710.4,659.2,1200.0,1783.8333333333333,1924.2857142857142,1761.857142857143,2166.6666666666665,2231.8571428571427,3032.6666666666665,3191.6666666666665,2811.4285714285716,2624.5714285714284],\"yaxis\":\"y\",\"type\":\"scatter\"},{\"hovertemplate\":\"State=DE\\u003cbr\\u003eYear=%{x}\\u003cbr\\u003eMexican=%{y}\\u003cextra\\u003e\\u003c\\u002fextra\\u003e\",\"legendgroup\":\"DE\",\"line\":{\"color\":\"#FFA15A\",\"dash\":\"solid\"},\"marker\":{\"symbol\":\"circle\"},\"mode\":\"lines\",\"name\":\"DE\",\"orientation\":\"v\",\"showlegend\":true,\"x\":[1957],\"xaxis\":\"x\",\"y\":[115.0],\"yaxis\":\"y\",\"type\":\"scatter\"},{\"hovertemplate\":\"State=GA\\u003cbr\\u003eYear=%{x}\\u003cbr\\u003eMexican=%{y}\\u003cextra\\u003e\\u003c\\u002fextra\\u003e\",\"legendgroup\":\"GA\",\"line\":{\"color\":\"#19d3f3\",\"dash\":\"solid\"},\"marker\":{\"symbol\":\"circle\"},\"mode\":\"lines\",\"name\":\"GA\",\"orientation\":\"v\",\"showlegend\":true,\"x\":[1953,1954,1955,1956,1957,1958,1959,1960,1961],\"xaxis\":\"x\",\"y\":[1152.0,212.5,242.33333333333334,646.6666666666666,888.0,439.0,821.0,644.5,763.5],\"yaxis\":\"y\",\"type\":\"scatter\"},{\"hovertemplate\":\"State=IA\\u003cbr\\u003eYear=%{x}\\u003cbr\\u003eMexican=%{y}\\u003cextra\\u003e\\u003c\\u002fextra\\u003e\",\"legendgroup\":\"IA\",\"line\":{\"color\":\"#FF6692\",\"dash\":\"solid\"},\"marker\":{\"symbol\":\"circle\"},\"mode\":\"lines\",\"name\":\"IA\",\"orientation\":\"v\",\"showlegend\":true,\"x\":[1944,1945,1946,1947,1953,1956,1957,1958,1959,1960,1961,1962],\"xaxis\":\"x\",\"y\":[329.25,292.7142857142857,423.375,172.57142857142858,40.0,30.666666666666668,32.0,44.0,48.333333333333336,70.66666666666667,193.0,98.5],\"yaxis\":\"y\",\"type\":\"scatter\"},{\"hovertemplate\":\"State=ID\\u003cbr\\u003eYear=%{x}\\u003cbr\\u003eMexican=%{y}\\u003cextra\\u003e\\u003c\\u002fextra\\u003e\",\"legendgroup\":\"ID\",\"line\":{\"color\":\"#B6E880\",\"dash\":\"solid\"},\"marker\":{\"symbol\":\"circle\"},\"mode\":\"lines\",\"name\":\"ID\",\"orientation\":\"v\",\"showlegend\":true,\"x\":[1943,1944,1945,1946,1947,1953,1954,1955,1956,1957],\"xaxis\":\"x\",\"y\":[622.5,1463.0833333333333,2012.8181818181818,1519.0,1957.111111111111,223.75,159.4,179.2,177.2,127.2],\"yaxis\":\"y\",\"type\":\"scatter\"},{\"hovertemplate\":\"State=IL\\u003cbr\\u003eYear=%{x}\\u003cbr\\u003eMexican=%{y}\\u003cextra\\u003e\\u003c\\u002fextra\\u003e\",\"legendgroup\":\"IL\",\"line\":{\"color\":\"#FF97FF\",\"dash\":\"solid\"},\"marker\":{\"symbol\":\"circle\"},\"mode\":\"lines\",\"name\":\"IL\",\"orientation\":\"v\",\"showlegend\":true,\"x\":[1944,1945,1946,1947,1953,1954,1955,1956,1957,1958,1959,1960,1961,1962,1963],\"xaxis\":\"x\",\"y\":[576.75,312.6666666666667,379.1111111111111,269.1666666666667,24.6,74.57142857142857,159.0,140.66666666666666,150.0,112.33333333333333,82.5,123.0,47.5,113.0,35.0],\"yaxis\":\"y\",\"type\":\"scatter\"},{\"hovertemplate\":\"State=IN\\u003cbr\\u003eYear=%{x}\\u003cbr\\u003eMexican=%{y}\\u003cextra\\u003e\\u003c\\u002fextra\\u003e\",\"legendgroup\":\"IN\",\"line\":{\"color\":\"#FECB52\",\"dash\":\"solid\"},\"marker\":{\"symbol\":\"circle\"},\"mode\":\"lines\",\"name\":\"IN\",\"orientation\":\"v\",\"showlegend\":true,\"x\":[1944,1945,1946,1947,1952,1953,1954,1955,1956,1957,1958,1959,1960,1961,1962,1963,1964],\"xaxis\":\"x\",\"y\":[74.5,191.11111111111111,107.16666666666667,86.875,310.0,210.25,116.25,166.5,158.0,255.2,222.0,187.4,218.5,293.0,202.5,185.5,101.0],\"yaxis\":\"y\",\"type\":\"scatter\"},{\"hovertemplate\":\"State=KS\\u003cbr\\u003eYear=%{x}\\u003cbr\\u003eMexican=%{y}\\u003cextra\\u003e\\u003c\\u002fextra\\u003e\",\"legendgroup\":\"KS\",\"line\":{\"color\":\"#636efa\",\"dash\":\"solid\"},\"marker\":{\"symbol\":\"circle\"},\"mode\":\"lines\",\"name\":\"KS\",\"orientation\":\"v\",\"showlegend\":true,\"x\":[1943,1944,1945,1946,1947,1956,1957,1958,1959,1960,1961,1962,1963,1964],\"xaxis\":\"x\",\"y\":[62.25,218.85714285714286,104.7,180.58333333333334,188.55555555555554,28.666666666666668,95.0,39.0,12.6,14.166666666666666,34.0,78.5,80.5,143.33333333333334],\"yaxis\":\"y\",\"type\":\"scatter\"},{\"hovertemplate\":\"State=KY\\u003cbr\\u003eYear=%{x}\\u003cbr\\u003eMexican=%{y}\\u003cextra\\u003e\\u003c\\u002fextra\\u003e\",\"legendgroup\":\"KY\",\"line\":{\"color\":\"#EF553B\",\"dash\":\"solid\"},\"marker\":{\"symbol\":\"circle\"},\"mode\":\"lines\",\"name\":\"KY\",\"orientation\":\"v\",\"showlegend\":true,\"x\":[1953,1956,1957,1958,1959,1960,1961],\"xaxis\":\"x\",\"y\":[73.5,193.5,142.4,96.0,162.6,94.25,57.0],\"yaxis\":\"y\",\"type\":\"scatter\"},{\"hovertemplate\":\"State=LA\\u003cbr\\u003eYear=%{x}\\u003cbr\\u003eMexican=%{y}\\u003cextra\\u003e\\u003c\\u002fextra\\u003e\",\"legendgroup\":\"LA\",\"line\":{\"color\":\"#00cc96\",\"dash\":\"solid\"},\"marker\":{\"symbol\":\"circle\"},\"mode\":\"lines\",\"name\":\"LA\",\"orientation\":\"v\",\"showlegend\":true,\"x\":[1953],\"xaxis\":\"x\",\"y\":[245.71428571428572],\"yaxis\":\"y\",\"type\":\"scatter\"},{\"hovertemplate\":\"State=MI\\u003cbr\\u003eYear=%{x}\\u003cbr\\u003eMexican=%{y}\\u003cextra\\u003e\\u003c\\u002fextra\\u003e\",\"legendgroup\":\"MI\",\"line\":{\"color\":\"#ab63fa\",\"dash\":\"solid\"},\"marker\":{\"symbol\":\"circle\"},\"mode\":\"lines\",\"name\":\"MI\",\"orientation\":\"v\",\"showlegend\":true,\"x\":[1944,1945,1946,1947,1948,1951,1952,1953,1954,1955,1956,1957,1958,1959,1960,1961,1962,1963,1964],\"xaxis\":\"x\",\"y\":[1735.0,2040.0,1036.25,54.54545454545455,745.3333333333334,1286.4,1475.1666666666667,1587.1666666666667,2707.3333333333335,2816.5,4121.833333333333,5506.4,3715.0,4062.2,4258.4,4544.8,3176.6,4735.5,3814.25],\"yaxis\":\"y\",\"type\":\"scatter\"},{\"hovertemplate\":\"State=MN\\u003cbr\\u003eYear=%{x}\\u003cbr\\u003eMexican=%{y}\\u003cextra\\u003e\\u003c\\u002fextra\\u003e\",\"legendgroup\":\"MN\",\"line\":{\"color\":\"#FFA15A\",\"dash\":\"solid\"},\"marker\":{\"symbol\":\"circle\"},\"mode\":\"lines\",\"name\":\"MN\",\"orientation\":\"v\",\"showlegend\":true,\"x\":[1943,1944,1945,1946,1947,1953,1954,1955,1956,1957,1958,1959,1960,1961,1962,1963,1964],\"xaxis\":\"x\",\"y\":[235.5,612.0,669.6,1029.5,990.8571428571429,615.3333333333334,138.0,104.0,155.0,259.8333333333333,100.0,58.0,49.0,37.5,29.333333333333332,26.333333333333332,14.0],\"yaxis\":\"y\",\"type\":\"scatter\"},{\"hovertemplate\":\"State=MO\\u003cbr\\u003eYear=%{x}\\u003cbr\\u003eMexican=%{y}\\u003cextra\\u003e\\u003c\\u002fextra\\u003e\",\"legendgroup\":\"MO\",\"line\":{\"color\":\"#19d3f3\",\"dash\":\"solid\"},\"marker\":{\"symbol\":\"circle\"},\"mode\":\"lines\",\"name\":\"MO\",\"orientation\":\"v\",\"showlegend\":true,\"x\":[1953,1954,1955,1956,1957,1958,1959,1960],\"xaxis\":\"x\",\"y\":[1650.0,1162.6666666666667,906.0,938.3333333333334,227.5,685.0,497.0,194.75],\"yaxis\":\"y\",\"type\":\"scatter\"},{\"hovertemplate\":\"State=MT\\u003cbr\\u003eYear=%{x}\\u003cbr\\u003eMexican=%{y}\\u003cextra\\u003e\\u003c\\u002fextra\\u003e\",\"legendgroup\":\"MT\",\"line\":{\"color\":\"#FF6692\",\"dash\":\"solid\"},\"marker\":{\"symbol\":\"circle\"},\"mode\":\"lines\",\"name\":\"MT\",\"orientation\":\"v\",\"showlegend\":true,\"x\":[1943,1944,1945,1946,1947,1953,1954,1955,1956,1957,1958,1959,1960,1961,1962,1963,1964],\"xaxis\":\"x\",\"y\":[1029.125,1985.5454545454545,1669.3636363636363,1081.0833333333333,986.7,847.0,877.6666666666666,627.6666666666666,1507.0,2082.5,831.0,1217.0,1002.0,798.6666666666666,1010.6666666666666,981.6666666666666,983.5],\"yaxis\":\"y\",\"type\":\"scatter\"},{\"hovertemplate\":\"State=NC\\u003cbr\\u003eYear=%{x}\\u003cbr\\u003eMexican=%{y}\\u003cextra\\u003e\\u003c\\u002fextra\\u003e\",\"legendgroup\":\"NC\",\"line\":{\"color\":\"#B6E880\",\"dash\":\"solid\"},\"marker\":{\"symbol\":\"circle\"},\"mode\":\"lines\",\"name\":\"NC\",\"orientation\":\"v\",\"showlegend\":true,\"x\":[1947],\"xaxis\":\"x\",\"y\":[330.3333333333333],\"yaxis\":\"y\",\"type\":\"scatter\"},{\"hovertemplate\":\"State=ND\\u003cbr\\u003eYear=%{x}\\u003cbr\\u003eMexican=%{y}\\u003cextra\\u003e\\u003c\\u002fextra\\u003e\",\"legendgroup\":\"ND\",\"line\":{\"color\":\"#FF97FF\",\"dash\":\"solid\"},\"marker\":{\"symbol\":\"circle\"},\"mode\":\"lines\",\"name\":\"ND\",\"orientation\":\"v\",\"showlegend\":true,\"x\":[1943,1944,1945,1946,1947,1953,1957,1958,1959,1960,1961],\"xaxis\":\"x\",\"y\":[199.5,1502.8,1035.75,242.25,58.22222222222222,80.0,170.0,249.0,36.0,54.0,108.0],\"yaxis\":\"y\",\"type\":\"scatter\"},{\"hovertemplate\":\"State=NE\\u003cbr\\u003eYear=%{x}\\u003cbr\\u003eMexican=%{y}\\u003cextra\\u003e\\u003c\\u002fextra\\u003e\",\"legendgroup\":\"NE\",\"line\":{\"color\":\"#FECB52\",\"dash\":\"solid\"},\"marker\":{\"symbol\":\"circle\"},\"mode\":\"lines\",\"name\":\"NE\",\"orientation\":\"v\",\"showlegend\":true,\"x\":[1943,1944,1945,1946,1947,1953,1954,1955,1956,1957,1958,1959,1960,1961,1962,1963,1964],\"xaxis\":\"x\",\"y\":[182.5,425.6666666666667,684.2727272727273,663.8333333333334,505.90909090909093,698.0,209.5,123.85714285714286,450.8,896.6666666666666,1201.5,1072.0,811.3333333333334,765.3333333333334,702.0,681.75,546.3333333333334],\"yaxis\":\"y\",\"type\":\"scatter\"},{\"hovertemplate\":\"State=NH\\u003cbr\\u003eYear=%{x}\\u003cbr\\u003eMexican=%{y}\\u003cextra\\u003e\\u003c\\u002fextra\\u003e\",\"legendgroup\":\"NH\",\"line\":{\"color\":\"#636efa\",\"dash\":\"solid\"},\"marker\":{\"symbol\":\"circle\"},\"mode\":\"lines\",\"name\":\"NH\",\"orientation\":\"v\",\"showlegend\":true,\"x\":[1956],\"xaxis\":\"x\",\"y\":[79.0],\"yaxis\":\"y\",\"type\":\"scatter\"},{\"hovertemplate\":\"State=NM\\u003cbr\\u003eYear=%{x}\\u003cbr\\u003eMexican=%{y}\\u003cextra\\u003e\\u003c\\u002fextra\\u003e\",\"legendgroup\":\"NM\",\"line\":{\"color\":\"#EF553B\",\"dash\":\"solid\"},\"marker\":{\"symbol\":\"circle\"},\"mode\":\"lines\",\"name\":\"NM\",\"orientation\":\"v\",\"showlegend\":true,\"x\":[1946,1948,1953,1954,1955,1956,1957,1958,1959,1960,1961,1962,1963,1964],\"xaxis\":\"x\",\"y\":[22.375,7356.0,10231.857142857143,6132.166666666667,7462.875,7570.75,7945.0,9124.625,9087.285714285714,6082.142857142857,4514.142857142857,1443.25,543.75,393.6],\"yaxis\":\"y\",\"type\":\"scatter\"},{\"hovertemplate\":\"State=NV\\u003cbr\\u003eYear=%{x}\\u003cbr\\u003eMexican=%{y}\\u003cextra\\u003e\\u003c\\u002fextra\\u003e\",\"legendgroup\":\"NV\",\"line\":{\"color\":\"#00cc96\",\"dash\":\"solid\"},\"marker\":{\"symbol\":\"circle\"},\"mode\":\"lines\",\"name\":\"NV\",\"orientation\":\"v\",\"showlegend\":true,\"x\":[1943,1944,1945,1946,1947,1953,1954,1955,1956,1957,1958,1959,1960,1961,1962,1963],\"xaxis\":\"x\",\"y\":[281.14285714285717,304.5,443.3636363636364,220.0,119.08333333333333,82.0,60.0,43.0,22.333333333333332,31.0,39.57142857142857,37.714285714285715,60.857142857142854,25.142857142857142,29.0,29.0],\"yaxis\":\"y\",\"type\":\"scatter\"},{\"hovertemplate\":\"State=NY\\u003cbr\\u003eYear=%{x}\\u003cbr\\u003eMexican=%{y}\\u003cextra\\u003e\\u003c\\u002fextra\\u003e\",\"legendgroup\":\"NY\",\"line\":{\"color\":\"#ab63fa\",\"dash\":\"solid\"},\"marker\":{\"symbol\":\"circle\"},\"mode\":\"lines\",\"name\":\"NY\",\"orientation\":\"v\",\"showlegend\":true,\"x\":[1947],\"xaxis\":\"x\",\"y\":[173.66666666666666],\"yaxis\":\"y\",\"type\":\"scatter\"},{\"hovertemplate\":\"State=OH\\u003cbr\\u003eYear=%{x}\\u003cbr\\u003eMexican=%{y}\\u003cextra\\u003e\\u003c\\u002fextra\\u003e\",\"legendgroup\":\"OH\",\"line\":{\"color\":\"#FFA15A\",\"dash\":\"solid\"},\"marker\":{\"symbol\":\"circle\"},\"mode\":\"lines\",\"name\":\"OH\",\"orientation\":\"v\",\"showlegend\":true,\"x\":[1944,1945,1956,1957],\"xaxis\":\"x\",\"y\":[129.0,80.75,50.0,64.0],\"yaxis\":\"y\",\"type\":\"scatter\"},{\"hovertemplate\":\"State=OR\\u003cbr\\u003eYear=%{x}\\u003cbr\\u003eMexican=%{y}\\u003cextra\\u003e\\u003c\\u002fextra\\u003e\",\"legendgroup\":\"OR\",\"line\":{\"color\":\"#19d3f3\",\"dash\":\"solid\"},\"marker\":{\"symbol\":\"circle\"},\"mode\":\"lines\",\"name\":\"OR\",\"orientation\":\"v\",\"showlegend\":true,\"x\":[1943,1944,1945,1946,1947,1952,1953,1955,1956,1957,1958,1959,1960,1961,1962,1963,1964],\"xaxis\":\"x\",\"y\":[1537.375,1893.5,1786.1818181818182,901.8333333333334,486.0,425.25,159.0,590.5,349.6,205.0,199.0,359.0,349.0,327.0,234.0,67.0,187.0],\"yaxis\":\"y\",\"type\":\"scatter\"},{\"hovertemplate\":\"State=SD\\u003cbr\\u003eYear=%{x}\\u003cbr\\u003eMexican=%{y}\\u003cextra\\u003e\\u003c\\u002fextra\\u003e\",\"legendgroup\":\"SD\",\"line\":{\"color\":\"#FF6692\",\"dash\":\"solid\"},\"marker\":{\"symbol\":\"circle\"},\"mode\":\"lines\",\"name\":\"SD\",\"orientation\":\"v\",\"showlegend\":true,\"x\":[1943,1944,1945,1946,1947,1953,1954,1955,1956,1957,1958,1959,1960,1961,1962,1963,1964],\"xaxis\":\"x\",\"y\":[73.625,308.1666666666667,340.5,204.75,144.8181818181818,185.0,209.5,111.0,202.0,296.0,167.5,216.0,229.0,125.5,84.0,49.0,51.0],\"yaxis\":\"y\",\"type\":\"scatter\"},{\"hovertemplate\":\"State=TN\\u003cbr\\u003eYear=%{x}\\u003cbr\\u003eMexican=%{y}\\u003cextra\\u003e\\u003c\\u002fextra\\u003e\",\"legendgroup\":\"TN\",\"line\":{\"color\":\"#B6E880\",\"dash\":\"solid\"},\"marker\":{\"symbol\":\"circle\"},\"mode\":\"lines\",\"name\":\"TN\",\"orientation\":\"v\",\"showlegend\":true,\"x\":[1953,1954,1955,1956,1957,1958,1959,1960,1961,1962],\"xaxis\":\"x\",\"y\":[749.5,315.0,548.6666666666666,376.2,453.2,269.75,503.2,478.75,331.0,165.0],\"yaxis\":\"y\",\"type\":\"scatter\"},{\"hovertemplate\":\"State=TX\\u003cbr\\u003eYear=%{x}\\u003cbr\\u003eMexican=%{y}\\u003cextra\\u003e\\u003c\\u002fextra\\u003e\",\"legendgroup\":\"TX\",\"line\":{\"color\":\"#FF97FF\",\"dash\":\"solid\"},\"marker\":{\"symbol\":\"circle\"},\"mode\":\"lines\",\"name\":\"TX\",\"orientation\":\"v\",\"showlegend\":true,\"x\":[1953,1954,1955,1956,1957,1958,1959,1960,1961,1962,1963,1964],\"xaxis\":\"x\",\"y\":[23678.833333333332,42494.71428571428,59150.0,62053.875,58357.375,75889.0,81808.0,60503.42857142857,55131.57142857143,17185.0,8906.75,6895.0],\"yaxis\":\"y\",\"type\":\"scatter\"},{\"hovertemplate\":\"State=UT\\u003cbr\\u003eYear=%{x}\\u003cbr\\u003eMexican=%{y}\\u003cextra\\u003e\\u003c\\u002fextra\\u003e\",\"legendgroup\":\"UT\",\"line\":{\"color\":\"#FECB52\",\"dash\":\"solid\"},\"marker\":{\"symbol\":\"circle\"},\"mode\":\"lines\",\"name\":\"UT\",\"orientation\":\"v\",\"showlegend\":true,\"x\":[1944,1945,1946,1947,1953,1954,1955,1956,1957,1958,1959,1960,1961,1962,1963,1964],\"xaxis\":\"x\",\"y\":[516.25,492.6363636363636,410.3333333333333,586.8181818181819,234.25,182.0,217.66666666666666,305.1666666666667,461.3333333333333,291.6666666666667,335.6,259.2857142857143,208.33333333333334,312.0,291.3333333333333,275.5],\"yaxis\":\"y\",\"type\":\"scatter\"},{\"hovertemplate\":\"State=WA\\u003cbr\\u003eYear=%{x}\\u003cbr\\u003eMexican=%{y}\\u003cextra\\u003e\\u003c\\u002fextra\\u003e\",\"legendgroup\":\"WA\",\"line\":{\"color\":\"#636efa\",\"dash\":\"solid\"},\"marker\":{\"symbol\":\"circle\"},\"mode\":\"lines\",\"name\":\"WA\",\"orientation\":\"v\",\"showlegend\":true,\"x\":[1943,1944,1945,1946,1947,1953,1954,1955,1956,1957,1960],\"xaxis\":\"x\",\"y\":[1114.875,1822.9166666666667,2342.3636363636365,1174.8333333333333,457.22222222222223,605.1428571428571,176.2,271.5,242.71428571428572,451.2,60.0],\"yaxis\":\"y\",\"type\":\"scatter\"},{\"hovertemplate\":\"State=WI\\u003cbr\\u003eYear=%{x}\\u003cbr\\u003eMexican=%{y}\\u003cextra\\u003e\\u003c\\u002fextra\\u003e\",\"legendgroup\":\"WI\",\"line\":{\"color\":\"#EF553B\",\"dash\":\"solid\"},\"marker\":{\"symbol\":\"circle\"},\"mode\":\"lines\",\"name\":\"WI\",\"orientation\":\"v\",\"showlegend\":true,\"x\":[1944,1945,1946,1947,1953,1954,1955,1956,1957,1958,1959,1960,1961,1962,1963,1964],\"xaxis\":\"x\",\"y\":[344.5,401.0,448.8333333333333,686.9166666666666,351.0,251.25,251.4,490.3333333333333,424.85714285714283,258.8,275.8,307.6,197.83333333333334,213.0,279.75,314.75],\"yaxis\":\"y\",\"type\":\"scatter\"},{\"hovertemplate\":\"State=WY\\u003cbr\\u003eYear=%{x}\\u003cbr\\u003eMexican=%{y}\\u003cextra\\u003e\\u003c\\u002fextra\\u003e\",\"legendgroup\":\"WY\",\"line\":{\"color\":\"#00cc96\",\"dash\":\"solid\"},\"marker\":{\"symbol\":\"circle\"},\"mode\":\"lines\",\"name\":\"WY\",\"orientation\":\"v\",\"showlegend\":true,\"x\":[1943,1944,1945,1946,1947,1953,1954,1955,1956,1957,1958,1959,1960,1961,1962,1963,1964],\"xaxis\":\"x\",\"y\":[273.875,437.90909090909093,247.1818181818182,453.0,258.6363636363636,473.0,281.25,282.0,523.8,518.2,394.8,434.5,351.25,476.0,396.0,621.6666666666666,592.3333333333334],\"yaxis\":\"y\",\"type\":\"scatter\"}],                        {\"template\":{\"data\":{\"histogram2dcontour\":[{\"type\":\"histogram2dcontour\",\"colorbar\":{\"outlinewidth\":0,\"ticks\":\"\"},\"colorscale\":[[0.0,\"#0d0887\"],[0.1111111111111111,\"#46039f\"],[0.2222222222222222,\"#7201a8\"],[0.3333333333333333,\"#9c179e\"],[0.4444444444444444,\"#bd3786\"],[0.5555555555555556,\"#d8576b\"],[0.6666666666666666,\"#ed7953\"],[0.7777777777777778,\"#fb9f3a\"],[0.8888888888888888,\"#fdca26\"],[1.0,\"#f0f921\"]]}],\"choropleth\":[{\"type\":\"choropleth\",\"colorbar\":{\"outlinewidth\":0,\"ticks\":\"\"}}],\"histogram2d\":[{\"type\":\"histogram2d\",\"colorbar\":{\"outlinewidth\":0,\"ticks\":\"\"},\"colorscale\":[[0.0,\"#0d0887\"],[0.1111111111111111,\"#46039f\"],[0.2222222222222222,\"#7201a8\"],[0.3333333333333333,\"#9c179e\"],[0.4444444444444444,\"#bd3786\"],[0.5555555555555556,\"#d8576b\"],[0.6666666666666666,\"#ed7953\"],[0.7777777777777778,\"#fb9f3a\"],[0.8888888888888888,\"#fdca26\"],[1.0,\"#f0f921\"]]}],\"heatmap\":[{\"type\":\"heatmap\",\"colorbar\":{\"outlinewidth\":0,\"ticks\":\"\"},\"colorscale\":[[0.0,\"#0d0887\"],[0.1111111111111111,\"#46039f\"],[0.2222222222222222,\"#7201a8\"],[0.3333333333333333,\"#9c179e\"],[0.4444444444444444,\"#bd3786\"],[0.5555555555555556,\"#d8576b\"],[0.6666666666666666,\"#ed7953\"],[0.7777777777777778,\"#fb9f3a\"],[0.8888888888888888,\"#fdca26\"],[1.0,\"#f0f921\"]]}],\"heatmapgl\":[{\"type\":\"heatmapgl\",\"colorbar\":{\"outlinewidth\":0,\"ticks\":\"\"},\"colorscale\":[[0.0,\"#0d0887\"],[0.1111111111111111,\"#46039f\"],[0.2222222222222222,\"#7201a8\"],[0.3333333333333333,\"#9c179e\"],[0.4444444444444444,\"#bd3786\"],[0.5555555555555556,\"#d8576b\"],[0.6666666666666666,\"#ed7953\"],[0.7777777777777778,\"#fb9f3a\"],[0.8888888888888888,\"#fdca26\"],[1.0,\"#f0f921\"]]}],\"contourcarpet\":[{\"type\":\"contourcarpet\",\"colorbar\":{\"outlinewidth\":0,\"ticks\":\"\"}}],\"contour\":[{\"type\":\"contour\",\"colorbar\":{\"outlinewidth\":0,\"ticks\":\"\"},\"colorscale\":[[0.0,\"#0d0887\"],[0.1111111111111111,\"#46039f\"],[0.2222222222222222,\"#7201a8\"],[0.3333333333333333,\"#9c179e\"],[0.4444444444444444,\"#bd3786\"],[0.5555555555555556,\"#d8576b\"],[0.6666666666666666,\"#ed7953\"],[0.7777777777777778,\"#fb9f3a\"],[0.8888888888888888,\"#fdca26\"],[1.0,\"#f0f921\"]]}],\"surface\":[{\"type\":\"surface\",\"colorbar\":{\"outlinewidth\":0,\"ticks\":\"\"},\"colorscale\":[[0.0,\"#0d0887\"],[0.1111111111111111,\"#46039f\"],[0.2222222222222222,\"#7201a8\"],[0.3333333333333333,\"#9c179e\"],[0.4444444444444444,\"#bd3786\"],[0.5555555555555556,\"#d8576b\"],[0.6666666666666666,\"#ed7953\"],[0.7777777777777778,\"#fb9f3a\"],[0.8888888888888888,\"#fdca26\"],[1.0,\"#f0f921\"]]}],\"mesh3d\":[{\"type\":\"mesh3d\",\"colorbar\":{\"outlinewidth\":0,\"ticks\":\"\"}}],\"scatter\":[{\"fillpattern\":{\"fillmode\":\"overlay\",\"size\":10,\"solidity\":0.2},\"type\":\"scatter\"}],\"parcoords\":[{\"type\":\"parcoords\",\"line\":{\"colorbar\":{\"outlinewidth\":0,\"ticks\":\"\"}}}],\"scatterpolargl\":[{\"type\":\"scatterpolargl\",\"marker\":{\"colorbar\":{\"outlinewidth\":0,\"ticks\":\"\"}}}],\"bar\":[{\"error_x\":{\"color\":\"#2a3f5f\"},\"error_y\":{\"color\":\"#2a3f5f\"},\"marker\":{\"line\":{\"color\":\"#E5ECF6\",\"width\":0.5},\"pattern\":{\"fillmode\":\"overlay\",\"size\":10,\"solidity\":0.2}},\"type\":\"bar\"}],\"scattergeo\":[{\"type\":\"scattergeo\",\"marker\":{\"colorbar\":{\"outlinewidth\":0,\"ticks\":\"\"}}}],\"scatterpolar\":[{\"type\":\"scatterpolar\",\"marker\":{\"colorbar\":{\"outlinewidth\":0,\"ticks\":\"\"}}}],\"histogram\":[{\"marker\":{\"pattern\":{\"fillmode\":\"overlay\",\"size\":10,\"solidity\":0.2}},\"type\":\"histogram\"}],\"scattergl\":[{\"type\":\"scattergl\",\"marker\":{\"colorbar\":{\"outlinewidth\":0,\"ticks\":\"\"}}}],\"scatter3d\":[{\"type\":\"scatter3d\",\"line\":{\"colorbar\":{\"outlinewidth\":0,\"ticks\":\"\"}},\"marker\":{\"colorbar\":{\"outlinewidth\":0,\"ticks\":\"\"}}}],\"scattermapbox\":[{\"type\":\"scattermapbox\",\"marker\":{\"colorbar\":{\"outlinewidth\":0,\"ticks\":\"\"}}}],\"scatterternary\":[{\"type\":\"scatterternary\",\"marker\":{\"colorbar\":{\"outlinewidth\":0,\"ticks\":\"\"}}}],\"scattercarpet\":[{\"type\":\"scattercarpet\",\"marker\":{\"colorbar\":{\"outlinewidth\":0,\"ticks\":\"\"}}}],\"carpet\":[{\"aaxis\":{\"endlinecolor\":\"#2a3f5f\",\"gridcolor\":\"white\",\"linecolor\":\"white\",\"minorgridcolor\":\"white\",\"startlinecolor\":\"#2a3f5f\"},\"baxis\":{\"endlinecolor\":\"#2a3f5f\",\"gridcolor\":\"white\",\"linecolor\":\"white\",\"minorgridcolor\":\"white\",\"startlinecolor\":\"#2a3f5f\"},\"type\":\"carpet\"}],\"table\":[{\"cells\":{\"fill\":{\"color\":\"#EBF0F8\"},\"line\":{\"color\":\"white\"}},\"header\":{\"fill\":{\"color\":\"#C8D4E3\"},\"line\":{\"color\":\"white\"}},\"type\":\"table\"}],\"barpolar\":[{\"marker\":{\"line\":{\"color\":\"#E5ECF6\",\"width\":0.5},\"pattern\":{\"fillmode\":\"overlay\",\"size\":10,\"solidity\":0.2}},\"type\":\"barpolar\"}],\"pie\":[{\"automargin\":true,\"type\":\"pie\"}]},\"layout\":{\"autotypenumbers\":\"strict\",\"colorway\":[\"#636efa\",\"#EF553B\",\"#00cc96\",\"#ab63fa\",\"#FFA15A\",\"#19d3f3\",\"#FF6692\",\"#B6E880\",\"#FF97FF\",\"#FECB52\"],\"font\":{\"color\":\"#2a3f5f\"},\"hovermode\":\"closest\",\"hoverlabel\":{\"align\":\"left\"},\"paper_bgcolor\":\"white\",\"plot_bgcolor\":\"#E5ECF6\",\"polar\":{\"bgcolor\":\"#E5ECF6\",\"angularaxis\":{\"gridcolor\":\"white\",\"linecolor\":\"white\",\"ticks\":\"\"},\"radialaxis\":{\"gridcolor\":\"white\",\"linecolor\":\"white\",\"ticks\":\"\"}},\"ternary\":{\"bgcolor\":\"#E5ECF6\",\"aaxis\":{\"gridcolor\":\"white\",\"linecolor\":\"white\",\"ticks\":\"\"},\"baxis\":{\"gridcolor\":\"white\",\"linecolor\":\"white\",\"ticks\":\"\"},\"caxis\":{\"gridcolor\":\"white\",\"linecolor\":\"white\",\"ticks\":\"\"}},\"coloraxis\":{\"colorbar\":{\"outlinewidth\":0,\"ticks\":\"\"}},\"colorscale\":{\"sequential\":[[0.0,\"#0d0887\"],[0.1111111111111111,\"#46039f\"],[0.2222222222222222,\"#7201a8\"],[0.3333333333333333,\"#9c179e\"],[0.4444444444444444,\"#bd3786\"],[0.5555555555555556,\"#d8576b\"],[0.6666666666666666,\"#ed7953\"],[0.7777777777777778,\"#fb9f3a\"],[0.8888888888888888,\"#fdca26\"],[1.0,\"#f0f921\"]],\"sequentialminus\":[[0.0,\"#0d0887\"],[0.1111111111111111,\"#46039f\"],[0.2222222222222222,\"#7201a8\"],[0.3333333333333333,\"#9c179e\"],[0.4444444444444444,\"#bd3786\"],[0.5555555555555556,\"#d8576b\"],[0.6666666666666666,\"#ed7953\"],[0.7777777777777778,\"#fb9f3a\"],[0.8888888888888888,\"#fdca26\"],[1.0,\"#f0f921\"]],\"diverging\":[[0,\"#8e0152\"],[0.1,\"#c51b7d\"],[0.2,\"#de77ae\"],[0.3,\"#f1b6da\"],[0.4,\"#fde0ef\"],[0.5,\"#f7f7f7\"],[0.6,\"#e6f5d0\"],[0.7,\"#b8e186\"],[0.8,\"#7fbc41\"],[0.9,\"#4d9221\"],[1,\"#276419\"]]},\"xaxis\":{\"gridcolor\":\"white\",\"linecolor\":\"white\",\"ticks\":\"\",\"title\":{\"standoff\":15},\"zerolinecolor\":\"white\",\"automargin\":true,\"zerolinewidth\":2},\"yaxis\":{\"gridcolor\":\"white\",\"linecolor\":\"white\",\"ticks\":\"\",\"title\":{\"standoff\":15},\"zerolinecolor\":\"white\",\"automargin\":true,\"zerolinewidth\":2},\"scene\":{\"xaxis\":{\"backgroundcolor\":\"#E5ECF6\",\"gridcolor\":\"white\",\"linecolor\":\"white\",\"showbackground\":true,\"ticks\":\"\",\"zerolinecolor\":\"white\",\"gridwidth\":2},\"yaxis\":{\"backgroundcolor\":\"#E5ECF6\",\"gridcolor\":\"white\",\"linecolor\":\"white\",\"showbackground\":true,\"ticks\":\"\",\"zerolinecolor\":\"white\",\"gridwidth\":2},\"zaxis\":{\"backgroundcolor\":\"#E5ECF6\",\"gridcolor\":\"white\",\"linecolor\":\"white\",\"showbackground\":true,\"ticks\":\"\",\"zerolinecolor\":\"white\",\"gridwidth\":2}},\"shapedefaults\":{\"line\":{\"color\":\"#2a3f5f\"}},\"annotationdefaults\":{\"arrowcolor\":\"#2a3f5f\",\"arrowhead\":0,\"arrowwidth\":1},\"geo\":{\"bgcolor\":\"white\",\"landcolor\":\"#E5ECF6\",\"subunitcolor\":\"white\",\"showland\":true,\"showlakes\":true,\"lakecolor\":\"white\"},\"title\":{\"x\":0.05},\"mapbox\":{\"style\":\"light\"}}},\"xaxis\":{\"anchor\":\"y\",\"domain\":[0.0,1.0],\"title\":{\"text\":\"Year\"}},\"yaxis\":{\"anchor\":\"x\",\"domain\":[0.0,1.0],\"title\":{\"text\":\"Mexican\"}},\"legend\":{\"title\":{\"text\":\"State\"},\"tracegroupgap\":0},\"margin\":{\"t\":60}},                        {\"responsive\": true}                    ).then(function(){\n",
       "                            \n",
       "var gd = document.getElementById('a036e30d-41c5-47bf-b969-84be9ee35542');\n",
       "var x = new MutationObserver(function (mutations, observer) {{\n",
       "        var display = window.getComputedStyle(gd).display;\n",
       "        if (!display || display === 'none') {{\n",
       "            console.log([gd, 'removed!']);\n",
       "            Plotly.purge(gd);\n",
       "            observer.disconnect();\n",
       "        }}\n",
       "}});\n",
       "\n",
       "// Listen for the removal of the full notebook cells\n",
       "var notebookContainer = gd.closest('#notebook-container');\n",
       "if (notebookContainer) {{\n",
       "    x.observe(notebookContainer, {childList: true});\n",
       "}}\n",
       "\n",
       "// Listen for the clearing of the current output cell\n",
       "var outputEl = gd.closest('.output');\n",
       "if (outputEl) {{\n",
       "    x.observe(outputEl, {childList: true});\n",
       "}}\n",
       "\n",
       "                        })                };                });            </script>        </div>"
      ]
     },
     "metadata": {},
     "output_type": "display_data"
    }
   ],
   "source": [
    "import plotly.express as px\n",
    "\n",
    "fig3 = px.line(mexican_total, x='Year', y='Mexican', color='State')\n",
    "fig3.show()"
   ]
  },
  {
   "cell_type": "code",
   "execution_count": 258,
   "id": "0f8d367b-4827-48f2-ac2e-fe933b8e310a",
   "metadata": {},
   "outputs": [
    {
     "data": {
      "application/vnd.plotly.v1+json": {
       "config": {
        "plotlyServerURL": "https://plot.ly"
       },
       "data": [
        {
         "alignmentgroup": "True",
         "hovertemplate": "State=AR<br>Year=%{x}<br>Mexican=%{y}<extra></extra>",
         "legendgroup": "AR",
         "marker": {
          "color": "#636efa",
          "pattern": {
           "shape": ""
          }
         },
         "name": "AR",
         "offsetgroup": "AR",
         "orientation": "v",
         "showlegend": true,
         "textposition": "auto",
         "type": "bar",
         "x": [
          1951,
          1952,
          1953,
          1954,
          1955,
          1956,
          1957,
          1958,
          1959,
          1960,
          1961,
          1962,
          1963,
          1964
         ],
         "xaxis": "x",
         "y": [
          10950,
          7823.125,
          7084.285714285715,
          6071.428571428572,
          7803.571428571428,
          10728.166666666666,
          8229,
          4834.142857142857,
          13682.333333333334,
          11003.57142857143,
          7742.428571428572,
          3330,
          2755.6,
          1508.7142857142858
         ],
         "yaxis": "y"
        },
        {
         "alignmentgroup": "True",
         "hovertemplate": "State=AZ<br>Year=%{x}<br>Mexican=%{y}<extra></extra>",
         "legendgroup": "AZ",
         "marker": {
          "color": "#EF553B",
          "pattern": {
           "shape": ""
          }
         },
         "name": "AZ",
         "offsetgroup": "AZ",
         "orientation": "v",
         "showlegend": true,
         "textposition": "auto",
         "type": "bar",
         "x": [
          1943,
          1944,
          1945,
          1946,
          1947,
          1948,
          1949,
          1950,
          1951,
          1952,
          1953,
          1954,
          1955,
          1956,
          1957,
          1958,
          1959,
          1960,
          1961,
          1962,
          1963,
          1964
         ],
         "xaxis": "x",
         "y": [
          1292.75,
          1207.5833333333333,
          1672.1818181818182,
          1281.4166666666667,
          900.5,
          187.25,
          6200,
          1225,
          4208.333333333333,
          6658.333333333333,
          6081.916666666667,
          6575.666666666667,
          7055.125,
          9256.375,
          8849.75,
          11655.375,
          10465.142857142857,
          9118.285714285714,
          7294.857142857143,
          4938.5,
          4296,
          3729.6666666666665
         ],
         "yaxis": "y"
        },
        {
         "alignmentgroup": "True",
         "hovertemplate": "State=CA<br>Year=%{x}<br>Mexican=%{y}<extra></extra>",
         "legendgroup": "CA",
         "marker": {
          "color": "#00cc96",
          "pattern": {
           "shape": ""
          }
         },
         "name": "CA",
         "offsetgroup": "CA",
         "orientation": "v",
         "showlegend": true,
         "textposition": "auto",
         "type": "bar",
         "x": [
          1943,
          1944,
          1945,
          1946,
          1947,
          1948,
          1949,
          1950,
          1951,
          1952,
          1953,
          1954,
          1955,
          1956,
          1957,
          1958,
          1959,
          1960,
          1961,
          1962,
          1963,
          1964,
          1965,
          1966,
          1967
         ],
         "xaxis": "x",
         "y": [
          20181.5,
          24252.583333333332,
          25927.363636363636,
          16745.333333333332,
          11412.833333333334,
          7783.333333333333,
          4858.333333333333,
          7475,
          18600,
          23008.333333333332,
          25262.5,
          28827.5,
          48325,
          59838.125,
          62054.125,
          55781.125,
          52834.28571428572,
          50784.28571428572,
          43270,
          39878.75,
          26690.833333333332,
          26770.833333333332,
          5592.6,
          2772,
          5850
         ],
         "yaxis": "y"
        },
        {
         "alignmentgroup": "True",
         "hovertemplate": "State=CO<br>Year=%{x}<br>Mexican=%{y}<extra></extra>",
         "legendgroup": "CO",
         "marker": {
          "color": "#ab63fa",
          "pattern": {
           "shape": ""
          }
         },
         "name": "CO",
         "offsetgroup": "CO",
         "orientation": "v",
         "showlegend": true,
         "textposition": "auto",
         "type": "bar",
         "x": [
          1943,
          1944,
          1945,
          1946,
          1947,
          1949,
          1950,
          1953,
          1954,
          1955,
          1956,
          1957,
          1958,
          1959,
          1960,
          1961,
          1962,
          1963,
          1964
         ],
         "xaxis": "x",
         "y": [
          578.875,
          1449.090909090909,
          1113.7272727272727,
          793.1666666666666,
          518,
          234,
          812,
          710.4,
          659.2,
          1200,
          1783.8333333333333,
          1924.2857142857142,
          1761.857142857143,
          2166.6666666666665,
          2231.8571428571427,
          3032.6666666666665,
          3191.6666666666665,
          2811.4285714285716,
          2624.5714285714284
         ],
         "yaxis": "y"
        },
        {
         "alignmentgroup": "True",
         "hovertemplate": "State=DE<br>Year=%{x}<br>Mexican=%{y}<extra></extra>",
         "legendgroup": "DE",
         "marker": {
          "color": "#FFA15A",
          "pattern": {
           "shape": ""
          }
         },
         "name": "DE",
         "offsetgroup": "DE",
         "orientation": "v",
         "showlegend": true,
         "textposition": "auto",
         "type": "bar",
         "x": [
          1957
         ],
         "xaxis": "x",
         "y": [
          115
         ],
         "yaxis": "y"
        },
        {
         "alignmentgroup": "True",
         "hovertemplate": "State=GA<br>Year=%{x}<br>Mexican=%{y}<extra></extra>",
         "legendgroup": "GA",
         "marker": {
          "color": "#19d3f3",
          "pattern": {
           "shape": ""
          }
         },
         "name": "GA",
         "offsetgroup": "GA",
         "orientation": "v",
         "showlegend": true,
         "textposition": "auto",
         "type": "bar",
         "x": [
          1953,
          1954,
          1955,
          1956,
          1957,
          1958,
          1959,
          1960,
          1961
         ],
         "xaxis": "x",
         "y": [
          1152,
          212.5,
          242.33333333333334,
          646.6666666666666,
          888,
          439,
          821,
          644.5,
          763.5
         ],
         "yaxis": "y"
        },
        {
         "alignmentgroup": "True",
         "hovertemplate": "State=IA<br>Year=%{x}<br>Mexican=%{y}<extra></extra>",
         "legendgroup": "IA",
         "marker": {
          "color": "#FF6692",
          "pattern": {
           "shape": ""
          }
         },
         "name": "IA",
         "offsetgroup": "IA",
         "orientation": "v",
         "showlegend": true,
         "textposition": "auto",
         "type": "bar",
         "x": [
          1944,
          1945,
          1946,
          1947,
          1953,
          1956,
          1957,
          1958,
          1959,
          1960,
          1961,
          1962
         ],
         "xaxis": "x",
         "y": [
          329.25,
          292.7142857142857,
          423.375,
          172.57142857142858,
          40,
          30.666666666666668,
          32,
          44,
          48.333333333333336,
          70.66666666666667,
          193,
          98.5
         ],
         "yaxis": "y"
        },
        {
         "alignmentgroup": "True",
         "hovertemplate": "State=ID<br>Year=%{x}<br>Mexican=%{y}<extra></extra>",
         "legendgroup": "ID",
         "marker": {
          "color": "#B6E880",
          "pattern": {
           "shape": ""
          }
         },
         "name": "ID",
         "offsetgroup": "ID",
         "orientation": "v",
         "showlegend": true,
         "textposition": "auto",
         "type": "bar",
         "x": [
          1943,
          1944,
          1945,
          1946,
          1947,
          1953,
          1954,
          1955,
          1956,
          1957
         ],
         "xaxis": "x",
         "y": [
          622.5,
          1463.0833333333333,
          2012.8181818181818,
          1519,
          1957.111111111111,
          223.75,
          159.4,
          179.2,
          177.2,
          127.2
         ],
         "yaxis": "y"
        },
        {
         "alignmentgroup": "True",
         "hovertemplate": "State=IL<br>Year=%{x}<br>Mexican=%{y}<extra></extra>",
         "legendgroup": "IL",
         "marker": {
          "color": "#FF97FF",
          "pattern": {
           "shape": ""
          }
         },
         "name": "IL",
         "offsetgroup": "IL",
         "orientation": "v",
         "showlegend": true,
         "textposition": "auto",
         "type": "bar",
         "x": [
          1944,
          1945,
          1946,
          1947,
          1953,
          1954,
          1955,
          1956,
          1957,
          1958,
          1959,
          1960,
          1961,
          1962,
          1963
         ],
         "xaxis": "x",
         "y": [
          576.75,
          312.6666666666667,
          379.1111111111111,
          269.1666666666667,
          24.6,
          74.57142857142857,
          159,
          140.66666666666666,
          150,
          112.33333333333333,
          82.5,
          123,
          47.5,
          113,
          35
         ],
         "yaxis": "y"
        },
        {
         "alignmentgroup": "True",
         "hovertemplate": "State=IN<br>Year=%{x}<br>Mexican=%{y}<extra></extra>",
         "legendgroup": "IN",
         "marker": {
          "color": "#FECB52",
          "pattern": {
           "shape": ""
          }
         },
         "name": "IN",
         "offsetgroup": "IN",
         "orientation": "v",
         "showlegend": true,
         "textposition": "auto",
         "type": "bar",
         "x": [
          1944,
          1945,
          1946,
          1947,
          1952,
          1953,
          1954,
          1955,
          1956,
          1957,
          1958,
          1959,
          1960,
          1961,
          1962,
          1963,
          1964
         ],
         "xaxis": "x",
         "y": [
          74.5,
          191.11111111111111,
          107.16666666666667,
          86.875,
          310,
          210.25,
          116.25,
          166.5,
          158,
          255.2,
          222,
          187.4,
          218.5,
          293,
          202.5,
          185.5,
          101
         ],
         "yaxis": "y"
        },
        {
         "alignmentgroup": "True",
         "hovertemplate": "State=KS<br>Year=%{x}<br>Mexican=%{y}<extra></extra>",
         "legendgroup": "KS",
         "marker": {
          "color": "#636efa",
          "pattern": {
           "shape": ""
          }
         },
         "name": "KS",
         "offsetgroup": "KS",
         "orientation": "v",
         "showlegend": true,
         "textposition": "auto",
         "type": "bar",
         "x": [
          1943,
          1944,
          1945,
          1946,
          1947,
          1956,
          1957,
          1958,
          1959,
          1960,
          1961,
          1962,
          1963,
          1964
         ],
         "xaxis": "x",
         "y": [
          62.25,
          218.85714285714286,
          104.7,
          180.58333333333334,
          188.55555555555554,
          28.666666666666668,
          95,
          39,
          12.6,
          14.166666666666666,
          34,
          78.5,
          80.5,
          143.33333333333334
         ],
         "yaxis": "y"
        },
        {
         "alignmentgroup": "True",
         "hovertemplate": "State=KY<br>Year=%{x}<br>Mexican=%{y}<extra></extra>",
         "legendgroup": "KY",
         "marker": {
          "color": "#EF553B",
          "pattern": {
           "shape": ""
          }
         },
         "name": "KY",
         "offsetgroup": "KY",
         "orientation": "v",
         "showlegend": true,
         "textposition": "auto",
         "type": "bar",
         "x": [
          1953,
          1956,
          1957,
          1958,
          1959,
          1960,
          1961
         ],
         "xaxis": "x",
         "y": [
          73.5,
          193.5,
          142.4,
          96,
          162.6,
          94.25,
          57
         ],
         "yaxis": "y"
        },
        {
         "alignmentgroup": "True",
         "hovertemplate": "State=LA<br>Year=%{x}<br>Mexican=%{y}<extra></extra>",
         "legendgroup": "LA",
         "marker": {
          "color": "#00cc96",
          "pattern": {
           "shape": ""
          }
         },
         "name": "LA",
         "offsetgroup": "LA",
         "orientation": "v",
         "showlegend": true,
         "textposition": "auto",
         "type": "bar",
         "x": [
          1953
         ],
         "xaxis": "x",
         "y": [
          245.71428571428572
         ],
         "yaxis": "y"
        },
        {
         "alignmentgroup": "True",
         "hovertemplate": "State=MI<br>Year=%{x}<br>Mexican=%{y}<extra></extra>",
         "legendgroup": "MI",
         "marker": {
          "color": "#ab63fa",
          "pattern": {
           "shape": ""
          }
         },
         "name": "MI",
         "offsetgroup": "MI",
         "orientation": "v",
         "showlegend": true,
         "textposition": "auto",
         "type": "bar",
         "x": [
          1944,
          1945,
          1946,
          1947,
          1948,
          1951,
          1952,
          1953,
          1954,
          1955,
          1956,
          1957,
          1958,
          1959,
          1960,
          1961,
          1962,
          1963,
          1964
         ],
         "xaxis": "x",
         "y": [
          1735,
          2040,
          1036.25,
          54.54545454545455,
          745.3333333333334,
          1286.4,
          1475.1666666666667,
          1587.1666666666667,
          2707.3333333333335,
          2816.5,
          4121.833333333333,
          5506.4,
          3715,
          4062.2,
          4258.4,
          4544.8,
          3176.6,
          4735.5,
          3814.25
         ],
         "yaxis": "y"
        },
        {
         "alignmentgroup": "True",
         "hovertemplate": "State=MN<br>Year=%{x}<br>Mexican=%{y}<extra></extra>",
         "legendgroup": "MN",
         "marker": {
          "color": "#FFA15A",
          "pattern": {
           "shape": ""
          }
         },
         "name": "MN",
         "offsetgroup": "MN",
         "orientation": "v",
         "showlegend": true,
         "textposition": "auto",
         "type": "bar",
         "x": [
          1943,
          1944,
          1945,
          1946,
          1947,
          1953,
          1954,
          1955,
          1956,
          1957,
          1958,
          1959,
          1960,
          1961,
          1962,
          1963,
          1964
         ],
         "xaxis": "x",
         "y": [
          235.5,
          612,
          669.6,
          1029.5,
          990.8571428571429,
          615.3333333333334,
          138,
          104,
          155,
          259.8333333333333,
          100,
          58,
          49,
          37.5,
          29.333333333333332,
          26.333333333333332,
          14
         ],
         "yaxis": "y"
        },
        {
         "alignmentgroup": "True",
         "hovertemplate": "State=MO<br>Year=%{x}<br>Mexican=%{y}<extra></extra>",
         "legendgroup": "MO",
         "marker": {
          "color": "#19d3f3",
          "pattern": {
           "shape": ""
          }
         },
         "name": "MO",
         "offsetgroup": "MO",
         "orientation": "v",
         "showlegend": true,
         "textposition": "auto",
         "type": "bar",
         "x": [
          1953,
          1954,
          1955,
          1956,
          1957,
          1958,
          1959,
          1960
         ],
         "xaxis": "x",
         "y": [
          1650,
          1162.6666666666667,
          906,
          938.3333333333334,
          227.5,
          685,
          497,
          194.75
         ],
         "yaxis": "y"
        },
        {
         "alignmentgroup": "True",
         "hovertemplate": "State=MT<br>Year=%{x}<br>Mexican=%{y}<extra></extra>",
         "legendgroup": "MT",
         "marker": {
          "color": "#FF6692",
          "pattern": {
           "shape": ""
          }
         },
         "name": "MT",
         "offsetgroup": "MT",
         "orientation": "v",
         "showlegend": true,
         "textposition": "auto",
         "type": "bar",
         "x": [
          1943,
          1944,
          1945,
          1946,
          1947,
          1953,
          1954,
          1955,
          1956,
          1957,
          1958,
          1959,
          1960,
          1961,
          1962,
          1963,
          1964
         ],
         "xaxis": "x",
         "y": [
          1029.125,
          1985.5454545454545,
          1669.3636363636363,
          1081.0833333333333,
          986.7,
          847,
          877.6666666666666,
          627.6666666666666,
          1507,
          2082.5,
          831,
          1217,
          1002,
          798.6666666666666,
          1010.6666666666666,
          981.6666666666666,
          983.5
         ],
         "yaxis": "y"
        },
        {
         "alignmentgroup": "True",
         "hovertemplate": "State=NC<br>Year=%{x}<br>Mexican=%{y}<extra></extra>",
         "legendgroup": "NC",
         "marker": {
          "color": "#B6E880",
          "pattern": {
           "shape": ""
          }
         },
         "name": "NC",
         "offsetgroup": "NC",
         "orientation": "v",
         "showlegend": true,
         "textposition": "auto",
         "type": "bar",
         "x": [
          1947
         ],
         "xaxis": "x",
         "y": [
          330.3333333333333
         ],
         "yaxis": "y"
        },
        {
         "alignmentgroup": "True",
         "hovertemplate": "State=ND<br>Year=%{x}<br>Mexican=%{y}<extra></extra>",
         "legendgroup": "ND",
         "marker": {
          "color": "#FF97FF",
          "pattern": {
           "shape": ""
          }
         },
         "name": "ND",
         "offsetgroup": "ND",
         "orientation": "v",
         "showlegend": true,
         "textposition": "auto",
         "type": "bar",
         "x": [
          1943,
          1944,
          1945,
          1946,
          1947,
          1953,
          1957,
          1958,
          1959,
          1960,
          1961
         ],
         "xaxis": "x",
         "y": [
          199.5,
          1502.8,
          1035.75,
          242.25,
          58.22222222222222,
          80,
          170,
          249,
          36,
          54,
          108
         ],
         "yaxis": "y"
        },
        {
         "alignmentgroup": "True",
         "hovertemplate": "State=NE<br>Year=%{x}<br>Mexican=%{y}<extra></extra>",
         "legendgroup": "NE",
         "marker": {
          "color": "#FECB52",
          "pattern": {
           "shape": ""
          }
         },
         "name": "NE",
         "offsetgroup": "NE",
         "orientation": "v",
         "showlegend": true,
         "textposition": "auto",
         "type": "bar",
         "x": [
          1943,
          1944,
          1945,
          1946,
          1947,
          1953,
          1954,
          1955,
          1956,
          1957,
          1958,
          1959,
          1960,
          1961,
          1962,
          1963,
          1964
         ],
         "xaxis": "x",
         "y": [
          182.5,
          425.6666666666667,
          684.2727272727273,
          663.8333333333334,
          505.90909090909093,
          698,
          209.5,
          123.85714285714286,
          450.8,
          896.6666666666666,
          1201.5,
          1072,
          811.3333333333334,
          765.3333333333334,
          702,
          681.75,
          546.3333333333334
         ],
         "yaxis": "y"
        },
        {
         "alignmentgroup": "True",
         "hovertemplate": "State=NH<br>Year=%{x}<br>Mexican=%{y}<extra></extra>",
         "legendgroup": "NH",
         "marker": {
          "color": "#636efa",
          "pattern": {
           "shape": ""
          }
         },
         "name": "NH",
         "offsetgroup": "NH",
         "orientation": "v",
         "showlegend": true,
         "textposition": "auto",
         "type": "bar",
         "x": [
          1956
         ],
         "xaxis": "x",
         "y": [
          79
         ],
         "yaxis": "y"
        },
        {
         "alignmentgroup": "True",
         "hovertemplate": "State=NM<br>Year=%{x}<br>Mexican=%{y}<extra></extra>",
         "legendgroup": "NM",
         "marker": {
          "color": "#EF553B",
          "pattern": {
           "shape": ""
          }
         },
         "name": "NM",
         "offsetgroup": "NM",
         "orientation": "v",
         "showlegend": true,
         "textposition": "auto",
         "type": "bar",
         "x": [
          1946,
          1948,
          1953,
          1954,
          1955,
          1956,
          1957,
          1958,
          1959,
          1960,
          1961,
          1962,
          1963,
          1964
         ],
         "xaxis": "x",
         "y": [
          22.375,
          7356,
          10231.857142857143,
          6132.166666666667,
          7462.875,
          7570.75,
          7945,
          9124.625,
          9087.285714285714,
          6082.142857142857,
          4514.142857142857,
          1443.25,
          543.75,
          393.6
         ],
         "yaxis": "y"
        },
        {
         "alignmentgroup": "True",
         "hovertemplate": "State=NV<br>Year=%{x}<br>Mexican=%{y}<extra></extra>",
         "legendgroup": "NV",
         "marker": {
          "color": "#00cc96",
          "pattern": {
           "shape": ""
          }
         },
         "name": "NV",
         "offsetgroup": "NV",
         "orientation": "v",
         "showlegend": true,
         "textposition": "auto",
         "type": "bar",
         "x": [
          1943,
          1944,
          1945,
          1946,
          1947,
          1953,
          1954,
          1955,
          1956,
          1957,
          1958,
          1959,
          1960,
          1961,
          1962,
          1963
         ],
         "xaxis": "x",
         "y": [
          281.14285714285717,
          304.5,
          443.3636363636364,
          220,
          119.08333333333333,
          82,
          60,
          43,
          22.333333333333332,
          31,
          39.57142857142857,
          37.714285714285715,
          60.857142857142854,
          25.142857142857142,
          29,
          29
         ],
         "yaxis": "y"
        },
        {
         "alignmentgroup": "True",
         "hovertemplate": "State=NY<br>Year=%{x}<br>Mexican=%{y}<extra></extra>",
         "legendgroup": "NY",
         "marker": {
          "color": "#ab63fa",
          "pattern": {
           "shape": ""
          }
         },
         "name": "NY",
         "offsetgroup": "NY",
         "orientation": "v",
         "showlegend": true,
         "textposition": "auto",
         "type": "bar",
         "x": [
          1947
         ],
         "xaxis": "x",
         "y": [
          173.66666666666666
         ],
         "yaxis": "y"
        },
        {
         "alignmentgroup": "True",
         "hovertemplate": "State=OH<br>Year=%{x}<br>Mexican=%{y}<extra></extra>",
         "legendgroup": "OH",
         "marker": {
          "color": "#FFA15A",
          "pattern": {
           "shape": ""
          }
         },
         "name": "OH",
         "offsetgroup": "OH",
         "orientation": "v",
         "showlegend": true,
         "textposition": "auto",
         "type": "bar",
         "x": [
          1944,
          1945,
          1956,
          1957
         ],
         "xaxis": "x",
         "y": [
          129,
          80.75,
          50,
          64
         ],
         "yaxis": "y"
        },
        {
         "alignmentgroup": "True",
         "hovertemplate": "State=OR<br>Year=%{x}<br>Mexican=%{y}<extra></extra>",
         "legendgroup": "OR",
         "marker": {
          "color": "#19d3f3",
          "pattern": {
           "shape": ""
          }
         },
         "name": "OR",
         "offsetgroup": "OR",
         "orientation": "v",
         "showlegend": true,
         "textposition": "auto",
         "type": "bar",
         "x": [
          1943,
          1944,
          1945,
          1946,
          1947,
          1952,
          1953,
          1955,
          1956,
          1957,
          1958,
          1959,
          1960,
          1961,
          1962,
          1963,
          1964
         ],
         "xaxis": "x",
         "y": [
          1537.375,
          1893.5,
          1786.1818181818182,
          901.8333333333334,
          486,
          425.25,
          159,
          590.5,
          349.6,
          205,
          199,
          359,
          349,
          327,
          234,
          67,
          187
         ],
         "yaxis": "y"
        },
        {
         "alignmentgroup": "True",
         "hovertemplate": "State=SD<br>Year=%{x}<br>Mexican=%{y}<extra></extra>",
         "legendgroup": "SD",
         "marker": {
          "color": "#FF6692",
          "pattern": {
           "shape": ""
          }
         },
         "name": "SD",
         "offsetgroup": "SD",
         "orientation": "v",
         "showlegend": true,
         "textposition": "auto",
         "type": "bar",
         "x": [
          1943,
          1944,
          1945,
          1946,
          1947,
          1953,
          1954,
          1955,
          1956,
          1957,
          1958,
          1959,
          1960,
          1961,
          1962,
          1963,
          1964
         ],
         "xaxis": "x",
         "y": [
          73.625,
          308.1666666666667,
          340.5,
          204.75,
          144.8181818181818,
          185,
          209.5,
          111,
          202,
          296,
          167.5,
          216,
          229,
          125.5,
          84,
          49,
          51
         ],
         "yaxis": "y"
        },
        {
         "alignmentgroup": "True",
         "hovertemplate": "State=TN<br>Year=%{x}<br>Mexican=%{y}<extra></extra>",
         "legendgroup": "TN",
         "marker": {
          "color": "#B6E880",
          "pattern": {
           "shape": ""
          }
         },
         "name": "TN",
         "offsetgroup": "TN",
         "orientation": "v",
         "showlegend": true,
         "textposition": "auto",
         "type": "bar",
         "x": [
          1953,
          1954,
          1955,
          1956,
          1957,
          1958,
          1959,
          1960,
          1961,
          1962
         ],
         "xaxis": "x",
         "y": [
          749.5,
          315,
          548.6666666666666,
          376.2,
          453.2,
          269.75,
          503.2,
          478.75,
          331,
          165
         ],
         "yaxis": "y"
        },
        {
         "alignmentgroup": "True",
         "hovertemplate": "State=TX<br>Year=%{x}<br>Mexican=%{y}<extra></extra>",
         "legendgroup": "TX",
         "marker": {
          "color": "#FF97FF",
          "pattern": {
           "shape": ""
          }
         },
         "name": "TX",
         "offsetgroup": "TX",
         "orientation": "v",
         "showlegend": true,
         "textposition": "auto",
         "type": "bar",
         "x": [
          1953,
          1954,
          1955,
          1956,
          1957,
          1958,
          1959,
          1960,
          1961,
          1962,
          1963,
          1964
         ],
         "xaxis": "x",
         "y": [
          23678.833333333332,
          42494.71428571428,
          59150,
          62053.875,
          58357.375,
          75889,
          81808,
          60503.42857142857,
          55131.57142857143,
          17185,
          8906.75,
          6895
         ],
         "yaxis": "y"
        },
        {
         "alignmentgroup": "True",
         "hovertemplate": "State=UT<br>Year=%{x}<br>Mexican=%{y}<extra></extra>",
         "legendgroup": "UT",
         "marker": {
          "color": "#FECB52",
          "pattern": {
           "shape": ""
          }
         },
         "name": "UT",
         "offsetgroup": "UT",
         "orientation": "v",
         "showlegend": true,
         "textposition": "auto",
         "type": "bar",
         "x": [
          1944,
          1945,
          1946,
          1947,
          1953,
          1954,
          1955,
          1956,
          1957,
          1958,
          1959,
          1960,
          1961,
          1962,
          1963,
          1964
         ],
         "xaxis": "x",
         "y": [
          516.25,
          492.6363636363636,
          410.3333333333333,
          586.8181818181819,
          234.25,
          182,
          217.66666666666666,
          305.1666666666667,
          461.3333333333333,
          291.6666666666667,
          335.6,
          259.2857142857143,
          208.33333333333334,
          312,
          291.3333333333333,
          275.5
         ],
         "yaxis": "y"
        },
        {
         "alignmentgroup": "True",
         "hovertemplate": "State=WA<br>Year=%{x}<br>Mexican=%{y}<extra></extra>",
         "legendgroup": "WA",
         "marker": {
          "color": "#636efa",
          "pattern": {
           "shape": ""
          }
         },
         "name": "WA",
         "offsetgroup": "WA",
         "orientation": "v",
         "showlegend": true,
         "textposition": "auto",
         "type": "bar",
         "x": [
          1943,
          1944,
          1945,
          1946,
          1947,
          1953,
          1954,
          1955,
          1956,
          1957,
          1960
         ],
         "xaxis": "x",
         "y": [
          1114.875,
          1822.9166666666667,
          2342.3636363636365,
          1174.8333333333333,
          457.22222222222223,
          605.1428571428571,
          176.2,
          271.5,
          242.71428571428572,
          451.2,
          60
         ],
         "yaxis": "y"
        },
        {
         "alignmentgroup": "True",
         "hovertemplate": "State=WI<br>Year=%{x}<br>Mexican=%{y}<extra></extra>",
         "legendgroup": "WI",
         "marker": {
          "color": "#EF553B",
          "pattern": {
           "shape": ""
          }
         },
         "name": "WI",
         "offsetgroup": "WI",
         "orientation": "v",
         "showlegend": true,
         "textposition": "auto",
         "type": "bar",
         "x": [
          1944,
          1945,
          1946,
          1947,
          1953,
          1954,
          1955,
          1956,
          1957,
          1958,
          1959,
          1960,
          1961,
          1962,
          1963,
          1964
         ],
         "xaxis": "x",
         "y": [
          344.5,
          401,
          448.8333333333333,
          686.9166666666666,
          351,
          251.25,
          251.4,
          490.3333333333333,
          424.85714285714283,
          258.8,
          275.8,
          307.6,
          197.83333333333334,
          213,
          279.75,
          314.75
         ],
         "yaxis": "y"
        },
        {
         "alignmentgroup": "True",
         "hovertemplate": "State=WY<br>Year=%{x}<br>Mexican=%{y}<extra></extra>",
         "legendgroup": "WY",
         "marker": {
          "color": "#00cc96",
          "pattern": {
           "shape": ""
          }
         },
         "name": "WY",
         "offsetgroup": "WY",
         "orientation": "v",
         "showlegend": true,
         "textposition": "auto",
         "type": "bar",
         "x": [
          1943,
          1944,
          1945,
          1946,
          1947,
          1953,
          1954,
          1955,
          1956,
          1957,
          1958,
          1959,
          1960,
          1961,
          1962,
          1963,
          1964
         ],
         "xaxis": "x",
         "y": [
          273.875,
          437.90909090909093,
          247.1818181818182,
          453,
          258.6363636363636,
          473,
          281.25,
          282,
          523.8,
          518.2,
          394.8,
          434.5,
          351.25,
          476,
          396,
          621.6666666666666,
          592.3333333333334
         ],
         "yaxis": "y"
        }
       ],
       "layout": {
        "autosize": true,
        "barmode": "relative",
        "legend": {
         "title": {
          "text": "State"
         },
         "tracegroupgap": 0
        },
        "margin": {
         "t": 60
        },
        "template": {
         "data": {
          "bar": [
           {
            "error_x": {
             "color": "#2a3f5f"
            },
            "error_y": {
             "color": "#2a3f5f"
            },
            "marker": {
             "line": {
              "color": "#E5ECF6",
              "width": 0.5
             },
             "pattern": {
              "fillmode": "overlay",
              "size": 10,
              "solidity": 0.2
             }
            },
            "type": "bar"
           }
          ],
          "barpolar": [
           {
            "marker": {
             "line": {
              "color": "#E5ECF6",
              "width": 0.5
             },
             "pattern": {
              "fillmode": "overlay",
              "size": 10,
              "solidity": 0.2
             }
            },
            "type": "barpolar"
           }
          ],
          "carpet": [
           {
            "aaxis": {
             "endlinecolor": "#2a3f5f",
             "gridcolor": "white",
             "linecolor": "white",
             "minorgridcolor": "white",
             "startlinecolor": "#2a3f5f"
            },
            "baxis": {
             "endlinecolor": "#2a3f5f",
             "gridcolor": "white",
             "linecolor": "white",
             "minorgridcolor": "white",
             "startlinecolor": "#2a3f5f"
            },
            "type": "carpet"
           }
          ],
          "choropleth": [
           {
            "colorbar": {
             "outlinewidth": 0,
             "ticks": ""
            },
            "type": "choropleth"
           }
          ],
          "contour": [
           {
            "colorbar": {
             "outlinewidth": 0,
             "ticks": ""
            },
            "colorscale": [
             [
              0,
              "#0d0887"
             ],
             [
              0.1111111111111111,
              "#46039f"
             ],
             [
              0.2222222222222222,
              "#7201a8"
             ],
             [
              0.3333333333333333,
              "#9c179e"
             ],
             [
              0.4444444444444444,
              "#bd3786"
             ],
             [
              0.5555555555555556,
              "#d8576b"
             ],
             [
              0.6666666666666666,
              "#ed7953"
             ],
             [
              0.7777777777777778,
              "#fb9f3a"
             ],
             [
              0.8888888888888888,
              "#fdca26"
             ],
             [
              1,
              "#f0f921"
             ]
            ],
            "type": "contour"
           }
          ],
          "contourcarpet": [
           {
            "colorbar": {
             "outlinewidth": 0,
             "ticks": ""
            },
            "type": "contourcarpet"
           }
          ],
          "heatmap": [
           {
            "colorbar": {
             "outlinewidth": 0,
             "ticks": ""
            },
            "colorscale": [
             [
              0,
              "#0d0887"
             ],
             [
              0.1111111111111111,
              "#46039f"
             ],
             [
              0.2222222222222222,
              "#7201a8"
             ],
             [
              0.3333333333333333,
              "#9c179e"
             ],
             [
              0.4444444444444444,
              "#bd3786"
             ],
             [
              0.5555555555555556,
              "#d8576b"
             ],
             [
              0.6666666666666666,
              "#ed7953"
             ],
             [
              0.7777777777777778,
              "#fb9f3a"
             ],
             [
              0.8888888888888888,
              "#fdca26"
             ],
             [
              1,
              "#f0f921"
             ]
            ],
            "type": "heatmap"
           }
          ],
          "heatmapgl": [
           {
            "colorbar": {
             "outlinewidth": 0,
             "ticks": ""
            },
            "colorscale": [
             [
              0,
              "#0d0887"
             ],
             [
              0.1111111111111111,
              "#46039f"
             ],
             [
              0.2222222222222222,
              "#7201a8"
             ],
             [
              0.3333333333333333,
              "#9c179e"
             ],
             [
              0.4444444444444444,
              "#bd3786"
             ],
             [
              0.5555555555555556,
              "#d8576b"
             ],
             [
              0.6666666666666666,
              "#ed7953"
             ],
             [
              0.7777777777777778,
              "#fb9f3a"
             ],
             [
              0.8888888888888888,
              "#fdca26"
             ],
             [
              1,
              "#f0f921"
             ]
            ],
            "type": "heatmapgl"
           }
          ],
          "histogram": [
           {
            "marker": {
             "pattern": {
              "fillmode": "overlay",
              "size": 10,
              "solidity": 0.2
             }
            },
            "type": "histogram"
           }
          ],
          "histogram2d": [
           {
            "colorbar": {
             "outlinewidth": 0,
             "ticks": ""
            },
            "colorscale": [
             [
              0,
              "#0d0887"
             ],
             [
              0.1111111111111111,
              "#46039f"
             ],
             [
              0.2222222222222222,
              "#7201a8"
             ],
             [
              0.3333333333333333,
              "#9c179e"
             ],
             [
              0.4444444444444444,
              "#bd3786"
             ],
             [
              0.5555555555555556,
              "#d8576b"
             ],
             [
              0.6666666666666666,
              "#ed7953"
             ],
             [
              0.7777777777777778,
              "#fb9f3a"
             ],
             [
              0.8888888888888888,
              "#fdca26"
             ],
             [
              1,
              "#f0f921"
             ]
            ],
            "type": "histogram2d"
           }
          ],
          "histogram2dcontour": [
           {
            "colorbar": {
             "outlinewidth": 0,
             "ticks": ""
            },
            "colorscale": [
             [
              0,
              "#0d0887"
             ],
             [
              0.1111111111111111,
              "#46039f"
             ],
             [
              0.2222222222222222,
              "#7201a8"
             ],
             [
              0.3333333333333333,
              "#9c179e"
             ],
             [
              0.4444444444444444,
              "#bd3786"
             ],
             [
              0.5555555555555556,
              "#d8576b"
             ],
             [
              0.6666666666666666,
              "#ed7953"
             ],
             [
              0.7777777777777778,
              "#fb9f3a"
             ],
             [
              0.8888888888888888,
              "#fdca26"
             ],
             [
              1,
              "#f0f921"
             ]
            ],
            "type": "histogram2dcontour"
           }
          ],
          "mesh3d": [
           {
            "colorbar": {
             "outlinewidth": 0,
             "ticks": ""
            },
            "type": "mesh3d"
           }
          ],
          "parcoords": [
           {
            "line": {
             "colorbar": {
              "outlinewidth": 0,
              "ticks": ""
             }
            },
            "type": "parcoords"
           }
          ],
          "pie": [
           {
            "automargin": true,
            "type": "pie"
           }
          ],
          "scatter": [
           {
            "fillpattern": {
             "fillmode": "overlay",
             "size": 10,
             "solidity": 0.2
            },
            "type": "scatter"
           }
          ],
          "scatter3d": [
           {
            "line": {
             "colorbar": {
              "outlinewidth": 0,
              "ticks": ""
             }
            },
            "marker": {
             "colorbar": {
              "outlinewidth": 0,
              "ticks": ""
             }
            },
            "type": "scatter3d"
           }
          ],
          "scattercarpet": [
           {
            "marker": {
             "colorbar": {
              "outlinewidth": 0,
              "ticks": ""
             }
            },
            "type": "scattercarpet"
           }
          ],
          "scattergeo": [
           {
            "marker": {
             "colorbar": {
              "outlinewidth": 0,
              "ticks": ""
             }
            },
            "type": "scattergeo"
           }
          ],
          "scattergl": [
           {
            "marker": {
             "colorbar": {
              "outlinewidth": 0,
              "ticks": ""
             }
            },
            "type": "scattergl"
           }
          ],
          "scattermapbox": [
           {
            "marker": {
             "colorbar": {
              "outlinewidth": 0,
              "ticks": ""
             }
            },
            "type": "scattermapbox"
           }
          ],
          "scatterpolar": [
           {
            "marker": {
             "colorbar": {
              "outlinewidth": 0,
              "ticks": ""
             }
            },
            "type": "scatterpolar"
           }
          ],
          "scatterpolargl": [
           {
            "marker": {
             "colorbar": {
              "outlinewidth": 0,
              "ticks": ""
             }
            },
            "type": "scatterpolargl"
           }
          ],
          "scatterternary": [
           {
            "marker": {
             "colorbar": {
              "outlinewidth": 0,
              "ticks": ""
             }
            },
            "type": "scatterternary"
           }
          ],
          "surface": [
           {
            "colorbar": {
             "outlinewidth": 0,
             "ticks": ""
            },
            "colorscale": [
             [
              0,
              "#0d0887"
             ],
             [
              0.1111111111111111,
              "#46039f"
             ],
             [
              0.2222222222222222,
              "#7201a8"
             ],
             [
              0.3333333333333333,
              "#9c179e"
             ],
             [
              0.4444444444444444,
              "#bd3786"
             ],
             [
              0.5555555555555556,
              "#d8576b"
             ],
             [
              0.6666666666666666,
              "#ed7953"
             ],
             [
              0.7777777777777778,
              "#fb9f3a"
             ],
             [
              0.8888888888888888,
              "#fdca26"
             ],
             [
              1,
              "#f0f921"
             ]
            ],
            "type": "surface"
           }
          ],
          "table": [
           {
            "cells": {
             "fill": {
              "color": "#EBF0F8"
             },
             "line": {
              "color": "white"
             }
            },
            "header": {
             "fill": {
              "color": "#C8D4E3"
             },
             "line": {
              "color": "white"
             }
            },
            "type": "table"
           }
          ]
         },
         "layout": {
          "annotationdefaults": {
           "arrowcolor": "#2a3f5f",
           "arrowhead": 0,
           "arrowwidth": 1
          },
          "autotypenumbers": "strict",
          "coloraxis": {
           "colorbar": {
            "outlinewidth": 0,
            "ticks": ""
           }
          },
          "colorscale": {
           "diverging": [
            [
             0,
             "#8e0152"
            ],
            [
             0.1,
             "#c51b7d"
            ],
            [
             0.2,
             "#de77ae"
            ],
            [
             0.3,
             "#f1b6da"
            ],
            [
             0.4,
             "#fde0ef"
            ],
            [
             0.5,
             "#f7f7f7"
            ],
            [
             0.6,
             "#e6f5d0"
            ],
            [
             0.7,
             "#b8e186"
            ],
            [
             0.8,
             "#7fbc41"
            ],
            [
             0.9,
             "#4d9221"
            ],
            [
             1,
             "#276419"
            ]
           ],
           "sequential": [
            [
             0,
             "#0d0887"
            ],
            [
             0.1111111111111111,
             "#46039f"
            ],
            [
             0.2222222222222222,
             "#7201a8"
            ],
            [
             0.3333333333333333,
             "#9c179e"
            ],
            [
             0.4444444444444444,
             "#bd3786"
            ],
            [
             0.5555555555555556,
             "#d8576b"
            ],
            [
             0.6666666666666666,
             "#ed7953"
            ],
            [
             0.7777777777777778,
             "#fb9f3a"
            ],
            [
             0.8888888888888888,
             "#fdca26"
            ],
            [
             1,
             "#f0f921"
            ]
           ],
           "sequentialminus": [
            [
             0,
             "#0d0887"
            ],
            [
             0.1111111111111111,
             "#46039f"
            ],
            [
             0.2222222222222222,
             "#7201a8"
            ],
            [
             0.3333333333333333,
             "#9c179e"
            ],
            [
             0.4444444444444444,
             "#bd3786"
            ],
            [
             0.5555555555555556,
             "#d8576b"
            ],
            [
             0.6666666666666666,
             "#ed7953"
            ],
            [
             0.7777777777777778,
             "#fb9f3a"
            ],
            [
             0.8888888888888888,
             "#fdca26"
            ],
            [
             1,
             "#f0f921"
            ]
           ]
          },
          "colorway": [
           "#636efa",
           "#EF553B",
           "#00cc96",
           "#ab63fa",
           "#FFA15A",
           "#19d3f3",
           "#FF6692",
           "#B6E880",
           "#FF97FF",
           "#FECB52"
          ],
          "font": {
           "color": "#2a3f5f"
          },
          "geo": {
           "bgcolor": "white",
           "lakecolor": "white",
           "landcolor": "#E5ECF6",
           "showlakes": true,
           "showland": true,
           "subunitcolor": "white"
          },
          "hoverlabel": {
           "align": "left"
          },
          "hovermode": "closest",
          "mapbox": {
           "style": "light"
          },
          "paper_bgcolor": "white",
          "plot_bgcolor": "#E5ECF6",
          "polar": {
           "angularaxis": {
            "gridcolor": "white",
            "linecolor": "white",
            "ticks": ""
           },
           "bgcolor": "#E5ECF6",
           "radialaxis": {
            "gridcolor": "white",
            "linecolor": "white",
            "ticks": ""
           }
          },
          "scene": {
           "xaxis": {
            "backgroundcolor": "#E5ECF6",
            "gridcolor": "white",
            "gridwidth": 2,
            "linecolor": "white",
            "showbackground": true,
            "ticks": "",
            "zerolinecolor": "white"
           },
           "yaxis": {
            "backgroundcolor": "#E5ECF6",
            "gridcolor": "white",
            "gridwidth": 2,
            "linecolor": "white",
            "showbackground": true,
            "ticks": "",
            "zerolinecolor": "white"
           },
           "zaxis": {
            "backgroundcolor": "#E5ECF6",
            "gridcolor": "white",
            "gridwidth": 2,
            "linecolor": "white",
            "showbackground": true,
            "ticks": "",
            "zerolinecolor": "white"
           }
          },
          "shapedefaults": {
           "line": {
            "color": "#2a3f5f"
           }
          },
          "ternary": {
           "aaxis": {
            "gridcolor": "white",
            "linecolor": "white",
            "ticks": ""
           },
           "baxis": {
            "gridcolor": "white",
            "linecolor": "white",
            "ticks": ""
           },
           "bgcolor": "#E5ECF6",
           "caxis": {
            "gridcolor": "white",
            "linecolor": "white",
            "ticks": ""
           }
          },
          "title": {
           "x": 0.05
          },
          "xaxis": {
           "automargin": true,
           "gridcolor": "white",
           "linecolor": "white",
           "ticks": "",
           "title": {
            "standoff": 15
           },
           "zerolinecolor": "white",
           "zerolinewidth": 2
          },
          "yaxis": {
           "automargin": true,
           "gridcolor": "white",
           "linecolor": "white",
           "ticks": "",
           "title": {
            "standoff": 15
           },
           "zerolinecolor": "white",
           "zerolinewidth": 2
          }
         }
        },
        "xaxis": {
         "anchor": "y",
         "autorange": true,
         "domain": [
          0,
          1
         ],
         "range": [
          1942.5,
          1967.5
         ],
         "title": {
          "text": "Year"
         },
         "type": "linear"
        },
        "yaxis": {
         "anchor": "x",
         "autorange": true,
         "domain": [
          0,
          1
         ],
         "range": [
          0,
          189960.17042606516
         ],
         "title": {
          "text": "Mexican"
         },
         "type": "linear"
        }
       }
      },
      "image/png": "[encoded data removed]",
      "text/html": [
       "<div>                            <div id=\"35e283df-0441-4c21-9497-42f4498695a6\" class=\"plotly-graph-div\" style=\"height:525px; width:100%;\"></div>            <script type=\"text/javascript\">                require([\"plotly\"], function(Plotly) {                    window.PLOTLYENV=window.PLOTLYENV || {};                                    if (document.getElementById(\"35e283df-0441-4c21-9497-42f4498695a6\")) {                    Plotly.newPlot(                        \"35e283df-0441-4c21-9497-42f4498695a6\",                        [{\"alignmentgroup\":\"True\",\"hovertemplate\":\"State=AR\\u003cbr\\u003eYear=%{x}\\u003cbr\\u003eMexican=%{y}\\u003cextra\\u003e\\u003c\\u002fextra\\u003e\",\"legendgroup\":\"AR\",\"marker\":{\"color\":\"#636efa\",\"pattern\":{\"shape\":\"\"}},\"name\":\"AR\",\"offsetgroup\":\"AR\",\"orientation\":\"v\",\"showlegend\":true,\"textposition\":\"auto\",\"x\":[1951,1952,1953,1954,1955,1956,1957,1958,1959,1960,1961,1962,1963,1964],\"xaxis\":\"x\",\"y\":[10950.0,7823.125,7084.285714285715,6071.428571428572,7803.571428571428,10728.166666666666,8229.0,4834.142857142857,13682.333333333334,11003.57142857143,7742.428571428572,3330.0,2755.6,1508.7142857142858],\"yaxis\":\"y\",\"type\":\"bar\"},{\"alignmentgroup\":\"True\",\"hovertemplate\":\"State=AZ\\u003cbr\\u003eYear=%{x}\\u003cbr\\u003eMexican=%{y}\\u003cextra\\u003e\\u003c\\u002fextra\\u003e\",\"legendgroup\":\"AZ\",\"marker\":{\"color\":\"#EF553B\",\"pattern\":{\"shape\":\"\"}},\"name\":\"AZ\",\"offsetgroup\":\"AZ\",\"orientation\":\"v\",\"showlegend\":true,\"textposition\":\"auto\",\"x\":[1943,1944,1945,1946,1947,1948,1949,1950,1951,1952,1953,1954,1955,1956,1957,1958,1959,1960,1961,1962,1963,1964],\"xaxis\":\"x\",\"y\":[1292.75,1207.5833333333333,1672.1818181818182,1281.4166666666667,900.5,187.25,6200.0,1225.0,4208.333333333333,6658.333333333333,6081.916666666667,6575.666666666667,7055.125,9256.375,8849.75,11655.375,10465.142857142857,9118.285714285714,7294.857142857143,4938.5,4296.0,3729.6666666666665],\"yaxis\":\"y\",\"type\":\"bar\"},{\"alignmentgroup\":\"True\",\"hovertemplate\":\"State=CA\\u003cbr\\u003eYear=%{x}\\u003cbr\\u003eMexican=%{y}\\u003cextra\\u003e\\u003c\\u002fextra\\u003e\",\"legendgroup\":\"CA\",\"marker\":{\"color\":\"#00cc96\",\"pattern\":{\"shape\":\"\"}},\"name\":\"CA\",\"offsetgroup\":\"CA\",\"orientation\":\"v\",\"showlegend\":true,\"textposition\":\"auto\",\"x\":[1943,1944,1945,1946,1947,1948,1949,1950,1951,1952,1953,1954,1955,1956,1957,1958,1959,1960,1961,1962,1963,1964,1965,1966,1967],\"xaxis\":\"x\",\"y\":[20181.5,24252.583333333332,25927.363636363636,16745.333333333332,11412.833333333334,7783.333333333333,4858.333333333333,7475.0,18600.0,23008.333333333332,25262.5,28827.5,48325.0,59838.125,62054.125,55781.125,52834.28571428572,50784.28571428572,43270.0,39878.75,26690.833333333332,26770.833333333332,5592.6,2772.0,5850.0],\"yaxis\":\"y\",\"type\":\"bar\"},{\"alignmentgroup\":\"True\",\"hovertemplate\":\"State=CO\\u003cbr\\u003eYear=%{x}\\u003cbr\\u003eMexican=%{y}\\u003cextra\\u003e\\u003c\\u002fextra\\u003e\",\"legendgroup\":\"CO\",\"marker\":{\"color\":\"#ab63fa\",\"pattern\":{\"shape\":\"\"}},\"name\":\"CO\",\"offsetgroup\":\"CO\",\"orientation\":\"v\",\"showlegend\":true,\"textposition\":\"auto\",\"x\":[1943,1944,1945,1946,1947,1949,1950,1953,1954,1955,1956,1957,1958,1959,1960,1961,1962,1963,1964],\"xaxis\":\"x\",\"y\":[578.875,1449.090909090909,1113.7272727272727,793.1666666666666,518.0,234.0,812.0,710.4,659.2,1200.0,1783.8333333333333,1924.2857142857142,1761.857142857143,2166.6666666666665,2231.8571428571427,3032.6666666666665,3191.6666666666665,2811.4285714285716,2624.5714285714284],\"yaxis\":\"y\",\"type\":\"bar\"},{\"alignmentgroup\":\"True\",\"hovertemplate\":\"State=DE\\u003cbr\\u003eYear=%{x}\\u003cbr\\u003eMexican=%{y}\\u003cextra\\u003e\\u003c\\u002fextra\\u003e\",\"legendgroup\":\"DE\",\"marker\":{\"color\":\"#FFA15A\",\"pattern\":{\"shape\":\"\"}},\"name\":\"DE\",\"offsetgroup\":\"DE\",\"orientation\":\"v\",\"showlegend\":true,\"textposition\":\"auto\",\"x\":[1957],\"xaxis\":\"x\",\"y\":[115.0],\"yaxis\":\"y\",\"type\":\"bar\"},{\"alignmentgroup\":\"True\",\"hovertemplate\":\"State=GA\\u003cbr\\u003eYear=%{x}\\u003cbr\\u003eMexican=%{y}\\u003cextra\\u003e\\u003c\\u002fextra\\u003e\",\"legendgroup\":\"GA\",\"marker\":{\"color\":\"#19d3f3\",\"pattern\":{\"shape\":\"\"}},\"name\":\"GA\",\"offsetgroup\":\"GA\",\"orientation\":\"v\",\"showlegend\":true,\"textposition\":\"auto\",\"x\":[1953,1954,1955,1956,1957,1958,1959,1960,1961],\"xaxis\":\"x\",\"y\":[1152.0,212.5,242.33333333333334,646.6666666666666,888.0,439.0,821.0,644.5,763.5],\"yaxis\":\"y\",\"type\":\"bar\"},{\"alignmentgroup\":\"True\",\"hovertemplate\":\"State=IA\\u003cbr\\u003eYear=%{x}\\u003cbr\\u003eMexican=%{y}\\u003cextra\\u003e\\u003c\\u002fextra\\u003e\",\"legendgroup\":\"IA\",\"marker\":{\"color\":\"#FF6692\",\"pattern\":{\"shape\":\"\"}},\"name\":\"IA\",\"offsetgroup\":\"IA\",\"orientation\":\"v\",\"showlegend\":true,\"textposition\":\"auto\",\"x\":[1944,1945,1946,1947,1953,1956,1957,1958,1959,1960,1961,1962],\"xaxis\":\"x\",\"y\":[329.25,292.7142857142857,423.375,172.57142857142858,40.0,30.666666666666668,32.0,44.0,48.333333333333336,70.66666666666667,193.0,98.5],\"yaxis\":\"y\",\"type\":\"bar\"},{\"alignmentgroup\":\"True\",\"hovertemplate\":\"State=ID\\u003cbr\\u003eYear=%{x}\\u003cbr\\u003eMexican=%{y}\\u003cextra\\u003e\\u003c\\u002fextra\\u003e\",\"legendgroup\":\"ID\",\"marker\":{\"color\":\"#B6E880\",\"pattern\":{\"shape\":\"\"}},\"name\":\"ID\",\"offsetgroup\":\"ID\",\"orientation\":\"v\",\"showlegend\":true,\"textposition\":\"auto\",\"x\":[1943,1944,1945,1946,1947,1953,1954,1955,1956,1957],\"xaxis\":\"x\",\"y\":[622.5,1463.0833333333333,2012.8181818181818,1519.0,1957.111111111111,223.75,159.4,179.2,177.2,127.2],\"yaxis\":\"y\",\"type\":\"bar\"},{\"alignmentgroup\":\"True\",\"hovertemplate\":\"State=IL\\u003cbr\\u003eYear=%{x}\\u003cbr\\u003eMexican=%{y}\\u003cextra\\u003e\\u003c\\u002fextra\\u003e\",\"legendgroup\":\"IL\",\"marker\":{\"color\":\"#FF97FF\",\"pattern\":{\"shape\":\"\"}},\"name\":\"IL\",\"offsetgroup\":\"IL\",\"orientation\":\"v\",\"showlegend\":true,\"textposition\":\"auto\",\"x\":[1944,1945,1946,1947,1953,1954,1955,1956,1957,1958,1959,1960,1961,1962,1963],\"xaxis\":\"x\",\"y\":[576.75,312.6666666666667,379.1111111111111,269.1666666666667,24.6,74.57142857142857,159.0,140.66666666666666,150.0,112.33333333333333,82.5,123.0,47.5,113.0,35.0],\"yaxis\":\"y\",\"type\":\"bar\"},{\"alignmentgroup\":\"True\",\"hovertemplate\":\"State=IN\\u003cbr\\u003eYear=%{x}\\u003cbr\\u003eMexican=%{y}\\u003cextra\\u003e\\u003c\\u002fextra\\u003e\",\"legendgroup\":\"IN\",\"marker\":{\"color\":\"#FECB52\",\"pattern\":{\"shape\":\"\"}},\"name\":\"IN\",\"offsetgroup\":\"IN\",\"orientation\":\"v\",\"showlegend\":true,\"textposition\":\"auto\",\"x\":[1944,1945,1946,1947,1952,1953,1954,1955,1956,1957,1958,1959,1960,1961,1962,1963,1964],\"xaxis\":\"x\",\"y\":[74.5,191.11111111111111,107.16666666666667,86.875,310.0,210.25,116.25,166.5,158.0,255.2,222.0,187.4,218.5,293.0,202.5,185.5,101.0],\"yaxis\":\"y\",\"type\":\"bar\"},{\"alignmentgroup\":\"True\",\"hovertemplate\":\"State=KS\\u003cbr\\u003eYear=%{x}\\u003cbr\\u003eMexican=%{y}\\u003cextra\\u003e\\u003c\\u002fextra\\u003e\",\"legendgroup\":\"KS\",\"marker\":{\"color\":\"#636efa\",\"pattern\":{\"shape\":\"\"}},\"name\":\"KS\",\"offsetgroup\":\"KS\",\"orientation\":\"v\",\"showlegend\":true,\"textposition\":\"auto\",\"x\":[1943,1944,1945,1946,1947,1956,1957,1958,1959,1960,1961,1962,1963,1964],\"xaxis\":\"x\",\"y\":[62.25,218.85714285714286,104.7,180.58333333333334,188.55555555555554,28.666666666666668,95.0,39.0,12.6,14.166666666666666,34.0,78.5,80.5,143.33333333333334],\"yaxis\":\"y\",\"type\":\"bar\"},{\"alignmentgroup\":\"True\",\"hovertemplate\":\"State=KY\\u003cbr\\u003eYear=%{x}\\u003cbr\\u003eMexican=%{y}\\u003cextra\\u003e\\u003c\\u002fextra\\u003e\",\"legendgroup\":\"KY\",\"marker\":{\"color\":\"#EF553B\",\"pattern\":{\"shape\":\"\"}},\"name\":\"KY\",\"offsetgroup\":\"KY\",\"orientation\":\"v\",\"showlegend\":true,\"textposition\":\"auto\",\"x\":[1953,1956,1957,1958,1959,1960,1961],\"xaxis\":\"x\",\"y\":[73.5,193.5,142.4,96.0,162.6,94.25,57.0],\"yaxis\":\"y\",\"type\":\"bar\"},{\"alignmentgroup\":\"True\",\"hovertemplate\":\"State=LA\\u003cbr\\u003eYear=%{x}\\u003cbr\\u003eMexican=%{y}\\u003cextra\\u003e\\u003c\\u002fextra\\u003e\",\"legendgroup\":\"LA\",\"marker\":{\"color\":\"#00cc96\",\"pattern\":{\"shape\":\"\"}},\"name\":\"LA\",\"offsetgroup\":\"LA\",\"orientation\":\"v\",\"showlegend\":true,\"textposition\":\"auto\",\"x\":[1953],\"xaxis\":\"x\",\"y\":[245.71428571428572],\"yaxis\":\"y\",\"type\":\"bar\"},{\"alignmentgroup\":\"True\",\"hovertemplate\":\"State=MI\\u003cbr\\u003eYear=%{x}\\u003cbr\\u003eMexican=%{y}\\u003cextra\\u003e\\u003c\\u002fextra\\u003e\",\"legendgroup\":\"MI\",\"marker\":{\"color\":\"#ab63fa\",\"pattern\":{\"shape\":\"\"}},\"name\":\"MI\",\"offsetgroup\":\"MI\",\"orientation\":\"v\",\"showlegend\":true,\"textposition\":\"auto\",\"x\":[1944,1945,1946,1947,1948,1951,1952,1953,1954,1955,1956,1957,1958,1959,1960,1961,1962,1963,1964],\"xaxis\":\"x\",\"y\":[1735.0,2040.0,1036.25,54.54545454545455,745.3333333333334,1286.4,1475.1666666666667,1587.1666666666667,2707.3333333333335,2816.5,4121.833333333333,5506.4,3715.0,4062.2,4258.4,4544.8,3176.6,4735.5,3814.25],\"yaxis\":\"y\",\"type\":\"bar\"},{\"alignmentgroup\":\"True\",\"hovertemplate\":\"State=MN\\u003cbr\\u003eYear=%{x}\\u003cbr\\u003eMexican=%{y}\\u003cextra\\u003e\\u003c\\u002fextra\\u003e\",\"legendgroup\":\"MN\",\"marker\":{\"color\":\"#FFA15A\",\"pattern\":{\"shape\":\"\"}},\"name\":\"MN\",\"offsetgroup\":\"MN\",\"orientation\":\"v\",\"showlegend\":true,\"textposition\":\"auto\",\"x\":[1943,1944,1945,1946,1947,1953,1954,1955,1956,1957,1958,1959,1960,1961,1962,1963,1964],\"xaxis\":\"x\",\"y\":[235.5,612.0,669.6,1029.5,990.8571428571429,615.3333333333334,138.0,104.0,155.0,259.8333333333333,100.0,58.0,49.0,37.5,29.333333333333332,26.333333333333332,14.0],\"yaxis\":\"y\",\"type\":\"bar\"},{\"alignmentgroup\":\"True\",\"hovertemplate\":\"State=MO\\u003cbr\\u003eYear=%{x}\\u003cbr\\u003eMexican=%{y}\\u003cextra\\u003e\\u003c\\u002fextra\\u003e\",\"legendgroup\":\"MO\",\"marker\":{\"color\":\"#19d3f3\",\"pattern\":{\"shape\":\"\"}},\"name\":\"MO\",\"offsetgroup\":\"MO\",\"orientation\":\"v\",\"showlegend\":true,\"textposition\":\"auto\",\"x\":[1953,1954,1955,1956,1957,1958,1959,1960],\"xaxis\":\"x\",\"y\":[1650.0,1162.6666666666667,906.0,938.3333333333334,227.5,685.0,497.0,194.75],\"yaxis\":\"y\",\"type\":\"bar\"},{\"alignmentgroup\":\"True\",\"hovertemplate\":\"State=MT\\u003cbr\\u003eYear=%{x}\\u003cbr\\u003eMexican=%{y}\\u003cextra\\u003e\\u003c\\u002fextra\\u003e\",\"legendgroup\":\"MT\",\"marker\":{\"color\":\"#FF6692\",\"pattern\":{\"shape\":\"\"}},\"name\":\"MT\",\"offsetgroup\":\"MT\",\"orientation\":\"v\",\"showlegend\":true,\"textposition\":\"auto\",\"x\":[1943,1944,1945,1946,1947,1953,1954,1955,1956,1957,1958,1959,1960,1961,1962,1963,1964],\"xaxis\":\"x\",\"y\":[1029.125,1985.5454545454545,1669.3636363636363,1081.0833333333333,986.7,847.0,877.6666666666666,627.6666666666666,1507.0,2082.5,831.0,1217.0,1002.0,798.6666666666666,1010.6666666666666,981.6666666666666,983.5],\"yaxis\":\"y\",\"type\":\"bar\"},{\"alignmentgroup\":\"True\",\"hovertemplate\":\"State=NC\\u003cbr\\u003eYear=%{x}\\u003cbr\\u003eMexican=%{y}\\u003cextra\\u003e\\u003c\\u002fextra\\u003e\",\"legendgroup\":\"NC\",\"marker\":{\"color\":\"#B6E880\",\"pattern\":{\"shape\":\"\"}},\"name\":\"NC\",\"offsetgroup\":\"NC\",\"orientation\":\"v\",\"showlegend\":true,\"textposition\":\"auto\",\"x\":[1947],\"xaxis\":\"x\",\"y\":[330.3333333333333],\"yaxis\":\"y\",\"type\":\"bar\"},{\"alignmentgroup\":\"True\",\"hovertemplate\":\"State=ND\\u003cbr\\u003eYear=%{x}\\u003cbr\\u003eMexican=%{y}\\u003cextra\\u003e\\u003c\\u002fextra\\u003e\",\"legendgroup\":\"ND\",\"marker\":{\"color\":\"#FF97FF\",\"pattern\":{\"shape\":\"\"}},\"name\":\"ND\",\"offsetgroup\":\"ND\",\"orientation\":\"v\",\"showlegend\":true,\"textposition\":\"auto\",\"x\":[1943,1944,1945,1946,1947,1953,1957,1958,1959,1960,1961],\"xaxis\":\"x\",\"y\":[199.5,1502.8,1035.75,242.25,58.22222222222222,80.0,170.0,249.0,36.0,54.0,108.0],\"yaxis\":\"y\",\"type\":\"bar\"},{\"alignmentgroup\":\"True\",\"hovertemplate\":\"State=NE\\u003cbr\\u003eYear=%{x}\\u003cbr\\u003eMexican=%{y}\\u003cextra\\u003e\\u003c\\u002fextra\\u003e\",\"legendgroup\":\"NE\",\"marker\":{\"color\":\"#FECB52\",\"pattern\":{\"shape\":\"\"}},\"name\":\"NE\",\"offsetgroup\":\"NE\",\"orientation\":\"v\",\"showlegend\":true,\"textposition\":\"auto\",\"x\":[1943,1944,1945,1946,1947,1953,1954,1955,1956,1957,1958,1959,1960,1961,1962,1963,1964],\"xaxis\":\"x\",\"y\":[182.5,425.6666666666667,684.2727272727273,663.8333333333334,505.90909090909093,698.0,209.5,123.85714285714286,450.8,896.6666666666666,1201.5,1072.0,811.3333333333334,765.3333333333334,702.0,681.75,546.3333333333334],\"yaxis\":\"y\",\"type\":\"bar\"},{\"alignmentgroup\":\"True\",\"hovertemplate\":\"State=NH\\u003cbr\\u003eYear=%{x}\\u003cbr\\u003eMexican=%{y}\\u003cextra\\u003e\\u003c\\u002fextra\\u003e\",\"legendgroup\":\"NH\",\"marker\":{\"color\":\"#636efa\",\"pattern\":{\"shape\":\"\"}},\"name\":\"NH\",\"offsetgroup\":\"NH\",\"orientation\":\"v\",\"showlegend\":true,\"textposition\":\"auto\",\"x\":[1956],\"xaxis\":\"x\",\"y\":[79.0],\"yaxis\":\"y\",\"type\":\"bar\"},{\"alignmentgroup\":\"True\",\"hovertemplate\":\"State=NM\\u003cbr\\u003eYear=%{x}\\u003cbr\\u003eMexican=%{y}\\u003cextra\\u003e\\u003c\\u002fextra\\u003e\",\"legendgroup\":\"NM\",\"marker\":{\"color\":\"#EF553B\",\"pattern\":{\"shape\":\"\"}},\"name\":\"NM\",\"offsetgroup\":\"NM\",\"orientation\":\"v\",\"showlegend\":true,\"textposition\":\"auto\",\"x\":[1946,1948,1953,1954,1955,1956,1957,1958,1959,1960,1961,1962,1963,1964],\"xaxis\":\"x\",\"y\":[22.375,7356.0,10231.857142857143,6132.166666666667,7462.875,7570.75,7945.0,9124.625,9087.285714285714,6082.142857142857,4514.142857142857,1443.25,543.75,393.6],\"yaxis\":\"y\",\"type\":\"bar\"},{\"alignmentgroup\":\"True\",\"hovertemplate\":\"State=NV\\u003cbr\\u003eYear=%{x}\\u003cbr\\u003eMexican=%{y}\\u003cextra\\u003e\\u003c\\u002fextra\\u003e\",\"legendgroup\":\"NV\",\"marker\":{\"color\":\"#00cc96\",\"pattern\":{\"shape\":\"\"}},\"name\":\"NV\",\"offsetgroup\":\"NV\",\"orientation\":\"v\",\"showlegend\":true,\"textposition\":\"auto\",\"x\":[1943,1944,1945,1946,1947,1953,1954,1955,1956,1957,1958,1959,1960,1961,1962,1963],\"xaxis\":\"x\",\"y\":[281.14285714285717,304.5,443.3636363636364,220.0,119.08333333333333,82.0,60.0,43.0,22.333333333333332,31.0,39.57142857142857,37.714285714285715,60.857142857142854,25.142857142857142,29.0,29.0],\"yaxis\":\"y\",\"type\":\"bar\"},{\"alignmentgroup\":\"True\",\"hovertemplate\":\"State=NY\\u003cbr\\u003eYear=%{x}\\u003cbr\\u003eMexican=%{y}\\u003cextra\\u003e\\u003c\\u002fextra\\u003e\",\"legendgroup\":\"NY\",\"marker\":{\"color\":\"#ab63fa\",\"pattern\":{\"shape\":\"\"}},\"name\":\"NY\",\"offsetgroup\":\"NY\",\"orientation\":\"v\",\"showlegend\":true,\"textposition\":\"auto\",\"x\":[1947],\"xaxis\":\"x\",\"y\":[173.66666666666666],\"yaxis\":\"y\",\"type\":\"bar\"},{\"alignmentgroup\":\"True\",\"hovertemplate\":\"State=OH\\u003cbr\\u003eYear=%{x}\\u003cbr\\u003eMexican=%{y}\\u003cextra\\u003e\\u003c\\u002fextra\\u003e\",\"legendgroup\":\"OH\",\"marker\":{\"color\":\"#FFA15A\",\"pattern\":{\"shape\":\"\"}},\"name\":\"OH\",\"offsetgroup\":\"OH\",\"orientation\":\"v\",\"showlegend\":true,\"textposition\":\"auto\",\"x\":[1944,1945,1956,1957],\"xaxis\":\"x\",\"y\":[129.0,80.75,50.0,64.0],\"yaxis\":\"y\",\"type\":\"bar\"},{\"alignmentgroup\":\"True\",\"hovertemplate\":\"State=OR\\u003cbr\\u003eYear=%{x}\\u003cbr\\u003eMexican=%{y}\\u003cextra\\u003e\\u003c\\u002fextra\\u003e\",\"legendgroup\":\"OR\",\"marker\":{\"color\":\"#19d3f3\",\"pattern\":{\"shape\":\"\"}},\"name\":\"OR\",\"offsetgroup\":\"OR\",\"orientation\":\"v\",\"showlegend\":true,\"textposition\":\"auto\",\"x\":[1943,1944,1945,1946,1947,1952,1953,1955,1956,1957,1958,1959,1960,1961,1962,1963,1964],\"xaxis\":\"x\",\"y\":[1537.375,1893.5,1786.1818181818182,901.8333333333334,486.0,425.25,159.0,590.5,349.6,205.0,199.0,359.0,349.0,327.0,234.0,67.0,187.0],\"yaxis\":\"y\",\"type\":\"bar\"},{\"alignmentgroup\":\"True\",\"hovertemplate\":\"State=SD\\u003cbr\\u003eYear=%{x}\\u003cbr\\u003eMexican=%{y}\\u003cextra\\u003e\\u003c\\u002fextra\\u003e\",\"legendgroup\":\"SD\",\"marker\":{\"color\":\"#FF6692\",\"pattern\":{\"shape\":\"\"}},\"name\":\"SD\",\"offsetgroup\":\"SD\",\"orientation\":\"v\",\"showlegend\":true,\"textposition\":\"auto\",\"x\":[1943,1944,1945,1946,1947,1953,1954,1955,1956,1957,1958,1959,1960,1961,1962,1963,1964],\"xaxis\":\"x\",\"y\":[73.625,308.1666666666667,340.5,204.75,144.8181818181818,185.0,209.5,111.0,202.0,296.0,167.5,216.0,229.0,125.5,84.0,49.0,51.0],\"yaxis\":\"y\",\"type\":\"bar\"},{\"alignmentgroup\":\"True\",\"hovertemplate\":\"State=TN\\u003cbr\\u003eYear=%{x}\\u003cbr\\u003eMexican=%{y}\\u003cextra\\u003e\\u003c\\u002fextra\\u003e\",\"legendgroup\":\"TN\",\"marker\":{\"color\":\"#B6E880\",\"pattern\":{\"shape\":\"\"}},\"name\":\"TN\",\"offsetgroup\":\"TN\",\"orientation\":\"v\",\"showlegend\":true,\"textposition\":\"auto\",\"x\":[1953,1954,1955,1956,1957,1958,1959,1960,1961,1962],\"xaxis\":\"x\",\"y\":[749.5,315.0,548.6666666666666,376.2,453.2,269.75,503.2,478.75,331.0,165.0],\"yaxis\":\"y\",\"type\":\"bar\"},{\"alignmentgroup\":\"True\",\"hovertemplate\":\"State=TX\\u003cbr\\u003eYear=%{x}\\u003cbr\\u003eMexican=%{y}\\u003cextra\\u003e\\u003c\\u002fextra\\u003e\",\"legendgroup\":\"TX\",\"marker\":{\"color\":\"#FF97FF\",\"pattern\":{\"shape\":\"\"}},\"name\":\"TX\",\"offsetgroup\":\"TX\",\"orientation\":\"v\",\"showlegend\":true,\"textposition\":\"auto\",\"x\":[1953,1954,1955,1956,1957,1958,1959,1960,1961,1962,1963,1964],\"xaxis\":\"x\",\"y\":[23678.833333333332,42494.71428571428,59150.0,62053.875,58357.375,75889.0,81808.0,60503.42857142857,55131.57142857143,17185.0,8906.75,6895.0],\"yaxis\":\"y\",\"type\":\"bar\"},{\"alignmentgroup\":\"True\",\"hovertemplate\":\"State=UT\\u003cbr\\u003eYear=%{x}\\u003cbr\\u003eMexican=%{y}\\u003cextra\\u003e\\u003c\\u002fextra\\u003e\",\"legendgroup\":\"UT\",\"marker\":{\"color\":\"#FECB52\",\"pattern\":{\"shape\":\"\"}},\"name\":\"UT\",\"offsetgroup\":\"UT\",\"orientation\":\"v\",\"showlegend\":true,\"textposition\":\"auto\",\"x\":[1944,1945,1946,1947,1953,1954,1955,1956,1957,1958,1959,1960,1961,1962,1963,1964],\"xaxis\":\"x\",\"y\":[516.25,492.6363636363636,410.3333333333333,586.8181818181819,234.25,182.0,217.66666666666666,305.1666666666667,461.3333333333333,291.6666666666667,335.6,259.2857142857143,208.33333333333334,312.0,291.3333333333333,275.5],\"yaxis\":\"y\",\"type\":\"bar\"},{\"alignmentgroup\":\"True\",\"hovertemplate\":\"State=WA\\u003cbr\\u003eYear=%{x}\\u003cbr\\u003eMexican=%{y}\\u003cextra\\u003e\\u003c\\u002fextra\\u003e\",\"legendgroup\":\"WA\",\"marker\":{\"color\":\"#636efa\",\"pattern\":{\"shape\":\"\"}},\"name\":\"WA\",\"offsetgroup\":\"WA\",\"orientation\":\"v\",\"showlegend\":true,\"textposition\":\"auto\",\"x\":[1943,1944,1945,1946,1947,1953,1954,1955,1956,1957,1960],\"xaxis\":\"x\",\"y\":[1114.875,1822.9166666666667,2342.3636363636365,1174.8333333333333,457.22222222222223,605.1428571428571,176.2,271.5,242.71428571428572,451.2,60.0],\"yaxis\":\"y\",\"type\":\"bar\"},{\"alignmentgroup\":\"True\",\"hovertemplate\":\"State=WI\\u003cbr\\u003eYear=%{x}\\u003cbr\\u003eMexican=%{y}\\u003cextra\\u003e\\u003c\\u002fextra\\u003e\",\"legendgroup\":\"WI\",\"marker\":{\"color\":\"#EF553B\",\"pattern\":{\"shape\":\"\"}},\"name\":\"WI\",\"offsetgroup\":\"WI\",\"orientation\":\"v\",\"showlegend\":true,\"textposition\":\"auto\",\"x\":[1944,1945,1946,1947,1953,1954,1955,1956,1957,1958,1959,1960,1961,1962,1963,1964],\"xaxis\":\"x\",\"y\":[344.5,401.0,448.8333333333333,686.9166666666666,351.0,251.25,251.4,490.3333333333333,424.85714285714283,258.8,275.8,307.6,197.83333333333334,213.0,279.75,314.75],\"yaxis\":\"y\",\"type\":\"bar\"},{\"alignmentgroup\":\"True\",\"hovertemplate\":\"State=WY\\u003cbr\\u003eYear=%{x}\\u003cbr\\u003eMexican=%{y}\\u003cextra\\u003e\\u003c\\u002fextra\\u003e\",\"legendgroup\":\"WY\",\"marker\":{\"color\":\"#00cc96\",\"pattern\":{\"shape\":\"\"}},\"name\":\"WY\",\"offsetgroup\":\"WY\",\"orientation\":\"v\",\"showlegend\":true,\"textposition\":\"auto\",\"x\":[1943,1944,1945,1946,1947,1953,1954,1955,1956,1957,1958,1959,1960,1961,1962,1963,1964],\"xaxis\":\"x\",\"y\":[273.875,437.90909090909093,247.1818181818182,453.0,258.6363636363636,473.0,281.25,282.0,523.8,518.2,394.8,434.5,351.25,476.0,396.0,621.6666666666666,592.3333333333334],\"yaxis\":\"y\",\"type\":\"bar\"}],                        {\"template\":{\"data\":{\"histogram2dcontour\":[{\"type\":\"histogram2dcontour\",\"colorbar\":{\"outlinewidth\":0,\"ticks\":\"\"},\"colorscale\":[[0.0,\"#0d0887\"],[0.1111111111111111,\"#46039f\"],[0.2222222222222222,\"#7201a8\"],[0.3333333333333333,\"#9c179e\"],[0.4444444444444444,\"#bd3786\"],[0.5555555555555556,\"#d8576b\"],[0.6666666666666666,\"#ed7953\"],[0.7777777777777778,\"#fb9f3a\"],[0.8888888888888888,\"#fdca26\"],[1.0,\"#f0f921\"]]}],\"choropleth\":[{\"type\":\"choropleth\",\"colorbar\":{\"outlinewidth\":0,\"ticks\":\"\"}}],\"histogram2d\":[{\"type\":\"histogram2d\",\"colorbar\":{\"outlinewidth\":0,\"ticks\":\"\"},\"colorscale\":[[0.0,\"#0d0887\"],[0.1111111111111111,\"#46039f\"],[0.2222222222222222,\"#7201a8\"],[0.3333333333333333,\"#9c179e\"],[0.4444444444444444,\"#bd3786\"],[0.5555555555555556,\"#d8576b\"],[0.6666666666666666,\"#ed7953\"],[0.7777777777777778,\"#fb9f3a\"],[0.8888888888888888,\"#fdca26\"],[1.0,\"#f0f921\"]]}],\"heatmap\":[{\"type\":\"heatmap\",\"colorbar\":{\"outlinewidth\":0,\"ticks\":\"\"},\"colorscale\":[[0.0,\"#0d0887\"],[0.1111111111111111,\"#46039f\"],[0.2222222222222222,\"#7201a8\"],[0.3333333333333333,\"#9c179e\"],[0.4444444444444444,\"#bd3786\"],[0.5555555555555556,\"#d8576b\"],[0.6666666666666666,\"#ed7953\"],[0.7777777777777778,\"#fb9f3a\"],[0.8888888888888888,\"#fdca26\"],[1.0,\"#f0f921\"]]}],\"heatmapgl\":[{\"type\":\"heatmapgl\",\"colorbar\":{\"outlinewidth\":0,\"ticks\":\"\"},\"colorscale\":[[0.0,\"#0d0887\"],[0.1111111111111111,\"#46039f\"],[0.2222222222222222,\"#7201a8\"],[0.3333333333333333,\"#9c179e\"],[0.4444444444444444,\"#bd3786\"],[0.5555555555555556,\"#d8576b\"],[0.6666666666666666,\"#ed7953\"],[0.7777777777777778,\"#fb9f3a\"],[0.8888888888888888,\"#fdca26\"],[1.0,\"#f0f921\"]]}],\"contourcarpet\":[{\"type\":\"contourcarpet\",\"colorbar\":{\"outlinewidth\":0,\"ticks\":\"\"}}],\"contour\":[{\"type\":\"contour\",\"colorbar\":{\"outlinewidth\":0,\"ticks\":\"\"},\"colorscale\":[[0.0,\"#0d0887\"],[0.1111111111111111,\"#46039f\"],[0.2222222222222222,\"#7201a8\"],[0.3333333333333333,\"#9c179e\"],[0.4444444444444444,\"#bd3786\"],[0.5555555555555556,\"#d8576b\"],[0.6666666666666666,\"#ed7953\"],[0.7777777777777778,\"#fb9f3a\"],[0.8888888888888888,\"#fdca26\"],[1.0,\"#f0f921\"]]}],\"surface\":[{\"type\":\"surface\",\"colorbar\":{\"outlinewidth\":0,\"ticks\":\"\"},\"colorscale\":[[0.0,\"#0d0887\"],[0.1111111111111111,\"#46039f\"],[0.2222222222222222,\"#7201a8\"],[0.3333333333333333,\"#9c179e\"],[0.4444444444444444,\"#bd3786\"],[0.5555555555555556,\"#d8576b\"],[0.6666666666666666,\"#ed7953\"],[0.7777777777777778,\"#fb9f3a\"],[0.8888888888888888,\"#fdca26\"],[1.0,\"#f0f921\"]]}],\"mesh3d\":[{\"type\":\"mesh3d\",\"colorbar\":{\"outlinewidth\":0,\"ticks\":\"\"}}],\"scatter\":[{\"fillpattern\":{\"fillmode\":\"overlay\",\"size\":10,\"solidity\":0.2},\"type\":\"scatter\"}],\"parcoords\":[{\"type\":\"parcoords\",\"line\":{\"colorbar\":{\"outlinewidth\":0,\"ticks\":\"\"}}}],\"scatterpolargl\":[{\"type\":\"scatterpolargl\",\"marker\":{\"colorbar\":{\"outlinewidth\":0,\"ticks\":\"\"}}}],\"bar\":[{\"error_x\":{\"color\":\"#2a3f5f\"},\"error_y\":{\"color\":\"#2a3f5f\"},\"marker\":{\"line\":{\"color\":\"#E5ECF6\",\"width\":0.5},\"pattern\":{\"fillmode\":\"overlay\",\"size\":10,\"solidity\":0.2}},\"type\":\"bar\"}],\"scattergeo\":[{\"type\":\"scattergeo\",\"marker\":{\"colorbar\":{\"outlinewidth\":0,\"ticks\":\"\"}}}],\"scatterpolar\":[{\"type\":\"scatterpolar\",\"marker\":{\"colorbar\":{\"outlinewidth\":0,\"ticks\":\"\"}}}],\"histogram\":[{\"marker\":{\"pattern\":{\"fillmode\":\"overlay\",\"size\":10,\"solidity\":0.2}},\"type\":\"histogram\"}],\"scattergl\":[{\"type\":\"scattergl\",\"marker\":{\"colorbar\":{\"outlinewidth\":0,\"ticks\":\"\"}}}],\"scatter3d\":[{\"type\":\"scatter3d\",\"line\":{\"colorbar\":{\"outlinewidth\":0,\"ticks\":\"\"}},\"marker\":{\"colorbar\":{\"outlinewidth\":0,\"ticks\":\"\"}}}],\"scattermapbox\":[{\"type\":\"scattermapbox\",\"marker\":{\"colorbar\":{\"outlinewidth\":0,\"ticks\":\"\"}}}],\"scatterternary\":[{\"type\":\"scatterternary\",\"marker\":{\"colorbar\":{\"outlinewidth\":0,\"ticks\":\"\"}}}],\"scattercarpet\":[{\"type\":\"scattercarpet\",\"marker\":{\"colorbar\":{\"outlinewidth\":0,\"ticks\":\"\"}}}],\"carpet\":[{\"aaxis\":{\"endlinecolor\":\"#2a3f5f\",\"gridcolor\":\"white\",\"linecolor\":\"white\",\"minorgridcolor\":\"white\",\"startlinecolor\":\"#2a3f5f\"},\"baxis\":{\"endlinecolor\":\"#2a3f5f\",\"gridcolor\":\"white\",\"linecolor\":\"white\",\"minorgridcolor\":\"white\",\"startlinecolor\":\"#2a3f5f\"},\"type\":\"carpet\"}],\"table\":[{\"cells\":{\"fill\":{\"color\":\"#EBF0F8\"},\"line\":{\"color\":\"white\"}},\"header\":{\"fill\":{\"color\":\"#C8D4E3\"},\"line\":{\"color\":\"white\"}},\"type\":\"table\"}],\"barpolar\":[{\"marker\":{\"line\":{\"color\":\"#E5ECF6\",\"width\":0.5},\"pattern\":{\"fillmode\":\"overlay\",\"size\":10,\"solidity\":0.2}},\"type\":\"barpolar\"}],\"pie\":[{\"automargin\":true,\"type\":\"pie\"}]},\"layout\":{\"autotypenumbers\":\"strict\",\"colorway\":[\"#636efa\",\"#EF553B\",\"#00cc96\",\"#ab63fa\",\"#FFA15A\",\"#19d3f3\",\"#FF6692\",\"#B6E880\",\"#FF97FF\",\"#FECB52\"],\"font\":{\"color\":\"#2a3f5f\"},\"hovermode\":\"closest\",\"hoverlabel\":{\"align\":\"left\"},\"paper_bgcolor\":\"white\",\"plot_bgcolor\":\"#E5ECF6\",\"polar\":{\"bgcolor\":\"#E5ECF6\",\"angularaxis\":{\"gridcolor\":\"white\",\"linecolor\":\"white\",\"ticks\":\"\"},\"radialaxis\":{\"gridcolor\":\"white\",\"linecolor\":\"white\",\"ticks\":\"\"}},\"ternary\":{\"bgcolor\":\"#E5ECF6\",\"aaxis\":{\"gridcolor\":\"white\",\"linecolor\":\"white\",\"ticks\":\"\"},\"baxis\":{\"gridcolor\":\"white\",\"linecolor\":\"white\",\"ticks\":\"\"},\"caxis\":{\"gridcolor\":\"white\",\"linecolor\":\"white\",\"ticks\":\"\"}},\"coloraxis\":{\"colorbar\":{\"outlinewidth\":0,\"ticks\":\"\"}},\"colorscale\":{\"sequential\":[[0.0,\"#0d0887\"],[0.1111111111111111,\"#46039f\"],[0.2222222222222222,\"#7201a8\"],[0.3333333333333333,\"#9c179e\"],[0.4444444444444444,\"#bd3786\"],[0.5555555555555556,\"#d8576b\"],[0.6666666666666666,\"#ed7953\"],[0.7777777777777778,\"#fb9f3a\"],[0.8888888888888888,\"#fdca26\"],[1.0,\"#f0f921\"]],\"sequentialminus\":[[0.0,\"#0d0887\"],[0.1111111111111111,\"#46039f\"],[0.2222222222222222,\"#7201a8\"],[0.3333333333333333,\"#9c179e\"],[0.4444444444444444,\"#bd3786\"],[0.5555555555555556,\"#d8576b\"],[0.6666666666666666,\"#ed7953\"],[0.7777777777777778,\"#fb9f3a\"],[0.8888888888888888,\"#fdca26\"],[1.0,\"#f0f921\"]],\"diverging\":[[0,\"#8e0152\"],[0.1,\"#c51b7d\"],[0.2,\"#de77ae\"],[0.3,\"#f1b6da\"],[0.4,\"#fde0ef\"],[0.5,\"#f7f7f7\"],[0.6,\"#e6f5d0\"],[0.7,\"#b8e186\"],[0.8,\"#7fbc41\"],[0.9,\"#4d9221\"],[1,\"#276419\"]]},\"xaxis\":{\"gridcolor\":\"white\",\"linecolor\":\"white\",\"ticks\":\"\",\"title\":{\"standoff\":15},\"zerolinecolor\":\"white\",\"automargin\":true,\"zerolinewidth\":2},\"yaxis\":{\"gridcolor\":\"white\",\"linecolor\":\"white\",\"ticks\":\"\",\"title\":{\"standoff\":15},\"zerolinecolor\":\"white\",\"automargin\":true,\"zerolinewidth\":2},\"scene\":{\"xaxis\":{\"backgroundcolor\":\"#E5ECF6\",\"gridcolor\":\"white\",\"linecolor\":\"white\",\"showbackground\":true,\"ticks\":\"\",\"zerolinecolor\":\"white\",\"gridwidth\":2},\"yaxis\":{\"backgroundcolor\":\"#E5ECF6\",\"gridcolor\":\"white\",\"linecolor\":\"white\",\"showbackground\":true,\"ticks\":\"\",\"zerolinecolor\":\"white\",\"gridwidth\":2},\"zaxis\":{\"backgroundcolor\":\"#E5ECF6\",\"gridcolor\":\"white\",\"linecolor\":\"white\",\"showbackground\":true,\"ticks\":\"\",\"zerolinecolor\":\"white\",\"gridwidth\":2}},\"shapedefaults\":{\"line\":{\"color\":\"#2a3f5f\"}},\"annotationdefaults\":{\"arrowcolor\":\"#2a3f5f\",\"arrowhead\":0,\"arrowwidth\":1},\"geo\":{\"bgcolor\":\"white\",\"landcolor\":\"#E5ECF6\",\"subunitcolor\":\"white\",\"showland\":true,\"showlakes\":true,\"lakecolor\":\"white\"},\"title\":{\"x\":0.05},\"mapbox\":{\"style\":\"light\"}}},\"xaxis\":{\"anchor\":\"y\",\"domain\":[0.0,1.0],\"title\":{\"text\":\"Year\"}},\"yaxis\":{\"anchor\":\"x\",\"domain\":[0.0,1.0],\"title\":{\"text\":\"Mexican\"}},\"legend\":{\"title\":{\"text\":\"State\"},\"tracegroupgap\":0},\"margin\":{\"t\":60},\"barmode\":\"relative\"},                        {\"responsive\": true}                    ).then(function(){\n",
       "                            \n",
       "var gd = document.getElementById('35e283df-0441-4c21-9497-42f4498695a6');\n",
       "var x = new MutationObserver(function (mutations, observer) {{\n",
       "        var display = window.getComputedStyle(gd).display;\n",
       "        if (!display || display === 'none') {{\n",
       "            console.log([gd, 'removed!']);\n",
       "            Plotly.purge(gd);\n",
       "            observer.disconnect();\n",
       "        }}\n",
       "}});\n",
       "\n",
       "// Listen for the removal of the full notebook cells\n",
       "var notebookContainer = gd.closest('#notebook-container');\n",
       "if (notebookContainer) {{\n",
       "    x.observe(notebookContainer, {childList: true});\n",
       "}}\n",
       "\n",
       "// Listen for the clearing of the current output cell\n",
       "var outputEl = gd.closest('.output');\n",
       "if (outputEl) {{\n",
       "    x.observe(outputEl, {childList: true});\n",
       "}}\n",
       "\n",
       "                        })                };                });            </script>        </div>"
      ]
     },
     "metadata": {},
     "output_type": "display_data"
    }
   ],
   "source": [
    "import plotly.express as px\n",
    "\n",
    "fig4 = px.bar(mexican_total, x='Year', y='Mexican', color='State')\n",
    "fig4.show()"
   ]
  },
  {
   "cell_type": "code",
   "execution_count": 268,
   "id": "24d4ff8d-dd2a-4a0e-a085-ad4b2c4407fa",
   "metadata": {},
   "outputs": [
    {
     "data": {
      "text/plain": [
       "State\n",
       "MT    1943\n",
       "WA    1943\n",
       "SD    1943\n",
       "OR    1943\n",
       "NV    1943\n",
       "NE    1943\n",
       "ND    1943\n",
       "MN    1943\n",
       "KS    1943\n",
       "WY    1943\n",
       "AZ    1943\n",
       "ID    1943\n",
       "CA    1943\n",
       "CO    1943\n",
       "IL    1944\n",
       "UT    1944\n",
       "MI    1944\n",
       "WI    1944\n",
       "IA    1944\n",
       "OH    1944\n",
       "IN    1944\n",
       "NM    1946\n",
       "NY    1947\n",
       "NC    1947\n",
       "AR    1951\n",
       "GA    1953\n",
       "MO    1953\n",
       "TN    1953\n",
       "TX    1953\n",
       "LA    1953\n",
       "KY    1953\n",
       "NH    1956\n",
       "DE    1957\n",
       "Name: Year, dtype: int64"
      ]
     },
     "execution_count": 268,
     "metadata": {},
     "output_type": "execute_result"
    }
   ],
   "source": [
    "mexican_total = mexican_df.groupby('State')['Year'].min().sort_values()\n",
    "mexican_total"
   ]
  },
  {
   "cell_type": "code",
   "execution_count": 270,
   "id": "991a2c70-59b4-4712-9f67-419b764bc4f7",
   "metadata": {},
   "outputs": [
    {
     "data": {
      "text/plain": [
       "State\n",
       "NC    1947\n",
       "NY    1947\n",
       "LA    1953\n",
       "NH    1956\n",
       "DE    1957\n",
       "ID    1957\n",
       "OH    1957\n",
       "WA    1960\n",
       "MO    1960\n",
       "ND    1961\n",
       "GA    1961\n",
       "KY    1961\n",
       "IA    1962\n",
       "TN    1962\n",
       "IL    1963\n",
       "NV    1963\n",
       "AR    1964\n",
       "TX    1964\n",
       "UT    1964\n",
       "OR    1964\n",
       "SD    1964\n",
       "MT    1964\n",
       "NE    1964\n",
       "WI    1964\n",
       "MN    1964\n",
       "MI    1964\n",
       "KS    1964\n",
       "IN    1964\n",
       "CO    1964\n",
       "AZ    1964\n",
       "NM    1964\n",
       "WY    1964\n",
       "CA    1967\n",
       "Name: Year, dtype: int64"
      ]
     },
     "execution_count": 270,
     "metadata": {},
     "output_type": "execute_result"
    }
   ],
   "source": [
    "mexican_total = mexican_df.groupby('State')['Year'].max().sort_values()\n",
    "mexican_total"
   ]
  },
  {
   "cell_type": "code",
   "execution_count": null,
   "id": "085bd77e-7972-4007-8d49-ac821047ca85",
   "metadata": {},
   "outputs": [],
   "source": []
  }
 ],
 "metadata": {
  "kernelspec": {
   "display_name": "Python [conda env:base] *",
   "language": "python",
   "name": "conda-base-py"
  },
  "language_info": {
   "codemirror_mode": {
    "name": "ipython",
    "version": 3
   },
   "file_extension": ".py",
   "mimetype": "text/x-python",
   "name": "python",
   "nbconvert_exporter": "python",
   "pygments_lexer": "ipython3",
   "version": "3.12.7"
  }
 },
 "nbformat": 4,
 "nbformat_minor": 5
}
