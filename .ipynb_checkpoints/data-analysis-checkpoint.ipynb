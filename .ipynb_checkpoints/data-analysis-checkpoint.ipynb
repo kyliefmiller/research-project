{
 "cells": [
  {
   "cell_type": "markdown",
   "id": "869e8d2f-a0a7-479c-9ba5-9ec5c992d168",
   "metadata": {},
   "source": [
    "Kylie Miller\n",
    "- **Topic**: This research connects to data related to the Mexican Bracero Program, a guest worker program beginning in 1942 to fill seasonal farming jobs in the United States during World War II that lasted until its end in 1964. I am interested in exploring the data on farm workers during this program with an emphasis on comparing the data to after the end of the program."
   ]
  },
  {
   "cell_type": "code",
   "execution_count": null,
   "id": "93bb552e-4a01-45cb-bf98-48b2cd3675a3",
   "metadata": {},
   "outputs": [],
   "source": []
  }
 ],
 "metadata": {
  "kernelspec": {
   "display_name": "Python [conda env:base] *",
   "language": "python",
   "name": "conda-base-py"
  },
  "language_info": {
   "codemirror_mode": {
    "name": "ipython",
    "version": 3
   },
   "file_extension": ".py",
   "mimetype": "text/x-python",
   "name": "python",
   "nbconvert_exporter": "python",
   "pygments_lexer": "ipython3",
   "version": "3.12.7"
  }
 },
 "nbformat": 4,
 "nbformat_minor": 5
}
